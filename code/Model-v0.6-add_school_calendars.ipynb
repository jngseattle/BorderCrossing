{
 "cells": [
  {
   "cell_type": "code",
   "execution_count": 2,
   "metadata": {
    "collapsed": false
   },
   "outputs": [],
   "source": [
    "from BorderModel import BorderData, clean_df_subset\n",
    "import matplotlib.pyplot as plt\n",
    "%matplotlib inline\n",
    "import pandas as pd\n",
    "import numpy as np\n",
    "from dbhelper import pd_query\n",
    "from sklearn.ensemble import ExtraTreesRegressor\n",
    "from sklearn.grid_search import GridSearchCV"
   ]
  },
  {
   "cell_type": "code",
   "execution_count": null,
   "metadata": {
    "collapsed": false
   },
   "outputs": [],
   "source": [
    "query = '''\n",
    "        select \n",
    "            m.date,\n",
    "            metric as waittime,\n",
    "            year,\n",
    "            month,\n",
    "            week,\n",
    "            dayofweek,\n",
    "            minofday,\n",
    "            w.temp_max,\n",
    "            w.temp_mean,\n",
    "            w.temp_min,\n",
    "            w.viz_max,\n",
    "            w.wind_max,\n",
    "            w.precip,\n",
    "            w.rain,\n",
    "            w.snow,\n",
    "            w.fog,\n",
    "            w.thunderstorm,\n",
    "            wp1.temp_max as temp_max_p1,\n",
    "            wp1.temp_mean as temp_mean_p1,\n",
    "            wp1.temp_min as temp_min_p1,\n",
    "            wp1.precip as precip_p1,\n",
    "            wp1.rain as rain_p1,\n",
    "            wp1.snow as snow_p1,\n",
    "            wp1.thunderstorm as thunderstorm_p1,\n",
    "            wp2.temp_max as temp_max_p2,\n",
    "            wp2.temp_mean as temp_mean_p2,\n",
    "            wp2.temp_min as temp_min_p2,\n",
    "            wp2.precip as precip_p2,\n",
    "            wp2.rain as rain_p2,\n",
    "            wp2.snow as snow_p2,\n",
    "            wp2.thunderstorm as thunderstorm_p2,\n",
    "            wp3.temp_max as temp_max_p3,\n",
    "            wp3.temp_mean as temp_mean_p3,\n",
    "            wp3.temp_min as temp_min_p3,\n",
    "            wp3.precip as precip_p3,\n",
    "            wp3.rain as rain_p3,\n",
    "            wp3.snow as snow_p3,\n",
    "            wp3.thunderstorm as thunderstorm_p3,\n",
    "            wm1.temp_max as temp_max_m1,\n",
    "            wm1.temp_mean as temp_mean_m1,\n",
    "            wm1.temp_min as temp_min_m1,\n",
    "            wm1.precip as precip_m1,\n",
    "            wm1.rain as rain_m1,\n",
    "            wm1.snow as snow_m1,\n",
    "            wm1.thunderstorm as thunderstorm_m1,\n",
    "            wm2.temp_max as temp_max_m2,\n",
    "            wm2.temp_mean as temp_mean_m2,\n",
    "            wm2.temp_min as temp_min_m2,\n",
    "            wm2.precip as precip_m2,\n",
    "            wm2.rain as rain_m2,\n",
    "            wm2.snow as snow_m2,\n",
    "            wm2.thunderstorm as thunderstorm_m2,\n",
    "            s.event,\n",
    "            s_lead1.event as event_lead1,\n",
    "            s_lag1.event as event_lag1,\n",
    "            s_lead2.event as event_lead2,\n",
    "            s_lag2.event as event_lag2,\n",
    "            s_lead3.event as event_lead3,\n",
    "            s_lag3.event as event_lag3,\n",
    "            s_lead4.event as event_lead4,\n",
    "            s_lag4.event as event_lag5,\n",
    "            sch.district as sd,\n",
    "            sch_lag1.district as sd_lag1,\n",
    "            sch_lead1.district as sd_lead1,\n",
    "            sch_lag2.district as sd_lag2,\n",
    "            sch_lead2.district as sd_lead2,\n",
    "            sch_lag3.district as sd_lag3,\n",
    "            sch_lead3.district as sd_lead3\n",
    "        from mungedata m\n",
    "        join datefeatures d on m.date = d.date\n",
    "        left join publicholiday h on m.date::timestamp::date = h.date\n",
    "        left join weather w on m.date::timestamp::date = w.date\n",
    "        left join weather wp1 on m.date::timestamp::date = wp1.date - interval '1 day'\n",
    "        left join weather wp2 on m.date::timestamp::date = wp2.date - interval '2 day'\n",
    "        left join weather wp3 on m.date::timestamp::date = wp3.date - interval '3 day'\n",
    "        left join weather wm1 on m.date::timestamp::date = wm1.date + interval '1 day'\n",
    "        left join weather wm2 on m.date::timestamp::date = wm2.date + interval '2 day'\n",
    "        left join specialdates s on m.date::timestamp::date = s.date\n",
    "        left join specialdates s_lead1 on m.date::timestamp::date = s_lead1.date - interval '1 day'\n",
    "        left join specialdates s_lag1 on m.date::timestamp::date = s_lag1.date + interval '1 day'\n",
    "        left join specialdates s_lead2 on m.date::timestamp::date = s_lead1.date - interval '2 day'\n",
    "        left join specialdates s_lag2 on m.date::timestamp::date = s_lag1.date + interval '2 day'\n",
    "        left join specialdates s_lead3 on m.date::timestamp::date = s_lead1.date - interval '3 day'\n",
    "        left join specialdates s_lag3 on m.date::timestamp::date = s_lag1.date + interval '3 day'\n",
    "        left join specialdates s_lead4 on m.date::timestamp::date = s_lead1.date - interval '4 day'\n",
    "        left join specialdates s_lag4 on m.date::timestamp::date = s_lag1.date + interval '4 day'\n",
    "        left join schoolcalendar sch on m.date::timestamp::date = sch.date_out \n",
    "        left join schoolcalendar sch_lag1 on m.date::timestamp::date = sch.date_out + interval '1 day'\n",
    "        left join schoolcalendar sch_lead1 on m.date::timestamp::date = sch_lead1.date_out - interval '1 day'\n",
    "        left join schoolcalendar sch_lag2 on m.date::timestamp::date = sch_lag2.date_out + interval '2 day'\n",
    "        left join schoolcalendar sch_lead2 on m.date::timestamp::date = sch_lead2.date_out - interval '2 day'\n",
    "        left join schoolcalendar sch_lag3 on m.date::timestamp::date = sch_lag3.date_out + interval '3 day'\n",
    "        left join schoolcalendar sch_lead3 on m.date::timestamp::date = sch_lead3.date_out - interval '3 day'\n",
    "        where\n",
    "            crossing_id = 1\n",
    "            and m.date >= '2008-1-1'\n",
    "            and munger_id = 2\n",
    "            and (minute = 0 or minute = 30)\n",
    "            and is_waittime = true\n",
    "        order by m.date;\n",
    "        '''\n",
    "\n",
    "df = pd_query(query)"
   ]
  },
  {
   "cell_type": "code",
   "execution_count": null,
   "metadata": {
    "collapsed": false
   },
   "outputs": [],
   "source": [
    "from BorderModel import BorderData\n",
    "data = BorderData(df, categoricals=['event', 'sd'])\n",
    "\n",
    "model = ExtraTreesRegressor(n_jobs=-1, n_estimators=100, bootstrap=True, oob_score=True)\n",
    "params = {}\n",
    "grid = GridSearchCV(model, params, cv=data.cv_train)\n",
    "grid.fit(data.X_train, data.y_train)\n",
    "data.predict(grid)\n",
    "data.print_metrics(grid)"
   ]
  },
  {
   "cell_type": "code",
   "execution_count": null,
   "metadata": {
    "collapsed": false
   },
   "outputs": [],
   "source": [
    "data.plot('6/29/15', '7/7/15');"
   ]
  },
  {
   "cell_type": "code",
   "execution_count": null,
   "metadata": {
    "collapsed": true
   },
   "outputs": [],
   "source": []
  }
 ],
 "metadata": {
  "kernelspec": {
   "display_name": "Python 2",
   "language": "python",
   "name": "python2"
  },
  "language_info": {
   "codemirror_mode": {
    "name": "ipython",
    "version": 2
   },
   "file_extension": ".py",
   "mimetype": "text/x-python",
   "name": "python",
   "nbconvert_exporter": "python",
   "pygments_lexer": "ipython2",
   "version": "2.7.11"
  }
 },
 "nbformat": 4,
 "nbformat_minor": 0
}

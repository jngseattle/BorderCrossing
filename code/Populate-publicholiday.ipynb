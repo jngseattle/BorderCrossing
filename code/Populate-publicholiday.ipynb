{
 "cells": [
  {
   "cell_type": "code",
   "execution_count": 5,
   "metadata": {
    "collapsed": true
   },
   "outputs": [],
   "source": [
    "import pandas as pd\n",
    "import numpy as np\n",
    "from datetime import date\n",
    "from dbhelper import PgDB"
   ]
  },
  {
   "cell_type": "code",
   "execution_count": 6,
   "metadata": {
    "collapsed": true
   },
   "outputs": [],
   "source": [
    "import holidays"
   ]
  },
  {
   "cell_type": "code",
   "execution_count": 28,
   "metadata": {
    "collapsed": false
   },
   "outputs": [],
   "source": [
    "us_holidays = holidays.US(years=range(2007, 2019))\n",
    "ca_holidays = holidays.CA(years=range(2007, 2019))"
   ]
  },
  {
   "cell_type": "code",
   "execution_count": 11,
   "metadata": {
    "collapsed": true
   },
   "outputs": [],
   "source": [
    "query = '''\n",
    "        insert into publicholiday (date, %s)\n",
    "        values ('%s', True)\n",
    "        '''"
   ]
  },
  {
   "cell_type": "code",
   "execution_count": 12,
   "metadata": {
    "collapsed": false
   },
   "outputs": [],
   "source": [
    "usmap = {\"New Year's Day\": 'newyears', \n",
    "         \"Martin Luther King, Jr. Day\": 'us_mlk',\n",
    "         \"Washington's Birthday\": 'us_washington',\n",
    "         \"Memorial Day\": 'us_memorial',\n",
    "         \"Independence Day\": 'us_independence',\n",
    "         \"Labor Day\": 'labor',\n",
    "         \"Columbus Day\": 'us_columbus',\n",
    "         \"Veterans Day\": 'us_veterans',\n",
    "         \"Thanksgiving\": 'us_thanksgiving',\n",
    "         \"Christmas Day\": 'xmas'\n",
    "        }"
   ]
  },
  {
   "cell_type": "code",
   "execution_count": 27,
   "metadata": {
    "collapsed": false
   },
   "outputs": [],
   "source": [
    "with PgDB() as db:\n",
    "    for year in range(2017, 2018):\n",
    "        hdays = holidays.US(years=year)\n",
    "        for date, name in sorted(hdays.items()):\n",
    "            if \"Observed\" not in name:\n",
    "#                 print name\n",
    "                db.cur.execute(query % (usmap[name], date))\n",
    "    \n",
    "    db.conn.commit()"
   ]
  },
  {
   "cell_type": "code",
   "execution_count": 33,
   "metadata": {
    "collapsed": false
   },
   "outputs": [],
   "source": [
    "camap= {\"Good Friday\": 'ca_goodfriday',\n",
    "        \"Victoria Day\": 'ca_victoria',\n",
    "        \"Canada Day\": 'ca_canada',\n",
    "        \"Civic Holiday\": 'ca_civic',\n",
    "        \"Thanksgiving\": 'ca_thanksgiving',\n",
    "        \"Family Day\": 'ca_family'\n",
    "        }"
   ]
  },
  {
   "cell_type": "code",
   "execution_count": 35,
   "metadata": {
    "collapsed": false
   },
   "outputs": [],
   "source": [
    "with PgDB() as db:\n",
    "    for year in range(2017, 2019):\n",
    "        hdays = holidays.CA(years=year)\n",
    "        for date, name in sorted(hdays.items()):\n",
    "            # Ignore if already added as US holiday \n",
    "            if date in us_holidays.keys():\n",
    "                continue\n",
    "                \n",
    "            if name not in camap.keys():\n",
    "                continue\n",
    "            \n",
    "            if \"Observed\" not in name:\n",
    "#                 print name\n",
    "                db.cur.execute(query % (camap[name], date))\n",
    "    \n",
    "    db.conn.commit()"
   ]
  },
  {
   "cell_type": "code",
   "execution_count": 15,
   "metadata": {
    "collapsed": true
   },
   "outputs": [
    {
     "name": "stdout",
     "output_type": "stream",
     "text": [
      "2007-01-01 New Year's Day\n",
      "2007-04-06 Good Friday\n",
      "2007-05-21 Victoria Day\n",
      "2007-07-01 Canada Day\n",
      "2007-07-02 Canada Day (Observed)\n",
      "2007-08-06 Civic Holiday\n",
      "2007-09-03 Labour Day\n",
      "2007-10-08 Thanksgiving\n",
      "2007-12-25 Christmas Day\n",
      "2007-12-26 Boxing Day\n",
      "2008-01-01 New Year's Day\n",
      "2008-02-18 Family Day\n",
      "2008-03-21 Good Friday\n",
      "2008-05-19 Victoria Day\n",
      "2008-07-01 Canada Day\n",
      "2008-08-04 Civic Holiday\n",
      "2008-09-01 Labour Day\n",
      "2008-10-13 Thanksgiving\n",
      "2008-12-25 Christmas Day\n",
      "2008-12-26 Boxing Day\n",
      "2009-01-01 New Year's Day\n",
      "2009-02-16 Family Day\n",
      "2009-04-10 Good Friday\n",
      "2009-05-18 Victoria Day\n",
      "2009-07-01 Canada Day\n",
      "2009-08-03 Civic Holiday\n",
      "2009-09-07 Labour Day\n",
      "2009-10-12 Thanksgiving\n",
      "2009-12-25 Christmas Day\n",
      "2009-12-28 Boxing Day (Observed)\n",
      "2010-01-01 New Year's Day\n",
      "2010-02-15 Family Day\n",
      "2010-04-02 Good Friday\n",
      "2010-05-24 Victoria Day\n",
      "2010-07-01 Canada Day\n",
      "2010-08-02 Civic Holiday\n",
      "2010-09-06 Labour Day\n",
      "2010-10-11 Thanksgiving\n",
      "2010-12-24 Christmas Day (Observed)\n",
      "2010-12-25 Christmas Day\n",
      "2010-12-27 Boxing Day (Observed)\n",
      "2010-12-31 New Year's Day (Observed)\n",
      "2011-01-01 New Year's Day\n",
      "2011-02-21 Family Day\n",
      "2011-04-22 Good Friday\n",
      "2011-05-23 Victoria Day\n",
      "2011-07-01 Canada Day\n",
      "2011-08-01 Civic Holiday\n",
      "2011-09-05 Labour Day\n",
      "2011-10-10 Thanksgiving\n",
      "2011-12-25 Christmas Day\n",
      "2011-12-26 Christmas Day (Observed)\n",
      "2011-12-27 Boxing Day (Observed)\n",
      "2012-01-01 New Year's Day\n",
      "2012-01-02 New Year's Day (Observed)\n",
      "2012-02-20 Family Day\n",
      "2012-04-06 Good Friday\n",
      "2012-05-21 Victoria Day\n",
      "2012-07-01 Canada Day\n",
      "2012-07-02 Canada Day (Observed)\n",
      "2012-08-06 Civic Holiday\n",
      "2012-09-03 Labour Day\n",
      "2012-10-08 Thanksgiving\n",
      "2012-12-25 Christmas Day\n",
      "2012-12-26 Boxing Day\n",
      "2013-01-01 New Year's Day\n",
      "2013-02-18 Family Day\n",
      "2013-03-29 Good Friday\n",
      "2013-05-20 Victoria Day\n",
      "2013-07-01 Canada Day\n",
      "2013-08-05 Civic Holiday\n",
      "2013-09-02 Labour Day\n",
      "2013-10-14 Thanksgiving\n",
      "2013-12-25 Christmas Day\n",
      "2013-12-26 Boxing Day\n",
      "2014-01-01 New Year's Day\n",
      "2014-02-17 Family Day\n",
      "2014-04-18 Good Friday\n",
      "2014-05-19 Victoria Day\n",
      "2014-07-01 Canada Day\n",
      "2014-08-04 Civic Holiday\n",
      "2014-09-01 Labour Day\n",
      "2014-10-13 Thanksgiving\n",
      "2014-12-25 Christmas Day\n",
      "2014-12-26 Boxing Day\n",
      "2015-01-01 New Year's Day\n",
      "2015-02-16 Family Day\n",
      "2015-04-03 Good Friday\n",
      "2015-05-18 Victoria Day\n",
      "2015-07-01 Canada Day\n",
      "2015-08-03 Civic Holiday\n",
      "2015-09-07 Labour Day\n",
      "2015-10-12 Thanksgiving\n",
      "2015-12-25 Christmas Day\n",
      "2015-12-28 Boxing Day (Observed)\n",
      "2016-01-01 New Year's Day\n",
      "2016-02-15 Family Day\n",
      "2016-03-25 Good Friday\n",
      "2016-05-23 Victoria Day\n",
      "2016-07-01 Canada Day\n",
      "2016-08-01 Civic Holiday\n",
      "2016-09-05 Labour Day\n",
      "2016-10-10 Thanksgiving\n",
      "2016-12-25 Christmas Day\n",
      "2016-12-26 Christmas Day (Observed)\n",
      "2016-12-27 Boxing Day (Observed)\n"
     ]
    }
   ],
   "source": [
    "for date, name in sorted(holidays.CA(years=range(2007, 2017)).items()):\n",
    "    print date, name"
   ]
  },
  {
   "cell_type": "markdown",
   "metadata": {},
   "source": [
    "## Fill in remaining day with all false"
   ]
  },
  {
   "cell_type": "code",
   "execution_count": null,
   "metadata": {
    "collapsed": true
   },
   "outputs": [],
   "source": [
    "insert into publicholiday \n",
    "select distinct(date::timestamp::date) from datefeatures\n",
    "where date::timestamp::date not in (qselect dates from publicholiday);"
   ]
  },
  {
   "cell_type": "markdown",
   "metadata": {},
   "source": [
    "## Add mothers day"
   ]
  },
  {
   "cell_type": "code",
   "execution_count": 38,
   "metadata": {
    "collapsed": false
   },
   "outputs": [],
   "source": [
    "mday = ['2018-5-13', '2017-5-4', '2016-05-08', '2015-05-10', '2014-5-11', '2013-5-12', '2012-5-13', '2011-5-8', \n",
    "        '2010-5-9', '2009-5-10', '2008-5-11', '2007-5-13']\n",
    "with PgDB() as db:\n",
    "    for dt in mday:\n",
    "        db.cur.execute(\"update publicholiday set mothers=true where date = '%s'\" % dt)\n",
    "    db.conn.commit()"
   ]
  },
  {
   "cell_type": "markdown",
   "metadata": {
    "collapsed": true
   },
   "source": [
    "## Add Halloween"
   ]
  },
  {
   "cell_type": "code",
   "execution_count": 37,
   "metadata": {
    "collapsed": false
   },
   "outputs": [],
   "source": [
    "with PgDB() as db:\n",
    "    for year in range(2007, 2019):\n",
    "        db.cur.execute(\"update publicholiday set halloween=true where date = '%s-10-31'\" % year)\n",
    "    db.conn.commit()"
   ]
  },
  {
   "cell_type": "markdown",
   "metadata": {
    "collapsed": true
   },
   "source": [
    "# Refactor using specialdates table"
   ]
  },
  {
   "cell_type": "code",
   "execution_count": 22,
   "metadata": {
    "collapsed": true
   },
   "outputs": [],
   "source": [
    "usmap = {\n",
    "         \"Martin Luther King, Jr. Day\": 'mlk',\n",
    "         \"Washington's Birthday\": 'presidents',\n",
    "         \"Memorial Day\": 'memorial',\n",
    "         \"Independence Day\": 'independence',\n",
    "         \"Veterans Day\": 'veterans',\n",
    "         \"Thanksgiving\": 'thanksgiving'\n",
    "        }\n",
    "bothmap = {\"Labor Day\": 'labor',\n",
    "           \"New Year's Day\": 'newyears',\n",
    "           \"Christmas Day\": 'xmas'\n",
    "            }\n",
    "camap= {\"Good Friday\": 'goodfriday',\n",
    "        \"Victoria Day\": 'victoria',\n",
    "        \"Canada Day\": 'canada',\n",
    "        \"Civic Holiday\": 'civic',\n",
    "        \"Thanksgiving\": 'ca_thanksgiving'\n",
    "        }\n",
    "\n",
    "query = '''\n",
    "        insert into specialdates\n",
    "        values ('%s', '%s', '%s');\n",
    "        '''"
   ]
  },
  {
   "cell_type": "code",
   "execution_count": 10,
   "metadata": {
    "collapsed": false
   },
   "outputs": [],
   "source": [
    "us_holidays = holidays.US(years=range(2007, 2019))\n",
    "ca_holidays = holidays.CA(years=range(2007, 2019))\n",
    "\n",
    "with PgDB() as db:\n",
    "    for year in range(2007, 2019):\n",
    "        hdays = holidays.US(years=year)\n",
    "        for date, name in sorted(hdays.items()):\n",
    "            if \"Observed\" not in name:\n",
    "                if name in usmap:\n",
    "                    db.cur.execute(query % (date, 'us', usmap[name]))\n",
    "                elif name in bothmap:\n",
    "                    db.cur.execute(query % (date, 'zz', bothmap[name]))\n",
    "    \n",
    "    db.conn.commit()"
   ]
  },
  {
   "cell_type": "code",
   "execution_count": 23,
   "metadata": {
    "collapsed": true
   },
   "outputs": [
    {
     "name": "stdout",
     "output_type": "stream",
     "text": [
      "Good Friday 2007-04-06\n",
      "Victoria Day 2007-05-21\n",
      "Canada Day 2007-07-01\n",
      "Civic Holiday 2007-08-06\n",
      "Thanksgiving 2007-10-08\n",
      "Good Friday 2008-03-21\n",
      "Victoria Day 2008-05-19\n",
      "Canada Day 2008-07-01\n",
      "Civic Holiday 2008-08-04\n",
      "Thanksgiving 2008-10-13\n",
      "Good Friday 2009-04-10\n",
      "Victoria Day 2009-05-18\n",
      "Canada Day 2009-07-01\n",
      "Civic Holiday 2009-08-03\n",
      "Thanksgiving 2009-10-12\n",
      "Good Friday 2010-04-02\n",
      "Victoria Day 2010-05-24\n",
      "Canada Day 2010-07-01\n",
      "Civic Holiday 2010-08-02\n",
      "Thanksgiving 2010-10-11\n",
      "Good Friday 2011-04-22\n",
      "Victoria Day 2011-05-23\n",
      "Canada Day 2011-07-01\n",
      "Civic Holiday 2011-08-01\n",
      "Thanksgiving 2011-10-10\n",
      "Good Friday 2012-04-06\n",
      "Victoria Day 2012-05-21\n",
      "Canada Day 2012-07-01\n",
      "Civic Holiday 2012-08-06\n",
      "Thanksgiving 2012-10-08\n",
      "Good Friday 2013-03-29\n",
      "Victoria Day 2013-05-20\n",
      "Canada Day 2013-07-01\n",
      "Civic Holiday 2013-08-05\n",
      "Thanksgiving 2013-10-14\n",
      "Good Friday 2014-04-18\n",
      "Victoria Day 2014-05-19\n",
      "Canada Day 2014-07-01\n",
      "Civic Holiday 2014-08-04\n",
      "Thanksgiving 2014-10-13\n",
      "Good Friday 2015-04-03\n",
      "Victoria Day 2015-05-18\n",
      "Canada Day 2015-07-01\n",
      "Civic Holiday 2015-08-03\n",
      "Thanksgiving 2015-10-12\n",
      "Good Friday 2016-03-25\n",
      "Victoria Day 2016-05-23\n",
      "Canada Day 2016-07-01\n",
      "Civic Holiday 2016-08-01\n",
      "Thanksgiving 2016-10-10\n",
      "Good Friday 2017-04-14\n",
      "Victoria Day 2017-05-22\n",
      "Canada Day 2017-07-01\n",
      "Civic Holiday 2017-08-07\n",
      "Thanksgiving 2017-10-09\n",
      "Good Friday 2018-03-30\n",
      "Victoria Day 2018-05-21\n",
      "Canada Day 2018-07-01\n",
      "Civic Holiday 2018-08-06\n",
      "Thanksgiving 2018-10-08\n"
     ]
    }
   ],
   "source": [
    "with PgDB() as db:\n",
    "    for year in range(2007, 2019):\n",
    "        hdays = holidays.CA(years=year)\n",
    "        for date, name in sorted(hdays.items()):\n",
    "            if \"Observed\" not in name:\n",
    "                if name in camap:\n",
    "                    db.cur.execute(query % (date, 'ca', camap[name]))\n",
    "    \n",
    "    db.conn.commit()"
   ]
  },
  {
   "cell_type": "markdown",
   "metadata": {},
   "source": [
    "### drop Family Day.  Same dates as Presidents day"
   ]
  },
  {
   "cell_type": "code",
   "execution_count": 19,
   "metadata": {
    "collapsed": false,
    "scrolled": true
   },
   "outputs": [
    {
     "data": {
      "text/plain": [
       "[datetime.date(2008, 2, 18),\n",
       " datetime.date(2009, 2, 16),\n",
       " datetime.date(2010, 2, 15),\n",
       " datetime.date(2011, 2, 21),\n",
       " datetime.date(2012, 2, 20),\n",
       " datetime.date(2013, 2, 18),\n",
       " datetime.date(2014, 2, 17),\n",
       " datetime.date(2015, 2, 16),\n",
       " datetime.date(2016, 2, 15),\n",
       " datetime.date(2017, 2, 20),\n",
       " datetime.date(2018, 2, 19)]"
      ]
     },
     "execution_count": 19,
     "metadata": {},
     "output_type": "execute_result"
    }
   ],
   "source": [
    "sorted([k for k,v in ca_holidays.items() if v == 'Family Day'])"
   ]
  },
  {
   "cell_type": "code",
   "execution_count": 21,
   "metadata": {
    "collapsed": false
   },
   "outputs": [
    {
     "data": {
      "text/plain": [
       "[datetime.date(2007, 2, 19),\n",
       " datetime.date(2008, 2, 18),\n",
       " datetime.date(2009, 2, 16),\n",
       " datetime.date(2010, 2, 15),\n",
       " datetime.date(2011, 2, 21),\n",
       " datetime.date(2012, 2, 20),\n",
       " datetime.date(2013, 2, 18),\n",
       " datetime.date(2014, 2, 17),\n",
       " datetime.date(2015, 2, 16),\n",
       " datetime.date(2016, 2, 15),\n",
       " datetime.date(2017, 2, 20),\n",
       " datetime.date(2018, 2, 19)]"
      ]
     },
     "execution_count": 21,
     "metadata": {},
     "output_type": "execute_result"
    }
   ],
   "source": [
    "sorted([k for k,v in us_holidays.items() if v == \"Washington's Birthday\"])"
   ]
  },
  {
   "cell_type": "markdown",
   "metadata": {},
   "source": [
    "## Halloween & Mother's day"
   ]
  },
  {
   "cell_type": "code",
   "execution_count": 29,
   "metadata": {
    "collapsed": false
   },
   "outputs": [],
   "source": [
    "with PgDB() as db:\n",
    "    for year in range(2007, 2019):\n",
    "        db.cur.execute(\"insert into specialdates values ('%s-10-31' ,'zz', 'halloween')\" % year)\n",
    "    db.conn.commit()"
   ]
  },
  {
   "cell_type": "code",
   "execution_count": 31,
   "metadata": {
    "collapsed": false
   },
   "outputs": [],
   "source": [
    "mday = ['2018-5-13', '2017-5-4', '2016-05-08', '2015-05-10', '2014-5-11', '2013-5-12', '2012-5-13', '2011-5-8', \n",
    "        '2010-5-9', '2009-5-10', '2008-5-11', '2007-5-13']\n",
    "with PgDB() as db:\n",
    "    for dt in mday:\n",
    "        db.cur.execute(\"insert into specialdates values('%s', 'zz', 'mothers')\" % dt)\n",
    "    db.conn.commit()"
   ]
  },
  {
   "cell_type": "markdown",
   "metadata": {},
   "source": [
    "## Test query for data joining with specialdates with lag/lead"
   ]
  },
  {
   "cell_type": "code",
   "execution_count": 41,
   "metadata": {
    "collapsed": true
   },
   "outputs": [],
   "source": [
    "from BorderModel import pd_query\n",
    "\n",
    "query = '''\n",
    "        select\n",
    "            m.date,\n",
    "            m.metric as waittime,\n",
    "            s.event,\n",
    "            s_lead1.event as event_lead1,\n",
    "            s_lag1.event as event_lag1\n",
    "        from mungedata m\n",
    "        left join specialdates s\n",
    "        on m.date::timestamp::date = s.date\n",
    "        left join specialdates s_lead1\n",
    "        on m.date::timestamp::date = s_lead1.date - interval '1 day'\n",
    "        left join specialdates s_lag1\n",
    "        on m.date::timestamp::date = s_lag1.date + interval '1 day'\n",
    "        where\n",
    "            munger_id = 2\n",
    "            and crossing_id = 1\n",
    "            and is_waittime = true\n",
    "            and m.date >= '1/1/2014'\n",
    "        '''\n",
    "\n",
    "df = pd_query(query)"
   ]
  },
  {
   "cell_type": "markdown",
   "metadata": {},
   "source": [
    "Excluding specific holidays during modeling\n",
    "\n",
    "```sql\n",
    "        left join specialdates s\n",
    "        on m.date::timestamp::date = s.date\n",
    "        and s.event <> 'mlk'\n",
    "```"
   ]
  },
  {
   "cell_type": "code",
   "execution_count": 42,
   "metadata": {
    "collapsed": false
   },
   "outputs": [
    {
     "data": {
      "text/html": [
       "<div>\n",
       "<table border=\"1\" class=\"dataframe\">\n",
       "  <thead>\n",
       "    <tr style=\"text-align: right;\">\n",
       "      <th></th>\n",
       "      <th>date</th>\n",
       "      <th>waittime</th>\n",
       "      <th>event</th>\n",
       "      <th>event_lead1</th>\n",
       "      <th>event_lag1</th>\n",
       "    </tr>\n",
       "  </thead>\n",
       "  <tbody>\n",
       "    <tr>\n",
       "      <th>0</th>\n",
       "      <td>2014-01-01 00:00:00</td>\n",
       "      <td>0.056481</td>\n",
       "      <td>newyears</td>\n",
       "      <td>None</td>\n",
       "      <td>None</td>\n",
       "    </tr>\n",
       "    <tr>\n",
       "      <th>1</th>\n",
       "      <td>2014-01-01 00:05:00</td>\n",
       "      <td>0.056481</td>\n",
       "      <td>newyears</td>\n",
       "      <td>None</td>\n",
       "      <td>None</td>\n",
       "    </tr>\n",
       "    <tr>\n",
       "      <th>2</th>\n",
       "      <td>2014-01-01 00:15:00</td>\n",
       "      <td>0.120216</td>\n",
       "      <td>newyears</td>\n",
       "      <td>None</td>\n",
       "      <td>None</td>\n",
       "    </tr>\n",
       "    <tr>\n",
       "      <th>3</th>\n",
       "      <td>2014-01-01 00:35:00</td>\n",
       "      <td>0.130700</td>\n",
       "      <td>newyears</td>\n",
       "      <td>None</td>\n",
       "      <td>None</td>\n",
       "    </tr>\n",
       "    <tr>\n",
       "      <th>4</th>\n",
       "      <td>2014-01-01 01:15:00</td>\n",
       "      <td>0.879249</td>\n",
       "      <td>newyears</td>\n",
       "      <td>None</td>\n",
       "      <td>None</td>\n",
       "    </tr>\n",
       "  </tbody>\n",
       "</table>\n",
       "</div>"
      ],
      "text/plain": [
       "                 date  waittime     event event_lead1 event_lag1\n",
       "0 2014-01-01 00:00:00  0.056481  newyears        None       None\n",
       "1 2014-01-01 00:05:00  0.056481  newyears        None       None\n",
       "2 2014-01-01 00:15:00  0.120216  newyears        None       None\n",
       "3 2014-01-01 00:35:00  0.130700  newyears        None       None\n",
       "4 2014-01-01 01:15:00  0.879249  newyears        None       None"
      ]
     },
     "execution_count": 42,
     "metadata": {},
     "output_type": "execute_result"
    }
   ],
   "source": [
    "df.head()"
   ]
  },
  {
   "cell_type": "code",
   "execution_count": 43,
   "metadata": {
    "collapsed": false
   },
   "outputs": [
    {
     "data": {
      "text/html": [
       "<div>\n",
       "<table border=\"1\" class=\"dataframe\">\n",
       "  <thead>\n",
       "    <tr style=\"text-align: right;\">\n",
       "      <th></th>\n",
       "      <th>ca_thanksgiving</th>\n",
       "      <th>canada</th>\n",
       "      <th>civic</th>\n",
       "      <th>goodfriday</th>\n",
       "      <th>halloween</th>\n",
       "      <th>independence</th>\n",
       "      <th>labor</th>\n",
       "      <th>memorial</th>\n",
       "      <th>mlk</th>\n",
       "      <th>mothers</th>\n",
       "      <th>newyears</th>\n",
       "      <th>president</th>\n",
       "      <th>thanksgiving</th>\n",
       "      <th>veterans</th>\n",
       "      <th>victoria</th>\n",
       "      <th>xmas</th>\n",
       "    </tr>\n",
       "  </thead>\n",
       "  <tbody>\n",
       "    <tr>\n",
       "      <th>0</th>\n",
       "      <td>0</td>\n",
       "      <td>0</td>\n",
       "      <td>0</td>\n",
       "      <td>0</td>\n",
       "      <td>0</td>\n",
       "      <td>0</td>\n",
       "      <td>0</td>\n",
       "      <td>0</td>\n",
       "      <td>0</td>\n",
       "      <td>0</td>\n",
       "      <td>1</td>\n",
       "      <td>0</td>\n",
       "      <td>0</td>\n",
       "      <td>0</td>\n",
       "      <td>0</td>\n",
       "      <td>0</td>\n",
       "    </tr>\n",
       "    <tr>\n",
       "      <th>1</th>\n",
       "      <td>0</td>\n",
       "      <td>0</td>\n",
       "      <td>0</td>\n",
       "      <td>0</td>\n",
       "      <td>0</td>\n",
       "      <td>0</td>\n",
       "      <td>0</td>\n",
       "      <td>0</td>\n",
       "      <td>0</td>\n",
       "      <td>0</td>\n",
       "      <td>1</td>\n",
       "      <td>0</td>\n",
       "      <td>0</td>\n",
       "      <td>0</td>\n",
       "      <td>0</td>\n",
       "      <td>0</td>\n",
       "    </tr>\n",
       "    <tr>\n",
       "      <th>2</th>\n",
       "      <td>0</td>\n",
       "      <td>0</td>\n",
       "      <td>0</td>\n",
       "      <td>0</td>\n",
       "      <td>0</td>\n",
       "      <td>0</td>\n",
       "      <td>0</td>\n",
       "      <td>0</td>\n",
       "      <td>0</td>\n",
       "      <td>0</td>\n",
       "      <td>1</td>\n",
       "      <td>0</td>\n",
       "      <td>0</td>\n",
       "      <td>0</td>\n",
       "      <td>0</td>\n",
       "      <td>0</td>\n",
       "    </tr>\n",
       "    <tr>\n",
       "      <th>3</th>\n",
       "      <td>0</td>\n",
       "      <td>0</td>\n",
       "      <td>0</td>\n",
       "      <td>0</td>\n",
       "      <td>0</td>\n",
       "      <td>0</td>\n",
       "      <td>0</td>\n",
       "      <td>0</td>\n",
       "      <td>0</td>\n",
       "      <td>0</td>\n",
       "      <td>1</td>\n",
       "      <td>0</td>\n",
       "      <td>0</td>\n",
       "      <td>0</td>\n",
       "      <td>0</td>\n",
       "      <td>0</td>\n",
       "    </tr>\n",
       "    <tr>\n",
       "      <th>4</th>\n",
       "      <td>0</td>\n",
       "      <td>0</td>\n",
       "      <td>0</td>\n",
       "      <td>0</td>\n",
       "      <td>0</td>\n",
       "      <td>0</td>\n",
       "      <td>0</td>\n",
       "      <td>0</td>\n",
       "      <td>0</td>\n",
       "      <td>0</td>\n",
       "      <td>1</td>\n",
       "      <td>0</td>\n",
       "      <td>0</td>\n",
       "      <td>0</td>\n",
       "      <td>0</td>\n",
       "      <td>0</td>\n",
       "    </tr>\n",
       "  </tbody>\n",
       "</table>\n",
       "</div>"
      ],
      "text/plain": [
       "   ca_thanksgiving  canada  civic  goodfriday  halloween  independence  labor  \\\n",
       "0                0       0      0           0          0             0      0   \n",
       "1                0       0      0           0          0             0      0   \n",
       "2                0       0      0           0          0             0      0   \n",
       "3                0       0      0           0          0             0      0   \n",
       "4                0       0      0           0          0             0      0   \n",
       "\n",
       "   memorial  mlk  mothers  newyears  president  thanksgiving  veterans  \\\n",
       "0         0    0        0         1          0             0         0   \n",
       "1         0    0        0         1          0             0         0   \n",
       "2         0    0        0         1          0             0         0   \n",
       "3         0    0        0         1          0             0         0   \n",
       "4         0    0        0         1          0             0         0   \n",
       "\n",
       "   victoria  xmas  \n",
       "0         0     0  \n",
       "1         0     0  \n",
       "2         0     0  \n",
       "3         0     0  \n",
       "4         0     0  "
      ]
     },
     "execution_count": 43,
     "metadata": {},
     "output_type": "execute_result"
    }
   ],
   "source": [
    "pd.get_dummies(df.event).head()"
   ]
  },
  {
   "cell_type": "code",
   "execution_count": 37,
   "metadata": {
    "collapsed": false
   },
   "outputs": [
    {
     "data": {
      "text/html": [
       "<div>\n",
       "<table border=\"1\" class=\"dataframe\">\n",
       "  <thead>\n",
       "    <tr style=\"text-align: right;\">\n",
       "      <th></th>\n",
       "      <th>lead1_ca_thanksgiving</th>\n",
       "      <th>lead1_canada</th>\n",
       "      <th>lead1_civic</th>\n",
       "      <th>lead1_goodfriday</th>\n",
       "      <th>lead1_halloween</th>\n",
       "      <th>lead1_independence</th>\n",
       "      <th>lead1_labor</th>\n",
       "      <th>lead1_memorial</th>\n",
       "      <th>lead1_mlk</th>\n",
       "      <th>lead1_mothers</th>\n",
       "      <th>lead1_newyears</th>\n",
       "      <th>lead1_president</th>\n",
       "      <th>lead1_thanksgiving</th>\n",
       "      <th>lead1_veterans</th>\n",
       "      <th>lead1_victoria</th>\n",
       "      <th>lead1_xmas</th>\n",
       "    </tr>\n",
       "  </thead>\n",
       "  <tbody>\n",
       "    <tr>\n",
       "      <th>0</th>\n",
       "      <td>0</td>\n",
       "      <td>0</td>\n",
       "      <td>0</td>\n",
       "      <td>0</td>\n",
       "      <td>0</td>\n",
       "      <td>0</td>\n",
       "      <td>0</td>\n",
       "      <td>0</td>\n",
       "      <td>0</td>\n",
       "      <td>0</td>\n",
       "      <td>0</td>\n",
       "      <td>0</td>\n",
       "      <td>0</td>\n",
       "      <td>0</td>\n",
       "      <td>0</td>\n",
       "      <td>0</td>\n",
       "    </tr>\n",
       "    <tr>\n",
       "      <th>1</th>\n",
       "      <td>0</td>\n",
       "      <td>0</td>\n",
       "      <td>0</td>\n",
       "      <td>0</td>\n",
       "      <td>0</td>\n",
       "      <td>0</td>\n",
       "      <td>0</td>\n",
       "      <td>0</td>\n",
       "      <td>0</td>\n",
       "      <td>0</td>\n",
       "      <td>0</td>\n",
       "      <td>0</td>\n",
       "      <td>0</td>\n",
       "      <td>0</td>\n",
       "      <td>0</td>\n",
       "      <td>0</td>\n",
       "    </tr>\n",
       "    <tr>\n",
       "      <th>2</th>\n",
       "      <td>0</td>\n",
       "      <td>0</td>\n",
       "      <td>0</td>\n",
       "      <td>0</td>\n",
       "      <td>0</td>\n",
       "      <td>0</td>\n",
       "      <td>0</td>\n",
       "      <td>0</td>\n",
       "      <td>0</td>\n",
       "      <td>0</td>\n",
       "      <td>0</td>\n",
       "      <td>0</td>\n",
       "      <td>0</td>\n",
       "      <td>0</td>\n",
       "      <td>0</td>\n",
       "      <td>0</td>\n",
       "    </tr>\n",
       "    <tr>\n",
       "      <th>3</th>\n",
       "      <td>0</td>\n",
       "      <td>0</td>\n",
       "      <td>0</td>\n",
       "      <td>0</td>\n",
       "      <td>0</td>\n",
       "      <td>0</td>\n",
       "      <td>0</td>\n",
       "      <td>0</td>\n",
       "      <td>0</td>\n",
       "      <td>0</td>\n",
       "      <td>0</td>\n",
       "      <td>0</td>\n",
       "      <td>0</td>\n",
       "      <td>0</td>\n",
       "      <td>0</td>\n",
       "      <td>0</td>\n",
       "    </tr>\n",
       "    <tr>\n",
       "      <th>4</th>\n",
       "      <td>0</td>\n",
       "      <td>0</td>\n",
       "      <td>0</td>\n",
       "      <td>0</td>\n",
       "      <td>0</td>\n",
       "      <td>0</td>\n",
       "      <td>0</td>\n",
       "      <td>0</td>\n",
       "      <td>0</td>\n",
       "      <td>0</td>\n",
       "      <td>0</td>\n",
       "      <td>0</td>\n",
       "      <td>0</td>\n",
       "      <td>0</td>\n",
       "      <td>0</td>\n",
       "      <td>0</td>\n",
       "    </tr>\n",
       "  </tbody>\n",
       "</table>\n",
       "</div>"
      ],
      "text/plain": [
       "   lead1_ca_thanksgiving  lead1_canada  lead1_civic  lead1_goodfriday  \\\n",
       "0                      0             0            0                 0   \n",
       "1                      0             0            0                 0   \n",
       "2                      0             0            0                 0   \n",
       "3                      0             0            0                 0   \n",
       "4                      0             0            0                 0   \n",
       "\n",
       "   lead1_halloween  lead1_independence  lead1_labor  lead1_memorial  \\\n",
       "0                0                   0            0               0   \n",
       "1                0                   0            0               0   \n",
       "2                0                   0            0               0   \n",
       "3                0                   0            0               0   \n",
       "4                0                   0            0               0   \n",
       "\n",
       "   lead1_mlk  lead1_mothers  lead1_newyears  lead1_president  \\\n",
       "0          0              0               0                0   \n",
       "1          0              0               0                0   \n",
       "2          0              0               0                0   \n",
       "3          0              0               0                0   \n",
       "4          0              0               0                0   \n",
       "\n",
       "   lead1_thanksgiving  lead1_veterans  lead1_victoria  lead1_xmas  \n",
       "0                   0               0               0           0  \n",
       "1                   0               0               0           0  \n",
       "2                   0               0               0           0  \n",
       "3                   0               0               0           0  \n",
       "4                   0               0               0           0  "
      ]
     },
     "execution_count": 37,
     "metadata": {},
     "output_type": "execute_result"
    }
   ],
   "source": [
    "pd.get_dummies(df.event_lead1, prefix='lead1').head()"
   ]
  },
  {
   "cell_type": "code",
   "execution_count": 45,
   "metadata": {
    "collapsed": false
   },
   "outputs": [
    {
     "data": {
      "text/plain": [
       "['event', 'event_lead1', 'event_lag1']"
      ]
     },
     "execution_count": 45,
     "metadata": {},
     "output_type": "execute_result"
    }
   ],
   "source": [
    "[col for col in df.columns.values if 'event' in col]"
   ]
  },
  {
   "cell_type": "code",
   "execution_count": null,
   "metadata": {
    "collapsed": true
   },
   "outputs": [],
   "source": []
  }
 ],
 "metadata": {
  "kernelspec": {
   "display_name": "Python 2",
   "language": "python",
   "name": "python2"
  },
  "language_info": {
   "codemirror_mode": {
    "name": "ipython",
    "version": 2
   },
   "file_extension": ".py",
   "mimetype": "text/x-python",
   "name": "python",
   "nbconvert_exporter": "python",
   "pygments_lexer": "ipython2",
   "version": "2.7.11"
  }
 },
 "nbformat": 4,
 "nbformat_minor": 0
}

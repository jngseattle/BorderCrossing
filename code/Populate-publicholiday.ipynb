{
 "cells": [
  {
   "cell_type": "code",
   "execution_count": 35,
   "metadata": {
    "collapsed": true
   },
   "outputs": [],
   "source": [
    "import pandas as pd\n",
    "import numpy as np\n",
    "from datetime import date\n",
    "from dbhelper import PgDB"
   ]
  },
  {
   "cell_type": "code",
   "execution_count": 3,
   "metadata": {
    "collapsed": true
   },
   "outputs": [],
   "source": [
    "import holidays"
   ]
  },
  {
   "cell_type": "code",
   "execution_count": 21,
   "metadata": {
    "collapsed": false
   },
   "outputs": [],
   "source": [
    "us_holidays = holidays.US(years=range(2007, 2017))\n",
    "ca_holidays = holidays.CA(years=range(2007, 2017))"
   ]
  },
  {
   "cell_type": "code",
   "execution_count": 40,
   "metadata": {
    "collapsed": true
   },
   "outputs": [],
   "source": [
    "query = '''\n",
    "        insert into publicholiday (date, %s)\n",
    "        values ('%s', True)\n",
    "        '''"
   ]
  },
  {
   "cell_type": "code",
   "execution_count": 41,
   "metadata": {
    "collapsed": false
   },
   "outputs": [],
   "source": [
    "usmap = {\"New Year's Day\": 'newyears', \n",
    "         \"Martin Luther King, Jr. Day\": 'us_mlk',\n",
    "         \"Washington's Birthday\": 'us_washington',\n",
    "         \"Memorial Day\": 'us_memorial',\n",
    "         \"Independence Day\": 'us_independence',\n",
    "         \"Labor Day\": 'us_labor',\n",
    "         \"Columbus Day\": 'us_columbus',\n",
    "         \"Veterans Day\": 'us_veterans',\n",
    "         \"Thanksgiving\": 'us_thanksgiving',\n",
    "         \"Christmas Day\": 'us_xmas'\n",
    "        }"
   ]
  },
  {
   "cell_type": "code",
   "execution_count": 51,
   "metadata": {
    "collapsed": false
   },
   "outputs": [],
   "source": [
    "with PgDB() as db:\n",
    "    for year in range(2007, 2017):\n",
    "        hdays = holidays.US(years=year)\n",
    "        for date, name in sorted(hdays.items()):\n",
    "            # Appears on calendars for both years\n",
    "            if year == 2010 and name == \"New Year's Day (Observed)\":\n",
    "                continue\n",
    "            \n",
    "            print date, name\n",
    "            observed = \"{0} (Observed)\".format(name)\n",
    "\n",
    "            if observed not in hdays.values():\n",
    "                print date, name, usmap[name.strip(' (Observed)')]\n",
    "                db.cur.execute(query % (usmap[name.strip(' (Observed)')], date))\n",
    "    \n",
    "    db.conn.commit()"
   ]
  },
  {
   "cell_type": "code",
   "execution_count": 48,
   "metadata": {
    "collapsed": true
   },
   "outputs": [],
   "source": [
    "camap= {\"Good Friday\": 'ca_goodfriday',\n",
    "        \"Victoria Day\": 'ca_victoria',\n",
    "        \"Canada Day\": 'ca_canada',\n",
    "        \"Civic Holiday\": 'ca_civic',\n",
    "        \"Labour Day\": 'ca_labour',\n",
    "        \"Thanksgiving\": 'ca_thanksgiving',\n",
    "        \"Boxing Day\": 'ca_boxing'\n",
    "        }"
   ]
  },
  {
   "cell_type": "code",
   "execution_count": 52,
   "metadata": {
    "collapsed": true
   },
   "outputs": [
    {
     "name": "stdout",
     "output_type": "stream",
     "text": [
      "2007-04-06 Good Friday\n",
      "2007-04-06 Good Friday ca_goodfriday\n",
      "2007-05-21 Victoria Day\n",
      "2007-05-21 Victoria Day ca_victoria\n",
      "2007-07-01 Canada Day\n",
      "2007-07-02 Canada Day (Observed)\n",
      "2007-07-02 Canada Day (Observed) ca_canada\n",
      "2007-08-06 Civic Holiday\n",
      "2007-08-06 Civic Holiday ca_civic\n",
      "2007-12-26 Boxing Day\n",
      "2007-12-26 Boxing Day ca_boxing\n",
      "2008-03-21 Good Friday\n",
      "2008-03-21 Good Friday ca_goodfriday\n",
      "2008-05-19 Victoria Day\n",
      "2008-05-19 Victoria Day ca_victoria\n",
      "2008-07-01 Canada Day\n",
      "2008-07-01 Canada Day ca_canada\n",
      "2008-08-04 Civic Holiday\n",
      "2008-08-04 Civic Holiday ca_civic\n",
      "2008-12-26 Boxing Day\n",
      "2008-12-26 Boxing Day ca_boxing\n",
      "2009-04-10 Good Friday\n",
      "2009-04-10 Good Friday ca_goodfriday\n",
      "2009-05-18 Victoria Day\n",
      "2009-05-18 Victoria Day ca_victoria\n",
      "2009-07-01 Canada Day\n",
      "2009-07-01 Canada Day ca_canada\n",
      "2009-08-03 Civic Holiday\n",
      "2009-08-03 Civic Holiday ca_civic\n",
      "2009-12-28 Boxing Day (Observed)\n",
      "2009-12-28 Boxing Day (Observed) ca_boxing\n",
      "2010-04-02 Good Friday\n",
      "2010-04-02 Good Friday ca_goodfriday\n",
      "2010-05-24 Victoria Day\n",
      "2010-05-24 Victoria Day ca_victoria\n",
      "2010-07-01 Canada Day\n",
      "2010-07-01 Canada Day ca_canada\n",
      "2010-08-02 Civic Holiday\n",
      "2010-08-02 Civic Holiday ca_civic\n",
      "2010-12-27 Boxing Day (Observed)\n",
      "2010-12-27 Boxing Day (Observed) ca_boxing\n",
      "2011-04-22 Good Friday\n",
      "2011-04-22 Good Friday ca_goodfriday\n",
      "2011-05-23 Victoria Day\n",
      "2011-05-23 Victoria Day ca_victoria\n",
      "2011-07-01 Canada Day\n",
      "2011-07-01 Canada Day ca_canada\n",
      "2011-08-01 Civic Holiday\n",
      "2011-08-01 Civic Holiday ca_civic\n",
      "2011-12-27 Boxing Day (Observed)\n",
      "2011-12-27 Boxing Day (Observed) ca_boxing\n",
      "2012-04-06 Good Friday\n",
      "2012-04-06 Good Friday ca_goodfriday\n",
      "2012-05-21 Victoria Day\n",
      "2012-05-21 Victoria Day ca_victoria\n",
      "2012-07-01 Canada Day\n",
      "2012-07-02 Canada Day (Observed)\n",
      "2012-07-02 Canada Day (Observed) ca_canada\n",
      "2012-08-06 Civic Holiday\n",
      "2012-08-06 Civic Holiday ca_civic\n",
      "2012-12-26 Boxing Day\n",
      "2012-12-26 Boxing Day ca_boxing\n",
      "2013-03-29 Good Friday\n",
      "2013-03-29 Good Friday ca_goodfriday\n",
      "2013-05-20 Victoria Day\n",
      "2013-05-20 Victoria Day ca_victoria\n",
      "2013-07-01 Canada Day\n",
      "2013-07-01 Canada Day ca_canada\n",
      "2013-08-05 Civic Holiday\n",
      "2013-08-05 Civic Holiday ca_civic\n",
      "2013-12-26 Boxing Day\n",
      "2013-12-26 Boxing Day ca_boxing\n",
      "2014-04-18 Good Friday\n",
      "2014-04-18 Good Friday ca_goodfriday\n",
      "2014-05-19 Victoria Day\n",
      "2014-05-19 Victoria Day ca_victoria\n",
      "2014-07-01 Canada Day\n",
      "2014-07-01 Canada Day ca_canada\n",
      "2014-08-04 Civic Holiday\n",
      "2014-08-04 Civic Holiday ca_civic\n",
      "2014-12-26 Boxing Day\n",
      "2014-12-26 Boxing Day ca_boxing\n",
      "2015-04-03 Good Friday\n",
      "2015-04-03 Good Friday ca_goodfriday\n",
      "2015-05-18 Victoria Day\n",
      "2015-05-18 Victoria Day ca_victoria\n",
      "2015-07-01 Canada Day\n",
      "2015-07-01 Canada Day ca_canada\n",
      "2015-08-03 Civic Holiday\n",
      "2015-08-03 Civic Holiday ca_civic\n",
      "2015-12-28 Boxing Day (Observed)\n",
      "2015-12-28 Boxing Day (Observed) ca_boxing\n",
      "2016-03-25 Good Friday\n",
      "2016-03-25 Good Friday ca_goodfriday\n",
      "2016-05-23 Victoria Day\n",
      "2016-05-23 Victoria Day ca_victoria\n",
      "2016-07-01 Canada Day\n",
      "2016-07-01 Canada Day ca_canada\n",
      "2016-08-01 Civic Holiday\n",
      "2016-08-01 Civic Holiday ca_civic\n",
      "2016-12-27 Boxing Day (Observed)\n",
      "2016-12-27 Boxing Day (Observed) ca_boxing\n"
     ]
    }
   ],
   "source": [
    "with PgDB() as db:\n",
    "    for year in range(2007, 2017):\n",
    "        hdays = holidays.CA(years=year)\n",
    "        for date, name in sorted(hdays.items()):\n",
    "            # Ignore if already added as US holiday \n",
    "            if date in us_holidays.keys():\n",
    "                continue\n",
    "            \n",
    "            print date, name\n",
    "            observed = \"{0} (Observed)\".format(name)\n",
    "\n",
    "            if observed not in hdays.values():\n",
    "                print date, name, camap[name.strip(' (Observed)')]\n",
    "                db.cur.execute(query % (camap[name.strip(' (Observed)')], date))\n",
    "    \n",
    "    db.conn.commit()"
   ]
  },
  {
   "cell_type": "code",
   "execution_count": 15,
   "metadata": {
    "collapsed": true
   },
   "outputs": [
    {
     "name": "stdout",
     "output_type": "stream",
     "text": [
      "2007-01-01 New Year's Day\n",
      "2007-04-06 Good Friday\n",
      "2007-05-21 Victoria Day\n",
      "2007-07-01 Canada Day\n",
      "2007-07-02 Canada Day (Observed)\n",
      "2007-08-06 Civic Holiday\n",
      "2007-09-03 Labour Day\n",
      "2007-10-08 Thanksgiving\n",
      "2007-12-25 Christmas Day\n",
      "2007-12-26 Boxing Day\n",
      "2008-01-01 New Year's Day\n",
      "2008-02-18 Family Day\n",
      "2008-03-21 Good Friday\n",
      "2008-05-19 Victoria Day\n",
      "2008-07-01 Canada Day\n",
      "2008-08-04 Civic Holiday\n",
      "2008-09-01 Labour Day\n",
      "2008-10-13 Thanksgiving\n",
      "2008-12-25 Christmas Day\n",
      "2008-12-26 Boxing Day\n",
      "2009-01-01 New Year's Day\n",
      "2009-02-16 Family Day\n",
      "2009-04-10 Good Friday\n",
      "2009-05-18 Victoria Day\n",
      "2009-07-01 Canada Day\n",
      "2009-08-03 Civic Holiday\n",
      "2009-09-07 Labour Day\n",
      "2009-10-12 Thanksgiving\n",
      "2009-12-25 Christmas Day\n",
      "2009-12-28 Boxing Day (Observed)\n",
      "2010-01-01 New Year's Day\n",
      "2010-02-15 Family Day\n",
      "2010-04-02 Good Friday\n",
      "2010-05-24 Victoria Day\n",
      "2010-07-01 Canada Day\n",
      "2010-08-02 Civic Holiday\n",
      "2010-09-06 Labour Day\n",
      "2010-10-11 Thanksgiving\n",
      "2010-12-24 Christmas Day (Observed)\n",
      "2010-12-25 Christmas Day\n",
      "2010-12-27 Boxing Day (Observed)\n",
      "2010-12-31 New Year's Day (Observed)\n",
      "2011-01-01 New Year's Day\n",
      "2011-02-21 Family Day\n",
      "2011-04-22 Good Friday\n",
      "2011-05-23 Victoria Day\n",
      "2011-07-01 Canada Day\n",
      "2011-08-01 Civic Holiday\n",
      "2011-09-05 Labour Day\n",
      "2011-10-10 Thanksgiving\n",
      "2011-12-25 Christmas Day\n",
      "2011-12-26 Christmas Day (Observed)\n",
      "2011-12-27 Boxing Day (Observed)\n",
      "2012-01-01 New Year's Day\n",
      "2012-01-02 New Year's Day (Observed)\n",
      "2012-02-20 Family Day\n",
      "2012-04-06 Good Friday\n",
      "2012-05-21 Victoria Day\n",
      "2012-07-01 Canada Day\n",
      "2012-07-02 Canada Day (Observed)\n",
      "2012-08-06 Civic Holiday\n",
      "2012-09-03 Labour Day\n",
      "2012-10-08 Thanksgiving\n",
      "2012-12-25 Christmas Day\n",
      "2012-12-26 Boxing Day\n",
      "2013-01-01 New Year's Day\n",
      "2013-02-18 Family Day\n",
      "2013-03-29 Good Friday\n",
      "2013-05-20 Victoria Day\n",
      "2013-07-01 Canada Day\n",
      "2013-08-05 Civic Holiday\n",
      "2013-09-02 Labour Day\n",
      "2013-10-14 Thanksgiving\n",
      "2013-12-25 Christmas Day\n",
      "2013-12-26 Boxing Day\n",
      "2014-01-01 New Year's Day\n",
      "2014-02-17 Family Day\n",
      "2014-04-18 Good Friday\n",
      "2014-05-19 Victoria Day\n",
      "2014-07-01 Canada Day\n",
      "2014-08-04 Civic Holiday\n",
      "2014-09-01 Labour Day\n",
      "2014-10-13 Thanksgiving\n",
      "2014-12-25 Christmas Day\n",
      "2014-12-26 Boxing Day\n",
      "2015-01-01 New Year's Day\n",
      "2015-02-16 Family Day\n",
      "2015-04-03 Good Friday\n",
      "2015-05-18 Victoria Day\n",
      "2015-07-01 Canada Day\n",
      "2015-08-03 Civic Holiday\n",
      "2015-09-07 Labour Day\n",
      "2015-10-12 Thanksgiving\n",
      "2015-12-25 Christmas Day\n",
      "2015-12-28 Boxing Day (Observed)\n",
      "2016-01-01 New Year's Day\n",
      "2016-02-15 Family Day\n",
      "2016-03-25 Good Friday\n",
      "2016-05-23 Victoria Day\n",
      "2016-07-01 Canada Day\n",
      "2016-08-01 Civic Holiday\n",
      "2016-09-05 Labour Day\n",
      "2016-10-10 Thanksgiving\n",
      "2016-12-25 Christmas Day\n",
      "2016-12-26 Christmas Day (Observed)\n",
      "2016-12-27 Boxing Day (Observed)\n"
     ]
    }
   ],
   "source": [
    "for date, name in sorted(holidays.CA(years=range(2007, 2017)).items()):\n",
    "    print date, name"
   ]
  },
  {
   "cell_type": "code",
   "execution_count": null,
   "metadata": {
    "collapsed": true
   },
   "outputs": [],
   "source": []
  }
 ],
 "metadata": {
  "kernelspec": {
   "display_name": "Python 2",
   "language": "python",
   "name": "python2"
  },
  "language_info": {
   "codemirror_mode": {
    "name": "ipython",
    "version": 2
   },
   "file_extension": ".py",
   "mimetype": "text/x-python",
   "name": "python",
   "nbconvert_exporter": "python",
   "pygments_lexer": "ipython2",
   "version": "2.7.11"
  }
 },
 "nbformat": 4,
 "nbformat_minor": 0
}

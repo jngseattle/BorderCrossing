{
 "cells": [
  {
   "cell_type": "code",
   "execution_count": 1,
   "metadata": {
    "collapsed": false
   },
   "outputs": [],
   "source": [
    "from BorderModel import IncrementalModel, run_Incremental, sort_importances, print_importances\n",
    "from BorderQuery import select_features, select_mungedata_simple, select_mungedata\n",
    "from sklearn.ensemble import ExtraTreesRegressor\n",
    "from sklearn.grid_search import GridSearchCV\n",
    "import datetime as dt\n",
    "import matplotlib.pyplot as plt\n",
    "%matplotlib inline\n",
    "import pprint\n",
    "import itertools\n",
    "import pdb\n",
    "import random\n",
    "import pandas as pd\n",
    "import numpy as np"
   ]
  },
  {
   "cell_type": "markdown",
   "metadata": {},
   "source": [
    "### Initialize for parallel operations"
   ]
  },
  {
   "cell_type": "code",
   "execution_count": 2,
   "metadata": {
    "collapsed": false
   },
   "outputs": [
    {
     "name": "stdout",
     "output_type": "stream",
     "text": [
      "importing datetime on engine(s)\n",
      "importing IncrementalModel,run_Incremental from BorderModel on engine(s)\n",
      "importing select_features,select_mungedata_simple,select_mungedata from BorderQuery on engine(s)\n",
      "importing ExtraTreesRegressor from sklearn.ensemble on engine(s)\n",
      "importing GridSearchCV from sklearn.grid_search on engine(s)\n"
     ]
    }
   ],
   "source": [
    "import os\n",
    "from ipyparallel import Client\n",
    "rc = Client()\n",
    "dview = rc[:]\n",
    "\n",
    "# set proper working directory on all clients\n",
    "cwd = os.getcwd()\n",
    "dview.map(os.chdir, [cwd] * 40)\n",
    "# print(dview.apply_sync(os.getcwd))\n",
    "\n",
    "with dview.sync_imports():\n",
    "    import datetime\n",
    "    from BorderModel import IncrementalModel, run_Incremental\n",
    "    from BorderQuery import select_features, select_mungedata_simple, select_mungedata\n",
    "    from sklearn.ensemble import ExtraTreesRegressor\n",
    "    from sklearn.grid_search import GridSearchCV"
   ]
  },
  {
   "cell_type": "code",
   "execution_count": 3,
   "metadata": {
    "collapsed": false
   },
   "outputs": [
    {
     "name": "stdout",
     "output_type": "stream",
     "text": [
      "importing IncrementalModel,run_Incremental from BorderModel on engine(s)\n"
     ]
    }
   ],
   "source": [
    "from BorderModel import IncrementalModel, run_Incremental\n",
    "with dview.sync_imports():\n",
    "    from BorderModel import IncrementalModel, run_Incremental\n",
    "import random\n",
    "\n",
    "def create_train_test(year, train_length=2):\n",
    "    '''\n",
    "    IN \n",
    "        years: list of years to predict\n",
    "        train_length: number of years to train\n",
    "    '''\n",
    "    train_start = datetime.date(year - train_length, 1, 1).strftime('%Y-%m-%d')\n",
    "    train_end = datetime.date(year, 1, 1).strftime('%Y-%m-%d')\n",
    "    test_start = datetime.date(year, 1, 1).strftime('%Y-%m-%d')\n",
    "    test_end = datetime.date(year + 1, 1, 1).strftime('%Y-%m-%d')\n",
    "    return train_start, train_end, test_start, test_end\n",
    "    \n",
    "def compare_years_parallel(model, xing, munger_id, years):\n",
    "    prlist = {}\n",
    "    for year in years:\n",
    "        cpu = random.randint(0, 31)\n",
    "        train_start, train_end, test_start, test_end = create_train_test(year, 2)\n",
    "\n",
    "        prlist[year] = rc[cpu].apply_async(run_Incremental, model, munger_id, xing,  \n",
    "                                           train_start, train_end, \n",
    "                                           test_start, test_end)\n",
    "        \n",
    "    return prlist"
   ]
  },
  {
   "cell_type": "code",
   "execution_count": 4,
   "metadata": {
    "collapsed": true
   },
   "outputs": [],
   "source": [
    "def model_plot(model, start, end):\n",
    "    plt.figure(figsize=(16,4))\n",
    "    baseline = model.baseline()\n",
    "    ensemble = model.ensemble()\n",
    "    actuals = model.actual\n",
    "    yhat = model.y_predict\n",
    "    \n",
    "    plt.plot(actuals[(actuals.index.date>=start) & (actuals.index.date<end)], label='actuals')\n",
    "    plt.plot(baseline[(baseline.index.date>=start) & (baseline.index.date<end)], label='baseline')\n",
    "    plt.plot(yhat[(yhat.index.date>=start) & (yhat.index.date<end)], label='predictions')\n",
    "    plt.plot(ensemble[(ensemble.index.date>=start) & (ensemble.index.date<end)], label='ensemble')\n",
    "    plt.legend();\n",
    "    \n",
    "def imp_df(xid, model_years):\n",
    "    impdf = pd.DataFrame()\n",
    "    for year, model in model_years.items():\n",
    "        imp = sort_importances(model.model.best_estimator_, model.X.columns)\n",
    "        df = pd.DataFrame(np.array(imp)[:,1], np.array(imp)[:,0]).T\n",
    "        df['xid'] = xid\n",
    "        df['yr'] = int(year)\n",
    "        df = df.set_index(['xid', 'yr'])\n",
    "        impdf = pd.concat([impdf, df])\n",
    "    return impdf"
   ]
  },
  {
   "cell_type": "markdown",
   "metadata": {},
   "source": [
    "## Pacific Crossing South"
   ]
  },
  {
   "cell_type": "code",
   "execution_count": 5,
   "metadata": {
    "collapsed": false
   },
   "outputs": [],
   "source": [
    "model = ExtraTreesRegressor(n_jobs=-1, n_estimators=96)\n",
    "pr5 = compare_years_parallel(model, 5, 3, range(2011, 2016))"
   ]
  },
  {
   "cell_type": "code",
   "execution_count": 28,
   "metadata": {
    "collapsed": false
   },
   "outputs": [
    {
     "name": "stdout",
     "output_type": "stream",
     "text": [
      "{'model': 0.50550283356833692, 'ensemble': 0.55565430134349081, 'baseline': 0.50830951929768831}\n",
      "{'model': 0.6134091010507835, 'ensemble': 0.64191584560103454, 'baseline': 0.6264414468772701}\n",
      "{'model': 0.61095713945601116, 'ensemble': 0.59856682003503436, 'baseline': 0.57215536973016168}\n",
      "{'model': 0.57713251816633226, 'ensemble': 0.59632729083962333, 'baseline': 0.51290499913254095}\n",
      "{'model': 0.321273983845897, 'ensemble': 0.32075887955528859, 'baseline': 0.23074703434185284}\n"
     ]
    }
   ],
   "source": [
    "model5 = {}\n",
    "for year in range(2011, 2016):\n",
    "    if pr5[year].ready():\n",
    "        model5[year] = pr5[year].get(1)\n",
    "        print model5[year].score()\n",
    "    else:\n",
    "        print year, \"not ready\""
   ]
  },
  {
   "cell_type": "code",
   "execution_count": 39,
   "metadata": {
    "collapsed": false
   },
   "outputs": [],
   "source": [
    "imp5 = imp_df(5, model5)"
   ]
  },
  {
   "cell_type": "markdown",
   "metadata": {},
   "source": [
    "## Pacific Crossing North"
   ]
  },
  {
   "cell_type": "code",
   "execution_count": 8,
   "metadata": {
    "collapsed": true
   },
   "outputs": [],
   "source": [
    "model = ExtraTreesRegressor(n_jobs=-1, n_estimators=96)\n",
    "pr6 = compare_years_parallel(model, 6, 4, range(2013, 2016))"
   ]
  },
  {
   "cell_type": "code",
   "execution_count": 29,
   "metadata": {
    "collapsed": false
   },
   "outputs": [
    {
     "name": "stdout",
     "output_type": "stream",
     "text": [
      "{'model': 0.25591339588735995, 'ensemble': 0.27747329483820438, 'baseline': 0.26915343237860456}\n",
      "{'model': 0.29809133660889775, 'ensemble': 0.31232389120803694, 'baseline': 0.29165671141312366}\n",
      "{'model': -0.15533941885376401, 'ensemble': -0.052260169164799919, 'baseline': -0.32952975930038231}\n"
     ]
    }
   ],
   "source": [
    "model6 = {}\n",
    "for year in range(2013, 2016):\n",
    "    if pr6[year].ready():\n",
    "        model6[year] = pr6[year].get(1)\n",
    "        print model6[year].score()\n",
    "    else:\n",
    "        print year, \"not ready\""
   ]
  },
  {
   "cell_type": "code",
   "execution_count": 40,
   "metadata": {
    "collapsed": true
   },
   "outputs": [],
   "source": [
    "imp6 = imp_df(6, model6)"
   ]
  },
  {
   "cell_type": "markdown",
   "metadata": {},
   "source": [
    "## Peace Arch South"
   ]
  },
  {
   "cell_type": "code",
   "execution_count": 11,
   "metadata": {
    "collapsed": true
   },
   "outputs": [],
   "source": [
    "model = ExtraTreesRegressor(n_jobs=-1, n_estimators=96)\n",
    "pr1 = compare_years_parallel(model, 1, 3, range(2011, 2016))"
   ]
  },
  {
   "cell_type": "code",
   "execution_count": 37,
   "metadata": {
    "collapsed": false
   },
   "outputs": [
    {
     "name": "stdout",
     "output_type": "stream",
     "text": [
      "{'model': 0.099495876849732601, 'ensemble': 0.38589120736921279, 'baseline': 0.39385165054016535}\n",
      "{'model': 0.55228219873287654, 'ensemble': 0.61939074701522401, 'baseline': 0.60900901758379433}\n",
      "{'model': 0.63965322509424571, 'ensemble': 0.63858423875556114, 'baseline': 0.61360307915900703}\n",
      "{'model': 0.60024201391543197, 'ensemble': 0.6131379653881488, 'baseline': 0.56996406060235849}\n",
      "{'model': 0.16913959571707027, 'ensemble': 0.1951000844239289, 'baseline': 0.1059067680212642}\n"
     ]
    }
   ],
   "source": [
    "model1 = {}\n",
    "for year in range(2011, 2016):\n",
    "    if pr1[year].ready():\n",
    "        model1[year] = pr1[year].get(1)\n",
    "        print model1[year].score()\n",
    "    else:\n",
    "        print year, \"not ready\""
   ]
  },
  {
   "cell_type": "code",
   "execution_count": 41,
   "metadata": {
    "collapsed": true
   },
   "outputs": [],
   "source": [
    "imp1 = imp_df(1, model1)"
   ]
  },
  {
   "cell_type": "markdown",
   "metadata": {},
   "source": [
    "## Peace Arch North"
   ]
  },
  {
   "cell_type": "code",
   "execution_count": 14,
   "metadata": {
    "collapsed": true
   },
   "outputs": [],
   "source": [
    "model = ExtraTreesRegressor(n_jobs=-1, n_estimators=96)\n",
    "pr2 = compare_years_parallel(model, 2, 4, range(2013, 2016))"
   ]
  },
  {
   "cell_type": "code",
   "execution_count": 38,
   "metadata": {
    "collapsed": false
   },
   "outputs": [
    {
     "name": "stdout",
     "output_type": "stream",
     "text": [
      "{'model': 0.38608474632848588, 'ensemble': 0.37477890721941032, 'baseline': 0.33042393202063758}\n",
      "{'model': 0.41636813928593042, 'ensemble': 0.39707684796507314, 'baseline': 0.33485359571062911}\n",
      "{'model': 0.10132556816543115, 'ensemble': 0.13240462589920921, 'baseline': -0.1272957779194126}\n"
     ]
    }
   ],
   "source": [
    "model2 = {}\n",
    "for year in range(2013, 2016):\n",
    "    if pr2[year].ready():\n",
    "        model2[year] = pr2[year].get(1)\n",
    "        print model2[year].score()\n",
    "    else:\n",
    "        print year, \"not ready\""
   ]
  },
  {
   "cell_type": "code",
   "execution_count": 42,
   "metadata": {
    "collapsed": true
   },
   "outputs": [],
   "source": [
    "imp2 = imp_df(2, model2)"
   ]
  },
  {
   "cell_type": "markdown",
   "metadata": {},
   "source": [
    "# Combine and compare feature importances"
   ]
  },
  {
   "cell_type": "code",
   "execution_count": 43,
   "metadata": {
    "collapsed": true
   },
   "outputs": [],
   "source": [
    "impall = pd.concat([imp1, imp2, imp5, imp6]).astype(float)"
   ]
  },
  {
   "cell_type": "code",
   "execution_count": 44,
   "metadata": {
    "collapsed": false
   },
   "outputs": [
    {
     "data": {
      "text/html": [
       "<div>\n",
       "<table border=\"1\" class=\"dataframe\">\n",
       "  <thead>\n",
       "    <tr style=\"text-align: right;\">\n",
       "      <th></th>\n",
       "      <th></th>\n",
       "      <th>avg_delta_1</th>\n",
       "      <th>avg_delta_10</th>\n",
       "      <th>avg_delta_11</th>\n",
       "      <th>avg_delta_12</th>\n",
       "      <th>avg_delta_2</th>\n",
       "      <th>avg_delta_3</th>\n",
       "      <th>avg_delta_4</th>\n",
       "      <th>avg_delta_5</th>\n",
       "      <th>avg_delta_6</th>\n",
       "      <th>avg_delta_7</th>\n",
       "      <th>...</th>\n",
       "      <th>thunderstorm</th>\n",
       "      <th>thunderstorm_m1</th>\n",
       "      <th>thunderstorm_m2</th>\n",
       "      <th>thunderstorm_p1</th>\n",
       "      <th>thunderstorm_p2</th>\n",
       "      <th>thunderstorm_p3</th>\n",
       "      <th>viz_max</th>\n",
       "      <th>week</th>\n",
       "      <th>wind_max</th>\n",
       "      <th>year</th>\n",
       "    </tr>\n",
       "    <tr>\n",
       "      <th>xid</th>\n",
       "      <th>yr</th>\n",
       "      <th></th>\n",
       "      <th></th>\n",
       "      <th></th>\n",
       "      <th></th>\n",
       "      <th></th>\n",
       "      <th></th>\n",
       "      <th></th>\n",
       "      <th></th>\n",
       "      <th></th>\n",
       "      <th></th>\n",
       "      <th></th>\n",
       "      <th></th>\n",
       "      <th></th>\n",
       "      <th></th>\n",
       "      <th></th>\n",
       "      <th></th>\n",
       "      <th></th>\n",
       "      <th></th>\n",
       "      <th></th>\n",
       "      <th></th>\n",
       "      <th></th>\n",
       "    </tr>\n",
       "  </thead>\n",
       "  <tbody>\n",
       "    <tr>\n",
       "      <th rowspan=\"5\" valign=\"top\">1</th>\n",
       "      <th>2011</th>\n",
       "      <td>0.011465</td>\n",
       "      <td>0.020184</td>\n",
       "      <td>0.016488</td>\n",
       "      <td>0.015561</td>\n",
       "      <td>0.010200</td>\n",
       "      <td>0.007440</td>\n",
       "      <td>0.008448</td>\n",
       "      <td>0.007047</td>\n",
       "      <td>0.010824</td>\n",
       "      <td>0.011419</td>\n",
       "      <td>...</td>\n",
       "      <td>0.000398</td>\n",
       "      <td>0.000475</td>\n",
       "      <td>0.002636</td>\n",
       "      <td>0.000197</td>\n",
       "      <td>0.001820</td>\n",
       "      <td>0.000660</td>\n",
       "      <td>0.000346</td>\n",
       "      <td>0.014188</td>\n",
       "      <td>0.004266</td>\n",
       "      <td>0.008473</td>\n",
       "    </tr>\n",
       "    <tr>\n",
       "      <th>2012</th>\n",
       "      <td>0.019971</td>\n",
       "      <td>0.016693</td>\n",
       "      <td>0.016448</td>\n",
       "      <td>0.015341</td>\n",
       "      <td>0.012885</td>\n",
       "      <td>0.010838</td>\n",
       "      <td>0.012106</td>\n",
       "      <td>0.009150</td>\n",
       "      <td>0.011173</td>\n",
       "      <td>0.009557</td>\n",
       "      <td>...</td>\n",
       "      <td>0.000164</td>\n",
       "      <td>0.000400</td>\n",
       "      <td>0.004226</td>\n",
       "      <td>0.000369</td>\n",
       "      <td>0.002747</td>\n",
       "      <td>0.000113</td>\n",
       "      <td>0.000230</td>\n",
       "      <td>0.008289</td>\n",
       "      <td>0.007088</td>\n",
       "      <td>0.011421</td>\n",
       "    </tr>\n",
       "    <tr>\n",
       "      <th>2013</th>\n",
       "      <td>0.006767</td>\n",
       "      <td>0.011933</td>\n",
       "      <td>0.009765</td>\n",
       "      <td>0.008318</td>\n",
       "      <td>0.007910</td>\n",
       "      <td>0.007799</td>\n",
       "      <td>0.007316</td>\n",
       "      <td>0.008290</td>\n",
       "      <td>0.011233</td>\n",
       "      <td>0.011582</td>\n",
       "      <td>...</td>\n",
       "      <td>0.000179</td>\n",
       "      <td>0.000280</td>\n",
       "      <td>0.000215</td>\n",
       "      <td>0.000291</td>\n",
       "      <td>0.000107</td>\n",
       "      <td>0.000204</td>\n",
       "      <td>0.000136</td>\n",
       "      <td>0.007842</td>\n",
       "      <td>0.006067</td>\n",
       "      <td>0.011022</td>\n",
       "    </tr>\n",
       "    <tr>\n",
       "      <th>2014</th>\n",
       "      <td>0.005978</td>\n",
       "      <td>0.008389</td>\n",
       "      <td>0.006004</td>\n",
       "      <td>0.005942</td>\n",
       "      <td>0.005951</td>\n",
       "      <td>0.008827</td>\n",
       "      <td>0.005758</td>\n",
       "      <td>0.008598</td>\n",
       "      <td>0.006821</td>\n",
       "      <td>0.009551</td>\n",
       "      <td>...</td>\n",
       "      <td>0.000253</td>\n",
       "      <td>0.000226</td>\n",
       "      <td>0.000186</td>\n",
       "      <td>0.000339</td>\n",
       "      <td>0.000217</td>\n",
       "      <td>0.000351</td>\n",
       "      <td>0.000197</td>\n",
       "      <td>0.010078</td>\n",
       "      <td>0.004901</td>\n",
       "      <td>0.005758</td>\n",
       "    </tr>\n",
       "    <tr>\n",
       "      <th>2015</th>\n",
       "      <td>0.005860</td>\n",
       "      <td>0.010080</td>\n",
       "      <td>0.008382</td>\n",
       "      <td>0.008599</td>\n",
       "      <td>0.006384</td>\n",
       "      <td>0.006802</td>\n",
       "      <td>0.006986</td>\n",
       "      <td>0.009333</td>\n",
       "      <td>0.011905</td>\n",
       "      <td>0.011127</td>\n",
       "      <td>...</td>\n",
       "      <td>0.000039</td>\n",
       "      <td>0.000019</td>\n",
       "      <td>0.000095</td>\n",
       "      <td>0.000094</td>\n",
       "      <td>0.000218</td>\n",
       "      <td>0.000192</td>\n",
       "      <td>0.000112</td>\n",
       "      <td>0.007507</td>\n",
       "      <td>0.004629</td>\n",
       "      <td>0.012192</td>\n",
       "    </tr>\n",
       "    <tr>\n",
       "      <th rowspan=\"3\" valign=\"top\">2</th>\n",
       "      <th>2013</th>\n",
       "      <td>0.006252</td>\n",
       "      <td>0.013398</td>\n",
       "      <td>0.012707</td>\n",
       "      <td>0.006940</td>\n",
       "      <td>0.009956</td>\n",
       "      <td>0.007558</td>\n",
       "      <td>0.007829</td>\n",
       "      <td>0.009700</td>\n",
       "      <td>0.015731</td>\n",
       "      <td>0.007186</td>\n",
       "      <td>...</td>\n",
       "      <td>0.001387</td>\n",
       "      <td>0.000470</td>\n",
       "      <td>0.000865</td>\n",
       "      <td>0.000294</td>\n",
       "      <td>0.000333</td>\n",
       "      <td>0.000912</td>\n",
       "      <td>0.000005</td>\n",
       "      <td>0.008128</td>\n",
       "      <td>0.005378</td>\n",
       "      <td>0.026045</td>\n",
       "    </tr>\n",
       "    <tr>\n",
       "      <th>2014</th>\n",
       "      <td>0.007703</td>\n",
       "      <td>0.009313</td>\n",
       "      <td>0.007936</td>\n",
       "      <td>0.008397</td>\n",
       "      <td>0.008740</td>\n",
       "      <td>0.010419</td>\n",
       "      <td>0.008445</td>\n",
       "      <td>0.008686</td>\n",
       "      <td>0.008307</td>\n",
       "      <td>0.006699</td>\n",
       "      <td>...</td>\n",
       "      <td>0.000662</td>\n",
       "      <td>0.000408</td>\n",
       "      <td>0.001243</td>\n",
       "      <td>0.000403</td>\n",
       "      <td>0.000441</td>\n",
       "      <td>0.000795</td>\n",
       "      <td>0.001234</td>\n",
       "      <td>0.008410</td>\n",
       "      <td>0.005930</td>\n",
       "      <td>0.006488</td>\n",
       "    </tr>\n",
       "    <tr>\n",
       "      <th>2015</th>\n",
       "      <td>0.007336</td>\n",
       "      <td>0.016714</td>\n",
       "      <td>0.016052</td>\n",
       "      <td>0.017187</td>\n",
       "      <td>0.009123</td>\n",
       "      <td>0.007981</td>\n",
       "      <td>0.007628</td>\n",
       "      <td>0.010111</td>\n",
       "      <td>0.007183</td>\n",
       "      <td>0.008363</td>\n",
       "      <td>...</td>\n",
       "      <td>0.000036</td>\n",
       "      <td>0.000124</td>\n",
       "      <td>0.000610</td>\n",
       "      <td>0.000113</td>\n",
       "      <td>0.000182</td>\n",
       "      <td>0.000063</td>\n",
       "      <td>0.000649</td>\n",
       "      <td>0.008375</td>\n",
       "      <td>0.005373</td>\n",
       "      <td>0.008916</td>\n",
       "    </tr>\n",
       "    <tr>\n",
       "      <th rowspan=\"5\" valign=\"top\">5</th>\n",
       "      <th>2011</th>\n",
       "      <td>0.006696</td>\n",
       "      <td>0.020336</td>\n",
       "      <td>0.020302</td>\n",
       "      <td>0.019145</td>\n",
       "      <td>0.009511</td>\n",
       "      <td>0.006815</td>\n",
       "      <td>0.006512</td>\n",
       "      <td>0.006974</td>\n",
       "      <td>0.009625</td>\n",
       "      <td>0.011292</td>\n",
       "      <td>...</td>\n",
       "      <td>0.000454</td>\n",
       "      <td>0.000441</td>\n",
       "      <td>0.001877</td>\n",
       "      <td>0.000304</td>\n",
       "      <td>0.004168</td>\n",
       "      <td>0.000856</td>\n",
       "      <td>0.000591</td>\n",
       "      <td>0.013787</td>\n",
       "      <td>0.004741</td>\n",
       "      <td>0.008496</td>\n",
       "    </tr>\n",
       "    <tr>\n",
       "      <th>2012</th>\n",
       "      <td>0.006894</td>\n",
       "      <td>0.017760</td>\n",
       "      <td>0.023338</td>\n",
       "      <td>0.015164</td>\n",
       "      <td>0.010595</td>\n",
       "      <td>0.006591</td>\n",
       "      <td>0.007106</td>\n",
       "      <td>0.006704</td>\n",
       "      <td>0.010129</td>\n",
       "      <td>0.011322</td>\n",
       "      <td>...</td>\n",
       "      <td>0.000161</td>\n",
       "      <td>0.000298</td>\n",
       "      <td>0.001502</td>\n",
       "      <td>0.000384</td>\n",
       "      <td>0.002117</td>\n",
       "      <td>0.000172</td>\n",
       "      <td>0.000103</td>\n",
       "      <td>0.008001</td>\n",
       "      <td>0.005879</td>\n",
       "      <td>0.011768</td>\n",
       "    </tr>\n",
       "    <tr>\n",
       "      <th>2013</th>\n",
       "      <td>0.005176</td>\n",
       "      <td>0.009617</td>\n",
       "      <td>0.011987</td>\n",
       "      <td>0.009186</td>\n",
       "      <td>0.008932</td>\n",
       "      <td>0.006034</td>\n",
       "      <td>0.005761</td>\n",
       "      <td>0.007682</td>\n",
       "      <td>0.010279</td>\n",
       "      <td>0.010423</td>\n",
       "      <td>...</td>\n",
       "      <td>0.000228</td>\n",
       "      <td>0.000148</td>\n",
       "      <td>0.000178</td>\n",
       "      <td>0.000282</td>\n",
       "      <td>0.000131</td>\n",
       "      <td>0.000267</td>\n",
       "      <td>0.000043</td>\n",
       "      <td>0.006971</td>\n",
       "      <td>0.005492</td>\n",
       "      <td>0.007770</td>\n",
       "    </tr>\n",
       "    <tr>\n",
       "      <th>2014</th>\n",
       "      <td>0.006068</td>\n",
       "      <td>0.007053</td>\n",
       "      <td>0.006597</td>\n",
       "      <td>0.007592</td>\n",
       "      <td>0.006642</td>\n",
       "      <td>0.008339</td>\n",
       "      <td>0.009026</td>\n",
       "      <td>0.008811</td>\n",
       "      <td>0.009468</td>\n",
       "      <td>0.008055</td>\n",
       "      <td>...</td>\n",
       "      <td>0.000224</td>\n",
       "      <td>0.000137</td>\n",
       "      <td>0.000160</td>\n",
       "      <td>0.000305</td>\n",
       "      <td>0.000129</td>\n",
       "      <td>0.000409</td>\n",
       "      <td>0.000172</td>\n",
       "      <td>0.011097</td>\n",
       "      <td>0.004637</td>\n",
       "      <td>0.008185</td>\n",
       "    </tr>\n",
       "    <tr>\n",
       "      <th>2015</th>\n",
       "      <td>0.006151</td>\n",
       "      <td>0.008227</td>\n",
       "      <td>0.007212</td>\n",
       "      <td>0.007084</td>\n",
       "      <td>0.005899</td>\n",
       "      <td>0.007578</td>\n",
       "      <td>0.008347</td>\n",
       "      <td>0.010392</td>\n",
       "      <td>0.010408</td>\n",
       "      <td>0.010713</td>\n",
       "      <td>...</td>\n",
       "      <td>0.000025</td>\n",
       "      <td>0.000043</td>\n",
       "      <td>0.000129</td>\n",
       "      <td>0.000028</td>\n",
       "      <td>0.000081</td>\n",
       "      <td>0.000167</td>\n",
       "      <td>0.000103</td>\n",
       "      <td>0.007477</td>\n",
       "      <td>0.004573</td>\n",
       "      <td>0.026821</td>\n",
       "    </tr>\n",
       "    <tr>\n",
       "      <th rowspan=\"3\" valign=\"top\">6</th>\n",
       "      <th>2013</th>\n",
       "      <td>0.006888</td>\n",
       "      <td>0.008065</td>\n",
       "      <td>0.008370</td>\n",
       "      <td>0.011814</td>\n",
       "      <td>0.011920</td>\n",
       "      <td>0.007965</td>\n",
       "      <td>0.006541</td>\n",
       "      <td>0.007404</td>\n",
       "      <td>0.014412</td>\n",
       "      <td>0.006016</td>\n",
       "      <td>...</td>\n",
       "      <td>0.001344</td>\n",
       "      <td>0.000848</td>\n",
       "      <td>0.000911</td>\n",
       "      <td>0.000633</td>\n",
       "      <td>0.000195</td>\n",
       "      <td>0.000701</td>\n",
       "      <td>0.000088</td>\n",
       "      <td>0.008688</td>\n",
       "      <td>0.005734</td>\n",
       "      <td>0.051195</td>\n",
       "    </tr>\n",
       "    <tr>\n",
       "      <th>2014</th>\n",
       "      <td>0.008036</td>\n",
       "      <td>0.011349</td>\n",
       "      <td>0.009518</td>\n",
       "      <td>0.010209</td>\n",
       "      <td>0.008919</td>\n",
       "      <td>0.009999</td>\n",
       "      <td>0.012457</td>\n",
       "      <td>0.007893</td>\n",
       "      <td>0.010288</td>\n",
       "      <td>0.009398</td>\n",
       "      <td>...</td>\n",
       "      <td>0.000265</td>\n",
       "      <td>0.000166</td>\n",
       "      <td>0.000603</td>\n",
       "      <td>0.000452</td>\n",
       "      <td>0.000227</td>\n",
       "      <td>0.000141</td>\n",
       "      <td>0.002194</td>\n",
       "      <td>0.008982</td>\n",
       "      <td>0.007394</td>\n",
       "      <td>0.009615</td>\n",
       "    </tr>\n",
       "    <tr>\n",
       "      <th>2015</th>\n",
       "      <td>0.009639</td>\n",
       "      <td>0.013893</td>\n",
       "      <td>0.018766</td>\n",
       "      <td>0.011782</td>\n",
       "      <td>0.008995</td>\n",
       "      <td>0.007738</td>\n",
       "      <td>0.010734</td>\n",
       "      <td>0.010512</td>\n",
       "      <td>0.009152</td>\n",
       "      <td>0.011474</td>\n",
       "      <td>...</td>\n",
       "      <td>0.000115</td>\n",
       "      <td>0.000101</td>\n",
       "      <td>0.000248</td>\n",
       "      <td>0.000130</td>\n",
       "      <td>0.000138</td>\n",
       "      <td>0.000060</td>\n",
       "      <td>0.000897</td>\n",
       "      <td>0.008037</td>\n",
       "      <td>0.006761</td>\n",
       "      <td>0.010112</td>\n",
       "    </tr>\n",
       "  </tbody>\n",
       "</table>\n",
       "<p>16 rows × 251 columns</p>\n",
       "</div>"
      ],
      "text/plain": [
       "          avg_delta_1  avg_delta_10  avg_delta_11  avg_delta_12  avg_delta_2  \\\n",
       "xid yr                                                                         \n",
       "1   2011     0.011465      0.020184      0.016488      0.015561     0.010200   \n",
       "    2012     0.019971      0.016693      0.016448      0.015341     0.012885   \n",
       "    2013     0.006767      0.011933      0.009765      0.008318     0.007910   \n",
       "    2014     0.005978      0.008389      0.006004      0.005942     0.005951   \n",
       "    2015     0.005860      0.010080      0.008382      0.008599     0.006384   \n",
       "2   2013     0.006252      0.013398      0.012707      0.006940     0.009956   \n",
       "    2014     0.007703      0.009313      0.007936      0.008397     0.008740   \n",
       "    2015     0.007336      0.016714      0.016052      0.017187     0.009123   \n",
       "5   2011     0.006696      0.020336      0.020302      0.019145     0.009511   \n",
       "    2012     0.006894      0.017760      0.023338      0.015164     0.010595   \n",
       "    2013     0.005176      0.009617      0.011987      0.009186     0.008932   \n",
       "    2014     0.006068      0.007053      0.006597      0.007592     0.006642   \n",
       "    2015     0.006151      0.008227      0.007212      0.007084     0.005899   \n",
       "6   2013     0.006888      0.008065      0.008370      0.011814     0.011920   \n",
       "    2014     0.008036      0.011349      0.009518      0.010209     0.008919   \n",
       "    2015     0.009639      0.013893      0.018766      0.011782     0.008995   \n",
       "\n",
       "          avg_delta_3  avg_delta_4  avg_delta_5  avg_delta_6  avg_delta_7  \\\n",
       "xid yr                                                                      \n",
       "1   2011     0.007440     0.008448     0.007047     0.010824     0.011419   \n",
       "    2012     0.010838     0.012106     0.009150     0.011173     0.009557   \n",
       "    2013     0.007799     0.007316     0.008290     0.011233     0.011582   \n",
       "    2014     0.008827     0.005758     0.008598     0.006821     0.009551   \n",
       "    2015     0.006802     0.006986     0.009333     0.011905     0.011127   \n",
       "2   2013     0.007558     0.007829     0.009700     0.015731     0.007186   \n",
       "    2014     0.010419     0.008445     0.008686     0.008307     0.006699   \n",
       "    2015     0.007981     0.007628     0.010111     0.007183     0.008363   \n",
       "5   2011     0.006815     0.006512     0.006974     0.009625     0.011292   \n",
       "    2012     0.006591     0.007106     0.006704     0.010129     0.011322   \n",
       "    2013     0.006034     0.005761     0.007682     0.010279     0.010423   \n",
       "    2014     0.008339     0.009026     0.008811     0.009468     0.008055   \n",
       "    2015     0.007578     0.008347     0.010392     0.010408     0.010713   \n",
       "6   2013     0.007965     0.006541     0.007404     0.014412     0.006016   \n",
       "    2014     0.009999     0.012457     0.007893     0.010288     0.009398   \n",
       "    2015     0.007738     0.010734     0.010512     0.009152     0.011474   \n",
       "\n",
       "            ...     thunderstorm  thunderstorm_m1  thunderstorm_m2  \\\n",
       "xid yr      ...                                                      \n",
       "1   2011    ...         0.000398         0.000475         0.002636   \n",
       "    2012    ...         0.000164         0.000400         0.004226   \n",
       "    2013    ...         0.000179         0.000280         0.000215   \n",
       "    2014    ...         0.000253         0.000226         0.000186   \n",
       "    2015    ...         0.000039         0.000019         0.000095   \n",
       "2   2013    ...         0.001387         0.000470         0.000865   \n",
       "    2014    ...         0.000662         0.000408         0.001243   \n",
       "    2015    ...         0.000036         0.000124         0.000610   \n",
       "5   2011    ...         0.000454         0.000441         0.001877   \n",
       "    2012    ...         0.000161         0.000298         0.001502   \n",
       "    2013    ...         0.000228         0.000148         0.000178   \n",
       "    2014    ...         0.000224         0.000137         0.000160   \n",
       "    2015    ...         0.000025         0.000043         0.000129   \n",
       "6   2013    ...         0.001344         0.000848         0.000911   \n",
       "    2014    ...         0.000265         0.000166         0.000603   \n",
       "    2015    ...         0.000115         0.000101         0.000248   \n",
       "\n",
       "          thunderstorm_p1  thunderstorm_p2  thunderstorm_p3   viz_max  \\\n",
       "xid yr                                                                  \n",
       "1   2011         0.000197         0.001820         0.000660  0.000346   \n",
       "    2012         0.000369         0.002747         0.000113  0.000230   \n",
       "    2013         0.000291         0.000107         0.000204  0.000136   \n",
       "    2014         0.000339         0.000217         0.000351  0.000197   \n",
       "    2015         0.000094         0.000218         0.000192  0.000112   \n",
       "2   2013         0.000294         0.000333         0.000912  0.000005   \n",
       "    2014         0.000403         0.000441         0.000795  0.001234   \n",
       "    2015         0.000113         0.000182         0.000063  0.000649   \n",
       "5   2011         0.000304         0.004168         0.000856  0.000591   \n",
       "    2012         0.000384         0.002117         0.000172  0.000103   \n",
       "    2013         0.000282         0.000131         0.000267  0.000043   \n",
       "    2014         0.000305         0.000129         0.000409  0.000172   \n",
       "    2015         0.000028         0.000081         0.000167  0.000103   \n",
       "6   2013         0.000633         0.000195         0.000701  0.000088   \n",
       "    2014         0.000452         0.000227         0.000141  0.002194   \n",
       "    2015         0.000130         0.000138         0.000060  0.000897   \n",
       "\n",
       "              week  wind_max      year  \n",
       "xid yr                                  \n",
       "1   2011  0.014188  0.004266  0.008473  \n",
       "    2012  0.008289  0.007088  0.011421  \n",
       "    2013  0.007842  0.006067  0.011022  \n",
       "    2014  0.010078  0.004901  0.005758  \n",
       "    2015  0.007507  0.004629  0.012192  \n",
       "2   2013  0.008128  0.005378  0.026045  \n",
       "    2014  0.008410  0.005930  0.006488  \n",
       "    2015  0.008375  0.005373  0.008916  \n",
       "5   2011  0.013787  0.004741  0.008496  \n",
       "    2012  0.008001  0.005879  0.011768  \n",
       "    2013  0.006971  0.005492  0.007770  \n",
       "    2014  0.011097  0.004637  0.008185  \n",
       "    2015  0.007477  0.004573  0.026821  \n",
       "6   2013  0.008688  0.005734  0.051195  \n",
       "    2014  0.008982  0.007394  0.009615  \n",
       "    2015  0.008037  0.006761  0.010112  \n",
       "\n",
       "[16 rows x 251 columns]"
      ]
     },
     "execution_count": 44,
     "metadata": {},
     "output_type": "execute_result"
    }
   ],
   "source": [
    "impall"
   ]
  },
  {
   "cell_type": "code",
   "execution_count": 45,
   "metadata": {
    "collapsed": true
   },
   "outputs": [],
   "source": [
    "avgdelta_cols = [col for col in impall.columns.values if 'avg_delta' in col]"
   ]
  },
  {
   "cell_type": "code",
   "execution_count": 46,
   "metadata": {
    "collapsed": false
   },
   "outputs": [],
   "source": [
    "impall['trend'] = impall[avgdelta_cols].sum(1)"
   ]
  },
  {
   "cell_type": "code",
   "execution_count": 47,
   "metadata": {
    "collapsed": true
   },
   "outputs": [],
   "source": [
    "event_cols = [col for col in impall.columns.values if 'event' in col]"
   ]
  },
  {
   "cell_type": "code",
   "execution_count": 48,
   "metadata": {
    "collapsed": true
   },
   "outputs": [],
   "source": [
    "impall['event'] = impall[event_cols].sum(1)"
   ]
  },
  {
   "cell_type": "code",
   "execution_count": 49,
   "metadata": {
    "collapsed": false
   },
   "outputs": [
    {
     "data": {
      "text/plain": [
       "xid  yr  \n",
       "1    2011    0.143526\n",
       "     2012    0.160355\n",
       "     2013    0.115073\n",
       "     2014    0.103250\n",
       "     2015    0.111129\n",
       "2    2013    0.121816\n",
       "     2014    0.104195\n",
       "     2015    0.133383\n",
       "5    2011    0.152830\n",
       "     2012    0.142802\n",
       "     2013    0.111836\n",
       "     2014    0.116682\n",
       "     2015    0.113432\n",
       "6    2013    0.107453\n",
       "     2014    0.119367\n",
       "     2015    0.149405\n",
       "Name: trend, dtype: float64"
      ]
     },
     "execution_count": 49,
     "metadata": {},
     "output_type": "execute_result"
    }
   ],
   "source": [
    "impall.trend"
   ]
  },
  {
   "cell_type": "code",
   "execution_count": 50,
   "metadata": {
    "collapsed": false
   },
   "outputs": [
    {
     "data": {
      "text/plain": [
       "xid  yr  \n",
       "1    2011    0.097278\n",
       "     2012    0.119805\n",
       "     2013    0.095052\n",
       "     2014    0.068001\n",
       "     2015    0.072147\n",
       "2    2013    0.133077\n",
       "     2014    0.122701\n",
       "     2015    0.121989\n",
       "5    2011    0.083559\n",
       "     2012    0.095581\n",
       "     2013    0.089317\n",
       "     2014    0.066327\n",
       "     2015    0.072583\n",
       "6    2013    0.127205\n",
       "     2014    0.115929\n",
       "     2015    0.106734\n",
       "Name: event, dtype: float64"
      ]
     },
     "execution_count": 50,
     "metadata": {},
     "output_type": "execute_result"
    }
   ],
   "source": [
    "impall.event"
   ]
  },
  {
   "cell_type": "code",
   "execution_count": 51,
   "metadata": {
    "collapsed": false
   },
   "outputs": [
    {
     "data": {
      "text/plain": [
       "xid  yr  \n",
       "1    2011    0.498811\n",
       "     2012    0.483419\n",
       "     2013    0.564062\n",
       "     2014    0.597598\n",
       "     2015    0.570534\n",
       "2    2013    0.463536\n",
       "     2014    0.503568\n",
       "     2015    0.482101\n",
       "5    2011    0.517502\n",
       "     2012    0.538093\n",
       "     2013    0.578162\n",
       "     2014    0.578625\n",
       "     2015    0.565511\n",
       "6    2013    0.452839\n",
       "     2014    0.494267\n",
       "     2015    0.478722\n",
       "Name: minofday, dtype: float64"
      ]
     },
     "execution_count": 51,
     "metadata": {},
     "output_type": "execute_result"
    }
   ],
   "source": [
    "impall.minofday"
   ]
  },
  {
   "cell_type": "code",
   "execution_count": 52,
   "metadata": {
    "collapsed": false
   },
   "outputs": [
    {
     "data": {
      "text/plain": [
       "xid  yr  \n",
       "1    2011    0.057002\n",
       "     2012    0.035749\n",
       "     2013    0.053019\n",
       "     2014    0.075991\n",
       "     2015    0.077879\n",
       "2    2013    0.077781\n",
       "     2014    0.036059\n",
       "     2015    0.040897\n",
       "5    2011    0.065893\n",
       "     2012    0.048127\n",
       "     2013    0.062080\n",
       "     2014    0.073981\n",
       "     2015    0.069948\n",
       "6    2013    0.079690\n",
       "     2014    0.021582\n",
       "     2015    0.029407\n",
       "Name: dayofweek, dtype: float64"
      ]
     },
     "execution_count": 52,
     "metadata": {},
     "output_type": "execute_result"
    }
   ],
   "source": [
    "impall['dayofweek']"
   ]
  },
  {
   "cell_type": "code",
   "execution_count": 53,
   "metadata": {
    "collapsed": false
   },
   "outputs": [
    {
     "data": {
      "text/plain": [
       "xid  yr  \n",
       "1    2011    0.035891\n",
       "     2012    0.027484\n",
       "     2013    0.026307\n",
       "     2014    0.025068\n",
       "     2015    0.027687\n",
       "2    2013    0.041127\n",
       "     2014    0.022517\n",
       "     2015    0.025558\n",
       "5    2011    0.036045\n",
       "     2012    0.027150\n",
       "     2013    0.021748\n",
       "     2014    0.028939\n",
       "     2015    0.042192\n",
       "6    2013    0.069637\n",
       "     2014    0.026480\n",
       "     2015    0.027092\n",
       "dtype: float64"
      ]
     },
     "execution_count": 53,
     "metadata": {},
     "output_type": "execute_result"
    }
   ],
   "source": [
    "impall[['month', 'week', 'year']].sum(1)"
   ]
  },
  {
   "cell_type": "code",
   "execution_count": 54,
   "metadata": {
    "collapsed": false
   },
   "outputs": [],
   "source": [
    "weather_cols = [col for col in impall.columns.values if 'rain' in col or 'precip' in col or 'thund' in col or \n",
    "              'snow' in col or 'fog' in col or 'temp' in col or 'viz' in col or 'wind' in col]"
   ]
  },
  {
   "cell_type": "code",
   "execution_count": 55,
   "metadata": {
    "collapsed": true
   },
   "outputs": [],
   "source": [
    "impall['weather'] = impall[weather_cols].sum(1)"
   ]
  },
  {
   "cell_type": "code",
   "execution_count": 56,
   "metadata": {
    "collapsed": false
   },
   "outputs": [],
   "source": [
    "north = impall.loc[[2, 6], :]\n",
    "\n",
    "south = impall.loc[([1, 5], [2013, 2014, 2015]),:]"
   ]
  },
  {
   "cell_type": "code",
   "execution_count": 57,
   "metadata": {
    "collapsed": false
   },
   "outputs": [
    {
     "data": {
      "text/plain": [
       "0.12260308269741332"
      ]
     },
     "execution_count": 57,
     "metadata": {},
     "output_type": "execute_result"
    }
   ],
   "source": [
    "north.trend.mean()"
   ]
  },
  {
   "cell_type": "code",
   "execution_count": 58,
   "metadata": {
    "collapsed": false
   },
   "outputs": [
    {
     "data": {
      "text/plain": [
       "0.11190019745717501"
      ]
     },
     "execution_count": 58,
     "metadata": {},
     "output_type": "execute_result"
    }
   ],
   "source": [
    "south.trend.mean()"
   ]
  },
  {
   "cell_type": "code",
   "execution_count": 59,
   "metadata": {
    "collapsed": false
   },
   "outputs": [
    {
     "data": {
      "text/plain": [
       "0.12127232249014323"
      ]
     },
     "execution_count": 59,
     "metadata": {},
     "output_type": "execute_result"
    }
   ],
   "source": [
    "north.event.mean()"
   ]
  },
  {
   "cell_type": "code",
   "execution_count": 60,
   "metadata": {
    "collapsed": false
   },
   "outputs": [
    {
     "data": {
      "text/plain": [
       "0.07723783060781812"
      ]
     },
     "execution_count": 60,
     "metadata": {},
     "output_type": "execute_result"
    }
   ],
   "source": [
    "south.event.mean()"
   ]
  },
  {
   "cell_type": "code",
   "execution_count": 61,
   "metadata": {
    "collapsed": false
   },
   "outputs": [
    {
     "data": {
      "text/plain": [
       "0.4791721338135"
      ]
     },
     "execution_count": 61,
     "metadata": {},
     "output_type": "execute_result"
    }
   ],
   "source": [
    "north.minofday.mean()"
   ]
  },
  {
   "cell_type": "code",
   "execution_count": 62,
   "metadata": {
    "collapsed": false
   },
   "outputs": [
    {
     "data": {
      "text/plain": [
       "0.5757486927023334"
      ]
     },
     "execution_count": 62,
     "metadata": {},
     "output_type": "execute_result"
    }
   ],
   "source": [
    "south.minofday.mean()"
   ]
  },
  {
   "cell_type": "code",
   "execution_count": 63,
   "metadata": {
    "collapsed": false
   },
   "outputs": [
    {
     "data": {
      "text/plain": [
       "0.08297104410148166"
      ]
     },
     "execution_count": 63,
     "metadata": {},
     "output_type": "execute_result"
    }
   ],
   "source": [
    "north[['dayofweek', 'month', 'week', 'year']].sum(1).mean()"
   ]
  },
  {
   "cell_type": "code",
   "execution_count": 64,
   "metadata": {
    "collapsed": false
   },
   "outputs": [
    {
     "data": {
      "text/plain": [
       "0.09747333570488"
      ]
     },
     "execution_count": 64,
     "metadata": {},
     "output_type": "execute_result"
    }
   ],
   "source": [
    "south[['dayofweek', 'month', 'week', 'year']].sum(1).mean()"
   ]
  },
  {
   "cell_type": "code",
   "execution_count": 65,
   "metadata": {
    "collapsed": false
   },
   "outputs": [
    {
     "data": {
      "text/plain": [
       "0.13763994352787054"
      ]
     },
     "execution_count": 65,
     "metadata": {},
     "output_type": "execute_result"
    }
   ],
   "source": [
    "south.weather.mean()"
   ]
  },
  {
   "cell_type": "code",
   "execution_count": 66,
   "metadata": {
    "collapsed": false
   },
   "outputs": [
    {
     "data": {
      "text/plain": [
       "0.19398141689742232"
      ]
     },
     "execution_count": 66,
     "metadata": {},
     "output_type": "execute_result"
    }
   ],
   "source": [
    "north.weather.mean()"
   ]
  },
  {
   "cell_type": "code",
   "execution_count": 67,
   "metadata": {
    "collapsed": false
   },
   "outputs": [
    {
     "data": {
      "text/plain": [
       "fog                0.002835\n",
       "precip             0.004553\n",
       "precip_m1          0.004560\n",
       "precip_m2          0.005023\n",
       "precip_p1          0.006425\n",
       "precip_p2          0.005320\n",
       "precip_p3          0.004976\n",
       "rain               0.003879\n",
       "rain_m1            0.004807\n",
       "rain_m2            0.003846\n",
       "rain_p1            0.004046\n",
       "rain_p2            0.004285\n",
       "rain_p3            0.003852\n",
       "snow               0.000988\n",
       "snow_m1            0.001542\n",
       "snow_m2            0.000529\n",
       "snow_p1            0.000565\n",
       "snow_p2            0.001413\n",
       "snow_p3            0.000522\n",
       "temp_max           0.008632\n",
       "temp_max_m1        0.006348\n",
       "temp_max_m2        0.006556\n",
       "temp_max_p1        0.006978\n",
       "temp_max_p2        0.006815\n",
       "temp_max_p3        0.008452\n",
       "temp_mean          0.006598\n",
       "temp_mean_m1       0.005464\n",
       "temp_mean_m2       0.006328\n",
       "temp_mean_p1       0.006762\n",
       "temp_mean_p2       0.006420\n",
       "temp_mean_p3       0.006648\n",
       "temp_min           0.006061\n",
       "temp_min_m1        0.006502\n",
       "temp_min_m2        0.007130\n",
       "temp_min_p1        0.006678\n",
       "temp_min_p2        0.005637\n",
       "temp_min_p3        0.006297\n",
       "thunderstorm       0.000635\n",
       "thunderstorm_m1    0.000353\n",
       "thunderstorm_m2    0.000747\n",
       "thunderstorm_p1    0.000338\n",
       "thunderstorm_p2    0.000253\n",
       "thunderstorm_p3    0.000445\n",
       "viz_max            0.000845\n",
       "wind_max           0.006095\n",
       "dtype: float64"
      ]
     },
     "execution_count": 67,
     "metadata": {},
     "output_type": "execute_result"
    }
   ],
   "source": [
    "north[weather_cols].mean(0)"
   ]
  },
  {
   "cell_type": "code",
   "execution_count": 68,
   "metadata": {
    "collapsed": false
   },
   "outputs": [
    {
     "data": {
      "text/plain": [
       "fog                0.002835\n",
       "precip             0.004553\n",
       "precip_m1          0.004560\n",
       "precip_m2          0.005023\n",
       "precip_p1          0.006425\n",
       "precip_p2          0.005320\n",
       "precip_p3          0.004976\n",
       "rain               0.003879\n",
       "rain_m1            0.004807\n",
       "rain_m2            0.003846\n",
       "rain_p1            0.004046\n",
       "rain_p2            0.004285\n",
       "rain_p3            0.003852\n",
       "snow               0.000988\n",
       "snow_m1            0.001542\n",
       "snow_m2            0.000529\n",
       "snow_p1            0.000565\n",
       "snow_p2            0.001413\n",
       "snow_p3            0.000522\n",
       "temp_max           0.008632\n",
       "temp_max_m1        0.006348\n",
       "temp_max_m2        0.006556\n",
       "temp_max_p1        0.006978\n",
       "temp_max_p2        0.006815\n",
       "temp_max_p3        0.008452\n",
       "temp_mean          0.006598\n",
       "temp_mean_m1       0.005464\n",
       "temp_mean_m2       0.006328\n",
       "temp_mean_p1       0.006762\n",
       "temp_mean_p2       0.006420\n",
       "temp_mean_p3       0.006648\n",
       "temp_min           0.006061\n",
       "temp_min_m1        0.006502\n",
       "temp_min_m2        0.007130\n",
       "temp_min_p1        0.006678\n",
       "temp_min_p2        0.005637\n",
       "temp_min_p3        0.006297\n",
       "thunderstorm       0.000635\n",
       "thunderstorm_m1    0.000353\n",
       "thunderstorm_m2    0.000747\n",
       "thunderstorm_p1    0.000338\n",
       "thunderstorm_p2    0.000253\n",
       "thunderstorm_p3    0.000445\n",
       "viz_max            0.000845\n",
       "wind_max           0.006095\n",
       "dtype: float64"
      ]
     },
     "execution_count": 68,
     "metadata": {},
     "output_type": "execute_result"
    }
   ],
   "source": [
    "north[weather_cols].mean(0)"
   ]
  },
  {
   "cell_type": "markdown",
   "metadata": {},
   "source": [
    "# Top holidays"
   ]
  },
  {
   "cell_type": "code",
   "execution_count": 74,
   "metadata": {
    "collapsed": false
   },
   "outputs": [
    {
     "data": {
      "text/plain": [
       "event_victoria                 0.009638\n",
       "event_lead2_labor              0.004943\n",
       "event_lead1_thanksgiving       0.004817\n",
       "event_lead2_xmas               0.004758\n",
       "event_civic                    0.004592\n",
       "event_lead2_memorial           0.003637\n",
       "event_lead1_labor              0.003626\n",
       "event_lag1_veterans            0.003479\n",
       "event_lead1_victoria           0.003214\n",
       "event_lead2_newyears           0.003021\n",
       "event_lag1_memorial            0.002828\n",
       "event_ca_thanksgiving          0.002706\n",
       "event_lead2_president          0.002516\n",
       "event_lag1_independence        0.002044\n",
       "event_lag4_canada              0.002013\n",
       "event_lead2_independence       0.001909\n",
       "event_lead1_xmas               0.001856\n",
       "event_lag1_canada              0.001834\n",
       "event_lag1_thanksgiving        0.001809\n",
       "event_lag1_Aug_16              0.001780\n",
       "event_lead3_xmas               0.001739\n",
       "event_lead1_ca_thanksgiving    0.001700\n",
       "event_lag1_xmas                0.001674\n",
       "event_lead3_labor              0.001649\n",
       "event_labor                    0.001543\n",
       "event_veterans                 0.001499\n",
       "event_lead1_newyears           0.001468\n",
       "event_Aug_16                   0.001416\n",
       "event_lead4_halloween          0.001277\n",
       "event_lead2_Aug_16             0.001252\n",
       "                                 ...   \n",
       "event_lead3_Mar_2ndSat         0.000065\n",
       "event_lead1_Mar_2ndSat         0.000063\n",
       "event_lag4_president           0.000063\n",
       "event_lead2_Sep_3rdFri         0.000060\n",
       "event_lead2_Jul_3rdSat         0.000059\n",
       "event_lead2_halloween          0.000056\n",
       "event_lead4_Jul_3rdSat         0.000055\n",
       "event_lag2_labor               0.000053\n",
       "event_lead1_Sep_3rdFri         0.000051\n",
       "event_lag3_newyears            0.000051\n",
       "event_lag1_Mar_2ndSat          0.000051\n",
       "event_lag1_mothers             0.000051\n",
       "event_lead3_goodfriday         0.000050\n",
       "event_lead3_mothers            0.000050\n",
       "event_lead3_Sep_3rdFri         0.000045\n",
       "event_lag2_Mar_2ndSat          0.000044\n",
       "event_lag3_Jul_3rdSat          0.000044\n",
       "event_lag4_Sep_3rdFri          0.000041\n",
       "event_mlk                      0.000041\n",
       "event_lead4_veterans           0.000040\n",
       "event_lag1_mlk                 0.000040\n",
       "event_lag3_thanksgiving        0.000038\n",
       "event_lead1_Apr_17             0.000036\n",
       "event_newyears                 0.000035\n",
       "event_lead1_mlk                0.000034\n",
       "event_lag1_president           0.000031\n",
       "event_lag2_mlk                 0.000029\n",
       "event_lead4_mlk                0.000025\n",
       "event_lag3_president           0.000024\n",
       "event_lag4_newyears            0.000022\n",
       "dtype: float64"
      ]
     },
     "execution_count": 74,
     "metadata": {},
     "output_type": "execute_result"
    }
   ],
   "source": [
    "north[event_cols].mean().sort_values(ascending=False)"
   ]
  },
  {
   "cell_type": "code",
   "execution_count": 75,
   "metadata": {
    "collapsed": false
   },
   "outputs": [
    {
     "data": {
      "text/plain": [
       "event_goodfriday               0.007435\n",
       "event_lag2_xmas                0.003158\n",
       "event_lead2_labor              0.002782\n",
       "event_lead2_civic              0.002658\n",
       "event_lead1_goodfriday         0.002398\n",
       "event_lead2_victoria           0.002369\n",
       "event_veterans                 0.001866\n",
       "event_memorial                 0.001561\n",
       "event_lead2_newyears           0.001293\n",
       "event_lead2_memorial           0.001243\n",
       "event_lag1_newyears            0.001229\n",
       "event_lead2_ca_thanksgiving    0.001132\n",
       "event_lag1_xmas                0.001124\n",
       "event_lead3_ca_thanksgiving    0.001027\n",
       "event_lead3_independence       0.001012\n",
       "event_lead4_civic              0.000987\n",
       "event_canada                   0.000982\n",
       "event_lag1_thanksgiving        0.000962\n",
       "event_president                0.000909\n",
       "event_lead1_ca_thanksgiving    0.000853\n",
       "event_lag2_goodfriday          0.000815\n",
       "event_thanksgiving             0.000812\n",
       "event_lead1_civic              0.000732\n",
       "event_xmas                     0.000716\n",
       "event_lead2_xmas               0.000708\n",
       "event_lead3_veterans           0.000696\n",
       "event_lead2_goodfriday         0.000646\n",
       "event_lead1_veterans           0.000626\n",
       "event_lead2_veterans           0.000613\n",
       "event_lead4_victoria           0.000603\n",
       "                                 ...   \n",
       "event_lag2_halloween           0.000082\n",
       "event_lag4_veterans            0.000082\n",
       "event_lead2_Mar_2ndSat         0.000082\n",
       "event_lag2_labor               0.000080\n",
       "event_lag2_newyears            0.000078\n",
       "event_lead2_mlk                0.000077\n",
       "event_lag3_newyears            0.000077\n",
       "event_lead3_Mar_2ndSat         0.000071\n",
       "event_lag4_labor               0.000069\n",
       "event_lag4_thanksgiving        0.000068\n",
       "event_lag3_goodfriday          0.000068\n",
       "event_lead2_Jul_3rdSat         0.000067\n",
       "event_lag2_Mar_2ndSat          0.000063\n",
       "event_lead1_Sep_3rdFri         0.000063\n",
       "event_victoria                 0.000062\n",
       "event_lead4_mlk                0.000061\n",
       "event_lag1_mlk                 0.000054\n",
       "event_lead4_thanksgiving       0.000054\n",
       "event_lead3_thanksgiving       0.000050\n",
       "event_lag3_labor               0.000047\n",
       "event_lag4_Mar_2ndSat          0.000046\n",
       "event_lead4_Mar_2ndSat         0.000045\n",
       "event_lead2_halloween          0.000045\n",
       "event_lead2_thanksgiving       0.000038\n",
       "event_lag2_president           0.000037\n",
       "event_lag4_mlk                 0.000029\n",
       "event_lag4_newyears            0.000029\n",
       "event_lag2_mlk                 0.000025\n",
       "event_lead1_mlk                0.000022\n",
       "event_lag3_mlk                 0.000021\n",
       "dtype: float64"
      ]
     },
     "execution_count": 75,
     "metadata": {},
     "output_type": "execute_result"
    }
   ],
   "source": [
    "south[event_cols].mean().sort_values(ascending=False)"
   ]
  },
  {
   "cell_type": "markdown",
   "metadata": {},
   "source": [
    "## Conclusions\n",
    "August 16 is the only new holiday that has a strong effect, but not so strong as to justify addition to model.  The effect only appies in last two years, so may be ephemeral."
   ]
  },
  {
   "cell_type": "code",
   "execution_count": null,
   "metadata": {
    "collapsed": true
   },
   "outputs": [],
   "source": []
  }
 ],
 "metadata": {
  "kernelspec": {
   "display_name": "Python 2",
   "language": "python",
   "name": "python2"
  },
  "language_info": {
   "codemirror_mode": {
    "name": "ipython",
    "version": 2
   },
   "file_extension": ".py",
   "mimetype": "text/x-python",
   "name": "python",
   "nbconvert_exporter": "python",
   "pygments_lexer": "ipython2",
   "version": "2.7.11"
  }
 },
 "nbformat": 4,
 "nbformat_minor": 0
}

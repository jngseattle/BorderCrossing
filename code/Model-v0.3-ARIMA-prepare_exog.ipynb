{
 "cells": [
  {
   "cell_type": "code",
   "execution_count": 78,
   "metadata": {
    "collapsed": true
   },
   "outputs": [],
   "source": [
    "import pandas as pd\n",
    "import matplotlib.pyplot as plt\n",
    "%matplotlib inline\n",
    "from dbhelper import pd_query, PgDB\n",
    "from BorderModel import create_dummies"
   ]
  },
  {
   "cell_type": "code",
   "execution_count": 159,
   "metadata": {
    "collapsed": false
   },
   "outputs": [],
   "source": [
    "query = '''\n",
    "        select \n",
    "            d.date,\n",
    "            year,\n",
    "            month,\n",
    "            dayofmonth,\n",
    "            dayofweek,\n",
    "            minofday,\n",
    "            newyears,\n",
    "            us_mlk,\n",
    "            us_washington,\n",
    "            us_memorial,\n",
    "            us_independence,\n",
    "            us_columbus,\n",
    "            us_veterans,\n",
    "            us_thanksgiving,\n",
    "            xmas,\n",
    "            ca_goodfriday,\n",
    "            ca_victoria,\n",
    "            ca_canada,\n",
    "            ca_civic,\n",
    "            ca_thanksgiving,\n",
    "            ca_boxing,\n",
    "            ca_family\n",
    "        from datefeatures d\n",
    "        left join mungedata m on m.date = d.date \n",
    "            and crossing_id = 1\n",
    "        left join publicholiday h on d.date::timestamp::date = h.date\n",
    "        where\n",
    "            d.date >= '2010-11-01'\n",
    "            and d.date < '2016-1-1'\n",
    "            and (minute=0 or minute=30)\n",
    "        order by d.date;\n",
    "        '''\n",
    "\n",
    "df = pd_query(query)"
   ]
  },
  {
   "cell_type": "code",
   "execution_count": 168,
   "metadata": {
    "collapsed": true
   },
   "outputs": [],
   "source": [
    "query = '''\n",
    "        select \n",
    "            d.date,\n",
    "            year,\n",
    "            month,\n",
    "            dayofmonth,\n",
    "            dayofweek,\n",
    "            minofday\n",
    "        from datefeatures d\n",
    "        left join mungedata m on m.date = d.date \n",
    "            and crossing_id = 1\n",
    "        left join publicholiday h on d.date::timestamp::date = h.date\n",
    "        where\n",
    "            d.date >= '2010-11-01'\n",
    "            and d.date < '2016-1-1'\n",
    "            and (minute=0 or minute=30)\n",
    "        order by d.date;\n",
    "        '''\n",
    "\n",
    "df = pd_query(query)"
   ]
  },
  {
   "cell_type": "code",
   "execution_count": 169,
   "metadata": {
    "collapsed": true
   },
   "outputs": [],
   "source": [
    "categoricals = ['year', 'month', 'dayofmonth', 'dayofweek', 'minofday']\n",
    "# categoricals = ['dayofweek', 'minofday']"
   ]
  },
  {
   "cell_type": "code",
   "execution_count": 170,
   "metadata": {
    "collapsed": false
   },
   "outputs": [],
   "source": [
    "df1 = create_dummies(df, categoricals)"
   ]
  },
  {
   "cell_type": "code",
   "execution_count": 171,
   "metadata": {
    "collapsed": false
   },
   "outputs": [
    {
     "data": {
      "text/html": [
       "<div>\n",
       "<table border=\"1\" class=\"dataframe\">\n",
       "  <thead>\n",
       "    <tr style=\"text-align: right;\">\n",
       "      <th></th>\n",
       "      <th>year_2010</th>\n",
       "      <th>year_2011</th>\n",
       "      <th>year_2012</th>\n",
       "      <th>year_2013</th>\n",
       "      <th>year_2014</th>\n",
       "      <th>month_1</th>\n",
       "      <th>month_2</th>\n",
       "      <th>month_3</th>\n",
       "      <th>month_4</th>\n",
       "      <th>month_5</th>\n",
       "      <th>...</th>\n",
       "      <th>minofday_1110</th>\n",
       "      <th>minofday_1140</th>\n",
       "      <th>minofday_1170</th>\n",
       "      <th>minofday_1200</th>\n",
       "      <th>minofday_1230</th>\n",
       "      <th>minofday_1260</th>\n",
       "      <th>minofday_1290</th>\n",
       "      <th>minofday_1320</th>\n",
       "      <th>minofday_1350</th>\n",
       "      <th>minofday_1380</th>\n",
       "    </tr>\n",
       "  </thead>\n",
       "  <tbody>\n",
       "    <tr>\n",
       "      <th>0</th>\n",
       "      <td>1</td>\n",
       "      <td>0</td>\n",
       "      <td>0</td>\n",
       "      <td>0</td>\n",
       "      <td>0</td>\n",
       "      <td>0</td>\n",
       "      <td>0</td>\n",
       "      <td>0</td>\n",
       "      <td>0</td>\n",
       "      <td>0</td>\n",
       "      <td>...</td>\n",
       "      <td>0</td>\n",
       "      <td>0</td>\n",
       "      <td>0</td>\n",
       "      <td>0</td>\n",
       "      <td>0</td>\n",
       "      <td>0</td>\n",
       "      <td>0</td>\n",
       "      <td>0</td>\n",
       "      <td>0</td>\n",
       "      <td>0</td>\n",
       "    </tr>\n",
       "    <tr>\n",
       "      <th>1</th>\n",
       "      <td>1</td>\n",
       "      <td>0</td>\n",
       "      <td>0</td>\n",
       "      <td>0</td>\n",
       "      <td>0</td>\n",
       "      <td>0</td>\n",
       "      <td>0</td>\n",
       "      <td>0</td>\n",
       "      <td>0</td>\n",
       "      <td>0</td>\n",
       "      <td>...</td>\n",
       "      <td>0</td>\n",
       "      <td>0</td>\n",
       "      <td>0</td>\n",
       "      <td>0</td>\n",
       "      <td>0</td>\n",
       "      <td>0</td>\n",
       "      <td>0</td>\n",
       "      <td>0</td>\n",
       "      <td>0</td>\n",
       "      <td>0</td>\n",
       "    </tr>\n",
       "    <tr>\n",
       "      <th>2</th>\n",
       "      <td>1</td>\n",
       "      <td>0</td>\n",
       "      <td>0</td>\n",
       "      <td>0</td>\n",
       "      <td>0</td>\n",
       "      <td>0</td>\n",
       "      <td>0</td>\n",
       "      <td>0</td>\n",
       "      <td>0</td>\n",
       "      <td>0</td>\n",
       "      <td>...</td>\n",
       "      <td>0</td>\n",
       "      <td>0</td>\n",
       "      <td>0</td>\n",
       "      <td>0</td>\n",
       "      <td>0</td>\n",
       "      <td>0</td>\n",
       "      <td>0</td>\n",
       "      <td>0</td>\n",
       "      <td>0</td>\n",
       "      <td>0</td>\n",
       "    </tr>\n",
       "    <tr>\n",
       "      <th>3</th>\n",
       "      <td>1</td>\n",
       "      <td>0</td>\n",
       "      <td>0</td>\n",
       "      <td>0</td>\n",
       "      <td>0</td>\n",
       "      <td>0</td>\n",
       "      <td>0</td>\n",
       "      <td>0</td>\n",
       "      <td>0</td>\n",
       "      <td>0</td>\n",
       "      <td>...</td>\n",
       "      <td>0</td>\n",
       "      <td>0</td>\n",
       "      <td>0</td>\n",
       "      <td>0</td>\n",
       "      <td>0</td>\n",
       "      <td>0</td>\n",
       "      <td>0</td>\n",
       "      <td>0</td>\n",
       "      <td>0</td>\n",
       "      <td>0</td>\n",
       "    </tr>\n",
       "    <tr>\n",
       "      <th>4</th>\n",
       "      <td>1</td>\n",
       "      <td>0</td>\n",
       "      <td>0</td>\n",
       "      <td>0</td>\n",
       "      <td>0</td>\n",
       "      <td>0</td>\n",
       "      <td>0</td>\n",
       "      <td>0</td>\n",
       "      <td>0</td>\n",
       "      <td>0</td>\n",
       "      <td>...</td>\n",
       "      <td>0</td>\n",
       "      <td>0</td>\n",
       "      <td>0</td>\n",
       "      <td>0</td>\n",
       "      <td>0</td>\n",
       "      <td>0</td>\n",
       "      <td>0</td>\n",
       "      <td>0</td>\n",
       "      <td>0</td>\n",
       "      <td>0</td>\n",
       "    </tr>\n",
       "  </tbody>\n",
       "</table>\n",
       "<p>5 rows × 99 columns</p>\n",
       "</div>"
      ],
      "text/plain": [
       "   year_2010  year_2011  year_2012  year_2013  year_2014  month_1  month_2  \\\n",
       "0          1          0          0          0          0        0        0   \n",
       "1          1          0          0          0          0        0        0   \n",
       "2          1          0          0          0          0        0        0   \n",
       "3          1          0          0          0          0        0        0   \n",
       "4          1          0          0          0          0        0        0   \n",
       "\n",
       "   month_3  month_4  month_5      ...        minofday_1110  minofday_1140  \\\n",
       "0        0        0        0      ...                    0              0   \n",
       "1        0        0        0      ...                    0              0   \n",
       "2        0        0        0      ...                    0              0   \n",
       "3        0        0        0      ...                    0              0   \n",
       "4        0        0        0      ...                    0              0   \n",
       "\n",
       "   minofday_1170  minofday_1200  minofday_1230  minofday_1260  minofday_1290  \\\n",
       "0              0              0              0              0              0   \n",
       "1              0              0              0              0              0   \n",
       "2              0              0              0              0              0   \n",
       "3              0              0              0              0              0   \n",
       "4              0              0              0              0              0   \n",
       "\n",
       "   minofday_1320  minofday_1350  minofday_1380  \n",
       "0              0              0              0  \n",
       "1              0              0              0  \n",
       "2              0              0              0  \n",
       "3              0              0              0  \n",
       "4              0              0              0  \n",
       "\n",
       "[5 rows x 99 columns]"
      ]
     },
     "execution_count": 171,
     "metadata": {},
     "output_type": "execute_result"
    }
   ],
   "source": [
    "df1.head()"
   ]
  },
  {
   "cell_type": "code",
   "execution_count": 172,
   "metadata": {
    "collapsed": false
   },
   "outputs": [],
   "source": [
    "df2 = df.drop(categoricals, axis=1).join(df1)"
   ]
  },
  {
   "cell_type": "code",
   "execution_count": 173,
   "metadata": {
    "collapsed": false
   },
   "outputs": [
    {
     "data": {
      "text/plain": [
       "array(['date', 'year_2010', 'year_2011', 'year_2012', 'year_2013',\n",
       "       'year_2014', 'month_1', 'month_2', 'month_3', 'month_4', 'month_5',\n",
       "       'month_6', 'month_7', 'month_8', 'month_9', 'month_10', 'month_11',\n",
       "       'dayofmonth_1', 'dayofmonth_2', 'dayofmonth_3', 'dayofmonth_4',\n",
       "       'dayofmonth_5', 'dayofmonth_6', 'dayofmonth_7', 'dayofmonth_8',\n",
       "       'dayofmonth_9', 'dayofmonth_10', 'dayofmonth_11', 'dayofmonth_12',\n",
       "       'dayofmonth_13', 'dayofmonth_14', 'dayofmonth_15', 'dayofmonth_16',\n",
       "       'dayofmonth_17', 'dayofmonth_18', 'dayofmonth_19', 'dayofmonth_20',\n",
       "       'dayofmonth_21', 'dayofmonth_22', 'dayofmonth_23', 'dayofmonth_24',\n",
       "       'dayofmonth_25', 'dayofmonth_26', 'dayofmonth_27', 'dayofmonth_28',\n",
       "       'dayofmonth_29', 'dayofmonth_30', 'dayofweek_0', 'dayofweek_1',\n",
       "       'dayofweek_2', 'dayofweek_3', 'dayofweek_4', 'dayofweek_5',\n",
       "       'minofday_0', 'minofday_30', 'minofday_60', 'minofday_90',\n",
       "       'minofday_120', 'minofday_150', 'minofday_180', 'minofday_210',\n",
       "       'minofday_240', 'minofday_270', 'minofday_300', 'minofday_330',\n",
       "       'minofday_360', 'minofday_390', 'minofday_420', 'minofday_450',\n",
       "       'minofday_480', 'minofday_510', 'minofday_540', 'minofday_570',\n",
       "       'minofday_600', 'minofday_630', 'minofday_660', 'minofday_690',\n",
       "       'minofday_720', 'minofday_750', 'minofday_780', 'minofday_810',\n",
       "       'minofday_840', 'minofday_870', 'minofday_900', 'minofday_930',\n",
       "       'minofday_960', 'minofday_990', 'minofday_1020', 'minofday_1050',\n",
       "       'minofday_1080', 'minofday_1110', 'minofday_1140', 'minofday_1170',\n",
       "       'minofday_1200', 'minofday_1230', 'minofday_1260', 'minofday_1290',\n",
       "       'minofday_1320', 'minofday_1350', 'minofday_1380'], dtype=object)"
      ]
     },
     "execution_count": 173,
     "metadata": {},
     "output_type": "execute_result"
    }
   ],
   "source": [
    "df2.columns.values"
   ]
  },
  {
   "cell_type": "code",
   "execution_count": 174,
   "metadata": {
    "collapsed": false
   },
   "outputs": [],
   "source": [
    "X_train = df2[df2.date < '12/1/15'].drop('date', axis=1)\n",
    "X_test = df2[df2.date >= '12/1/15'].drop('date', axis=1)"
   ]
  },
  {
   "cell_type": "code",
   "execution_count": 175,
   "metadata": {
    "collapsed": true
   },
   "outputs": [],
   "source": [
    "X_train.to_csv('../data/munge1_30_train.csv', index=False)"
   ]
  },
  {
   "cell_type": "code",
   "execution_count": 176,
   "metadata": {
    "collapsed": true
   },
   "outputs": [],
   "source": [
    "X_test.to_csv('../data/munge1_30_test.csv', index=False)"
   ]
  },
  {
   "cell_type": "code",
   "execution_count": null,
   "metadata": {
    "collapsed": true
   },
   "outputs": [],
   "source": []
  }
 ],
 "metadata": {
  "kernelspec": {
   "display_name": "Python 2",
   "language": "python",
   "name": "python2"
  },
  "language_info": {
   "codemirror_mode": {
    "name": "ipython",
    "version": 2
   },
   "file_extension": ".py",
   "mimetype": "text/x-python",
   "name": "python",
   "nbconvert_exporter": "python",
   "pygments_lexer": "ipython2",
   "version": "2.7.11"
  }
 },
 "nbformat": 4,
 "nbformat_minor": 0
}

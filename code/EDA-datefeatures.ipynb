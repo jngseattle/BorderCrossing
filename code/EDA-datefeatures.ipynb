{
 "cells": [
  {
   "cell_type": "code",
   "execution_count": 1,
   "metadata": {
    "collapsed": true
   },
   "outputs": [],
   "source": [
    "from dbhelper import PgDB\n",
    "import datetime"
   ]
  },
  {
   "cell_type": "code",
   "execution_count": 2,
   "metadata": {
    "collapsed": true
   },
   "outputs": [],
   "source": [
    "start = datetime.datetime(2007, 1, 1, 0, 0, 0)\n",
    "end = datetime.datetime(2015, 11, 30)"
   ]
  },
  {
   "cell_type": "code",
   "execution_count": 2,
   "metadata": {
    "collapsed": false
   },
   "outputs": [],
   "source": [
    "def fill_datefeatures(start, end):\n",
    "    query = '''\n",
    "            insert into datefeatures (date, year, month, dayofmonth, week, dayofweek, time, hour, minofday, minute)\n",
    "            values ('%s', %s, %s, %s, %s, %s, '%s', %s, %s, '%s')\n",
    "            '''\n",
    "\n",
    "    dt = start\n",
    "\n",
    "    with PgDB() as db:\n",
    "        while dt < end:\n",
    "            vals = (str(dt), dt.year, dt.month, dt.day, dt.isocalendar()[1], dt.weekday(), str(dt.time()),\n",
    "                    dt.hour, dt.hour*60+dt.minute, dt.minute)\n",
    "\n",
    "            db.cur.execute(query % vals)\n",
    "            db.conn.commit()\n",
    "\n",
    "            dt += datetime.timedelta(minutes=5)"
   ]
  },
  {
   "cell_type": "code",
   "execution_count": 4,
   "metadata": {
    "collapsed": false
   },
   "outputs": [],
   "source": [
    "fill_datefeatures(datetime.datetime(2017, 1, 1, 0, 0, 0), datetime.datetime(2017, 2, 1))"
   ]
  },
  {
   "cell_type": "code",
   "execution_count": null,
   "metadata": {
    "collapsed": true
   },
   "outputs": [],
   "source": []
  }
 ],
 "metadata": {
  "kernelspec": {
   "display_name": "Python 2",
   "language": "python",
   "name": "python2"
  },
  "language_info": {
   "codemirror_mode": {
    "name": "ipython",
    "version": 2
   },
   "file_extension": ".py",
   "mimetype": "text/x-python",
   "name": "python",
   "nbconvert_exporter": "python",
   "pygments_lexer": "ipython2",
   "version": "2.7.11"
  }
 },
 "nbformat": 4,
 "nbformat_minor": 0
}

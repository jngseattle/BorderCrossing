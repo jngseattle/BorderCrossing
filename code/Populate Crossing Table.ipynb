{
 "cells": [
  {
   "cell_type": "code",
   "execution_count": 1,
   "metadata": {
    "collapsed": true
   },
   "outputs": [],
   "source": [
    "import mysql.connector\n",
    "import pymongo"
   ]
  },
  {
   "cell_type": "code",
   "execution_count": 19,
   "metadata": {
    "collapsed": true
   },
   "outputs": [],
   "source": [
    "conn = mysql.connector.connect(user='dev', password='dev', host='localhost', database='border')"
   ]
  },
  {
   "cell_type": "code",
   "execution_count": 20,
   "metadata": {
    "collapsed": true
   },
   "outputs": [],
   "source": [
    "def get_directions():\n",
    "    dirdict = {}\n",
    "    cur = conn.cursor()\n",
    "\n",
    "    cur.execute(\"select id, name from direction\")\n",
    "    \n",
    "    for id, name in cur:\n",
    "        dirdict[name] = id\n",
    "        \n",
    "    cur.close()\n",
    "    \n",
    "    return dirdict\n",
    "\n",
    "dirmap = get_directions()"
   ]
  },
  {
   "cell_type": "code",
   "execution_count": 21,
   "metadata": {
    "collapsed": false
   },
   "outputs": [],
   "source": [
    "def get_lanes():\n",
    "    lanes = {}\n",
    "    cur = conn.cursor()\n",
    "\n",
    "    cur.execute(\"select id, name from lane\")\n",
    "    \n",
    "    for id, name in cur:\n",
    "        lanes[name] = id\n",
    "        \n",
    "    cur.close()\n",
    "    \n",
    "    return lanes\n",
    "\n",
    "lanemap = get_lanes()"
   ]
  },
  {
   "cell_type": "code",
   "execution_count": 22,
   "metadata": {
    "collapsed": true
   },
   "outputs": [],
   "source": [
    "client = pymongo.MongoClient()\n",
    "db = client.border"
   ]
  },
  {
   "cell_type": "code",
   "execution_count": 31,
   "metadata": {
    "collapsed": false
   },
   "outputs": [],
   "source": [
    "for crossing in db.crossing.find():\n",
    "    for lane in crossing['LaneTypes']:\n",
    "        for direction in crossing['DirectionsOfTravel']:\n",
    "            insert_crossing(crossing['ID'], lanemap[lane], dirmap[direction])\n"
   ]
  },
  {
   "cell_type": "code",
   "execution_count": 13,
   "metadata": {
    "collapsed": false
   },
   "outputs": [],
   "source": [
    "def insert_crossing(location_id, lane_id, direction_id):\n",
    "    cur = conn.cursor()\n",
    "\n",
    "    cur.execute(\"INSERT INTO crossing (location_id, lane_id, direction_id) VALUES (%s, %s, %s)\",\\\n",
    "            (location_id, lane_id, direction_id))\n",
    "    \n",
    "    conn.commit()\n",
    "    cur.close()"
   ]
  },
  {
   "cell_type": "code",
   "execution_count": 32,
   "metadata": {
    "collapsed": true
   },
   "outputs": [],
   "source": [
    "conn.close()"
   ]
  },
  {
   "cell_type": "code",
   "execution_count": null,
   "metadata": {
    "collapsed": true
   },
   "outputs": [],
   "source": []
  }
 ],
 "metadata": {
  "kernelspec": {
   "display_name": "Python 2",
   "language": "python",
   "name": "python2"
  },
  "language_info": {
   "codemirror_mode": {
    "name": "ipython",
    "version": 2
   },
   "file_extension": ".py",
   "mimetype": "text/x-python",
   "name": "python",
   "nbconvert_exporter": "python",
   "pygments_lexer": "ipython2",
   "version": "2.7.10"
  }
 },
 "nbformat": 4,
 "nbformat_minor": 0
}

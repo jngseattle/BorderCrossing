{
 "cells": [
  {
   "cell_type": "markdown",
   "metadata": {},
   "source": [
    "## New model to include neighborhood effects\n",
    "\n",
    "v0.1 did not consider neighbors, so estimates were to specific to the source data used for modeling\n",
    "\n",
    "v0.2 will consider value of wait time of neighbor points "
   ]
  },
  {
   "cell_type": "code",
   "execution_count": 24,
   "metadata": {
    "collapsed": false
   },
   "outputs": [],
   "source": [
    "from datetime import date, datetime\n",
    "from BorderModel import BorderImpute\n",
    "from sklearn.ensemble import ExtraTreesRegressor\n",
    "\n",
    "start = date(2014, 1, 1)\n",
    "end = date(2014, 3, 1)\n",
    "imputer = BorderImpute(start, end)\n",
    "\n",
    "# Get source data with neighbor features\n",
    "source_query = '''\n",
    "               select \n",
    "                   c.date,\n",
    "                   year,\n",
    "                   month,\n",
    "                   dayofweek,\n",
    "                   minofday,\n",
    "                   metric as volume,\n",
    "                   waittime\n",
    "               from crossingdata c\n",
    "               join datefeatures d\n",
    "                   on d.date = c.date\n",
    "               join mungedata m \n",
    "                   on m.date = c.date\n",
    "                   and m.crossing_id = c.crossing_id\n",
    "                   and munger_id = 2\n",
    "                   and is_waittime = false\n",
    "               where\n",
    "                   c.crossing_id=1\n",
    "                   and valid = 1\n",
    "                   and volume is not null\n",
    "                   and (minute = 0 or minute = 30)\n",
    "                order by c.date\n",
    "                limit 1000;\n",
    "               '''\n",
    "dfsource = imputer.prepare_source(source_query)"
   ]
  },
  {
   "cell_type": "code",
   "execution_count": 25,
   "metadata": {
    "collapsed": false
   },
   "outputs": [
    {
     "data": {
      "text/html": [
       "<div>\n",
       "<table border=\"1\" class=\"dataframe\">\n",
       "  <thead>\n",
       "    <tr style=\"text-align: right;\">\n",
       "      <th></th>\n",
       "      <th>year</th>\n",
       "      <th>month</th>\n",
       "      <th>dayofweek</th>\n",
       "      <th>minofday</th>\n",
       "      <th>volume</th>\n",
       "      <th>waittime</th>\n",
       "      <th>lead</th>\n",
       "      <th>lag</th>\n",
       "    </tr>\n",
       "    <tr>\n",
       "      <th>date</th>\n",
       "      <th></th>\n",
       "      <th></th>\n",
       "      <th></th>\n",
       "      <th></th>\n",
       "      <th></th>\n",
       "      <th></th>\n",
       "      <th></th>\n",
       "      <th></th>\n",
       "    </tr>\n",
       "  </thead>\n",
       "  <tbody>\n",
       "    <tr>\n",
       "      <th>2007-01-01 00:30:00</th>\n",
       "      <td>2007</td>\n",
       "      <td>1</td>\n",
       "      <td>0</td>\n",
       "      <td>30</td>\n",
       "      <td>0.501538</td>\n",
       "      <td>4</td>\n",
       "      <td>0.3</td>\n",
       "      <td>NaN</td>\n",
       "    </tr>\n",
       "    <tr>\n",
       "      <th>2007-01-01 01:00:00</th>\n",
       "      <td>2007</td>\n",
       "      <td>1</td>\n",
       "      <td>0</td>\n",
       "      <td>60</td>\n",
       "      <td>1.364060</td>\n",
       "      <td>0</td>\n",
       "      <td>0.4</td>\n",
       "      <td>4.000000</td>\n",
       "    </tr>\n",
       "    <tr>\n",
       "      <th>2007-01-01 01:30:00</th>\n",
       "      <td>2007</td>\n",
       "      <td>1</td>\n",
       "      <td>0</td>\n",
       "      <td>90</td>\n",
       "      <td>2.665500</td>\n",
       "      <td>1</td>\n",
       "      <td>0.0</td>\n",
       "      <td>1.714286</td>\n",
       "    </tr>\n",
       "    <tr>\n",
       "      <th>2007-01-01 02:00:00</th>\n",
       "      <td>2007</td>\n",
       "      <td>1</td>\n",
       "      <td>0</td>\n",
       "      <td>120</td>\n",
       "      <td>2.100310</td>\n",
       "      <td>0</td>\n",
       "      <td>0.0</td>\n",
       "      <td>1.333333</td>\n",
       "    </tr>\n",
       "    <tr>\n",
       "      <th>2007-01-01 02:30:00</th>\n",
       "      <td>2007</td>\n",
       "      <td>1</td>\n",
       "      <td>0</td>\n",
       "      <td>150</td>\n",
       "      <td>1.197660</td>\n",
       "      <td>0</td>\n",
       "      <td>0.0</td>\n",
       "      <td>0.700000</td>\n",
       "    </tr>\n",
       "  </tbody>\n",
       "</table>\n",
       "</div>"
      ],
      "text/plain": [
       "                     year  month  dayofweek  minofday    volume  waittime  \\\n",
       "date                                                                        \n",
       "2007-01-01 00:30:00  2007      1          0        30  0.501538         4   \n",
       "2007-01-01 01:00:00  2007      1          0        60  1.364060         0   \n",
       "2007-01-01 01:30:00  2007      1          0        90  2.665500         1   \n",
       "2007-01-01 02:00:00  2007      1          0       120  2.100310         0   \n",
       "2007-01-01 02:30:00  2007      1          0       150  1.197660         0   \n",
       "\n",
       "                     lead       lag  \n",
       "date                                 \n",
       "2007-01-01 00:30:00   0.3       NaN  \n",
       "2007-01-01 01:00:00   0.4  4.000000  \n",
       "2007-01-01 01:30:00   0.0  1.714286  \n",
       "2007-01-01 02:00:00   0.0  1.333333  \n",
       "2007-01-01 02:30:00   0.0  0.700000  "
      ]
     },
     "execution_count": 25,
     "metadata": {},
     "output_type": "execute_result"
    }
   ],
   "source": [
    "dfsource.head()"
   ]
  },
  {
   "cell_type": "code",
   "execution_count": 26,
   "metadata": {
    "collapsed": false
   },
   "outputs": [],
   "source": [
    "from BorderModel import BorderImpute, xy_laglead\n",
    "\n",
    "# Run model\n",
    "model = ExtraTreesRegressor(n_jobs=-1, n_estimators=100, bootstrap=True, oob_score=True)\n",
    "imputer.build_model(model)"
   ]
  },
  {
   "cell_type": "code",
   "execution_count": 27,
   "metadata": {
    "collapsed": false
   },
   "outputs": [
    {
     "name": "stdout",
     "output_type": "stream",
     "text": [
      "0.847819787716\n",
      "0.784125570461\n",
      "0.776267088609\n"
     ]
    }
   ],
   "source": [
    "print imputer.model_ll.oob_score_\n",
    "print imputer.model_lead.oob_score_\n",
    "print imputer.model_lag.oob_score_"
   ]
  },
  {
   "cell_type": "markdown",
   "metadata": {},
   "source": [
    "## OOB scores are better than model without lag/lead\n",
    "Encouraging, but not clear yet whether there is low variance\n",
    "\n",
    "Need to test against holdout set with waittimes artificially set to zero"
   ]
  },
  {
   "cell_type": "code",
   "execution_count": null,
   "metadata": {
    "collapsed": true
   },
   "outputs": [],
   "source": []
  }
 ],
 "metadata": {
  "kernelspec": {
   "display_name": "Python 2",
   "language": "python",
   "name": "python2"
  },
  "language_info": {
   "codemirror_mode": {
    "name": "ipython",
    "version": 2
   },
   "file_extension": ".py",
   "mimetype": "text/x-python",
   "name": "python",
   "nbconvert_exporter": "python",
   "pygments_lexer": "ipython2",
   "version": "2.7.11"
  }
 },
 "nbformat": 4,
 "nbformat_minor": 0
}

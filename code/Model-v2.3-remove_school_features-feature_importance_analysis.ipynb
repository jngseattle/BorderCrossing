{
 "cells": [
  {
   "cell_type": "code",
   "execution_count": 1,
   "metadata": {
    "collapsed": false
   },
   "outputs": [],
   "source": [
    "from BorderModel import IncrementalModel, run_Incremental, sort_importances, print_importances\n",
    "from BorderQuery import select_features, select_mungedata_simple, select_mungedata\n",
    "from sklearn.ensemble import ExtraTreesRegressor\n",
    "from sklearn.grid_search import GridSearchCV\n",
    "import datetime as dt\n",
    "import matplotlib.pyplot as plt\n",
    "%matplotlib inline\n",
    "import pprint\n",
    "import itertools\n",
    "import pdb\n",
    "import random\n",
    "import pandas as pd\n",
    "import numpy as np"
   ]
  },
  {
   "cell_type": "markdown",
   "metadata": {},
   "source": [
    "### Initialize for parallel operations"
   ]
  },
  {
   "cell_type": "code",
   "execution_count": 2,
   "metadata": {
    "collapsed": false
   },
   "outputs": [
    {
     "name": "stdout",
     "output_type": "stream",
     "text": [
      "importing datetime on engine(s)\n",
      "importing IncrementalModel,run_Incremental from BorderModel on engine(s)\n",
      "importing select_features,select_mungedata_simple,select_mungedata from BorderQuery on engine(s)\n",
      "importing ExtraTreesRegressor from sklearn.ensemble on engine(s)\n",
      "importing GridSearchCV from sklearn.grid_search on engine(s)\n"
     ]
    }
   ],
   "source": [
    "import os\n",
    "from ipyparallel import Client\n",
    "rc = Client()\n",
    "dview = rc[:]\n",
    "\n",
    "# set proper working directory on all clients\n",
    "cwd = os.getcwd()\n",
    "dview.map(os.chdir, [cwd] * 40)\n",
    "# print(dview.apply_sync(os.getcwd))\n",
    "\n",
    "with dview.sync_imports():\n",
    "    import datetime\n",
    "    from BorderModel import IncrementalModel, run_Incremental\n",
    "    from BorderQuery import select_features, select_mungedata_simple, select_mungedata\n",
    "    from sklearn.ensemble import ExtraTreesRegressor\n",
    "    from sklearn.grid_search import GridSearchCV"
   ]
  },
  {
   "cell_type": "code",
   "execution_count": 3,
   "metadata": {
    "collapsed": false
   },
   "outputs": [
    {
     "name": "stdout",
     "output_type": "stream",
     "text": [
      "importing IncrementalModel,run_Incremental from BorderModel on engine(s)\n"
     ]
    }
   ],
   "source": [
    "from BorderModel import IncrementalModel, run_Incremental\n",
    "with dview.sync_imports():\n",
    "    from BorderModel import IncrementalModel, run_Incremental\n",
    "import random\n",
    "\n",
    "def create_train_test(year, train_length=2):\n",
    "    '''\n",
    "    IN \n",
    "        years: list of years to predict\n",
    "        train_length: number of years to train\n",
    "    '''\n",
    "    train_start = datetime.date(year - train_length, 1, 1).strftime('%Y-%m-%d')\n",
    "    train_end = datetime.date(year, 1, 1).strftime('%Y-%m-%d')\n",
    "    test_start = datetime.date(year, 1, 1).strftime('%Y-%m-%d')\n",
    "    test_end = datetime.date(year + 1, 1, 1).strftime('%Y-%m-%d')\n",
    "    return train_start, train_end, test_start, test_end\n",
    "    \n",
    "def compare_years_parallel(model, xing, munger_id, years):\n",
    "    prlist = {}\n",
    "    for year in years:\n",
    "        cpu = random.randint(0, 31)\n",
    "        train_start, train_end, test_start, test_end = create_train_test(year, 2)\n",
    "\n",
    "        prlist[year] = rc[cpu].apply_async(run_Incremental, model, munger_id, xing,  \n",
    "                                           train_start, train_end, \n",
    "                                           test_start, test_end)\n",
    "        \n",
    "    return prlist"
   ]
  },
  {
   "cell_type": "code",
   "execution_count": 4,
   "metadata": {
    "collapsed": true
   },
   "outputs": [],
   "source": [
    "def model_plot(model, start, end):\n",
    "    plt.figure(figsize=(16,4))\n",
    "    baseline = model.baseline()\n",
    "    ensemble = model.ensemble()\n",
    "    actuals = model.actual\n",
    "    yhat = model.y_predict\n",
    "    \n",
    "    plt.plot(actuals[(actuals.index.date>=start) & (actuals.index.date<end)], label='actuals')\n",
    "    plt.plot(baseline[(baseline.index.date>=start) & (baseline.index.date<end)], label='baseline')\n",
    "    plt.plot(yhat[(yhat.index.date>=start) & (yhat.index.date<end)], label='predictions')\n",
    "    plt.plot(ensemble[(ensemble.index.date>=start) & (ensemble.index.date<end)], label='ensemble')\n",
    "    plt.legend();\n",
    "    \n",
    "def imp_df(xid, model_years):\n",
    "    impdf = pd.DataFrame()\n",
    "    for year, model in model_years.items():\n",
    "        imp = sort_importances(model.model.best_estimator_, model.X.columns)\n",
    "        df = pd.DataFrame(np.array(imp)[:,1], np.array(imp)[:,0]).T\n",
    "        df['xid'] = xid\n",
    "        df['yr'] = int(year)\n",
    "        df = df.set_index(['xid', 'yr'])\n",
    "        impdf = pd.concat([impdf, df])\n",
    "    return impdf"
   ]
  },
  {
   "cell_type": "markdown",
   "metadata": {},
   "source": [
    "## Pacific Crossing South"
   ]
  },
  {
   "cell_type": "code",
   "execution_count": 5,
   "metadata": {
    "collapsed": false
   },
   "outputs": [],
   "source": [
    "model = ExtraTreesRegressor(n_jobs=-1, n_estimators=96)\n",
    "pr5 = compare_years_parallel(model, 5, 3, range(2011, 2016))"
   ]
  },
  {
   "cell_type": "markdown",
   "metadata": {},
   "source": [
    "## Pacific Crossing North"
   ]
  },
  {
   "cell_type": "code",
   "execution_count": 8,
   "metadata": {
    "collapsed": true
   },
   "outputs": [],
   "source": [
    "model = ExtraTreesRegressor(n_jobs=-1, n_estimators=96)\n",
    "pr6 = compare_years_parallel(model, 6, 4, range(2013, 2016))"
   ]
  },
  {
   "cell_type": "markdown",
   "metadata": {},
   "source": [
    "## Peace Arch South"
   ]
  },
  {
   "cell_type": "code",
   "execution_count": 11,
   "metadata": {
    "collapsed": true
   },
   "outputs": [],
   "source": [
    "model = ExtraTreesRegressor(n_jobs=-1, n_estimators=96)\n",
    "pr1 = compare_years_parallel(model, 1, 3, range(2011, 2016))"
   ]
  },
  {
   "cell_type": "markdown",
   "metadata": {},
   "source": [
    "## Peace Arch North"
   ]
  },
  {
   "cell_type": "code",
   "execution_count": 14,
   "metadata": {
    "collapsed": true
   },
   "outputs": [],
   "source": [
    "model = ExtraTreesRegressor(n_jobs=-1, n_estimators=96)\n",
    "pr2 = compare_years_parallel(model, 2, 4, range(2013, 2016))"
   ]
  },
  {
   "cell_type": "markdown",
   "metadata": {},
   "source": [
    "## Pull data from ipyparallel"
   ]
  },
  {
   "cell_type": "code",
   "execution_count": 27,
   "metadata": {
    "collapsed": false
   },
   "outputs": [
    {
     "name": "stdout",
     "output_type": "stream",
     "text": [
      "{'model': 0.48958917535850477, 'ensemble': 0.54896185652642382, 'baseline': 0.50830951929768831}\n",
      "{'model': 0.61871601195780435, 'ensemble': 0.64389271202539922, 'baseline': 0.6264414468772701}\n",
      "{'model': 0.6149569340263179, 'ensemble': 0.60070780876856067, 'baseline': 0.57215536973016168}\n",
      "{'model': 0.58409583067628756, 'ensemble': 0.59754163202736144, 'baseline': 0.51290499913254095}\n",
      "{'model': 0.31580220049919683, 'ensemble': 0.31825498281260534, 'baseline': 0.23074703434185284}\n"
     ]
    }
   ],
   "source": [
    "model5 = {}\n",
    "for year in range(2011, 2016):\n",
    "    if pr5[year].ready():\n",
    "        model5[year] = pr5[year].get(1)\n",
    "        print model5[year].score()\n",
    "    else:\n",
    "        print year, \"not ready\"\n",
    "\n",
    "imp5 = imp_df(5, model5)"
   ]
  },
  {
   "cell_type": "code",
   "execution_count": 28,
   "metadata": {
    "collapsed": false
   },
   "outputs": [
    {
     "name": "stdout",
     "output_type": "stream",
     "text": [
      "{'model': 0.25578195288947747, 'ensemble': 0.27921287749023405, 'baseline': 0.26915343237860456}\n",
      "{'model': 0.30362933058163388, 'ensemble': 0.31377945077274494, 'baseline': 0.29165671141312366}\n",
      "{'model': -0.18660426439792599, 'ensemble': -0.057209523821120545, 'baseline': -0.32952975930038231}\n"
     ]
    }
   ],
   "source": [
    "model6 = {}\n",
    "for year in range(2013, 2016):\n",
    "    if pr6[year].ready():\n",
    "        model6[year] = pr6[year].get(1)\n",
    "        print model6[year].score()\n",
    "    else:\n",
    "        print year, \"not ready\"\n",
    "\n",
    "imp6 = imp_df(6, model6)"
   ]
  },
  {
   "cell_type": "code",
   "execution_count": 29,
   "metadata": {
    "collapsed": false
   },
   "outputs": [
    {
     "name": "stdout",
     "output_type": "stream",
     "text": [
      "{'model': 0.095401329333742346, 'ensemble': 0.38201539345186519, 'baseline': 0.39385165054016535}\n",
      "{'model': 0.54165496369075283, 'ensemble': 0.61637917752010263, 'baseline': 0.60900901758379433}\n",
      "{'model': 0.63713483540825555, 'ensemble': 0.63730595896832531, 'baseline': 0.61360307915900703}\n",
      "{'model': 0.60176018976317258, 'ensemble': 0.61323120005334042, 'baseline': 0.56996406060235849}\n",
      "{'model': 0.16901122012355674, 'ensemble': 0.19370129681513437, 'baseline': 0.1059067680212642}\n"
     ]
    }
   ],
   "source": [
    "model1 = {}\n",
    "for year in range(2011, 2016):\n",
    "    if pr1[year].ready():\n",
    "        model1[year] = pr1[year].get(1)\n",
    "        print model1[year].score()\n",
    "    else:\n",
    "        print year, \"not ready\"\n",
    "\n",
    "imp1 = imp_df(1, model1)"
   ]
  },
  {
   "cell_type": "code",
   "execution_count": 30,
   "metadata": {
    "collapsed": false
   },
   "outputs": [
    {
     "name": "stdout",
     "output_type": "stream",
     "text": [
      "{'model': 0.38072990455468447, 'ensemble': 0.3742112122874367, 'baseline': 0.33042393202063758}\n",
      "{'model': 0.41908958416855646, 'ensemble': 0.39825661139479807, 'baseline': 0.33485359571062911}\n",
      "{'model': 0.057805075128210759, 'ensemble': 0.11814231681136333, 'baseline': -0.1272957779194126}\n"
     ]
    }
   ],
   "source": [
    "model2 = {}\n",
    "for year in range(2013, 2016):\n",
    "    if pr2[year].ready():\n",
    "        model2[year] = pr2[year].get(1)\n",
    "        print model2[year].score()\n",
    "    else:\n",
    "        print year, \"not ready\"\n",
    "\n",
    "imp2 = imp_df(2, model2)"
   ]
  },
  {
   "cell_type": "markdown",
   "metadata": {},
   "source": [
    "# Combine and compare feature importances"
   ]
  },
  {
   "cell_type": "code",
   "execution_count": 31,
   "metadata": {
    "collapsed": true
   },
   "outputs": [],
   "source": [
    "impall = pd.concat([imp1, imp2, imp5, imp6]).astype(float)"
   ]
  },
  {
   "cell_type": "code",
   "execution_count": 32,
   "metadata": {
    "collapsed": false
   },
   "outputs": [
    {
     "data": {
      "text/html": [
       "<div>\n",
       "<table border=\"1\" class=\"dataframe\">\n",
       "  <thead>\n",
       "    <tr style=\"text-align: right;\">\n",
       "      <th></th>\n",
       "      <th></th>\n",
       "      <th>avg_delta_1</th>\n",
       "      <th>avg_delta_10</th>\n",
       "      <th>avg_delta_11</th>\n",
       "      <th>avg_delta_12</th>\n",
       "      <th>avg_delta_2</th>\n",
       "      <th>avg_delta_3</th>\n",
       "      <th>avg_delta_4</th>\n",
       "      <th>avg_delta_5</th>\n",
       "      <th>avg_delta_6</th>\n",
       "      <th>avg_delta_7</th>\n",
       "      <th>...</th>\n",
       "      <th>thunderstorm</th>\n",
       "      <th>thunderstorm_m1</th>\n",
       "      <th>thunderstorm_m2</th>\n",
       "      <th>thunderstorm_p1</th>\n",
       "      <th>thunderstorm_p2</th>\n",
       "      <th>thunderstorm_p3</th>\n",
       "      <th>viz_max</th>\n",
       "      <th>week</th>\n",
       "      <th>wind_max</th>\n",
       "      <th>year</th>\n",
       "    </tr>\n",
       "    <tr>\n",
       "      <th>xid</th>\n",
       "      <th>yr</th>\n",
       "      <th></th>\n",
       "      <th></th>\n",
       "      <th></th>\n",
       "      <th></th>\n",
       "      <th></th>\n",
       "      <th></th>\n",
       "      <th></th>\n",
       "      <th></th>\n",
       "      <th></th>\n",
       "      <th></th>\n",
       "      <th></th>\n",
       "      <th></th>\n",
       "      <th></th>\n",
       "      <th></th>\n",
       "      <th></th>\n",
       "      <th></th>\n",
       "      <th></th>\n",
       "      <th></th>\n",
       "      <th></th>\n",
       "      <th></th>\n",
       "      <th></th>\n",
       "    </tr>\n",
       "  </thead>\n",
       "  <tbody>\n",
       "    <tr>\n",
       "      <th rowspan=\"5\" valign=\"top\">1</th>\n",
       "      <th>2011</th>\n",
       "      <td>0.011109</td>\n",
       "      <td>0.020826</td>\n",
       "      <td>0.020998</td>\n",
       "      <td>0.015044</td>\n",
       "      <td>0.011562</td>\n",
       "      <td>0.007551</td>\n",
       "      <td>0.008746</td>\n",
       "      <td>0.007443</td>\n",
       "      <td>0.011530</td>\n",
       "      <td>0.011446</td>\n",
       "      <td>...</td>\n",
       "      <td>0.000444</td>\n",
       "      <td>0.000397</td>\n",
       "      <td>0.002692</td>\n",
       "      <td>0.000250</td>\n",
       "      <td>0.001738</td>\n",
       "      <td>0.000666</td>\n",
       "      <td>0.000289</td>\n",
       "      <td>0.013527</td>\n",
       "      <td>0.004514</td>\n",
       "      <td>0.009892</td>\n",
       "    </tr>\n",
       "    <tr>\n",
       "      <th>2012</th>\n",
       "      <td>0.019546</td>\n",
       "      <td>0.016995</td>\n",
       "      <td>0.017777</td>\n",
       "      <td>0.013063</td>\n",
       "      <td>0.015657</td>\n",
       "      <td>0.013009</td>\n",
       "      <td>0.013337</td>\n",
       "      <td>0.009666</td>\n",
       "      <td>0.009864</td>\n",
       "      <td>0.009152</td>\n",
       "      <td>...</td>\n",
       "      <td>0.000198</td>\n",
       "      <td>0.000544</td>\n",
       "      <td>0.003890</td>\n",
       "      <td>0.000408</td>\n",
       "      <td>0.002996</td>\n",
       "      <td>0.000221</td>\n",
       "      <td>0.000213</td>\n",
       "      <td>0.007862</td>\n",
       "      <td>0.007751</td>\n",
       "      <td>0.011542</td>\n",
       "    </tr>\n",
       "    <tr>\n",
       "      <th>2013</th>\n",
       "      <td>0.007227</td>\n",
       "      <td>0.010796</td>\n",
       "      <td>0.011100</td>\n",
       "      <td>0.008180</td>\n",
       "      <td>0.008258</td>\n",
       "      <td>0.007960</td>\n",
       "      <td>0.007828</td>\n",
       "      <td>0.008989</td>\n",
       "      <td>0.011856</td>\n",
       "      <td>0.012195</td>\n",
       "      <td>...</td>\n",
       "      <td>0.000167</td>\n",
       "      <td>0.000191</td>\n",
       "      <td>0.000201</td>\n",
       "      <td>0.000262</td>\n",
       "      <td>0.000123</td>\n",
       "      <td>0.000328</td>\n",
       "      <td>0.000118</td>\n",
       "      <td>0.007417</td>\n",
       "      <td>0.006090</td>\n",
       "      <td>0.011223</td>\n",
       "    </tr>\n",
       "    <tr>\n",
       "      <th>2014</th>\n",
       "      <td>0.006238</td>\n",
       "      <td>0.008563</td>\n",
       "      <td>0.006618</td>\n",
       "      <td>0.006031</td>\n",
       "      <td>0.006200</td>\n",
       "      <td>0.008652</td>\n",
       "      <td>0.005497</td>\n",
       "      <td>0.008694</td>\n",
       "      <td>0.007071</td>\n",
       "      <td>0.010040</td>\n",
       "      <td>...</td>\n",
       "      <td>0.000260</td>\n",
       "      <td>0.000271</td>\n",
       "      <td>0.000218</td>\n",
       "      <td>0.000380</td>\n",
       "      <td>0.000232</td>\n",
       "      <td>0.000340</td>\n",
       "      <td>0.000166</td>\n",
       "      <td>0.010045</td>\n",
       "      <td>0.004931</td>\n",
       "      <td>0.005790</td>\n",
       "    </tr>\n",
       "    <tr>\n",
       "      <th>2015</th>\n",
       "      <td>0.005870</td>\n",
       "      <td>0.009680</td>\n",
       "      <td>0.008192</td>\n",
       "      <td>0.008365</td>\n",
       "      <td>0.006558</td>\n",
       "      <td>0.006808</td>\n",
       "      <td>0.007613</td>\n",
       "      <td>0.009785</td>\n",
       "      <td>0.010431</td>\n",
       "      <td>0.011730</td>\n",
       "      <td>...</td>\n",
       "      <td>0.000033</td>\n",
       "      <td>0.000045</td>\n",
       "      <td>0.000093</td>\n",
       "      <td>0.000129</td>\n",
       "      <td>0.000241</td>\n",
       "      <td>0.000162</td>\n",
       "      <td>0.000115</td>\n",
       "      <td>0.008228</td>\n",
       "      <td>0.004797</td>\n",
       "      <td>0.012439</td>\n",
       "    </tr>\n",
       "    <tr>\n",
       "      <th rowspan=\"3\" valign=\"top\">2</th>\n",
       "      <th>2013</th>\n",
       "      <td>0.006393</td>\n",
       "      <td>0.012452</td>\n",
       "      <td>0.011961</td>\n",
       "      <td>0.007461</td>\n",
       "      <td>0.009476</td>\n",
       "      <td>0.008314</td>\n",
       "      <td>0.008504</td>\n",
       "      <td>0.011292</td>\n",
       "      <td>0.016064</td>\n",
       "      <td>0.007080</td>\n",
       "      <td>...</td>\n",
       "      <td>0.001216</td>\n",
       "      <td>0.000630</td>\n",
       "      <td>0.001096</td>\n",
       "      <td>0.000304</td>\n",
       "      <td>0.000349</td>\n",
       "      <td>0.000777</td>\n",
       "      <td>0.000007</td>\n",
       "      <td>0.007911</td>\n",
       "      <td>0.005155</td>\n",
       "      <td>0.025892</td>\n",
       "    </tr>\n",
       "    <tr>\n",
       "      <th>2014</th>\n",
       "      <td>0.008023</td>\n",
       "      <td>0.008982</td>\n",
       "      <td>0.008528</td>\n",
       "      <td>0.009156</td>\n",
       "      <td>0.008199</td>\n",
       "      <td>0.009678</td>\n",
       "      <td>0.007752</td>\n",
       "      <td>0.009637</td>\n",
       "      <td>0.008372</td>\n",
       "      <td>0.007639</td>\n",
       "      <td>...</td>\n",
       "      <td>0.000746</td>\n",
       "      <td>0.000554</td>\n",
       "      <td>0.001438</td>\n",
       "      <td>0.000359</td>\n",
       "      <td>0.000585</td>\n",
       "      <td>0.000818</td>\n",
       "      <td>0.001340</td>\n",
       "      <td>0.009504</td>\n",
       "      <td>0.005862</td>\n",
       "      <td>0.006519</td>\n",
       "    </tr>\n",
       "    <tr>\n",
       "      <th>2015</th>\n",
       "      <td>0.007327</td>\n",
       "      <td>0.019284</td>\n",
       "      <td>0.013267</td>\n",
       "      <td>0.014987</td>\n",
       "      <td>0.009397</td>\n",
       "      <td>0.009560</td>\n",
       "      <td>0.008655</td>\n",
       "      <td>0.009439</td>\n",
       "      <td>0.008163</td>\n",
       "      <td>0.009228</td>\n",
       "      <td>...</td>\n",
       "      <td>0.000031</td>\n",
       "      <td>0.000146</td>\n",
       "      <td>0.000752</td>\n",
       "      <td>0.000138</td>\n",
       "      <td>0.000235</td>\n",
       "      <td>0.000067</td>\n",
       "      <td>0.000586</td>\n",
       "      <td>0.009632</td>\n",
       "      <td>0.006144</td>\n",
       "      <td>0.009410</td>\n",
       "    </tr>\n",
       "    <tr>\n",
       "      <th rowspan=\"5\" valign=\"top\">5</th>\n",
       "      <th>2011</th>\n",
       "      <td>0.007403</td>\n",
       "      <td>0.021429</td>\n",
       "      <td>0.022008</td>\n",
       "      <td>0.016629</td>\n",
       "      <td>0.009753</td>\n",
       "      <td>0.008702</td>\n",
       "      <td>0.007128</td>\n",
       "      <td>0.006941</td>\n",
       "      <td>0.010194</td>\n",
       "      <td>0.013007</td>\n",
       "      <td>...</td>\n",
       "      <td>0.000474</td>\n",
       "      <td>0.000392</td>\n",
       "      <td>0.001515</td>\n",
       "      <td>0.000366</td>\n",
       "      <td>0.004152</td>\n",
       "      <td>0.000770</td>\n",
       "      <td>0.000535</td>\n",
       "      <td>0.012971</td>\n",
       "      <td>0.004463</td>\n",
       "      <td>0.008327</td>\n",
       "    </tr>\n",
       "    <tr>\n",
       "      <th>2012</th>\n",
       "      <td>0.006732</td>\n",
       "      <td>0.019688</td>\n",
       "      <td>0.020746</td>\n",
       "      <td>0.016397</td>\n",
       "      <td>0.011856</td>\n",
       "      <td>0.006609</td>\n",
       "      <td>0.007425</td>\n",
       "      <td>0.007333</td>\n",
       "      <td>0.010163</td>\n",
       "      <td>0.009199</td>\n",
       "      <td>...</td>\n",
       "      <td>0.000210</td>\n",
       "      <td>0.000327</td>\n",
       "      <td>0.001559</td>\n",
       "      <td>0.000536</td>\n",
       "      <td>0.002000</td>\n",
       "      <td>0.000174</td>\n",
       "      <td>0.000079</td>\n",
       "      <td>0.008098</td>\n",
       "      <td>0.006144</td>\n",
       "      <td>0.011663</td>\n",
       "    </tr>\n",
       "    <tr>\n",
       "      <th>2013</th>\n",
       "      <td>0.005544</td>\n",
       "      <td>0.009799</td>\n",
       "      <td>0.012818</td>\n",
       "      <td>0.009386</td>\n",
       "      <td>0.009032</td>\n",
       "      <td>0.006434</td>\n",
       "      <td>0.006794</td>\n",
       "      <td>0.007639</td>\n",
       "      <td>0.011099</td>\n",
       "      <td>0.010245</td>\n",
       "      <td>...</td>\n",
       "      <td>0.000255</td>\n",
       "      <td>0.000127</td>\n",
       "      <td>0.000145</td>\n",
       "      <td>0.000342</td>\n",
       "      <td>0.000101</td>\n",
       "      <td>0.000300</td>\n",
       "      <td>0.000063</td>\n",
       "      <td>0.006896</td>\n",
       "      <td>0.005572</td>\n",
       "      <td>0.007510</td>\n",
       "    </tr>\n",
       "    <tr>\n",
       "      <th>2014</th>\n",
       "      <td>0.006645</td>\n",
       "      <td>0.007570</td>\n",
       "      <td>0.007471</td>\n",
       "      <td>0.007921</td>\n",
       "      <td>0.006925</td>\n",
       "      <td>0.008365</td>\n",
       "      <td>0.008616</td>\n",
       "      <td>0.009084</td>\n",
       "      <td>0.009615</td>\n",
       "      <td>0.009125</td>\n",
       "      <td>...</td>\n",
       "      <td>0.000241</td>\n",
       "      <td>0.000152</td>\n",
       "      <td>0.000183</td>\n",
       "      <td>0.000255</td>\n",
       "      <td>0.000179</td>\n",
       "      <td>0.000373</td>\n",
       "      <td>0.000127</td>\n",
       "      <td>0.010653</td>\n",
       "      <td>0.004683</td>\n",
       "      <td>0.008104</td>\n",
       "    </tr>\n",
       "    <tr>\n",
       "      <th>2015</th>\n",
       "      <td>0.006560</td>\n",
       "      <td>0.008450</td>\n",
       "      <td>0.007688</td>\n",
       "      <td>0.007525</td>\n",
       "      <td>0.006040</td>\n",
       "      <td>0.007065</td>\n",
       "      <td>0.007790</td>\n",
       "      <td>0.010147</td>\n",
       "      <td>0.012131</td>\n",
       "      <td>0.009878</td>\n",
       "      <td>...</td>\n",
       "      <td>0.000038</td>\n",
       "      <td>0.000048</td>\n",
       "      <td>0.000120</td>\n",
       "      <td>0.000040</td>\n",
       "      <td>0.000110</td>\n",
       "      <td>0.000201</td>\n",
       "      <td>0.000095</td>\n",
       "      <td>0.007657</td>\n",
       "      <td>0.004715</td>\n",
       "      <td>0.027170</td>\n",
       "    </tr>\n",
       "    <tr>\n",
       "      <th rowspan=\"3\" valign=\"top\">6</th>\n",
       "      <th>2013</th>\n",
       "      <td>0.006819</td>\n",
       "      <td>0.008154</td>\n",
       "      <td>0.009357</td>\n",
       "      <td>0.011447</td>\n",
       "      <td>0.011503</td>\n",
       "      <td>0.008116</td>\n",
       "      <td>0.005658</td>\n",
       "      <td>0.006421</td>\n",
       "      <td>0.013736</td>\n",
       "      <td>0.005969</td>\n",
       "      <td>...</td>\n",
       "      <td>0.001456</td>\n",
       "      <td>0.000956</td>\n",
       "      <td>0.000963</td>\n",
       "      <td>0.000779</td>\n",
       "      <td>0.000296</td>\n",
       "      <td>0.000600</td>\n",
       "      <td>0.000102</td>\n",
       "      <td>0.008920</td>\n",
       "      <td>0.005241</td>\n",
       "      <td>0.053228</td>\n",
       "    </tr>\n",
       "    <tr>\n",
       "      <th>2014</th>\n",
       "      <td>0.008832</td>\n",
       "      <td>0.011204</td>\n",
       "      <td>0.009922</td>\n",
       "      <td>0.009900</td>\n",
       "      <td>0.009793</td>\n",
       "      <td>0.010983</td>\n",
       "      <td>0.012778</td>\n",
       "      <td>0.008227</td>\n",
       "      <td>0.011412</td>\n",
       "      <td>0.009153</td>\n",
       "      <td>...</td>\n",
       "      <td>0.000370</td>\n",
       "      <td>0.000157</td>\n",
       "      <td>0.001035</td>\n",
       "      <td>0.000715</td>\n",
       "      <td>0.000234</td>\n",
       "      <td>0.000115</td>\n",
       "      <td>0.001890</td>\n",
       "      <td>0.009386</td>\n",
       "      <td>0.007686</td>\n",
       "      <td>0.009591</td>\n",
       "    </tr>\n",
       "    <tr>\n",
       "      <th>2015</th>\n",
       "      <td>0.009588</td>\n",
       "      <td>0.014915</td>\n",
       "      <td>0.018146</td>\n",
       "      <td>0.013741</td>\n",
       "      <td>0.010473</td>\n",
       "      <td>0.008536</td>\n",
       "      <td>0.012294</td>\n",
       "      <td>0.010763</td>\n",
       "      <td>0.009744</td>\n",
       "      <td>0.011578</td>\n",
       "      <td>...</td>\n",
       "      <td>0.000130</td>\n",
       "      <td>0.000106</td>\n",
       "      <td>0.000423</td>\n",
       "      <td>0.000196</td>\n",
       "      <td>0.000119</td>\n",
       "      <td>0.000074</td>\n",
       "      <td>0.000884</td>\n",
       "      <td>0.008420</td>\n",
       "      <td>0.007934</td>\n",
       "      <td>0.011648</td>\n",
       "    </tr>\n",
       "  </tbody>\n",
       "</table>\n",
       "<p>16 rows × 206 columns</p>\n",
       "</div>"
      ],
      "text/plain": [
       "          avg_delta_1  avg_delta_10  avg_delta_11  avg_delta_12  avg_delta_2  \\\n",
       "xid yr                                                                         \n",
       "1   2011     0.011109      0.020826      0.020998      0.015044     0.011562   \n",
       "    2012     0.019546      0.016995      0.017777      0.013063     0.015657   \n",
       "    2013     0.007227      0.010796      0.011100      0.008180     0.008258   \n",
       "    2014     0.006238      0.008563      0.006618      0.006031     0.006200   \n",
       "    2015     0.005870      0.009680      0.008192      0.008365     0.006558   \n",
       "2   2013     0.006393      0.012452      0.011961      0.007461     0.009476   \n",
       "    2014     0.008023      0.008982      0.008528      0.009156     0.008199   \n",
       "    2015     0.007327      0.019284      0.013267      0.014987     0.009397   \n",
       "5   2011     0.007403      0.021429      0.022008      0.016629     0.009753   \n",
       "    2012     0.006732      0.019688      0.020746      0.016397     0.011856   \n",
       "    2013     0.005544      0.009799      0.012818      0.009386     0.009032   \n",
       "    2014     0.006645      0.007570      0.007471      0.007921     0.006925   \n",
       "    2015     0.006560      0.008450      0.007688      0.007525     0.006040   \n",
       "6   2013     0.006819      0.008154      0.009357      0.011447     0.011503   \n",
       "    2014     0.008832      0.011204      0.009922      0.009900     0.009793   \n",
       "    2015     0.009588      0.014915      0.018146      0.013741     0.010473   \n",
       "\n",
       "          avg_delta_3  avg_delta_4  avg_delta_5  avg_delta_6  avg_delta_7  \\\n",
       "xid yr                                                                      \n",
       "1   2011     0.007551     0.008746     0.007443     0.011530     0.011446   \n",
       "    2012     0.013009     0.013337     0.009666     0.009864     0.009152   \n",
       "    2013     0.007960     0.007828     0.008989     0.011856     0.012195   \n",
       "    2014     0.008652     0.005497     0.008694     0.007071     0.010040   \n",
       "    2015     0.006808     0.007613     0.009785     0.010431     0.011730   \n",
       "2   2013     0.008314     0.008504     0.011292     0.016064     0.007080   \n",
       "    2014     0.009678     0.007752     0.009637     0.008372     0.007639   \n",
       "    2015     0.009560     0.008655     0.009439     0.008163     0.009228   \n",
       "5   2011     0.008702     0.007128     0.006941     0.010194     0.013007   \n",
       "    2012     0.006609     0.007425     0.007333     0.010163     0.009199   \n",
       "    2013     0.006434     0.006794     0.007639     0.011099     0.010245   \n",
       "    2014     0.008365     0.008616     0.009084     0.009615     0.009125   \n",
       "    2015     0.007065     0.007790     0.010147     0.012131     0.009878   \n",
       "6   2013     0.008116     0.005658     0.006421     0.013736     0.005969   \n",
       "    2014     0.010983     0.012778     0.008227     0.011412     0.009153   \n",
       "    2015     0.008536     0.012294     0.010763     0.009744     0.011578   \n",
       "\n",
       "            ...     thunderstorm  thunderstorm_m1  thunderstorm_m2  \\\n",
       "xid yr      ...                                                      \n",
       "1   2011    ...         0.000444         0.000397         0.002692   \n",
       "    2012    ...         0.000198         0.000544         0.003890   \n",
       "    2013    ...         0.000167         0.000191         0.000201   \n",
       "    2014    ...         0.000260         0.000271         0.000218   \n",
       "    2015    ...         0.000033         0.000045         0.000093   \n",
       "2   2013    ...         0.001216         0.000630         0.001096   \n",
       "    2014    ...         0.000746         0.000554         0.001438   \n",
       "    2015    ...         0.000031         0.000146         0.000752   \n",
       "5   2011    ...         0.000474         0.000392         0.001515   \n",
       "    2012    ...         0.000210         0.000327         0.001559   \n",
       "    2013    ...         0.000255         0.000127         0.000145   \n",
       "    2014    ...         0.000241         0.000152         0.000183   \n",
       "    2015    ...         0.000038         0.000048         0.000120   \n",
       "6   2013    ...         0.001456         0.000956         0.000963   \n",
       "    2014    ...         0.000370         0.000157         0.001035   \n",
       "    2015    ...         0.000130         0.000106         0.000423   \n",
       "\n",
       "          thunderstorm_p1  thunderstorm_p2  thunderstorm_p3   viz_max  \\\n",
       "xid yr                                                                  \n",
       "1   2011         0.000250         0.001738         0.000666  0.000289   \n",
       "    2012         0.000408         0.002996         0.000221  0.000213   \n",
       "    2013         0.000262         0.000123         0.000328  0.000118   \n",
       "    2014         0.000380         0.000232         0.000340  0.000166   \n",
       "    2015         0.000129         0.000241         0.000162  0.000115   \n",
       "2   2013         0.000304         0.000349         0.000777  0.000007   \n",
       "    2014         0.000359         0.000585         0.000818  0.001340   \n",
       "    2015         0.000138         0.000235         0.000067  0.000586   \n",
       "5   2011         0.000366         0.004152         0.000770  0.000535   \n",
       "    2012         0.000536         0.002000         0.000174  0.000079   \n",
       "    2013         0.000342         0.000101         0.000300  0.000063   \n",
       "    2014         0.000255         0.000179         0.000373  0.000127   \n",
       "    2015         0.000040         0.000110         0.000201  0.000095   \n",
       "6   2013         0.000779         0.000296         0.000600  0.000102   \n",
       "    2014         0.000715         0.000234         0.000115  0.001890   \n",
       "    2015         0.000196         0.000119         0.000074  0.000884   \n",
       "\n",
       "              week  wind_max      year  \n",
       "xid yr                                  \n",
       "1   2011  0.013527  0.004514  0.009892  \n",
       "    2012  0.007862  0.007751  0.011542  \n",
       "    2013  0.007417  0.006090  0.011223  \n",
       "    2014  0.010045  0.004931  0.005790  \n",
       "    2015  0.008228  0.004797  0.012439  \n",
       "2   2013  0.007911  0.005155  0.025892  \n",
       "    2014  0.009504  0.005862  0.006519  \n",
       "    2015  0.009632  0.006144  0.009410  \n",
       "5   2011  0.012971  0.004463  0.008327  \n",
       "    2012  0.008098  0.006144  0.011663  \n",
       "    2013  0.006896  0.005572  0.007510  \n",
       "    2014  0.010653  0.004683  0.008104  \n",
       "    2015  0.007657  0.004715  0.027170  \n",
       "6   2013  0.008920  0.005241  0.053228  \n",
       "    2014  0.009386  0.007686  0.009591  \n",
       "    2015  0.008420  0.007934  0.011648  \n",
       "\n",
       "[16 rows x 206 columns]"
      ]
     },
     "execution_count": 32,
     "metadata": {},
     "output_type": "execute_result"
    }
   ],
   "source": [
    "impall"
   ]
  },
  {
   "cell_type": "code",
   "execution_count": 33,
   "metadata": {
    "collapsed": true
   },
   "outputs": [],
   "source": [
    "avgdelta_cols = [col for col in impall.columns.values if 'avg_delta' in col]"
   ]
  },
  {
   "cell_type": "code",
   "execution_count": 34,
   "metadata": {
    "collapsed": false
   },
   "outputs": [],
   "source": [
    "impall['trend'] = impall[avgdelta_cols].sum(1)"
   ]
  },
  {
   "cell_type": "code",
   "execution_count": 35,
   "metadata": {
    "collapsed": true
   },
   "outputs": [],
   "source": [
    "event_cols = [col for col in impall.columns.values if 'event' in col]"
   ]
  },
  {
   "cell_type": "code",
   "execution_count": 36,
   "metadata": {
    "collapsed": true
   },
   "outputs": [],
   "source": [
    "impall['event'] = impall[event_cols].sum(1)"
   ]
  },
  {
   "cell_type": "code",
   "execution_count": 37,
   "metadata": {
    "collapsed": false
   },
   "outputs": [
    {
     "data": {
      "text/plain": [
       "xid  yr  \n",
       "1    2011    0.152994\n",
       "     2012    0.167913\n",
       "     2013    0.118131\n",
       "     2014    0.104258\n",
       "     2015    0.112178\n",
       "2    2013    0.124881\n",
       "     2014    0.106084\n",
       "     2015    0.137265\n",
       "5    2011    0.157391\n",
       "     2012    0.145725\n",
       "     2013    0.115833\n",
       "     2014    0.118675\n",
       "     2015    0.116591\n",
       "6    2013    0.105864\n",
       "     2014    0.125619\n",
       "     2015    0.156214\n",
       "Name: trend, dtype: float64"
      ]
     },
     "execution_count": 37,
     "metadata": {},
     "output_type": "execute_result"
    }
   ],
   "source": [
    "impall.trend"
   ]
  },
  {
   "cell_type": "code",
   "execution_count": 38,
   "metadata": {
    "collapsed": false
   },
   "outputs": [
    {
     "data": {
      "text/plain": [
       "xid  yr  \n",
       "1    2011    0.088450\n",
       "     2012    0.110506\n",
       "     2013    0.085428\n",
       "     2014    0.060670\n",
       "     2015    0.064995\n",
       "2    2013    0.125049\n",
       "     2014    0.110442\n",
       "     2015    0.100685\n",
       "5    2011    0.073443\n",
       "     2012    0.085473\n",
       "     2013    0.082216\n",
       "     2014    0.059537\n",
       "     2015    0.064070\n",
       "6    2013    0.124568\n",
       "     2014    0.098825\n",
       "     2015    0.082775\n",
       "Name: event, dtype: float64"
      ]
     },
     "execution_count": 38,
     "metadata": {},
     "output_type": "execute_result"
    }
   ],
   "source": [
    "impall.event"
   ]
  },
  {
   "cell_type": "code",
   "execution_count": 39,
   "metadata": {
    "collapsed": false
   },
   "outputs": [
    {
     "data": {
      "text/plain": [
       "xid  yr  \n",
       "1    2011    0.490167\n",
       "     2012    0.476422\n",
       "     2013    0.564104\n",
       "     2014    0.602427\n",
       "     2015    0.571069\n",
       "2    2013    0.467985\n",
       "     2014    0.503373\n",
       "     2015    0.483884\n",
       "5    2011    0.520479\n",
       "     2012    0.539200\n",
       "     2013    0.573896\n",
       "     2014    0.578695\n",
       "     2015    0.566321\n",
       "6    2013    0.441133\n",
       "     2014    0.494110\n",
       "     2015    0.486717\n",
       "Name: minofday, dtype: float64"
      ]
     },
     "execution_count": 39,
     "metadata": {},
     "output_type": "execute_result"
    }
   ],
   "source": [
    "impall.minofday"
   ]
  },
  {
   "cell_type": "code",
   "execution_count": 40,
   "metadata": {
    "collapsed": false
   },
   "outputs": [
    {
     "data": {
      "text/plain": [
       "xid  yr  \n",
       "1    2011    0.059460\n",
       "     2012    0.036552\n",
       "     2013    0.054372\n",
       "     2014    0.073713\n",
       "     2015    0.078164\n",
       "2    2013    0.076669\n",
       "     2014    0.036874\n",
       "     2015    0.042893\n",
       "5    2011    0.064273\n",
       "     2012    0.048751\n",
       "     2013    0.062798\n",
       "     2014    0.074770\n",
       "     2015    0.070818\n",
       "6    2013    0.082915\n",
       "     2014    0.023244\n",
       "     2015    0.029960\n",
       "Name: dayofweek, dtype: float64"
      ]
     },
     "execution_count": 40,
     "metadata": {},
     "output_type": "execute_result"
    }
   ],
   "source": [
    "impall['dayofweek']"
   ]
  },
  {
   "cell_type": "code",
   "execution_count": 41,
   "metadata": {
    "collapsed": false
   },
   "outputs": [
    {
     "data": {
      "text/plain": [
       "xid  yr  \n",
       "1    2011    0.036578\n",
       "     2012    0.027110\n",
       "     2013    0.026587\n",
       "     2014    0.025584\n",
       "     2015    0.029362\n",
       "2    2013    0.040025\n",
       "     2014    0.023285\n",
       "     2015    0.027593\n",
       "5    2011    0.034807\n",
       "     2012    0.027338\n",
       "     2013    0.021490\n",
       "     2014    0.028723\n",
       "     2015    0.042639\n",
       "6    2013    0.072326\n",
       "     2014    0.026997\n",
       "     2015    0.028013\n",
       "dtype: float64"
      ]
     },
     "execution_count": 41,
     "metadata": {},
     "output_type": "execute_result"
    }
   ],
   "source": [
    "impall[['month', 'week', 'year']].sum(1)"
   ]
  },
  {
   "cell_type": "code",
   "execution_count": 42,
   "metadata": {
    "collapsed": false
   },
   "outputs": [],
   "source": [
    "weather_cols = [col for col in impall.columns.values if 'rain' in col or 'precip' in col or 'thund' in col or \n",
    "              'snow' in col or 'fog' in col or 'temp' in col or 'viz' in col or 'wind' in col]"
   ]
  },
  {
   "cell_type": "code",
   "execution_count": 43,
   "metadata": {
    "collapsed": true
   },
   "outputs": [],
   "source": [
    "impall['weather'] = impall[weather_cols].sum(1)"
   ]
  },
  {
   "cell_type": "code",
   "execution_count": 44,
   "metadata": {
    "collapsed": false
   },
   "outputs": [],
   "source": [
    "north = impall.loc[[2, 6], :]\n",
    "\n",
    "south = impall.loc[([1, 5], [2013, 2014, 2015]),:]"
   ]
  },
  {
   "cell_type": "code",
   "execution_count": 45,
   "metadata": {
    "collapsed": false
   },
   "outputs": [
    {
     "data": {
      "text/plain": [
       "0.12598766953257"
      ]
     },
     "execution_count": 45,
     "metadata": {},
     "output_type": "execute_result"
    }
   ],
   "source": [
    "north.trend.mean()"
   ]
  },
  {
   "cell_type": "code",
   "execution_count": 46,
   "metadata": {
    "collapsed": false
   },
   "outputs": [
    {
     "data": {
      "text/plain": [
       "0.11427755265311666"
      ]
     },
     "execution_count": 46,
     "metadata": {},
     "output_type": "execute_result"
    }
   ],
   "source": [
    "south.trend.mean()"
   ]
  },
  {
   "cell_type": "code",
   "execution_count": 47,
   "metadata": {
    "collapsed": false
   },
   "outputs": [
    {
     "data": {
      "text/plain": [
       "0.10705726994105376"
      ]
     },
     "execution_count": 47,
     "metadata": {},
     "output_type": "execute_result"
    }
   ],
   "source": [
    "north.event.mean()"
   ]
  },
  {
   "cell_type": "code",
   "execution_count": 48,
   "metadata": {
    "collapsed": false
   },
   "outputs": [
    {
     "data": {
      "text/plain": [
       "0.06948592394546943"
      ]
     },
     "execution_count": 48,
     "metadata": {},
     "output_type": "execute_result"
    }
   ],
   "source": [
    "south.event.mean()"
   ]
  },
  {
   "cell_type": "code",
   "execution_count": 49,
   "metadata": {
    "collapsed": false
   },
   "outputs": [
    {
     "data": {
      "text/plain": [
       "0.47953359679616664"
      ]
     },
     "execution_count": 49,
     "metadata": {},
     "output_type": "execute_result"
    }
   ],
   "source": [
    "north.minofday.mean()"
   ]
  },
  {
   "cell_type": "code",
   "execution_count": 50,
   "metadata": {
    "collapsed": false
   },
   "outputs": [
    {
     "data": {
      "text/plain": [
       "0.576085296976"
      ]
     },
     "execution_count": 50,
     "metadata": {},
     "output_type": "execute_result"
    }
   ],
   "source": [
    "south.minofday.mean()"
   ]
  },
  {
   "cell_type": "code",
   "execution_count": 51,
   "metadata": {
    "collapsed": false
   },
   "outputs": [
    {
     "data": {
      "text/plain": [
       "0.08513212207225167"
      ]
     },
     "execution_count": 51,
     "metadata": {},
     "output_type": "execute_result"
    }
   ],
   "source": [
    "north[['dayofweek', 'month', 'week', 'year']].sum(1).mean()"
   ]
  },
  {
   "cell_type": "code",
   "execution_count": 52,
   "metadata": {
    "collapsed": false
   },
   "outputs": [
    {
     "data": {
      "text/plain": [
       "0.09817016852251832"
      ]
     },
     "execution_count": 52,
     "metadata": {},
     "output_type": "execute_result"
    }
   ],
   "source": [
    "south[['dayofweek', 'month', 'week', 'year']].sum(1).mean()"
   ]
  },
  {
   "cell_type": "code",
   "execution_count": 53,
   "metadata": {
    "collapsed": false
   },
   "outputs": [
    {
     "data": {
      "text/plain": [
       "0.14198105790298435"
      ]
     },
     "execution_count": 53,
     "metadata": {},
     "output_type": "execute_result"
    }
   ],
   "source": [
    "south.weather.mean()"
   ]
  },
  {
   "cell_type": "code",
   "execution_count": 54,
   "metadata": {
    "collapsed": false
   },
   "outputs": [
    {
     "data": {
      "text/plain": [
       "0.20228934165789078"
      ]
     },
     "execution_count": 54,
     "metadata": {},
     "output_type": "execute_result"
    }
   ],
   "source": [
    "north.weather.mean()"
   ]
  },
  {
   "cell_type": "code",
   "execution_count": 55,
   "metadata": {
    "collapsed": false
   },
   "outputs": [
    {
     "data": {
      "text/plain": [
       "fog                0.002856\n",
       "precip             0.004889\n",
       "precip_m1          0.004797\n",
       "precip_m2          0.005244\n",
       "precip_p1          0.006598\n",
       "precip_p2          0.005910\n",
       "precip_p3          0.005253\n",
       "rain               0.004071\n",
       "rain_m1            0.005037\n",
       "rain_m2            0.004185\n",
       "rain_p1            0.004212\n",
       "rain_p2            0.004384\n",
       "rain_p3            0.003976\n",
       "snow               0.001019\n",
       "snow_m1            0.001499\n",
       "snow_m2            0.000484\n",
       "snow_p1            0.000521\n",
       "snow_p2            0.001281\n",
       "snow_p3            0.000570\n",
       "temp_max           0.008422\n",
       "temp_max_m1        0.007112\n",
       "temp_max_m2        0.006562\n",
       "temp_max_p1        0.007239\n",
       "temp_max_p2        0.007102\n",
       "temp_max_p3        0.008776\n",
       "temp_mean          0.006576\n",
       "temp_mean_m1       0.006303\n",
       "temp_mean_m2       0.006680\n",
       "temp_mean_p1       0.007197\n",
       "temp_mean_p2       0.006291\n",
       "temp_mean_p3       0.007159\n",
       "temp_min           0.006494\n",
       "temp_min_m1        0.006661\n",
       "temp_min_m2        0.007581\n",
       "temp_min_p1        0.006933\n",
       "temp_min_p2        0.005849\n",
       "temp_min_p3        0.006270\n",
       "thunderstorm       0.000658\n",
       "thunderstorm_m1    0.000425\n",
       "thunderstorm_m2    0.000951\n",
       "thunderstorm_p1    0.000415\n",
       "thunderstorm_p2    0.000303\n",
       "thunderstorm_p3    0.000409\n",
       "viz_max            0.000802\n",
       "wind_max           0.006337\n",
       "dtype: float64"
      ]
     },
     "execution_count": 55,
     "metadata": {},
     "output_type": "execute_result"
    }
   ],
   "source": [
    "north[weather_cols].mean(0)"
   ]
  },
  {
   "cell_type": "code",
   "execution_count": 56,
   "metadata": {
    "collapsed": false
   },
   "outputs": [
    {
     "data": {
      "text/plain": [
       "fog                0.002856\n",
       "precip             0.004889\n",
       "precip_m1          0.004797\n",
       "precip_m2          0.005244\n",
       "precip_p1          0.006598\n",
       "precip_p2          0.005910\n",
       "precip_p3          0.005253\n",
       "rain               0.004071\n",
       "rain_m1            0.005037\n",
       "rain_m2            0.004185\n",
       "rain_p1            0.004212\n",
       "rain_p2            0.004384\n",
       "rain_p3            0.003976\n",
       "snow               0.001019\n",
       "snow_m1            0.001499\n",
       "snow_m2            0.000484\n",
       "snow_p1            0.000521\n",
       "snow_p2            0.001281\n",
       "snow_p3            0.000570\n",
       "temp_max           0.008422\n",
       "temp_max_m1        0.007112\n",
       "temp_max_m2        0.006562\n",
       "temp_max_p1        0.007239\n",
       "temp_max_p2        0.007102\n",
       "temp_max_p3        0.008776\n",
       "temp_mean          0.006576\n",
       "temp_mean_m1       0.006303\n",
       "temp_mean_m2       0.006680\n",
       "temp_mean_p1       0.007197\n",
       "temp_mean_p2       0.006291\n",
       "temp_mean_p3       0.007159\n",
       "temp_min           0.006494\n",
       "temp_min_m1        0.006661\n",
       "temp_min_m2        0.007581\n",
       "temp_min_p1        0.006933\n",
       "temp_min_p2        0.005849\n",
       "temp_min_p3        0.006270\n",
       "thunderstorm       0.000658\n",
       "thunderstorm_m1    0.000425\n",
       "thunderstorm_m2    0.000951\n",
       "thunderstorm_p1    0.000415\n",
       "thunderstorm_p2    0.000303\n",
       "thunderstorm_p3    0.000409\n",
       "viz_max            0.000802\n",
       "wind_max           0.006337\n",
       "dtype: float64"
      ]
     },
     "execution_count": 56,
     "metadata": {},
     "output_type": "execute_result"
    }
   ],
   "source": [
    "north[weather_cols].mean(0)"
   ]
  },
  {
   "cell_type": "markdown",
   "metadata": {},
   "source": [
    "# Top holidays"
   ]
  },
  {
   "cell_type": "code",
   "execution_count": 57,
   "metadata": {
    "collapsed": false
   },
   "outputs": [
    {
     "data": {
      "text/plain": [
       "event_lead4_mlk                0.000024\n",
       "event_lag1_president           0.000026\n",
       "event_lag2_mlk                 0.000028\n",
       "event_lead1_mlk                0.000028\n",
       "event_lag3_president           0.000030\n",
       "event_lag4_newyears            0.000030\n",
       "event_lag3_thanksgiving        0.000034\n",
       "event_lead3_mothers            0.000039\n",
       "event_lead4_veterans           0.000041\n",
       "event_newyears                 0.000041\n",
       "event_lag1_mlk                 0.000042\n",
       "event_lag3_newyears            0.000043\n",
       "event_mlk                      0.000044\n",
       "event_lag1_mothers             0.000051\n",
       "event_halloween                0.000055\n",
       "event_lead2_halloween          0.000059\n",
       "event_lag3_labor               0.000059\n",
       "event_lag2_mothers             0.000060\n",
       "event_lag2_labor               0.000068\n",
       "event_lead3_halloween          0.000070\n",
       "event_lag4_president           0.000070\n",
       "event_lag4_veterans            0.000074\n",
       "event_lead2_mlk                0.000074\n",
       "event_lag4_independence        0.000075\n",
       "event_lead4_goodfriday         0.000076\n",
       "event_lag4_thanksgiving        0.000077\n",
       "event_lead3_goodfriday         0.000078\n",
       "event_lag4_memorial            0.000079\n",
       "event_lag3_halloween           0.000079\n",
       "event_lag2_memorial            0.000081\n",
       "                                 ...   \n",
       "event_lag1_goodfriday          0.001125\n",
       "event_lead1_independence       0.001126\n",
       "event_lag3_civic               0.001184\n",
       "event_lead4_halloween          0.001229\n",
       "event_lead1_newyears           0.001436\n",
       "event_veterans                 0.001520\n",
       "event_labor                    0.001572\n",
       "event_lag1_xmas                0.001644\n",
       "event_lead3_xmas               0.001671\n",
       "event_lead3_labor              0.001673\n",
       "event_lead1_ca_thanksgiving    0.001720\n",
       "event_lead1_xmas               0.001774\n",
       "event_lag1_thanksgiving        0.001808\n",
       "event_lag1_canada              0.001825\n",
       "event_lead2_independence       0.001935\n",
       "event_lag4_canada              0.002038\n",
       "event_lag1_independence        0.002084\n",
       "event_lead2_president          0.002571\n",
       "event_ca_thanksgiving          0.002759\n",
       "event_lag1_memorial            0.002808\n",
       "event_lead2_newyears           0.003064\n",
       "event_lead1_victoria           0.003187\n",
       "event_lag1_veterans            0.003478\n",
       "event_lead1_labor              0.003520\n",
       "event_lead2_memorial           0.003719\n",
       "event_lead2_xmas               0.004576\n",
       "event_civic                    0.004777\n",
       "event_lead1_thanksgiving       0.004826\n",
       "event_lead2_labor              0.005053\n",
       "event_victoria                 0.009633\n",
       "dtype: float64"
      ]
     },
     "execution_count": 57,
     "metadata": {},
     "output_type": "execute_result"
    }
   ],
   "source": [
    "north[event_cols].mean().sort_values()"
   ]
  },
  {
   "cell_type": "code",
   "execution_count": 58,
   "metadata": {
    "collapsed": false
   },
   "outputs": [
    {
     "data": {
      "text/plain": [
       "event_lag3_mlk                 0.000019\n",
       "event_lead1_mlk                0.000022\n",
       "event_lag2_mlk                 0.000026\n",
       "event_lag4_newyears            0.000029\n",
       "event_lag4_mlk                 0.000029\n",
       "event_lead2_thanksgiving       0.000035\n",
       "event_lag2_president           0.000042\n",
       "event_lead2_halloween          0.000046\n",
       "event_lead3_thanksgiving       0.000051\n",
       "event_lag3_labor               0.000053\n",
       "event_lag1_mlk                 0.000054\n",
       "event_victoria                 0.000058\n",
       "event_lag4_labor               0.000062\n",
       "event_lead4_thanksgiving       0.000062\n",
       "event_lead4_mlk                0.000064\n",
       "event_lag4_thanksgiving        0.000067\n",
       "event_lag2_halloween           0.000070\n",
       "event_lag3_goodfriday          0.000072\n",
       "event_lag2_newyears            0.000073\n",
       "event_lag1_president           0.000073\n",
       "event_lag3_newyears            0.000075\n",
       "event_lag2_labor               0.000080\n",
       "event_lag4_veterans            0.000082\n",
       "event_lead2_mlk                0.000087\n",
       "event_lag4_halloween           0.000087\n",
       "event_lag3_veterans            0.000089\n",
       "event_lag3_president           0.000093\n",
       "event_lead2_president          0.000093\n",
       "event_lag2_memorial            0.000098\n",
       "event_lag2_veterans            0.000099\n",
       "                                 ...   \n",
       "event_lead1_veterans           0.000586\n",
       "event_lead4_victoria           0.000587\n",
       "event_lead2_veterans           0.000597\n",
       "event_lead3_veterans           0.000671\n",
       "event_lead1_civic              0.000695\n",
       "event_lead2_xmas               0.000719\n",
       "event_xmas                     0.000748\n",
       "event_thanksgiving             0.000762\n",
       "event_lag2_goodfriday          0.000787\n",
       "event_lead2_goodfriday         0.000875\n",
       "event_president                0.000902\n",
       "event_lead1_ca_thanksgiving    0.000906\n",
       "event_lead4_civic              0.000912\n",
       "event_canada                   0.000934\n",
       "event_lead3_independence       0.000975\n",
       "event_lag1_thanksgiving        0.000993\n",
       "event_lead3_ca_thanksgiving    0.001012\n",
       "event_lead2_ca_thanksgiving    0.001103\n",
       "event_lag1_xmas                0.001120\n",
       "event_lead2_memorial           0.001225\n",
       "event_lead2_newyears           0.001271\n",
       "event_lag1_newyears            0.001286\n",
       "event_memorial                 0.001532\n",
       "event_veterans                 0.001858\n",
       "event_lead2_victoria           0.002306\n",
       "event_lead1_goodfriday         0.002620\n",
       "event_lead2_civic              0.002757\n",
       "event_lead2_labor              0.002803\n",
       "event_lag2_xmas                0.003155\n",
       "event_goodfriday               0.007776\n",
       "dtype: float64"
      ]
     },
     "execution_count": 58,
     "metadata": {},
     "output_type": "execute_result"
    }
   ],
   "source": [
    "south[event_cols].mean().sort_values()"
   ]
  },
  {
   "cell_type": "markdown",
   "metadata": {},
   "source": [
    "## Feature importances are low for infrequent events.  Analyze effect of scaling frequency of event on weather."
   ]
  },
  {
   "cell_type": "code",
   "execution_count": 70,
   "metadata": {
    "collapsed": false
   },
   "outputs": [],
   "source": [
    "dfsouth = pd.DataFrame()\n",
    "for xing in [1, 5]:\n",
    "    dfsouth = pd.concat([dfsouth, select_mungedata(3, xing, '2013-1-1', '2016-1-1')])"
   ]
  },
  {
   "cell_type": "code",
   "execution_count": 75,
   "metadata": {
    "collapsed": true
   },
   "outputs": [],
   "source": [
    "dfnorth = pd.DataFrame()\n",
    "for xing in [2, 6]:\n",
    "    dfnorth = pd.concat([dfnorth, select_mungedata(4, xing, '2013-1-1', '2016-1-1')])"
   ]
  },
  {
   "cell_type": "code",
   "execution_count": 81,
   "metadata": {
    "collapsed": false
   },
   "outputs": [
    {
     "data": {
      "text/plain": [
       "fog                 14640\n",
       "precip              51903\n",
       "precip_m1           51952\n",
       "precip_m2           51971\n",
       "precip_p1           51910\n",
       "precip_p2           51960\n",
       "precip_p3           51986\n",
       "rain                47091\n",
       "rain_m1             47182\n",
       "rain_m2             47200\n",
       "rain_p1             47177\n",
       "rain_p2             47400\n",
       "rain_p3             47265\n",
       "snow                 1177\n",
       "snow_m1              1343\n",
       "snow_m2              1331\n",
       "snow_p1              1206\n",
       "snow_p2              1226\n",
       "snow_p3              1218\n",
       "temp_max           102824\n",
       "temp_max_m1        102824\n",
       "temp_max_m2        102824\n",
       "temp_max_p1        102824\n",
       "temp_max_p2        102824\n",
       "temp_max_p3        102824\n",
       "temp_mean          102824\n",
       "temp_mean_m1       102824\n",
       "temp_mean_m2       102824\n",
       "temp_mean_p1       102824\n",
       "temp_mean_p2       102824\n",
       "temp_mean_p3       102824\n",
       "temp_min           102824\n",
       "temp_min_m1        102824\n",
       "temp_min_m2        102824\n",
       "temp_min_p1        102824\n",
       "temp_min_p2        102824\n",
       "temp_min_p3        102824\n",
       "thunderstorm          563\n",
       "thunderstorm_m1       568\n",
       "thunderstorm_m2       573\n",
       "thunderstorm_p1       576\n",
       "thunderstorm_p2       476\n",
       "thunderstorm_p3       462\n",
       "viz_max            102824\n",
       "wind_max           102824\n",
       "dtype: int64"
      ]
     },
     "execution_count": 81,
     "metadata": {},
     "output_type": "execute_result"
    }
   ],
   "source": [
    "dfnorth[dfnorth > 0].count(0)[weather_cols]"
   ]
  },
  {
   "cell_type": "code",
   "execution_count": 83,
   "metadata": {
    "collapsed": false
   },
   "outputs": [
    {
     "data": {
      "text/plain": [
       "thunderstorm_m2    0.170662\n",
       "thunderstorm       0.120159\n",
       "snow_m1            0.114748\n",
       "snow_p2            0.107416\n",
       "thunderstorm_p3    0.090947\n",
       "snow               0.089063\n",
       "thunderstorm_m1    0.076944\n",
       "thunderstorm_p1    0.074148\n",
       "thunderstorm_p2    0.065419\n",
       "snow_p3            0.048123\n",
       "snow_p1            0.044398\n",
       "snow_m2            0.037406\n",
       "fog                0.020061\n",
       "precip_p1          0.013069\n",
       "precip_p2          0.011696\n",
       "rain_m1            0.010976\n",
       "precip_p3          0.010389\n",
       "precip_m2          0.010374\n",
       "precip             0.009686\n",
       "rain_p2            0.009510\n",
       "precip_m1          0.009494\n",
       "rain_p1            0.009180\n",
       "rain_m2            0.009116\n",
       "rain               0.008888\n",
       "temp_max_p3        0.008776\n",
       "rain_p3            0.008650\n",
       "temp_max           0.008422\n",
       "temp_min_m2        0.007581\n",
       "temp_max_p1        0.007239\n",
       "temp_mean_p1       0.007197\n",
       "temp_mean_p3       0.007159\n",
       "temp_max_m1        0.007112\n",
       "temp_max_p2        0.007102\n",
       "temp_min_p1        0.006933\n",
       "temp_mean_m2       0.006680\n",
       "temp_min_m1        0.006661\n",
       "temp_mean          0.006576\n",
       "temp_max_m2        0.006562\n",
       "temp_min           0.006494\n",
       "wind_max           0.006337\n",
       "temp_mean_m1       0.006303\n",
       "temp_mean_p2       0.006291\n",
       "temp_min_p3        0.006270\n",
       "temp_min_p2        0.005849\n",
       "viz_max            0.000802\n",
       "dtype: float64"
      ]
     },
     "execution_count": 83,
     "metadata": {},
     "output_type": "execute_result"
    }
   ],
   "source": [
    "(north[weather_cols].mean(0) / dfnorth[dfnorth > 0].count(0)[weather_cols] * 102824).sort_values(ascending=False)"
   ]
  },
  {
   "cell_type": "code",
   "execution_count": 84,
   "metadata": {
    "collapsed": false
   },
   "outputs": [
    {
     "data": {
      "text/plain": [
       "snow_m2            0.075491\n",
       "snow               0.072897\n",
       "snow_p3            0.068718\n",
       "snow_p2            0.067191\n",
       "snow_p1            0.065161\n",
       "thunderstorm_p3    0.061710\n",
       "snow_m1            0.060020\n",
       "thunderstorm_p1    0.041854\n",
       "thunderstorm_p2    0.033789\n",
       "thunderstorm_m2    0.031777\n",
       "thunderstorm       0.029545\n",
       "thunderstorm_m1    0.025242\n",
       "fog                0.021427\n",
       "precip_m2          0.009150\n",
       "precip_p2          0.008782\n",
       "rain_p3            0.008222\n",
       "precip_p3          0.008127\n",
       "rain_m1            0.008108\n",
       "precip_p1          0.008075\n",
       "rain               0.008073\n",
       "precip             0.007621\n",
       "precip_m1          0.007608\n",
       "rain_p1            0.007363\n",
       "rain_p2            0.007111\n",
       "rain_m2            0.007073\n",
       "temp_min_m2        0.005648\n",
       "temp_mean_m2       0.005492\n",
       "temp_min           0.005361\n",
       "temp_min_m1        0.005240\n",
       "wind_max           0.005162\n",
       "temp_min_p1        0.004713\n",
       "temp_max_m2        0.004579\n",
       "temp_max_p3        0.004530\n",
       "temp_max_p1        0.004471\n",
       "temp_max_p2        0.004470\n",
       "temp_mean_p3       0.004406\n",
       "temp_mean_m1       0.004350\n",
       "temp_min_p3        0.004337\n",
       "temp_mean_p1       0.004302\n",
       "temp_min_p2        0.004165\n",
       "temp_max_m1        0.004095\n",
       "temp_mean_p2       0.004056\n",
       "temp_mean          0.004053\n",
       "temp_max           0.003938\n",
       "viz_max            0.000114\n",
       "dtype: float64"
      ]
     },
     "execution_count": 84,
     "metadata": {},
     "output_type": "execute_result"
    }
   ],
   "source": [
    "(south[weather_cols].mean(0) / dfsouth[dfsouth > 0].count(0)[weather_cols] * 102824).sort_values(ascending=False)"
   ]
  },
  {
   "cell_type": "code",
   "execution_count": null,
   "metadata": {
    "collapsed": true
   },
   "outputs": [],
   "source": []
  }
 ],
 "metadata": {
  "kernelspec": {
   "display_name": "Python 2",
   "language": "python",
   "name": "python2"
  },
  "language_info": {
   "codemirror_mode": {
    "name": "ipython",
    "version": 2
   },
   "file_extension": ".py",
   "mimetype": "text/x-python",
   "name": "python",
   "nbconvert_exporter": "python",
   "pygments_lexer": "ipython2",
   "version": "2.7.11"
  }
 },
 "nbformat": 4,
 "nbformat_minor": 0
}

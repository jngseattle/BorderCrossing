{
 "cells": [
  {
   "cell_type": "code",
   "execution_count": 3,
   "metadata": {
    "collapsed": false
   },
   "outputs": [],
   "source": [
    "from BorderModel import IncrementalModel, run_Incremental, sort_importances, print_importances\n",
    "from BorderQuery import select_features, select_mungedata_simple, select_mungedata\n",
    "from sklearn.ensemble import ExtraTreesRegressor\n",
    "from sklearn.grid_search import GridSearchCV\n",
    "import datetime as dt\n",
    "import matplotlib.pyplot as plt\n",
    "%matplotlib inline\n",
    "import pprint\n",
    "import itertools\n",
    "import pdb\n",
    "import random\n",
    "import pandas as pd\n",
    "import numpy as np"
   ]
  },
  {
   "cell_type": "markdown",
   "metadata": {},
   "source": [
    "### Initialize for parallel operations"
   ]
  },
  {
   "cell_type": "code",
   "execution_count": 374,
   "metadata": {
    "collapsed": false
   },
   "outputs": [
    {
     "name": "stdout",
     "output_type": "stream",
     "text": [
      "importing datetime on engine(s)\n",
      "importing IncrementalModel,run_Incremental from BorderModel on engine(s)\n",
      "importing select_features,select_mungedata_simple,select_mungedata from BorderQuery on engine(s)\n",
      "importing ExtraTreesRegressor from sklearn.ensemble on engine(s)\n",
      "importing GridSearchCV from sklearn.grid_search on engine(s)\n"
     ]
    }
   ],
   "source": [
    "import os\n",
    "from ipyparallel import Client\n",
    "rc = Client()\n",
    "dview = rc[:]\n",
    "\n",
    "# set proper working directory on all clients\n",
    "cwd = os.getcwd()\n",
    "dview.map(os.chdir, [cwd] * 40)\n",
    "# print(dview.apply_sync(os.getcwd))\n",
    "\n",
    "with dview.sync_imports():\n",
    "    import datetime\n",
    "    from BorderModel import IncrementalModel, run_Incremental\n",
    "    from BorderQuery import select_features, select_mungedata_simple, select_mungedata\n",
    "    from sklearn.ensemble import ExtraTreesRegressor\n",
    "    from sklearn.grid_search import GridSearchCV"
   ]
  },
  {
   "cell_type": "code",
   "execution_count": 375,
   "metadata": {
    "collapsed": false
   },
   "outputs": [
    {
     "name": "stdout",
     "output_type": "stream",
     "text": [
      "importing IncrementalModel,run_Incremental from BorderModel on engine(s)\n"
     ]
    }
   ],
   "source": [
    "from BorderModel import IncrementalModel, run_Incremental\n",
    "with dview.sync_imports():\n",
    "    from BorderModel import IncrementalModel, run_Incremental\n",
    "import random\n",
    "\n",
    "def create_train_test(year, train_length=2):\n",
    "    '''\n",
    "    IN \n",
    "        years: list of years to predict\n",
    "        train_length: number of years to train\n",
    "    '''\n",
    "    train_start = datetime.date(year - train_length, 1, 1).strftime('%Y-%m-%d')\n",
    "    train_end = datetime.date(year, 1, 1).strftime('%Y-%m-%d')\n",
    "    test_start = datetime.date(year, 1, 1).strftime('%Y-%m-%d')\n",
    "    test_end = datetime.date(year + 1, 1, 1).strftime('%Y-%m-%d')\n",
    "    return train_start, train_end, test_start, test_end\n",
    "    \n",
    "def compare_years_parallel(model, xing, munger_id, years):\n",
    "    prlist = {}\n",
    "    for year in years:\n",
    "        cpu = random.randint(0, 31)\n",
    "        train_start, train_end, test_start, test_end = create_train_test(year, 2)\n",
    "\n",
    "        prlist[year] = rc[cpu].apply_async(run_Incremental, model, munger_id, xing,  \n",
    "                                           train_start, train_end, \n",
    "                                           test_start, test_end)\n",
    "        \n",
    "    return prlist"
   ]
  },
  {
   "cell_type": "code",
   "execution_count": 376,
   "metadata": {
    "collapsed": true
   },
   "outputs": [],
   "source": [
    "def model_plot(model, start, end):\n",
    "    plt.figure(figsize=(16,4))\n",
    "    baseline = model.baseline()\n",
    "    ensemble = model.ensemble()\n",
    "    actuals = model.actual\n",
    "    yhat = model.y_predict\n",
    "    \n",
    "    plt.plot(actuals[(actuals.index.date>=start) & (actuals.index.date<end)], label='actuals')\n",
    "    plt.plot(baseline[(baseline.index.date>=start) & (baseline.index.date<end)], label='baseline')\n",
    "    plt.plot(yhat[(yhat.index.date>=start) & (yhat.index.date<end)], label='predictions')\n",
    "    plt.plot(ensemble[(ensemble.index.date>=start) & (ensemble.index.date<end)], label='ensemble')\n",
    "    plt.legend();\n",
    "    \n",
    "def imp_df(xid, model_years):\n",
    "    impdf = pd.DataFrame()\n",
    "    for year, model in model_years.items():\n",
    "        imp = sort_importances(model.model.best_estimator_, model.X.columns)\n",
    "        df = pd.DataFrame(np.array(imp)[:,1], np.array(imp)[:,0]).T\n",
    "        df['xid'] = xid\n",
    "        df['yr'] = int(year)\n",
    "        df = df.set_index(['xid', 'yr'])\n",
    "        impdf = pd.concat([impdf, df])\n",
    "    return impdf"
   ]
  },
  {
   "cell_type": "markdown",
   "metadata": {},
   "source": [
    "## Pacific Crossing South"
   ]
  },
  {
   "cell_type": "code",
   "execution_count": 377,
   "metadata": {
    "collapsed": false
   },
   "outputs": [],
   "source": [
    "model = ExtraTreesRegressor(n_jobs=-1, n_estimators=96)\n",
    "pr5 = compare_years_parallel(model, 5, 3, range(2011, 2016))"
   ]
  },
  {
   "cell_type": "code",
   "execution_count": 421,
   "metadata": {
    "collapsed": false
   },
   "outputs": [
    {
     "name": "stdout",
     "output_type": "stream",
     "text": [
      "{'model': 0.49288736279227985, 'ensemble': 0.54696587195236956, 'baseline': 0.50830951929768831}\n",
      "{'model': 0.61514885220285942, 'ensemble': 0.64429596179219595, 'baseline': 0.6264414468772701}\n",
      "{'model': 0.61504775414227275, 'ensemble': 0.60102454050577681, 'baseline': 0.57215536973016168}\n",
      "{'model': 0.57792935460423078, 'ensemble': 0.59804534045376045, 'baseline': 0.51290499913254095}\n",
      "{'model': 0.32134963611719236, 'ensemble': 0.32372928929853795, 'baseline': 0.23074703434185284}\n"
     ]
    }
   ],
   "source": [
    "model5 = {}\n",
    "for year in range(2011, 2016):\n",
    "    if pr5[year].ready():\n",
    "        model5[year] = pr5[year].get(1)\n",
    "        print model5[year].score()\n",
    "    else:\n",
    "        print year, \"not ready\""
   ]
  },
  {
   "cell_type": "code",
   "execution_count": 422,
   "metadata": {
    "collapsed": false
   },
   "outputs": [],
   "source": [
    "imp5 = imp_df(5, model5)"
   ]
  },
  {
   "cell_type": "markdown",
   "metadata": {},
   "source": [
    "## Pacific Crossing North"
   ]
  },
  {
   "cell_type": "code",
   "execution_count": 380,
   "metadata": {
    "collapsed": true
   },
   "outputs": [],
   "source": [
    "model = ExtraTreesRegressor(n_jobs=-1, n_estimators=96)\n",
    "pr6 = compare_years_parallel(model, 6, 4, range(2013, 2016))"
   ]
  },
  {
   "cell_type": "code",
   "execution_count": 414,
   "metadata": {
    "collapsed": false
   },
   "outputs": [
    {
     "name": "stdout",
     "output_type": "stream",
     "text": [
      "{'model': 0.25320951299174665, 'ensemble': 0.27696545876290857, 'baseline': 0.26915343237860456}\n",
      "{'model': 0.30003813869069584, 'ensemble': 0.31299321758551935, 'baseline': 0.29165671141312366}\n",
      "{'model': -0.18949947619078555, 'ensemble': -0.058769421901040619, 'baseline': -0.32952975930038231}\n"
     ]
    }
   ],
   "source": [
    "model6 = {}\n",
    "for year in range(2013, 2016):\n",
    "    if pr6[year].ready():\n",
    "        model6[year] = pr6[year].get(1)\n",
    "        print model6[year].score()\n",
    "    else:\n",
    "        print year, \"not ready\""
   ]
  },
  {
   "cell_type": "code",
   "execution_count": 415,
   "metadata": {
    "collapsed": true
   },
   "outputs": [],
   "source": [
    "imp6 = imp_df(6, model6)"
   ]
  },
  {
   "cell_type": "markdown",
   "metadata": {},
   "source": [
    "## Peace Arch South"
   ]
  },
  {
   "cell_type": "code",
   "execution_count": 383,
   "metadata": {
    "collapsed": true
   },
   "outputs": [],
   "source": [
    "model = ExtraTreesRegressor(n_jobs=-1, n_estimators=96)\n",
    "pr1 = compare_years_parallel(model, 1, 3, range(2011, 2016))"
   ]
  },
  {
   "cell_type": "code",
   "execution_count": 423,
   "metadata": {
    "collapsed": false
   },
   "outputs": [
    {
     "name": "stdout",
     "output_type": "stream",
     "text": [
      "{'model': 0.11119174659686448, 'ensemble': 0.39072582624651886, 'baseline': 0.39385165054016535}\n",
      "{'model': 0.55672878925324998, 'ensemble': 0.62167070256277257, 'baseline': 0.60900901758379433}\n",
      "{'model': 0.63829958139168153, 'ensemble': 0.6380169391467585, 'baseline': 0.61360307915900703}\n",
      "{'model': 0.60094886476415943, 'ensemble': 0.61233493221941937, 'baseline': 0.56996406060235849}\n",
      "{'model': 0.15344579612365894, 'ensemble': 0.18745585639513052, 'baseline': 0.1059067680212642}\n"
     ]
    }
   ],
   "source": [
    "model1 = {}\n",
    "for year in range(2011, 2016):\n",
    "    if pr1[year].ready():\n",
    "        model1[year] = pr1[year].get(1)\n",
    "        print model1[year].score()\n",
    "    else:\n",
    "        print year, \"not ready\""
   ]
  },
  {
   "cell_type": "code",
   "execution_count": 424,
   "metadata": {
    "collapsed": true
   },
   "outputs": [],
   "source": [
    "imp1 = imp_df(1, model1)"
   ]
  },
  {
   "cell_type": "markdown",
   "metadata": {},
   "source": [
    "## Peace Arch North"
   ]
  },
  {
   "cell_type": "code",
   "execution_count": 386,
   "metadata": {
    "collapsed": true
   },
   "outputs": [],
   "source": [
    "model = ExtraTreesRegressor(n_jobs=-1, n_estimators=96)\n",
    "pr2 = compare_years_parallel(model, 2, 4, range(2013, 2016))"
   ]
  },
  {
   "cell_type": "code",
   "execution_count": 417,
   "metadata": {
    "collapsed": false
   },
   "outputs": [
    {
     "name": "stdout",
     "output_type": "stream",
     "text": [
      "{'model': 0.38463435093991338, 'ensemble': 0.37393983097866912, 'baseline': 0.33042393202063758}\n",
      "{'model': 0.41927825400267738, 'ensemble': 0.39841584748602588, 'baseline': 0.33485359571062911}\n",
      "{'model': 0.052299021629152675, 'ensemble': 0.11929093903203281, 'baseline': -0.1272957779194126}\n"
     ]
    }
   ],
   "source": [
    "model2 = {}\n",
    "for year in range(2013, 2016):\n",
    "    if pr2[year].ready():\n",
    "        model2[year] = pr2[year].get(1)\n",
    "        print model2[year].score()\n",
    "    else:\n",
    "        print year, \"not ready\""
   ]
  },
  {
   "cell_type": "code",
   "execution_count": 418,
   "metadata": {
    "collapsed": true
   },
   "outputs": [],
   "source": [
    "imp2 = imp_df(2, model2)"
   ]
  },
  {
   "cell_type": "markdown",
   "metadata": {},
   "source": [
    "# Combine and compare feature importances"
   ]
  },
  {
   "cell_type": "code",
   "execution_count": 425,
   "metadata": {
    "collapsed": true
   },
   "outputs": [],
   "source": [
    "impall = pd.concat([imp1, imp2, imp5, imp6]).astype(float)"
   ]
  },
  {
   "cell_type": "code",
   "execution_count": 426,
   "metadata": {
    "collapsed": false
   },
   "outputs": [
    {
     "data": {
      "text/html": [
       "<div>\n",
       "<table border=\"1\" class=\"dataframe\">\n",
       "  <thead>\n",
       "    <tr style=\"text-align: right;\">\n",
       "      <th></th>\n",
       "      <th></th>\n",
       "      <th>avg_delta_1</th>\n",
       "      <th>avg_delta_10</th>\n",
       "      <th>avg_delta_11</th>\n",
       "      <th>avg_delta_12</th>\n",
       "      <th>avg_delta_2</th>\n",
       "      <th>avg_delta_3</th>\n",
       "      <th>avg_delta_4</th>\n",
       "      <th>avg_delta_5</th>\n",
       "      <th>avg_delta_6</th>\n",
       "      <th>avg_delta_7</th>\n",
       "      <th>...</th>\n",
       "      <th>thunderstorm</th>\n",
       "      <th>thunderstorm_m1</th>\n",
       "      <th>thunderstorm_m2</th>\n",
       "      <th>thunderstorm_p1</th>\n",
       "      <th>thunderstorm_p2</th>\n",
       "      <th>thunderstorm_p3</th>\n",
       "      <th>viz_max</th>\n",
       "      <th>week</th>\n",
       "      <th>wind_max</th>\n",
       "      <th>year</th>\n",
       "    </tr>\n",
       "    <tr>\n",
       "      <th>xid</th>\n",
       "      <th>yr</th>\n",
       "      <th></th>\n",
       "      <th></th>\n",
       "      <th></th>\n",
       "      <th></th>\n",
       "      <th></th>\n",
       "      <th></th>\n",
       "      <th></th>\n",
       "      <th></th>\n",
       "      <th></th>\n",
       "      <th></th>\n",
       "      <th></th>\n",
       "      <th></th>\n",
       "      <th></th>\n",
       "      <th></th>\n",
       "      <th></th>\n",
       "      <th></th>\n",
       "      <th></th>\n",
       "      <th></th>\n",
       "      <th></th>\n",
       "      <th></th>\n",
       "      <th></th>\n",
       "    </tr>\n",
       "  </thead>\n",
       "  <tbody>\n",
       "    <tr>\n",
       "      <th rowspan=\"5\" valign=\"top\">1</th>\n",
       "      <th>2011</th>\n",
       "      <td>0.013121</td>\n",
       "      <td>0.016608</td>\n",
       "      <td>0.021084</td>\n",
       "      <td>0.015362</td>\n",
       "      <td>0.011197</td>\n",
       "      <td>0.007649</td>\n",
       "      <td>0.008366</td>\n",
       "      <td>0.007770</td>\n",
       "      <td>0.011153</td>\n",
       "      <td>0.012862</td>\n",
       "      <td>...</td>\n",
       "      <td>0.000492</td>\n",
       "      <td>0.000492</td>\n",
       "      <td>0.002453</td>\n",
       "      <td>0.000253</td>\n",
       "      <td>0.001912</td>\n",
       "      <td>0.000659</td>\n",
       "      <td>0.000292</td>\n",
       "      <td>0.014181</td>\n",
       "      <td>0.004449</td>\n",
       "      <td>0.009262</td>\n",
       "    </tr>\n",
       "    <tr>\n",
       "      <th>2012</th>\n",
       "      <td>0.018042</td>\n",
       "      <td>0.015961</td>\n",
       "      <td>0.017665</td>\n",
       "      <td>0.012493</td>\n",
       "      <td>0.015391</td>\n",
       "      <td>0.011811</td>\n",
       "      <td>0.012284</td>\n",
       "      <td>0.008540</td>\n",
       "      <td>0.013629</td>\n",
       "      <td>0.008576</td>\n",
       "      <td>...</td>\n",
       "      <td>0.000176</td>\n",
       "      <td>0.000528</td>\n",
       "      <td>0.003691</td>\n",
       "      <td>0.000345</td>\n",
       "      <td>0.002806</td>\n",
       "      <td>0.000210</td>\n",
       "      <td>0.000230</td>\n",
       "      <td>0.008491</td>\n",
       "      <td>0.007686</td>\n",
       "      <td>0.011646</td>\n",
       "    </tr>\n",
       "    <tr>\n",
       "      <th>2013</th>\n",
       "      <td>0.007592</td>\n",
       "      <td>0.012019</td>\n",
       "      <td>0.010276</td>\n",
       "      <td>0.008327</td>\n",
       "      <td>0.008164</td>\n",
       "      <td>0.007603</td>\n",
       "      <td>0.007650</td>\n",
       "      <td>0.008643</td>\n",
       "      <td>0.012170</td>\n",
       "      <td>0.012265</td>\n",
       "      <td>...</td>\n",
       "      <td>0.000172</td>\n",
       "      <td>0.000230</td>\n",
       "      <td>0.000183</td>\n",
       "      <td>0.000285</td>\n",
       "      <td>0.000136</td>\n",
       "      <td>0.000367</td>\n",
       "      <td>0.000134</td>\n",
       "      <td>0.007781</td>\n",
       "      <td>0.005972</td>\n",
       "      <td>0.011240</td>\n",
       "    </tr>\n",
       "    <tr>\n",
       "      <th>2014</th>\n",
       "      <td>0.006335</td>\n",
       "      <td>0.008152</td>\n",
       "      <td>0.006308</td>\n",
       "      <td>0.006134</td>\n",
       "      <td>0.006111</td>\n",
       "      <td>0.008624</td>\n",
       "      <td>0.005927</td>\n",
       "      <td>0.008336</td>\n",
       "      <td>0.007867</td>\n",
       "      <td>0.009068</td>\n",
       "      <td>...</td>\n",
       "      <td>0.000244</td>\n",
       "      <td>0.000266</td>\n",
       "      <td>0.000177</td>\n",
       "      <td>0.000345</td>\n",
       "      <td>0.000230</td>\n",
       "      <td>0.000322</td>\n",
       "      <td>0.000168</td>\n",
       "      <td>0.010394</td>\n",
       "      <td>0.004886</td>\n",
       "      <td>0.005906</td>\n",
       "    </tr>\n",
       "    <tr>\n",
       "      <th>2015</th>\n",
       "      <td>0.006390</td>\n",
       "      <td>0.009285</td>\n",
       "      <td>0.008932</td>\n",
       "      <td>0.008602</td>\n",
       "      <td>0.006200</td>\n",
       "      <td>0.006600</td>\n",
       "      <td>0.007435</td>\n",
       "      <td>0.009397</td>\n",
       "      <td>0.011109</td>\n",
       "      <td>0.010393</td>\n",
       "      <td>...</td>\n",
       "      <td>0.000036</td>\n",
       "      <td>0.000035</td>\n",
       "      <td>0.000105</td>\n",
       "      <td>0.000080</td>\n",
       "      <td>0.000249</td>\n",
       "      <td>0.000183</td>\n",
       "      <td>0.000140</td>\n",
       "      <td>0.007942</td>\n",
       "      <td>0.004577</td>\n",
       "      <td>0.011838</td>\n",
       "    </tr>\n",
       "    <tr>\n",
       "      <th rowspan=\"3\" valign=\"top\">2</th>\n",
       "      <th>2013</th>\n",
       "      <td>0.006363</td>\n",
       "      <td>0.012337</td>\n",
       "      <td>0.012991</td>\n",
       "      <td>0.007218</td>\n",
       "      <td>0.009292</td>\n",
       "      <td>0.008164</td>\n",
       "      <td>0.007991</td>\n",
       "      <td>0.011642</td>\n",
       "      <td>0.017061</td>\n",
       "      <td>0.006499</td>\n",
       "      <td>...</td>\n",
       "      <td>0.001363</td>\n",
       "      <td>0.000813</td>\n",
       "      <td>0.001179</td>\n",
       "      <td>0.000272</td>\n",
       "      <td>0.000345</td>\n",
       "      <td>0.000828</td>\n",
       "      <td>0.000005</td>\n",
       "      <td>0.007746</td>\n",
       "      <td>0.005611</td>\n",
       "      <td>0.026964</td>\n",
       "    </tr>\n",
       "    <tr>\n",
       "      <th>2014</th>\n",
       "      <td>0.008090</td>\n",
       "      <td>0.010241</td>\n",
       "      <td>0.008390</td>\n",
       "      <td>0.008563</td>\n",
       "      <td>0.008605</td>\n",
       "      <td>0.009413</td>\n",
       "      <td>0.008213</td>\n",
       "      <td>0.009799</td>\n",
       "      <td>0.008080</td>\n",
       "      <td>0.007831</td>\n",
       "      <td>...</td>\n",
       "      <td>0.000820</td>\n",
       "      <td>0.000381</td>\n",
       "      <td>0.001784</td>\n",
       "      <td>0.000365</td>\n",
       "      <td>0.000534</td>\n",
       "      <td>0.000826</td>\n",
       "      <td>0.001254</td>\n",
       "      <td>0.010038</td>\n",
       "      <td>0.005899</td>\n",
       "      <td>0.006546</td>\n",
       "    </tr>\n",
       "    <tr>\n",
       "      <th>2015</th>\n",
       "      <td>0.006442</td>\n",
       "      <td>0.019309</td>\n",
       "      <td>0.016008</td>\n",
       "      <td>0.015609</td>\n",
       "      <td>0.010782</td>\n",
       "      <td>0.008802</td>\n",
       "      <td>0.008314</td>\n",
       "      <td>0.009657</td>\n",
       "      <td>0.008034</td>\n",
       "      <td>0.009225</td>\n",
       "      <td>...</td>\n",
       "      <td>0.000041</td>\n",
       "      <td>0.000120</td>\n",
       "      <td>0.000713</td>\n",
       "      <td>0.000169</td>\n",
       "      <td>0.000216</td>\n",
       "      <td>0.000054</td>\n",
       "      <td>0.000681</td>\n",
       "      <td>0.008968</td>\n",
       "      <td>0.006581</td>\n",
       "      <td>0.009431</td>\n",
       "    </tr>\n",
       "    <tr>\n",
       "      <th rowspan=\"5\" valign=\"top\">5</th>\n",
       "      <th>2011</th>\n",
       "      <td>0.006549</td>\n",
       "      <td>0.021182</td>\n",
       "      <td>0.020769</td>\n",
       "      <td>0.019018</td>\n",
       "      <td>0.009796</td>\n",
       "      <td>0.007586</td>\n",
       "      <td>0.006669</td>\n",
       "      <td>0.005445</td>\n",
       "      <td>0.010395</td>\n",
       "      <td>0.012446</td>\n",
       "      <td>...</td>\n",
       "      <td>0.000433</td>\n",
       "      <td>0.000369</td>\n",
       "      <td>0.001622</td>\n",
       "      <td>0.000389</td>\n",
       "      <td>0.003817</td>\n",
       "      <td>0.000912</td>\n",
       "      <td>0.000471</td>\n",
       "      <td>0.014751</td>\n",
       "      <td>0.004644</td>\n",
       "      <td>0.008399</td>\n",
       "    </tr>\n",
       "    <tr>\n",
       "      <th>2012</th>\n",
       "      <td>0.007262</td>\n",
       "      <td>0.021025</td>\n",
       "      <td>0.021888</td>\n",
       "      <td>0.015868</td>\n",
       "      <td>0.011948</td>\n",
       "      <td>0.006899</td>\n",
       "      <td>0.007534</td>\n",
       "      <td>0.007442</td>\n",
       "      <td>0.011422</td>\n",
       "      <td>0.009843</td>\n",
       "      <td>...</td>\n",
       "      <td>0.000166</td>\n",
       "      <td>0.000346</td>\n",
       "      <td>0.001434</td>\n",
       "      <td>0.000505</td>\n",
       "      <td>0.002063</td>\n",
       "      <td>0.000208</td>\n",
       "      <td>0.000090</td>\n",
       "      <td>0.007859</td>\n",
       "      <td>0.006201</td>\n",
       "      <td>0.011429</td>\n",
       "    </tr>\n",
       "    <tr>\n",
       "      <th>2013</th>\n",
       "      <td>0.005575</td>\n",
       "      <td>0.010646</td>\n",
       "      <td>0.012614</td>\n",
       "      <td>0.008928</td>\n",
       "      <td>0.009000</td>\n",
       "      <td>0.006494</td>\n",
       "      <td>0.006563</td>\n",
       "      <td>0.007814</td>\n",
       "      <td>0.010465</td>\n",
       "      <td>0.010663</td>\n",
       "      <td>...</td>\n",
       "      <td>0.000233</td>\n",
       "      <td>0.000153</td>\n",
       "      <td>0.000188</td>\n",
       "      <td>0.000352</td>\n",
       "      <td>0.000099</td>\n",
       "      <td>0.000360</td>\n",
       "      <td>0.000042</td>\n",
       "      <td>0.006941</td>\n",
       "      <td>0.005712</td>\n",
       "      <td>0.007730</td>\n",
       "    </tr>\n",
       "    <tr>\n",
       "      <th>2014</th>\n",
       "      <td>0.006461</td>\n",
       "      <td>0.006673</td>\n",
       "      <td>0.007685</td>\n",
       "      <td>0.008006</td>\n",
       "      <td>0.007189</td>\n",
       "      <td>0.007683</td>\n",
       "      <td>0.008565</td>\n",
       "      <td>0.009493</td>\n",
       "      <td>0.010563</td>\n",
       "      <td>0.008677</td>\n",
       "      <td>...</td>\n",
       "      <td>0.000262</td>\n",
       "      <td>0.000160</td>\n",
       "      <td>0.000172</td>\n",
       "      <td>0.000230</td>\n",
       "      <td>0.000144</td>\n",
       "      <td>0.000349</td>\n",
       "      <td>0.000158</td>\n",
       "      <td>0.010442</td>\n",
       "      <td>0.004517</td>\n",
       "      <td>0.008410</td>\n",
       "    </tr>\n",
       "    <tr>\n",
       "      <th>2015</th>\n",
       "      <td>0.006324</td>\n",
       "      <td>0.008355</td>\n",
       "      <td>0.006946</td>\n",
       "      <td>0.006890</td>\n",
       "      <td>0.005851</td>\n",
       "      <td>0.007302</td>\n",
       "      <td>0.007220</td>\n",
       "      <td>0.009741</td>\n",
       "      <td>0.010423</td>\n",
       "      <td>0.012183</td>\n",
       "      <td>...</td>\n",
       "      <td>0.000045</td>\n",
       "      <td>0.000037</td>\n",
       "      <td>0.000115</td>\n",
       "      <td>0.000045</td>\n",
       "      <td>0.000087</td>\n",
       "      <td>0.000163</td>\n",
       "      <td>0.000136</td>\n",
       "      <td>0.007838</td>\n",
       "      <td>0.004719</td>\n",
       "      <td>0.026104</td>\n",
       "    </tr>\n",
       "    <tr>\n",
       "      <th rowspan=\"3\" valign=\"top\">6</th>\n",
       "      <th>2013</th>\n",
       "      <td>0.007374</td>\n",
       "      <td>0.009137</td>\n",
       "      <td>0.009487</td>\n",
       "      <td>0.011050</td>\n",
       "      <td>0.011825</td>\n",
       "      <td>0.007414</td>\n",
       "      <td>0.005635</td>\n",
       "      <td>0.007078</td>\n",
       "      <td>0.013439</td>\n",
       "      <td>0.005965</td>\n",
       "      <td>...</td>\n",
       "      <td>0.001516</td>\n",
       "      <td>0.000951</td>\n",
       "      <td>0.001072</td>\n",
       "      <td>0.000941</td>\n",
       "      <td>0.000233</td>\n",
       "      <td>0.000626</td>\n",
       "      <td>0.000063</td>\n",
       "      <td>0.008122</td>\n",
       "      <td>0.004745</td>\n",
       "      <td>0.049449</td>\n",
       "    </tr>\n",
       "    <tr>\n",
       "      <th>2014</th>\n",
       "      <td>0.009018</td>\n",
       "      <td>0.013020</td>\n",
       "      <td>0.008985</td>\n",
       "      <td>0.010182</td>\n",
       "      <td>0.009050</td>\n",
       "      <td>0.010414</td>\n",
       "      <td>0.011525</td>\n",
       "      <td>0.008416</td>\n",
       "      <td>0.010482</td>\n",
       "      <td>0.009087</td>\n",
       "      <td>...</td>\n",
       "      <td>0.000303</td>\n",
       "      <td>0.000183</td>\n",
       "      <td>0.001224</td>\n",
       "      <td>0.000772</td>\n",
       "      <td>0.000286</td>\n",
       "      <td>0.000091</td>\n",
       "      <td>0.002086</td>\n",
       "      <td>0.008705</td>\n",
       "      <td>0.007600</td>\n",
       "      <td>0.009293</td>\n",
       "    </tr>\n",
       "    <tr>\n",
       "      <th>2015</th>\n",
       "      <td>0.009933</td>\n",
       "      <td>0.015344</td>\n",
       "      <td>0.020508</td>\n",
       "      <td>0.012499</td>\n",
       "      <td>0.010133</td>\n",
       "      <td>0.007723</td>\n",
       "      <td>0.011577</td>\n",
       "      <td>0.011375</td>\n",
       "      <td>0.009141</td>\n",
       "      <td>0.011797</td>\n",
       "      <td>...</td>\n",
       "      <td>0.000121</td>\n",
       "      <td>0.000123</td>\n",
       "      <td>0.000392</td>\n",
       "      <td>0.000260</td>\n",
       "      <td>0.000112</td>\n",
       "      <td>0.000023</td>\n",
       "      <td>0.000935</td>\n",
       "      <td>0.008778</td>\n",
       "      <td>0.008381</td>\n",
       "      <td>0.011273</td>\n",
       "    </tr>\n",
       "  </tbody>\n",
       "</table>\n",
       "<p>16 rows × 206 columns</p>\n",
       "</div>"
      ],
      "text/plain": [
       "          avg_delta_1  avg_delta_10  avg_delta_11  avg_delta_12  avg_delta_2  \\\n",
       "xid yr                                                                         \n",
       "1   2011     0.013121      0.016608      0.021084      0.015362     0.011197   \n",
       "    2012     0.018042      0.015961      0.017665      0.012493     0.015391   \n",
       "    2013     0.007592      0.012019      0.010276      0.008327     0.008164   \n",
       "    2014     0.006335      0.008152      0.006308      0.006134     0.006111   \n",
       "    2015     0.006390      0.009285      0.008932      0.008602     0.006200   \n",
       "2   2013     0.006363      0.012337      0.012991      0.007218     0.009292   \n",
       "    2014     0.008090      0.010241      0.008390      0.008563     0.008605   \n",
       "    2015     0.006442      0.019309      0.016008      0.015609     0.010782   \n",
       "5   2011     0.006549      0.021182      0.020769      0.019018     0.009796   \n",
       "    2012     0.007262      0.021025      0.021888      0.015868     0.011948   \n",
       "    2013     0.005575      0.010646      0.012614      0.008928     0.009000   \n",
       "    2014     0.006461      0.006673      0.007685      0.008006     0.007189   \n",
       "    2015     0.006324      0.008355      0.006946      0.006890     0.005851   \n",
       "6   2013     0.007374      0.009137      0.009487      0.011050     0.011825   \n",
       "    2014     0.009018      0.013020      0.008985      0.010182     0.009050   \n",
       "    2015     0.009933      0.015344      0.020508      0.012499     0.010133   \n",
       "\n",
       "          avg_delta_3  avg_delta_4  avg_delta_5  avg_delta_6  avg_delta_7  \\\n",
       "xid yr                                                                      \n",
       "1   2011     0.007649     0.008366     0.007770     0.011153     0.012862   \n",
       "    2012     0.011811     0.012284     0.008540     0.013629     0.008576   \n",
       "    2013     0.007603     0.007650     0.008643     0.012170     0.012265   \n",
       "    2014     0.008624     0.005927     0.008336     0.007867     0.009068   \n",
       "    2015     0.006600     0.007435     0.009397     0.011109     0.010393   \n",
       "2   2013     0.008164     0.007991     0.011642     0.017061     0.006499   \n",
       "    2014     0.009413     0.008213     0.009799     0.008080     0.007831   \n",
       "    2015     0.008802     0.008314     0.009657     0.008034     0.009225   \n",
       "5   2011     0.007586     0.006669     0.005445     0.010395     0.012446   \n",
       "    2012     0.006899     0.007534     0.007442     0.011422     0.009843   \n",
       "    2013     0.006494     0.006563     0.007814     0.010465     0.010663   \n",
       "    2014     0.007683     0.008565     0.009493     0.010563     0.008677   \n",
       "    2015     0.007302     0.007220     0.009741     0.010423     0.012183   \n",
       "6   2013     0.007414     0.005635     0.007078     0.013439     0.005965   \n",
       "    2014     0.010414     0.011525     0.008416     0.010482     0.009087   \n",
       "    2015     0.007723     0.011577     0.011375     0.009141     0.011797   \n",
       "\n",
       "            ...     thunderstorm  thunderstorm_m1  thunderstorm_m2  \\\n",
       "xid yr      ...                                                      \n",
       "1   2011    ...         0.000492         0.000492         0.002453   \n",
       "    2012    ...         0.000176         0.000528         0.003691   \n",
       "    2013    ...         0.000172         0.000230         0.000183   \n",
       "    2014    ...         0.000244         0.000266         0.000177   \n",
       "    2015    ...         0.000036         0.000035         0.000105   \n",
       "2   2013    ...         0.001363         0.000813         0.001179   \n",
       "    2014    ...         0.000820         0.000381         0.001784   \n",
       "    2015    ...         0.000041         0.000120         0.000713   \n",
       "5   2011    ...         0.000433         0.000369         0.001622   \n",
       "    2012    ...         0.000166         0.000346         0.001434   \n",
       "    2013    ...         0.000233         0.000153         0.000188   \n",
       "    2014    ...         0.000262         0.000160         0.000172   \n",
       "    2015    ...         0.000045         0.000037         0.000115   \n",
       "6   2013    ...         0.001516         0.000951         0.001072   \n",
       "    2014    ...         0.000303         0.000183         0.001224   \n",
       "    2015    ...         0.000121         0.000123         0.000392   \n",
       "\n",
       "          thunderstorm_p1  thunderstorm_p2  thunderstorm_p3   viz_max  \\\n",
       "xid yr                                                                  \n",
       "1   2011         0.000253         0.001912         0.000659  0.000292   \n",
       "    2012         0.000345         0.002806         0.000210  0.000230   \n",
       "    2013         0.000285         0.000136         0.000367  0.000134   \n",
       "    2014         0.000345         0.000230         0.000322  0.000168   \n",
       "    2015         0.000080         0.000249         0.000183  0.000140   \n",
       "2   2013         0.000272         0.000345         0.000828  0.000005   \n",
       "    2014         0.000365         0.000534         0.000826  0.001254   \n",
       "    2015         0.000169         0.000216         0.000054  0.000681   \n",
       "5   2011         0.000389         0.003817         0.000912  0.000471   \n",
       "    2012         0.000505         0.002063         0.000208  0.000090   \n",
       "    2013         0.000352         0.000099         0.000360  0.000042   \n",
       "    2014         0.000230         0.000144         0.000349  0.000158   \n",
       "    2015         0.000045         0.000087         0.000163  0.000136   \n",
       "6   2013         0.000941         0.000233         0.000626  0.000063   \n",
       "    2014         0.000772         0.000286         0.000091  0.002086   \n",
       "    2015         0.000260         0.000112         0.000023  0.000935   \n",
       "\n",
       "              week  wind_max      year  \n",
       "xid yr                                  \n",
       "1   2011  0.014181  0.004449  0.009262  \n",
       "    2012  0.008491  0.007686  0.011646  \n",
       "    2013  0.007781  0.005972  0.011240  \n",
       "    2014  0.010394  0.004886  0.005906  \n",
       "    2015  0.007942  0.004577  0.011838  \n",
       "2   2013  0.007746  0.005611  0.026964  \n",
       "    2014  0.010038  0.005899  0.006546  \n",
       "    2015  0.008968  0.006581  0.009431  \n",
       "5   2011  0.014751  0.004644  0.008399  \n",
       "    2012  0.007859  0.006201  0.011429  \n",
       "    2013  0.006941  0.005712  0.007730  \n",
       "    2014  0.010442  0.004517  0.008410  \n",
       "    2015  0.007838  0.004719  0.026104  \n",
       "6   2013  0.008122  0.004745  0.049449  \n",
       "    2014  0.008705  0.007600  0.009293  \n",
       "    2015  0.008778  0.008381  0.011273  \n",
       "\n",
       "[16 rows x 206 columns]"
      ]
     },
     "execution_count": 426,
     "metadata": {},
     "output_type": "execute_result"
    }
   ],
   "source": [
    "impall"
   ]
  },
  {
   "cell_type": "code",
   "execution_count": 427,
   "metadata": {
    "collapsed": true
   },
   "outputs": [],
   "source": [
    "avgdelta_cols = [col for col in impall.columns.values if 'avg_delta' in col]"
   ]
  },
  {
   "cell_type": "code",
   "execution_count": 428,
   "metadata": {
    "collapsed": false
   },
   "outputs": [],
   "source": [
    "impall['trend'] = impall[avgdelta_cols].sum(1)"
   ]
  },
  {
   "cell_type": "code",
   "execution_count": 429,
   "metadata": {
    "collapsed": true
   },
   "outputs": [],
   "source": [
    "event_cols = [col for col in impall.columns.values if 'event' in col]"
   ]
  },
  {
   "cell_type": "code",
   "execution_count": 430,
   "metadata": {
    "collapsed": true
   },
   "outputs": [],
   "source": [
    "impall['event'] = impall[event_cols].sum(1)"
   ]
  },
  {
   "cell_type": "code",
   "execution_count": 431,
   "metadata": {
    "collapsed": false
   },
   "outputs": [
    {
     "data": {
      "text/plain": [
       "xid  yr  \n",
       "1    2011    0.148575\n",
       "     2012    0.163130\n",
       "     2013    0.118740\n",
       "     2014    0.104980\n",
       "     2015    0.113206\n",
       "2    2013    0.122681\n",
       "     2014    0.108005\n",
       "     2015    0.140273\n",
       "5    2011    0.153388\n",
       "     2012    0.147843\n",
       "     2013    0.115763\n",
       "     2014    0.116725\n",
       "     2015    0.116714\n",
       "6    2013    0.105261\n",
       "     2014    0.122626\n",
       "     2015    0.154850\n",
       "Name: trend, dtype: float64"
      ]
     },
     "execution_count": 431,
     "metadata": {},
     "output_type": "execute_result"
    }
   ],
   "source": [
    "impall.trend"
   ]
  },
  {
   "cell_type": "code",
   "execution_count": 432,
   "metadata": {
    "collapsed": false
   },
   "outputs": [
    {
     "data": {
      "text/plain": [
       "xid  yr  \n",
       "1    2011    0.087045\n",
       "     2012    0.109531\n",
       "     2013    0.084037\n",
       "     2014    0.062497\n",
       "     2015    0.063972\n",
       "2    2013    0.127130\n",
       "     2014    0.108524\n",
       "     2015    0.103970\n",
       "5    2011    0.075208\n",
       "     2012    0.084219\n",
       "     2013    0.081283\n",
       "     2014    0.058345\n",
       "     2015    0.064630\n",
       "6    2013    0.119153\n",
       "     2014    0.100158\n",
       "     2015    0.081439\n",
       "Name: event, dtype: float64"
      ]
     },
     "execution_count": 432,
     "metadata": {},
     "output_type": "execute_result"
    }
   ],
   "source": [
    "impall.event"
   ]
  },
  {
   "cell_type": "code",
   "execution_count": 433,
   "metadata": {
    "collapsed": false
   },
   "outputs": [
    {
     "data": {
      "text/plain": [
       "xid  yr  \n",
       "1    2011    0.496642\n",
       "     2012    0.477470\n",
       "     2013    0.564629\n",
       "     2014    0.594715\n",
       "     2015    0.573292\n",
       "2    2013    0.463182\n",
       "     2014    0.503950\n",
       "     2015    0.475748\n",
       "5    2011    0.520597\n",
       "     2012    0.537706\n",
       "     2013    0.575292\n",
       "     2014    0.582611\n",
       "     2015    0.564925\n",
       "6    2013    0.457621\n",
       "     2014    0.489205\n",
       "     2015    0.486568\n",
       "Name: minofday, dtype: float64"
      ]
     },
     "execution_count": 433,
     "metadata": {},
     "output_type": "execute_result"
    }
   ],
   "source": [
    "impall.minofday"
   ]
  },
  {
   "cell_type": "code",
   "execution_count": 434,
   "metadata": {
    "collapsed": false
   },
   "outputs": [
    {
     "data": {
      "text/plain": [
       "xid  yr  \n",
       "1    2011    0.057748\n",
       "     2012    0.036987\n",
       "     2013    0.054404\n",
       "     2014    0.078794\n",
       "     2015    0.077533\n",
       "2    2013    0.077430\n",
       "     2014    0.036541\n",
       "     2015    0.043235\n",
       "5    2011    0.065621\n",
       "     2012    0.049718\n",
       "     2013    0.062142\n",
       "     2014    0.073814\n",
       "     2015    0.070466\n",
       "6    2013    0.077635\n",
       "     2014    0.023863\n",
       "     2015    0.029494\n",
       "Name: dayofweek, dtype: float64"
      ]
     },
     "execution_count": 434,
     "metadata": {},
     "output_type": "execute_result"
    }
   ],
   "source": [
    "impall['dayofweek']"
   ]
  },
  {
   "cell_type": "code",
   "execution_count": 435,
   "metadata": {
    "collapsed": false
   },
   "outputs": [
    {
     "data": {
      "text/plain": [
       "xid  yr  \n",
       "1    2011    0.036850\n",
       "     2012    0.027764\n",
       "     2013    0.026774\n",
       "     2014    0.026073\n",
       "     2015    0.028110\n",
       "2    2013    0.042058\n",
       "     2014    0.023749\n",
       "     2015    0.027341\n",
       "5    2011    0.035767\n",
       "     2012    0.026596\n",
       "     2013    0.021857\n",
       "     2014    0.028429\n",
       "     2015    0.042072\n",
       "6    2013    0.068632\n",
       "     2014    0.026551\n",
       "     2015    0.029055\n",
       "dtype: float64"
      ]
     },
     "execution_count": 435,
     "metadata": {},
     "output_type": "execute_result"
    }
   ],
   "source": [
    "impall[['month', 'week', 'year']].sum(1)"
   ]
  },
  {
   "cell_type": "code",
   "execution_count": 436,
   "metadata": {
    "collapsed": false
   },
   "outputs": [],
   "source": [
    "weather_cols = [col for col in impall.columns.values if 'rain' in col or 'precip' in col or 'thund' in col or \n",
    "              'snow' in col or 'fog' in col or 'temp' in col or 'viz' in col or 'wind' in col]"
   ]
  },
  {
   "cell_type": "code",
   "execution_count": 437,
   "metadata": {
    "collapsed": true
   },
   "outputs": [],
   "source": [
    "impall['weather'] = impall[weather_cols].sum(1)"
   ]
  },
  {
   "cell_type": "code",
   "execution_count": 438,
   "metadata": {
    "collapsed": false
   },
   "outputs": [],
   "source": [
    "north = impall.loc[[2, 6], :]\n",
    "\n",
    "south = impall.loc[([1, 5], [2013, 2014, 2015]),:]"
   ]
  },
  {
   "cell_type": "code",
   "execution_count": 439,
   "metadata": {
    "collapsed": false
   },
   "outputs": [
    {
     "data": {
      "text/plain": [
       "0.12561597686278833"
      ]
     },
     "execution_count": 439,
     "metadata": {},
     "output_type": "execute_result"
    }
   ],
   "source": [
    "north.trend.mean()"
   ]
  },
  {
   "cell_type": "code",
   "execution_count": 440,
   "metadata": {
    "collapsed": false
   },
   "outputs": [
    {
     "data": {
      "text/plain": [
       "0.11435465755884167"
      ]
     },
     "execution_count": 440,
     "metadata": {},
     "output_type": "execute_result"
    }
   ],
   "source": [
    "south.trend.mean()"
   ]
  },
  {
   "cell_type": "code",
   "execution_count": 441,
   "metadata": {
    "collapsed": false
   },
   "outputs": [
    {
     "data": {
      "text/plain": [
       "0.10672913423305692"
      ]
     },
     "execution_count": 441,
     "metadata": {},
     "output_type": "execute_result"
    }
   ],
   "source": [
    "north.event.mean()"
   ]
  },
  {
   "cell_type": "code",
   "execution_count": 442,
   "metadata": {
    "collapsed": false
   },
   "outputs": [
    {
     "data": {
      "text/plain": [
       "0.06912731099871415"
      ]
     },
     "execution_count": 442,
     "metadata": {},
     "output_type": "execute_result"
    }
   ],
   "source": [
    "south.event.mean()"
   ]
  },
  {
   "cell_type": "code",
   "execution_count": 443,
   "metadata": {
    "collapsed": false
   },
   "outputs": [
    {
     "data": {
      "text/plain": [
       "0.47937890121550003"
      ]
     },
     "execution_count": 443,
     "metadata": {},
     "output_type": "execute_result"
    }
   ],
   "source": [
    "north.minofday.mean()"
   ]
  },
  {
   "cell_type": "code",
   "execution_count": 444,
   "metadata": {
    "collapsed": false
   },
   "outputs": [
    {
     "data": {
      "text/plain": [
       "0.5759106940055"
      ]
     },
     "execution_count": 444,
     "metadata": {},
     "output_type": "execute_result"
    }
   ],
   "source": [
    "south.minofday.mean()"
   ]
  },
  {
   "cell_type": "code",
   "execution_count": 459,
   "metadata": {
    "collapsed": false
   },
   "outputs": [
    {
     "data": {
      "text/plain": [
       "0.08426374535455833"
      ]
     },
     "execution_count": 459,
     "metadata": {},
     "output_type": "execute_result"
    }
   ],
   "source": [
    "north[['dayofweek', 'month', 'week', 'year']].sum(1).mean()"
   ]
  },
  {
   "cell_type": "code",
   "execution_count": 460,
   "metadata": {
    "collapsed": false
   },
   "outputs": [
    {
     "data": {
      "text/plain": [
       "0.09841144330153667"
      ]
     },
     "execution_count": 460,
     "metadata": {},
     "output_type": "execute_result"
    }
   ],
   "source": [
    "south[['dayofweek', 'month', 'week', 'year']].sum(1).mean()"
   ]
  },
  {
   "cell_type": "code",
   "execution_count": 451,
   "metadata": {
    "collapsed": false
   },
   "outputs": [
    {
     "data": {
      "text/plain": [
       "0.14219589413535083"
      ]
     },
     "execution_count": 451,
     "metadata": {},
     "output_type": "execute_result"
    }
   ],
   "source": [
    "south.weather.mean()"
   ]
  },
  {
   "cell_type": "code",
   "execution_count": 450,
   "metadata": {
    "collapsed": false
   },
   "outputs": [
    {
     "data": {
      "text/plain": [
       "0.20401224233424628"
      ]
     },
     "execution_count": 450,
     "metadata": {},
     "output_type": "execute_result"
    }
   ],
   "source": [
    "north.weather.mean()"
   ]
  },
  {
   "cell_type": "code",
   "execution_count": 454,
   "metadata": {
    "collapsed": false
   },
   "outputs": [
    {
     "data": {
      "text/plain": [
       "fog                0.002962\n",
       "precip             0.004874\n",
       "precip_m1          0.004786\n",
       "precip_m2          0.005223\n",
       "precip_p1          0.006596\n",
       "precip_p2          0.005898\n",
       "precip_p3          0.005238\n",
       "rain               0.003960\n",
       "rain_m1            0.005195\n",
       "rain_m2            0.004241\n",
       "rain_p1            0.004315\n",
       "rain_p2            0.004365\n",
       "rain_p3            0.003978\n",
       "snow               0.000988\n",
       "snow_m1            0.001628\n",
       "snow_m2            0.000516\n",
       "snow_p1            0.000531\n",
       "snow_p2            0.001461\n",
       "snow_p3            0.000548\n",
       "temp_max           0.008723\n",
       "temp_max_m1        0.006922\n",
       "temp_max_m2        0.006791\n",
       "temp_max_p1        0.007327\n",
       "temp_max_p2        0.007113\n",
       "temp_max_p3        0.008819\n",
       "temp_mean          0.006856\n",
       "temp_mean_m1       0.006048\n",
       "temp_mean_m2       0.006958\n",
       "temp_mean_p1       0.006813\n",
       "temp_mean_p2       0.006007\n",
       "temp_mean_p3       0.006948\n",
       "temp_min           0.006741\n",
       "temp_min_m1        0.006587\n",
       "temp_min_m2        0.007470\n",
       "temp_min_p1        0.007432\n",
       "temp_min_p2        0.006029\n",
       "temp_min_p3        0.006477\n",
       "thunderstorm       0.000694\n",
       "thunderstorm_m1    0.000428\n",
       "thunderstorm_m2    0.001061\n",
       "thunderstorm_p1    0.000463\n",
       "thunderstorm_p2    0.000288\n",
       "thunderstorm_p3    0.000408\n",
       "viz_max            0.000837\n",
       "wind_max           0.006470\n",
       "dtype: float64"
      ]
     },
     "execution_count": 454,
     "metadata": {},
     "output_type": "execute_result"
    }
   ],
   "source": [
    "north[weather_cols].mean(0)"
   ]
  },
  {
   "cell_type": "code",
   "execution_count": 455,
   "metadata": {
    "collapsed": false
   },
   "outputs": [
    {
     "data": {
      "text/plain": [
       "fog                0.002962\n",
       "precip             0.004874\n",
       "precip_m1          0.004786\n",
       "precip_m2          0.005223\n",
       "precip_p1          0.006596\n",
       "precip_p2          0.005898\n",
       "precip_p3          0.005238\n",
       "rain               0.003960\n",
       "rain_m1            0.005195\n",
       "rain_m2            0.004241\n",
       "rain_p1            0.004315\n",
       "rain_p2            0.004365\n",
       "rain_p3            0.003978\n",
       "snow               0.000988\n",
       "snow_m1            0.001628\n",
       "snow_m2            0.000516\n",
       "snow_p1            0.000531\n",
       "snow_p2            0.001461\n",
       "snow_p3            0.000548\n",
       "temp_max           0.008723\n",
       "temp_max_m1        0.006922\n",
       "temp_max_m2        0.006791\n",
       "temp_max_p1        0.007327\n",
       "temp_max_p2        0.007113\n",
       "temp_max_p3        0.008819\n",
       "temp_mean          0.006856\n",
       "temp_mean_m1       0.006048\n",
       "temp_mean_m2       0.006958\n",
       "temp_mean_p1       0.006813\n",
       "temp_mean_p2       0.006007\n",
       "temp_mean_p3       0.006948\n",
       "temp_min           0.006741\n",
       "temp_min_m1        0.006587\n",
       "temp_min_m2        0.007470\n",
       "temp_min_p1        0.007432\n",
       "temp_min_p2        0.006029\n",
       "temp_min_p3        0.006477\n",
       "thunderstorm       0.000694\n",
       "thunderstorm_m1    0.000428\n",
       "thunderstorm_m2    0.001061\n",
       "thunderstorm_p1    0.000463\n",
       "thunderstorm_p2    0.000288\n",
       "thunderstorm_p3    0.000408\n",
       "viz_max            0.000837\n",
       "wind_max           0.006470\n",
       "dtype: float64"
      ]
     },
     "execution_count": 455,
     "metadata": {},
     "output_type": "execute_result"
    }
   ],
   "source": [
    "north[weather_cols].mean(0)"
   ]
  },
  {
   "cell_type": "markdown",
   "metadata": {},
   "source": [
    "# Top holidays"
   ]
  },
  {
   "cell_type": "code",
   "execution_count": 457,
   "metadata": {
    "collapsed": false
   },
   "outputs": [
    {
     "data": {
      "text/plain": [
       "event_lag1_president           0.000024\n",
       "event_lag2_mlk                 0.000026\n",
       "event_lag3_thanksgiving        0.000028\n",
       "event_lag4_newyears            0.000028\n",
       "event_lead4_mlk                0.000028\n",
       "event_lag3_president           0.000029\n",
       "event_lead1_mlk                0.000033\n",
       "event_newyears                 0.000034\n",
       "event_lag3_newyears            0.000036\n",
       "event_lag1_mlk                 0.000041\n",
       "event_mlk                      0.000041\n",
       "event_lead4_veterans           0.000041\n",
       "event_lag1_mothers             0.000042\n",
       "event_lead3_mothers            0.000046\n",
       "event_lead2_halloween          0.000053\n",
       "event_lag2_labor               0.000058\n",
       "event_lag2_mothers             0.000060\n",
       "event_lag3_labor               0.000061\n",
       "event_halloween                0.000062\n",
       "event_lag4_president           0.000065\n",
       "event_lead2_mlk                0.000068\n",
       "event_lead3_halloween          0.000069\n",
       "event_lag4_veterans            0.000073\n",
       "event_lead2_thanksgiving       0.000074\n",
       "event_lag4_independence        0.000076\n",
       "event_lag3_mlk                 0.000077\n",
       "event_lag4_thanksgiving        0.000077\n",
       "event_lag4_memorial            0.000077\n",
       "event_lag2_memorial            0.000078\n",
       "event_lag3_halloween           0.000080\n",
       "                                 ...   \n",
       "event_lag2_canada              0.001065\n",
       "event_lag3_civic               0.001089\n",
       "event_lag1_goodfriday          0.001113\n",
       "event_lead4_halloween          0.001268\n",
       "event_veterans                 0.001441\n",
       "event_lead1_newyears           0.001556\n",
       "event_lead3_labor              0.001616\n",
       "event_lead3_xmas               0.001678\n",
       "event_lag1_xmas                0.001715\n",
       "event_labor                    0.001746\n",
       "event_lead1_xmas               0.001775\n",
       "event_lag1_thanksgiving        0.001843\n",
       "event_lag1_canada              0.001864\n",
       "event_lead1_ca_thanksgiving    0.001885\n",
       "event_lead2_independence       0.001927\n",
       "event_lag1_independence        0.001984\n",
       "event_lag4_canada              0.002078\n",
       "event_lead2_president          0.002495\n",
       "event_lag1_memorial            0.002788\n",
       "event_ca_thanksgiving          0.002796\n",
       "event_lead2_newyears           0.002985\n",
       "event_lead1_victoria           0.003073\n",
       "event_lead1_labor              0.003489\n",
       "event_lag1_veterans            0.003581\n",
       "event_lead2_memorial           0.003679\n",
       "event_lead2_xmas               0.004584\n",
       "event_civic                    0.004700\n",
       "event_lead1_thanksgiving       0.004860\n",
       "event_lead2_labor              0.005164\n",
       "event_victoria                 0.009704\n",
       "dtype: float64"
      ]
     },
     "execution_count": 457,
     "metadata": {},
     "output_type": "execute_result"
    }
   ],
   "source": [
    "north[event_cols].mean().sort_values()"
   ]
  },
  {
   "cell_type": "code",
   "execution_count": 458,
   "metadata": {
    "collapsed": false
   },
   "outputs": [
    {
     "data": {
      "text/plain": [
       "event_lead1_mlk                0.000020\n",
       "event_lag3_mlk                 0.000021\n",
       "event_lag2_mlk                 0.000023\n",
       "event_lag4_mlk                 0.000028\n",
       "event_lag4_newyears            0.000031\n",
       "event_lag2_president           0.000037\n",
       "event_lead2_thanksgiving       0.000039\n",
       "event_lead2_halloween          0.000049\n",
       "event_lead3_thanksgiving       0.000052\n",
       "event_lag3_labor               0.000054\n",
       "event_lag4_labor               0.000061\n",
       "event_lag1_mlk                 0.000062\n",
       "event_lag3_goodfriday          0.000063\n",
       "event_victoria                 0.000064\n",
       "event_lead4_thanksgiving       0.000064\n",
       "event_lead4_mlk                0.000066\n",
       "event_lag4_thanksgiving        0.000070\n",
       "event_lag2_halloween           0.000075\n",
       "event_lag4_veterans            0.000077\n",
       "event_lag2_newyears            0.000080\n",
       "event_lag4_halloween           0.000080\n",
       "event_lag3_newyears            0.000081\n",
       "event_lag2_labor               0.000083\n",
       "event_lead2_mlk                0.000089\n",
       "event_lag3_veterans            0.000093\n",
       "event_lag2_memorial            0.000095\n",
       "event_lead2_president          0.000096\n",
       "event_lag1_president           0.000097\n",
       "event_lag2_mothers             0.000100\n",
       "event_lead4_newyears           0.000101\n",
       "                                 ...   \n",
       "event_lead2_veterans           0.000591\n",
       "event_lead1_veterans           0.000595\n",
       "event_lead4_victoria           0.000606\n",
       "event_lead1_civic              0.000690\n",
       "event_lead2_xmas               0.000693\n",
       "event_lead3_veterans           0.000696\n",
       "event_xmas                     0.000726\n",
       "event_thanksgiving             0.000770\n",
       "event_lag2_goodfriday          0.000772\n",
       "event_lead2_goodfriday         0.000870\n",
       "event_president                0.000881\n",
       "event_lead1_ca_thanksgiving    0.000889\n",
       "event_lead4_civic              0.000909\n",
       "event_lead3_independence       0.000928\n",
       "event_lag1_thanksgiving        0.001021\n",
       "event_canada                   0.001026\n",
       "event_lead3_ca_thanksgiving    0.001031\n",
       "event_lead2_ca_thanksgiving    0.001103\n",
       "event_lag1_xmas                0.001122\n",
       "event_lead2_memorial           0.001216\n",
       "event_lag1_newyears            0.001228\n",
       "event_lead2_newyears           0.001239\n",
       "event_memorial                 0.001555\n",
       "event_veterans                 0.001894\n",
       "event_lead2_victoria           0.002275\n",
       "event_lead1_goodfriday         0.002574\n",
       "event_lead2_civic              0.002769\n",
       "event_lead2_labor              0.002816\n",
       "event_lag2_xmas                0.003218\n",
       "event_goodfriday               0.007669\n",
       "dtype: float64"
      ]
     },
     "execution_count": 458,
     "metadata": {},
     "output_type": "execute_result"
    }
   ],
   "source": [
    "south[event_cols].mean().sort_values()"
   ]
  },
  {
   "cell_type": "markdown",
   "metadata": {},
   "source": [
    "## Feature importances are low for infrequent events.  Analyze effect of scaling frequency of event."
   ]
  },
  {
   "cell_type": "code",
   "execution_count": null,
   "metadata": {
    "collapsed": true
   },
   "outputs": [],
   "source": [
    "dfsouth = pd.DataFrame()\n",
    "for xing in [1, 5]:\n",
    "    dfsouth.append(select_mungedata(3, xing, '2013-1-1', '2016-1-1'))"
   ]
  },
  {
   "cell_type": "code",
   "execution_count": null,
   "metadata": {
    "collapsed": true
   },
   "outputs": [],
   "source": []
  }
 ],
 "metadata": {
  "kernelspec": {
   "display_name": "Python 2",
   "language": "python",
   "name": "python2"
  },
  "language_info": {
   "codemirror_mode": {
    "name": "ipython",
    "version": 2
   },
   "file_extension": ".py",
   "mimetype": "text/x-python",
   "name": "python",
   "nbconvert_exporter": "python",
   "pygments_lexer": "ipython2",
   "version": "2.7.11"
  }
 },
 "nbformat": 4,
 "nbformat_minor": 0
}

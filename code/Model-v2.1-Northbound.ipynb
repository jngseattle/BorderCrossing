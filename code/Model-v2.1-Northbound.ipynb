{
 "cells": [
  {
   "cell_type": "markdown",
   "metadata": {},
   "source": [
    "## High level approach\n",
    "1. Train on Peace Arch southbound data that does not consider year (yearly trends for north vs south data is not similar\n",
    "2. Impute for Peace Arch northbound\n",
    "3. Evalute"
   ]
  },
  {
   "cell_type": "code",
   "execution_count": 1,
   "metadata": {
    "collapsed": true
   },
   "outputs": [],
   "source": [
    "%load_ext autoreload\n",
    "%autoreload 2"
   ]
  },
  {
   "cell_type": "markdown",
   "metadata": {},
   "source": [
    "## Start with creating smoothed volume data for munger_id = 3 "
   ]
  },
  {
   "cell_type": "code",
   "execution_count": null,
   "metadata": {
    "collapsed": true
   },
   "outputs": [],
   "source": [
    "import os\n",
    "from ipyparallel import Client\n",
    "rc = Client()\n",
    "dview = rc[:]\n",
    "\n",
    "# set proper working directory on all clients\n",
    "cwd = os.getcwd()\n",
    "dview.map(os.chdir, [cwd] * 32)\n",
    "# print(dview.apply_sync(os.getcwd))\n",
    "\n",
    "with dview.sync_imports():\n",
    "    from BorderModel import smooth"
   ]
  },
  {
   "cell_type": "code",
   "execution_count": null,
   "metadata": {
    "collapsed": true
   },
   "outputs": [],
   "source": [
    "pr2 = rc[0].apply_async(smooth, 3, 2, 'volume', path='/home/ubuntu/BorderCrossing/data')\n",
    "pr6 = rc[1].apply_async(smooth, 3, 6, 'volume', path='/home/ubuntu/BorderCrossing/data')\n",
    "pr1 = rc[2].apply_async(smooth, 3, 1, 'volume', path='/home/ubuntu/BorderCrossing/data')\n",
    "pr5 = rc[3].apply_async(smooth, 3, 5, 'volume', path='/home/ubuntu/BorderCrossing/data')"
   ]
  },
  {
   "cell_type": "markdown",
   "metadata": {},
   "source": [
    "## Train BorderImpute with Peace Arch southbound\n",
    "* Volume is smoothed, waittime is not\n",
    "* Threshold is 10 mins by default"
   ]
  },
  {
   "cell_type": "code",
   "execution_count": 3,
   "metadata": {
    "collapsed": true
   },
   "outputs": [],
   "source": [
    "from datetime import date, datetime\n",
    "from BorderModel import BorderImpute\n",
    "from sklearn.ensemble import ExtraTreesRegressor\n",
    "from dbhelper import pd_query\n",
    "\n",
    "imputer = BorderImpute(window=24, threshold=11)\n",
    "\n",
    "# Get source data with neighbor features\n",
    "source_query = '''\n",
    "               select \n",
    "                   c.date,\n",
    "                   month,\n",
    "                   week,\n",
    "                   dayofweek,\n",
    "                   minofday,\n",
    "                   metric as volume,\n",
    "                   waittime\n",
    "               from crossingdata c\n",
    "               join datefeatures d\n",
    "                   on d.date = c.date\n",
    "               join mungedata m \n",
    "                   on m.date = c.date\n",
    "                   and m.crossing_id = c.crossing_id\n",
    "                   and munger_id = 3\n",
    "                   and is_waittime = false\n",
    "                   and metric is not null\n",
    "               where\n",
    "                   c.crossing_id=1\n",
    "                   and valid = 1\n",
    "                   and waittime is not null\n",
    "                order by c.date;\n",
    "               '''\n",
    "\n",
    "dfsource0 = pd_query(source_query).set_index('date')"
   ]
  },
  {
   "cell_type": "code",
   "execution_count": 11,
   "metadata": {
    "collapsed": true
   },
   "outputs": [],
   "source": [
    "dfsource = imputer.prepare_source(dfsource0)\n",
    "model = ExtraTreesRegressor(n_jobs=-1, n_estimators=96, bootstrap=True, oob_score=True)"
   ]
  },
  {
   "cell_type": "code",
   "execution_count": 12,
   "metadata": {
    "collapsed": false
   },
   "outputs": [],
   "source": [
    "from BorderModel import BorderImpute\n",
    "imputer.build_model(model)"
   ]
  },
  {
   "cell_type": "code",
   "execution_count": 13,
   "metadata": {
    "collapsed": false
   },
   "outputs": [
    {
     "name": "stdout",
     "output_type": "stream",
     "text": [
      "[   ('lag', 0.22890124971937909),\n",
      "    ('lead', 0.22855604146940309),\n",
      "    ('minofday', 0.20631346430781683),\n",
      "    ('volume', 0.14923602523481055),\n",
      "    ('week', 0.074057142558422509),\n",
      "    ('dayofweek', 0.058755861428114779),\n",
      "    ('month', 0.054180215282053211)]\n",
      "[   ('lead', 0.28844409400861543),\n",
      "    ('minofday', 0.25818915022909111),\n",
      "    ('volume', 0.21572682088562337),\n",
      "    ('week', 0.10841274236756569),\n",
      "    ('dayofweek', 0.067969971692208836),\n",
      "    ('month', 0.061257220816895684)]\n",
      "[   ('lag', 0.29096868979888191),\n",
      "    ('minofday', 0.25840916950399812),\n",
      "    ('volume', 0.21552193902222314),\n",
      "    ('week', 0.11036066182086816),\n",
      "    ('dayofweek', 0.065218813845303716),\n",
      "    ('month', 0.059520726008724982)]\n"
     ]
    }
   ],
   "source": [
    "import pprint\n",
    "pp = pprint.PrettyPrinter(indent=4)\n",
    "pp.pprint(sorted(zip(imputer.columns_ll, imputer.model_ll.feature_importances_), key=lambda x: x[1])[::-1])\n",
    "pp.pprint(sorted(zip(imputer.columns_lead, imputer.model_lead.feature_importances_), key=lambda x: x[1])[::-1])\n",
    "pp.pprint(sorted(zip(imputer.columns_lag, imputer.model_lag.feature_importances_), key=lambda x: x[1])[::-1])"
   ]
  },
  {
   "cell_type": "markdown",
   "metadata": {},
   "source": [
    "## Predict Northbound Peace Arch"
   ]
  },
  {
   "cell_type": "code",
   "execution_count": 4,
   "metadata": {
    "collapsed": true
   },
   "outputs": [],
   "source": [
    "target_query = '''\n",
    "               select \n",
    "                   c.date,\n",
    "                   month,\n",
    "                   week,\n",
    "                   dayofweek,\n",
    "                   minofday,\n",
    "                   metric as volume,\n",
    "                   waittime\n",
    "               from crossingdata c\n",
    "               join datefeatures d\n",
    "                   on d.date = c.date\n",
    "               join mungedata m \n",
    "                   on m.date = c.date\n",
    "                   and m.crossing_id = c.crossing_id\n",
    "                   and munger_id = 3\n",
    "                   and is_waittime = false\n",
    "                   and metric is not null\n",
    "               where\n",
    "                   c.crossing_id=2\n",
    "                   and valid = 1\n",
    "                   and waittime is not null\n",
    "                order by c.date;\n",
    "               '''\n",
    "\n",
    "target_df = pd_query(target_query)\n",
    "target_df = target_df.set_index('date')"
   ]
  },
  {
   "cell_type": "code",
   "execution_count": 15,
   "metadata": {
    "collapsed": true
   },
   "outputs": [
    {
     "data": {
      "text/html": [
       "<div>\n",
       "<table border=\"1\" class=\"dataframe\">\n",
       "  <thead>\n",
       "    <tr style=\"text-align: right;\">\n",
       "      <th></th>\n",
       "      <th>month</th>\n",
       "      <th>week</th>\n",
       "      <th>dayofweek</th>\n",
       "      <th>minofday</th>\n",
       "      <th>volume</th>\n",
       "      <th>waittime</th>\n",
       "      <th>lead</th>\n",
       "      <th>lag</th>\n",
       "    </tr>\n",
       "    <tr>\n",
       "      <th>date</th>\n",
       "      <th></th>\n",
       "      <th></th>\n",
       "      <th></th>\n",
       "      <th></th>\n",
       "      <th></th>\n",
       "      <th></th>\n",
       "      <th></th>\n",
       "      <th></th>\n",
       "    </tr>\n",
       "  </thead>\n",
       "  <tbody>\n",
       "    <tr>\n",
       "      <th>2007-01-02 10:00:00</th>\n",
       "      <td>1</td>\n",
       "      <td>1</td>\n",
       "      <td>1</td>\n",
       "      <td>600</td>\n",
       "      <td>8.40680</td>\n",
       "      <td>NaN</td>\n",
       "      <td>6.120000</td>\n",
       "      <td>NaN</td>\n",
       "    </tr>\n",
       "    <tr>\n",
       "      <th>2007-01-02 10:05:00</th>\n",
       "      <td>1</td>\n",
       "      <td>1</td>\n",
       "      <td>1</td>\n",
       "      <td>605</td>\n",
       "      <td>8.71902</td>\n",
       "      <td>NaN</td>\n",
       "      <td>6.071429</td>\n",
       "      <td>NaN</td>\n",
       "    </tr>\n",
       "    <tr>\n",
       "      <th>2007-01-02 10:10:00</th>\n",
       "      <td>1</td>\n",
       "      <td>1</td>\n",
       "      <td>1</td>\n",
       "      <td>610</td>\n",
       "      <td>9.03397</td>\n",
       "      <td>NaN</td>\n",
       "      <td>5.888889</td>\n",
       "      <td>NaN</td>\n",
       "    </tr>\n",
       "    <tr>\n",
       "      <th>2007-01-02 10:15:00</th>\n",
       "      <td>1</td>\n",
       "      <td>1</td>\n",
       "      <td>1</td>\n",
       "      <td>615</td>\n",
       "      <td>9.35477</td>\n",
       "      <td>NaN</td>\n",
       "      <td>5.629630</td>\n",
       "      <td>NaN</td>\n",
       "    </tr>\n",
       "    <tr>\n",
       "      <th>2007-01-02 10:20:00</th>\n",
       "      <td>1</td>\n",
       "      <td>1</td>\n",
       "      <td>1</td>\n",
       "      <td>620</td>\n",
       "      <td>9.72995</td>\n",
       "      <td>5</td>\n",
       "      <td>5.857143</td>\n",
       "      <td>NaN</td>\n",
       "    </tr>\n",
       "    <tr>\n",
       "      <th>2007-01-02 10:25:00</th>\n",
       "      <td>1</td>\n",
       "      <td>1</td>\n",
       "      <td>1</td>\n",
       "      <td>625</td>\n",
       "      <td>10.18920</td>\n",
       "      <td>5</td>\n",
       "      <td>7.000000</td>\n",
       "      <td>5</td>\n",
       "    </tr>\n",
       "    <tr>\n",
       "      <th>2007-01-02 10:30:00</th>\n",
       "      <td>1</td>\n",
       "      <td>1</td>\n",
       "      <td>1</td>\n",
       "      <td>630</td>\n",
       "      <td>10.63440</td>\n",
       "      <td>NaN</td>\n",
       "      <td>7.000000</td>\n",
       "      <td>5</td>\n",
       "    </tr>\n",
       "    <tr>\n",
       "      <th>2007-01-02 10:35:00</th>\n",
       "      <td>1</td>\n",
       "      <td>1</td>\n",
       "      <td>1</td>\n",
       "      <td>635</td>\n",
       "      <td>10.99910</td>\n",
       "      <td>NaN</td>\n",
       "      <td>7.000000</td>\n",
       "      <td>5</td>\n",
       "    </tr>\n",
       "    <tr>\n",
       "      <th>2007-01-02 10:40:00</th>\n",
       "      <td>1</td>\n",
       "      <td>1</td>\n",
       "      <td>1</td>\n",
       "      <td>640</td>\n",
       "      <td>11.20190</td>\n",
       "      <td>NaN</td>\n",
       "      <td>8.600000</td>\n",
       "      <td>5</td>\n",
       "    </tr>\n",
       "    <tr>\n",
       "      <th>2007-01-02 10:45:00</th>\n",
       "      <td>1</td>\n",
       "      <td>1</td>\n",
       "      <td>1</td>\n",
       "      <td>645</td>\n",
       "      <td>11.24900</td>\n",
       "      <td>NaN</td>\n",
       "      <td>11.150000</td>\n",
       "      <td>5</td>\n",
       "    </tr>\n",
       "    <tr>\n",
       "      <th>2007-01-02 10:50:00</th>\n",
       "      <td>1</td>\n",
       "      <td>1</td>\n",
       "      <td>1</td>\n",
       "      <td>650</td>\n",
       "      <td>11.08240</td>\n",
       "      <td>NaN</td>\n",
       "      <td>17.071429</td>\n",
       "      <td>5</td>\n",
       "    </tr>\n",
       "    <tr>\n",
       "      <th>2007-01-02 10:55:00</th>\n",
       "      <td>1</td>\n",
       "      <td>1</td>\n",
       "      <td>1</td>\n",
       "      <td>655</td>\n",
       "      <td>10.75810</td>\n",
       "      <td>NaN</td>\n",
       "      <td>16.250000</td>\n",
       "      <td>5</td>\n",
       "    </tr>\n",
       "    <tr>\n",
       "      <th>2007-01-02 11:00:00</th>\n",
       "      <td>1</td>\n",
       "      <td>1</td>\n",
       "      <td>1</td>\n",
       "      <td>660</td>\n",
       "      <td>10.35040</td>\n",
       "      <td>NaN</td>\n",
       "      <td>16.088889</td>\n",
       "      <td>5</td>\n",
       "    </tr>\n",
       "    <tr>\n",
       "      <th>2007-01-02 11:05:00</th>\n",
       "      <td>1</td>\n",
       "      <td>1</td>\n",
       "      <td>1</td>\n",
       "      <td>665</td>\n",
       "      <td>10.09510</td>\n",
       "      <td>NaN</td>\n",
       "      <td>15.901961</td>\n",
       "      <td>5</td>\n",
       "    </tr>\n",
       "    <tr>\n",
       "      <th>2007-01-02 11:10:00</th>\n",
       "      <td>1</td>\n",
       "      <td>1</td>\n",
       "      <td>1</td>\n",
       "      <td>670</td>\n",
       "      <td>10.12070</td>\n",
       "      <td>NaN</td>\n",
       "      <td>15.894737</td>\n",
       "      <td>5</td>\n",
       "    </tr>\n",
       "    <tr>\n",
       "      <th>2007-01-02 11:15:00</th>\n",
       "      <td>1</td>\n",
       "      <td>1</td>\n",
       "      <td>1</td>\n",
       "      <td>675</td>\n",
       "      <td>10.27930</td>\n",
       "      <td>NaN</td>\n",
       "      <td>16.549296</td>\n",
       "      <td>5</td>\n",
       "    </tr>\n",
       "    <tr>\n",
       "      <th>2007-01-02 11:20:00</th>\n",
       "      <td>1</td>\n",
       "      <td>1</td>\n",
       "      <td>1</td>\n",
       "      <td>680</td>\n",
       "      <td>10.56120</td>\n",
       "      <td>NaN</td>\n",
       "      <td>15.686047</td>\n",
       "      <td>5</td>\n",
       "    </tr>\n",
       "    <tr>\n",
       "      <th>2007-01-02 11:25:00</th>\n",
       "      <td>1</td>\n",
       "      <td>1</td>\n",
       "      <td>1</td>\n",
       "      <td>685</td>\n",
       "      <td>10.97110</td>\n",
       "      <td>NaN</td>\n",
       "      <td>14.716981</td>\n",
       "      <td>5</td>\n",
       "    </tr>\n",
       "    <tr>\n",
       "      <th>2007-01-02 11:30:00</th>\n",
       "      <td>1</td>\n",
       "      <td>1</td>\n",
       "      <td>1</td>\n",
       "      <td>690</td>\n",
       "      <td>11.18030</td>\n",
       "      <td>NaN</td>\n",
       "      <td>13.689394</td>\n",
       "      <td>5</td>\n",
       "    </tr>\n",
       "    <tr>\n",
       "      <th>2007-01-02 11:35:00</th>\n",
       "      <td>1</td>\n",
       "      <td>1</td>\n",
       "      <td>1</td>\n",
       "      <td>695</td>\n",
       "      <td>11.20310</td>\n",
       "      <td>7</td>\n",
       "      <td>15.112069</td>\n",
       "      <td>5</td>\n",
       "    </tr>\n",
       "  </tbody>\n",
       "</table>\n",
       "</div>"
      ],
      "text/plain": [
       "                     month  week  dayofweek  minofday    volume  waittime  \\\n",
       "date                                                                        \n",
       "2007-01-02 10:00:00      1     1          1       600   8.40680       NaN   \n",
       "2007-01-02 10:05:00      1     1          1       605   8.71902       NaN   \n",
       "2007-01-02 10:10:00      1     1          1       610   9.03397       NaN   \n",
       "2007-01-02 10:15:00      1     1          1       615   9.35477       NaN   \n",
       "2007-01-02 10:20:00      1     1          1       620   9.72995         5   \n",
       "2007-01-02 10:25:00      1     1          1       625  10.18920         5   \n",
       "2007-01-02 10:30:00      1     1          1       630  10.63440       NaN   \n",
       "2007-01-02 10:35:00      1     1          1       635  10.99910       NaN   \n",
       "2007-01-02 10:40:00      1     1          1       640  11.20190       NaN   \n",
       "2007-01-02 10:45:00      1     1          1       645  11.24900       NaN   \n",
       "2007-01-02 10:50:00      1     1          1       650  11.08240       NaN   \n",
       "2007-01-02 10:55:00      1     1          1       655  10.75810       NaN   \n",
       "2007-01-02 11:00:00      1     1          1       660  10.35040       NaN   \n",
       "2007-01-02 11:05:00      1     1          1       665  10.09510       NaN   \n",
       "2007-01-02 11:10:00      1     1          1       670  10.12070       NaN   \n",
       "2007-01-02 11:15:00      1     1          1       675  10.27930       NaN   \n",
       "2007-01-02 11:20:00      1     1          1       680  10.56120       NaN   \n",
       "2007-01-02 11:25:00      1     1          1       685  10.97110       NaN   \n",
       "2007-01-02 11:30:00      1     1          1       690  11.18030       NaN   \n",
       "2007-01-02 11:35:00      1     1          1       695  11.20310         7   \n",
       "\n",
       "                          lead  lag  \n",
       "date                                 \n",
       "2007-01-02 10:00:00   6.120000  NaN  \n",
       "2007-01-02 10:05:00   6.071429  NaN  \n",
       "2007-01-02 10:10:00   5.888889  NaN  \n",
       "2007-01-02 10:15:00   5.629630  NaN  \n",
       "2007-01-02 10:20:00   5.857143  NaN  \n",
       "2007-01-02 10:25:00   7.000000    5  \n",
       "2007-01-02 10:30:00   7.000000    5  \n",
       "2007-01-02 10:35:00   7.000000    5  \n",
       "2007-01-02 10:40:00   8.600000    5  \n",
       "2007-01-02 10:45:00  11.150000    5  \n",
       "2007-01-02 10:50:00  17.071429    5  \n",
       "2007-01-02 10:55:00  16.250000    5  \n",
       "2007-01-02 11:00:00  16.088889    5  \n",
       "2007-01-02 11:05:00  15.901961    5  \n",
       "2007-01-02 11:10:00  15.894737    5  \n",
       "2007-01-02 11:15:00  16.549296    5  \n",
       "2007-01-02 11:20:00  15.686047    5  \n",
       "2007-01-02 11:25:00  14.716981    5  \n",
       "2007-01-02 11:30:00  13.689394    5  \n",
       "2007-01-02 11:35:00  15.112069    5  "
      ]
     },
     "execution_count": 15,
     "metadata": {},
     "output_type": "execute_result"
    }
   ],
   "source": [
    "imputer.prepare_target(target_df).head(20)"
   ]
  },
  {
   "cell_type": "code",
   "execution_count": 16,
   "metadata": {
    "collapsed": false
   },
   "outputs": [
    {
     "name": "stdout",
     "output_type": "stream",
     "text": [
      "221218\n",
      "105082\n",
      "59364\n",
      "40294\n",
      "31507\n",
      "27654\n",
      "25216\n",
      "23259\n",
      "21409\n",
      "19717\n",
      "18233\n",
      "16831\n",
      "15572\n",
      "14453\n",
      "13459\n",
      "12600\n",
      "11920\n",
      "11344\n",
      "10768\n",
      "10192\n",
      "9631\n",
      "9103\n",
      "8620\n",
      "8219\n",
      "7918\n",
      "7630\n",
      "7342\n",
      "7054\n",
      "6766\n",
      "6487\n",
      "6281\n",
      "6137\n",
      "6039\n",
      "5943\n",
      "5847\n",
      "5751\n",
      "5655\n",
      "5559\n",
      "5463\n",
      "5400\n",
      "5352\n",
      "5304\n",
      "5256\n",
      "5208\n",
      "5160\n",
      "5112\n",
      "5064\n",
      "5016\n",
      "4968\n",
      "4920\n",
      "4872\n",
      "4824\n",
      "4776\n",
      "4728\n",
      "4680\n",
      "4632\n",
      "4584\n",
      "4536\n",
      "4488\n",
      "4440\n",
      "4392\n",
      "4344\n",
      "4296\n",
      "4248\n",
      "4200\n",
      "4152\n",
      "4104\n",
      "4056\n",
      "4008\n",
      "3960\n",
      "3912\n",
      "3864\n",
      "3816\n",
      "3768\n",
      "3720\n",
      "3672\n",
      "3624\n",
      "3576\n",
      "3528\n",
      "3480\n",
      "3432\n",
      "3384\n",
      "3336\n",
      "3288\n",
      "3240\n",
      "3192\n",
      "3144\n",
      "3096\n",
      "3048\n",
      "3000\n",
      "2952\n",
      "2904\n",
      "2856\n",
      "2808\n",
      "2760\n",
      "2712\n",
      "2664\n",
      "2616\n",
      "2568\n",
      "2520\n",
      "2472\n",
      "2424\n",
      "2376\n",
      "2328\n",
      "2280\n",
      "2232\n",
      "2184\n",
      "2136\n",
      "2088\n",
      "2040\n",
      "1992\n",
      "1944\n",
      "1896\n",
      "1848\n",
      "1800\n",
      "1752\n",
      "1704\n",
      "1656\n",
      "1608\n",
      "1560\n",
      "1512\n",
      "1464\n",
      "1416\n",
      "1368\n",
      "1320\n",
      "1272\n",
      "1224\n",
      "1176\n",
      "1128\n",
      "1080\n",
      "1032\n",
      "984\n",
      "936\n",
      "888\n",
      "840\n",
      "792\n",
      "744\n",
      "696\n",
      "648\n",
      "600\n",
      "552\n",
      "504\n",
      "456\n",
      "408\n",
      "360\n",
      "312\n",
      "264\n",
      "216\n",
      "168\n",
      "120\n",
      "72\n",
      "24\n",
      "0\n"
     ]
    }
   ],
   "source": [
    "imputer.predict()"
   ]
  },
  {
   "cell_type": "markdown",
   "metadata": {},
   "source": [
    "## Verify that histogram is sensible"
   ]
  },
  {
   "cell_type": "code",
   "execution_count": 17,
   "metadata": {
    "collapsed": true
   },
   "outputs": [],
   "source": [
    "import datetime as dt\n",
    "import matplotlib.pyplot as plt\n",
    "%matplotlib inline"
   ]
  },
  {
   "cell_type": "markdown",
   "metadata": {},
   "source": [
    "### Northbound waittime histogram"
   ]
  },
  {
   "cell_type": "code",
   "execution_count": 42,
   "metadata": {
    "collapsed": false
   },
   "outputs": [
    {
     "data": {
      "image/png": "[encoded data removed]",
      "text/plain": [
       "<matplotlib.figure.Figure at 0x7f54896cd210>"
      ]
     },
     "metadata": {},
     "output_type": "display_data"
    }
   ],
   "source": [
    "plt.figure(figsize=(16,4))\n",
    "plt.subplot(121)\n",
    "plt.xlim([0,50])\n",
    "plt.hist(imputer.predictdf.waittime, bins=200)\n",
    "plt.subplot(122)\n",
    "plt.hist(imputer.predictdf.waittime, bins=50);"
   ]
  },
  {
   "cell_type": "markdown",
   "metadata": {},
   "source": [
    "### Compare to southbound"
   ]
  },
  {
   "cell_type": "code",
   "execution_count": 41,
   "metadata": {
    "collapsed": false
   },
   "outputs": [
    {
     "data": {
      "image/png": "[encoded data removed]",
      "text/plain": [
       "<matplotlib.figure.Figure at 0x7f5469765fd0>"
      ]
     },
     "metadata": {},
     "output_type": "display_data"
    }
   ],
   "source": [
    "plt.figure(figsize=(16,4))\n",
    "plt.subplot(121)\n",
    "plt.hist(dfsource0.waittime, bins=80)\n",
    "plt.xlim([0,50])\n",
    "plt.subplot(122)\n",
    "plt.hist(dfsource0.waittime, bins=50);"
   ]
  },
  {
   "cell_type": "code",
   "execution_count": 22,
   "metadata": {
    "collapsed": false
   },
   "outputs": [
    {
     "data": {
      "image/png": "[encoded data removed]",
      "text/plain": [
       "<matplotlib.figure.Figure at 0x7f5488d782d0>"
      ]
     },
     "metadata": {},
     "output_type": "display_data"
    }
   ],
   "source": [
    "start = '2015-12-1'\n",
    "end = '2015-12-7'\n",
    "plt.figure(figsize=(16,5))\n",
    "plt.subplot(211)\n",
    "plt.plot(target_df[(target_df.index >= start) & (target_df.index < end)].waittime)\n",
    "plt.subplot(212)\n",
    "plt.plot(imputer.predictdf[(imputer.predictdf.index >= start) & (imputer.predictdf.index < end)].waittime);"
   ]
  },
  {
   "cell_type": "code",
   "execution_count": 23,
   "metadata": {
    "collapsed": false
   },
   "outputs": [
    {
     "data": {
      "image/png": "[encoded data removed]",
      "text/plain": [
       "<matplotlib.figure.Figure at 0x7f548e94d590>"
      ]
     },
     "metadata": {},
     "output_type": "display_data"
    }
   ],
   "source": [
    "start = '2015-1-4'\n",
    "end = '2015-1-6'\n",
    "plt.figure(figsize=(16,5))\n",
    "plt.subplot(211)\n",
    "plt.plot(target_df[(target_df.index >= start) & (target_df.index < end)].waittime)\n",
    "plt.subplot(212)\n",
    "plt.plot(imputer.predictdf[(imputer.predictdf.index >= start) & (imputer.predictdf.index < end)].waittime);"
   ]
  },
  {
   "cell_type": "markdown",
   "metadata": {},
   "source": [
    "## There are large gaps in data before 2012 calling data quality in question.  Try same approach with data starting from 2012."
   ]
  },
  {
   "cell_type": "code",
   "execution_count": 34,
   "metadata": {
    "collapsed": true
   },
   "outputs": [],
   "source": [
    "from datetime import date, datetime\n",
    "from BorderModel import BorderImpute\n",
    "from sklearn.ensemble import ExtraTreesRegressor\n",
    "from dbhelper import pd_query\n",
    "\n",
    "imputer = BorderImpute(window=24, threshold=13)\n",
    "\n",
    "# Get source data with neighbor features\n",
    "source_query = '''\n",
    "               select \n",
    "                   c.date,\n",
    "                   month,\n",
    "                   week,\n",
    "                   dayofweek,\n",
    "                   minofday,\n",
    "                   metric as volume,\n",
    "                   waittime\n",
    "               from crossingdata c\n",
    "               join datefeatures d\n",
    "                   on d.date = c.date\n",
    "               join mungedata m \n",
    "                   on m.date = c.date\n",
    "                   and m.crossing_id = c.crossing_id\n",
    "                   and munger_id = 3\n",
    "                   and is_waittime = false\n",
    "                   and metric is not null\n",
    "               where\n",
    "                   c.crossing_id=1\n",
    "                   and valid = 1\n",
    "                   and waittime is not null\n",
    "                   and c.date > '2012-1-1'\n",
    "                order by c.date;\n",
    "               '''"
   ]
  },
  {
   "cell_type": "code",
   "execution_count": 35,
   "metadata": {
    "collapsed": true
   },
   "outputs": [],
   "source": [
    "dfsource0 = pd_query(source_query).set_index('date')\n",
    "dfsource = imputer.prepare_source(dfsource0)\n",
    "model = ExtraTreesRegressor(n_jobs=-1, n_estimators=96, bootstrap=True, oob_score=True)"
   ]
  },
  {
   "cell_type": "code",
   "execution_count": 36,
   "metadata": {
    "collapsed": true
   },
   "outputs": [],
   "source": [
    "imputer.build_model(model)"
   ]
  },
  {
   "cell_type": "code",
   "execution_count": 37,
   "metadata": {
    "collapsed": true
   },
   "outputs": [],
   "source": [
    "target_query = '''\n",
    "               select \n",
    "                   c.date,\n",
    "                   month,\n",
    "                   week,\n",
    "                   dayofweek,\n",
    "                   minofday,\n",
    "                   metric as volume,\n",
    "                   waittime\n",
    "               from crossingdata c\n",
    "               join datefeatures d\n",
    "                   on d.date = c.date\n",
    "               join mungedata m \n",
    "                   on m.date = c.date\n",
    "                   and m.crossing_id = c.crossing_id\n",
    "                   and munger_id = 3\n",
    "                   and is_waittime = false\n",
    "                   and metric is not null\n",
    "               where\n",
    "                   c.crossing_id=2\n",
    "                   and valid = 1\n",
    "                   and waittime is not null\n",
    "                   and c.date > '2012-1-1'\n",
    "                order by c.date;\n",
    "               '''\n",
    "\n",
    "target_df = pd_query(target_query)\n",
    "target_df = target_df.set_index('date')"
   ]
  },
  {
   "cell_type": "code",
   "execution_count": 38,
   "metadata": {
    "collapsed": false,
    "scrolled": true
   },
   "outputs": [
    {
     "data": {
      "text/html": [
       "<div>\n",
       "<table border=\"1\" class=\"dataframe\">\n",
       "  <thead>\n",
       "    <tr style=\"text-align: right;\">\n",
       "      <th></th>\n",
       "      <th>month</th>\n",
       "      <th>week</th>\n",
       "      <th>dayofweek</th>\n",
       "      <th>minofday</th>\n",
       "      <th>volume</th>\n",
       "      <th>waittime</th>\n",
       "      <th>lead</th>\n",
       "      <th>lag</th>\n",
       "    </tr>\n",
       "    <tr>\n",
       "      <th>date</th>\n",
       "      <th></th>\n",
       "      <th></th>\n",
       "      <th></th>\n",
       "      <th></th>\n",
       "      <th></th>\n",
       "      <th></th>\n",
       "      <th></th>\n",
       "      <th></th>\n",
       "    </tr>\n",
       "  </thead>\n",
       "  <tbody>\n",
       "    <tr>\n",
       "      <th>2012-01-02 21:00:00</th>\n",
       "      <td>1</td>\n",
       "      <td>1</td>\n",
       "      <td>0</td>\n",
       "      <td>1260</td>\n",
       "      <td>23.4133</td>\n",
       "      <td>11</td>\n",
       "      <td>10.436364</td>\n",
       "      <td>NaN</td>\n",
       "    </tr>\n",
       "    <tr>\n",
       "      <th>2012-01-02 21:05:00</th>\n",
       "      <td>1</td>\n",
       "      <td>1</td>\n",
       "      <td>0</td>\n",
       "      <td>1265</td>\n",
       "      <td>28.5100</td>\n",
       "      <td>12</td>\n",
       "      <td>9.260000</td>\n",
       "      <td>11.000000</td>\n",
       "    </tr>\n",
       "    <tr>\n",
       "      <th>2012-01-02 21:10:00</th>\n",
       "      <td>1</td>\n",
       "      <td>1</td>\n",
       "      <td>0</td>\n",
       "      <td>1270</td>\n",
       "      <td>35.1091</td>\n",
       "      <td>9</td>\n",
       "      <td>9.545455</td>\n",
       "      <td>11.648649</td>\n",
       "    </tr>\n",
       "    <tr>\n",
       "      <th>2012-01-02 21:15:00</th>\n",
       "      <td>1</td>\n",
       "      <td>1</td>\n",
       "      <td>0</td>\n",
       "      <td>1275</td>\n",
       "      <td>38.8908</td>\n",
       "      <td>10</td>\n",
       "      <td>9.000000</td>\n",
       "      <td>10.204545</td>\n",
       "    </tr>\n",
       "    <tr>\n",
       "      <th>2012-01-02 21:20:00</th>\n",
       "      <td>1</td>\n",
       "      <td>1</td>\n",
       "      <td>0</td>\n",
       "      <td>1280</td>\n",
       "      <td>40.2554</td>\n",
       "      <td>9</td>\n",
       "      <td>9.000000</td>\n",
       "      <td>10.140000</td>\n",
       "    </tr>\n",
       "  </tbody>\n",
       "</table>\n",
       "</div>"
      ],
      "text/plain": [
       "                     month  week  dayofweek  minofday   volume  waittime  \\\n",
       "date                                                                       \n",
       "2012-01-02 21:00:00      1     1          0      1260  23.4133        11   \n",
       "2012-01-02 21:05:00      1     1          0      1265  28.5100        12   \n",
       "2012-01-02 21:10:00      1     1          0      1270  35.1091         9   \n",
       "2012-01-02 21:15:00      1     1          0      1275  38.8908        10   \n",
       "2012-01-02 21:20:00      1     1          0      1280  40.2554         9   \n",
       "\n",
       "                          lead        lag  \n",
       "date                                       \n",
       "2012-01-02 21:00:00  10.436364        NaN  \n",
       "2012-01-02 21:05:00   9.260000  11.000000  \n",
       "2012-01-02 21:10:00   9.545455  11.648649  \n",
       "2012-01-02 21:15:00   9.000000  10.204545  \n",
       "2012-01-02 21:20:00   9.000000  10.140000  "
      ]
     },
     "execution_count": 38,
     "metadata": {},
     "output_type": "execute_result"
    }
   ],
   "source": [
    "imputer.prepare_target(target_df).head()"
   ]
  },
  {
   "cell_type": "code",
   "execution_count": 39,
   "metadata": {
    "collapsed": false
   },
   "outputs": [
    {
     "name": "stdout",
     "output_type": "stream",
     "text": [
      "92794\n",
      "34378\n",
      "12779\n",
      "5160\n",
      "2349\n",
      "1367\n",
      "930\n",
      "588\n",
      "284\n",
      "112\n",
      "35\n",
      "0\n"
     ]
    }
   ],
   "source": [
    "imputer.predict()"
   ]
  },
  {
   "cell_type": "markdown",
   "metadata": {},
   "source": [
    "### Much faster to converge indicating much fewer large gaps"
   ]
  },
  {
   "cell_type": "code",
   "execution_count": 40,
   "metadata": {
    "collapsed": false
   },
   "outputs": [
    {
     "data": {
      "image/png": "[encoded data removed]",
      "text/plain": [
       "<matplotlib.figure.Figure at 0x7f5489825f10>"
      ]
     },
     "metadata": {},
     "output_type": "display_data"
    }
   ],
   "source": [
    "plt.figure(figsize=(16,4))\n",
    "plt.subplot(121)\n",
    "plt.xlim([0,50])\n",
    "plt.hist(imputer.predictdf.waittime, bins=100)\n",
    "plt.subplot(122)\n",
    "plt.hist(imputer.predictdf.waittime, bins=50);"
   ]
  },
  {
   "cell_type": "markdown",
   "metadata": {},
   "source": [
    "### The histogram should be smoother.  See Peace Arch as example.\n",
    "## Try different values for threshold and window"
   ]
  },
  {
   "cell_type": "code",
   "execution_count": 23,
   "metadata": {
    "collapsed": false
   },
   "outputs": [],
   "source": [
    "def run_imputer(model, source_df, target_df, threshold, window):\n",
    "    imputer = BorderImpute(window=window, threshold=threshold, progressbar=False)\n",
    "    dfsource = imputer.prepare_source(source_df)\n",
    "    imputer.build_model(model)\n",
    "    imputer.prepare_target(target_df).head()\n",
    "    imputer.predict()"
   ]
  },
  {
   "cell_type": "code",
   "execution_count": 53,
   "metadata": {
    "collapsed": false
   },
   "outputs": [
    {
     "name": "stdout",
     "output_type": "stream",
     "text": [
      "importing BorderImpute from BorderModel on engine(s)\n",
      "importing ExtraTreesRegressor from sklearn.ensemble on engine(s)\n"
     ]
    }
   ],
   "source": [
    "import os\n",
    "from BorderModel import BorderImpute\n",
    "from ipyparallel import Client\n",
    "rc = Client()\n",
    "dview = rc[:]\n",
    "\n",
    "# set proper working directory on all clients\n",
    "cwd = os.getcwd()\n",
    "dview.map(os.chdir, [cwd] * 32)\n",
    "# print(dview.apply_sync(os.getcwd))\n",
    "\n",
    "with dview.sync_imports():\n",
    "    from BorderModel import BorderImpute\n",
    "    from sklearn.ensemble import ExtraTreesRegressor"
   ]
  },
  {
   "cell_type": "code",
   "execution_count": 54,
   "metadata": {
    "collapsed": false
   },
   "outputs": [],
   "source": [
    "model = ExtraTreesRegressor(n_jobs=-1, n_estimators=96, bootstrap=True, oob_score=True)\n",
    "pr = {}\n",
    "cpu = 0 \n",
    "for thresh in [14, 15, 16, 17]:\n",
    "    pr[thresh] = rc[cpu].apply_async(run_imputer, model, dfsource0, target_df, thresh, 48)\n",
    "    cpu += 1"
   ]
  },
  {
   "cell_type": "code",
   "execution_count": 61,
   "metadata": {
    "collapsed": false
   },
   "outputs": [
    {
     "name": "stdout",
     "output_type": "stream",
     "text": [
      "False\n",
      "False\n",
      "False\n",
      "False\n"
     ]
    }
   ],
   "source": [
    "for thresh in [14, 15, 16, 17]:\n",
    "    print pr[thresh].ready()"
   ]
  },
  {
   "cell_type": "code",
   "execution_count": 60,
   "metadata": {
    "collapsed": false,
    "scrolled": true
   },
   "outputs": [
    {
     "ename": "TimeoutError",
     "evalue": "Result not ready.",
     "output_type": "error",
     "traceback": [
      "\u001b[1;31m---------------------------------------------------------------------------\u001b[0m",
      "\u001b[1;31mTimeoutError\u001b[0m                              Traceback (most recent call last)",
      "\u001b[1;32m<ipython-input-60-c28d62a6c92d>\u001b[0m in \u001b[0;36m<module>\u001b[1;34m()\u001b[0m\n\u001b[0;32m      1\u001b[0m \u001b[0mimp\u001b[0m \u001b[1;33m=\u001b[0m \u001b[1;33m{\u001b[0m\u001b[1;33m}\u001b[0m\u001b[1;33m\u001b[0m\u001b[0m\n\u001b[0;32m      2\u001b[0m \u001b[1;32mfor\u001b[0m \u001b[0mthresh\u001b[0m \u001b[1;32min\u001b[0m \u001b[1;33m[\u001b[0m\u001b[1;36m16\u001b[0m\u001b[1;33m,\u001b[0m \u001b[1;36m17\u001b[0m\u001b[1;33m]\u001b[0m\u001b[1;33m:\u001b[0m\u001b[1;33m\u001b[0m\u001b[0m\n\u001b[1;32m----> 3\u001b[1;33m     \u001b[0mimp\u001b[0m\u001b[1;33m[\u001b[0m\u001b[0mthresh\u001b[0m\u001b[1;33m]\u001b[0m \u001b[1;33m=\u001b[0m \u001b[0mpr\u001b[0m\u001b[1;33m[\u001b[0m\u001b[0mthresh\u001b[0m\u001b[1;33m]\u001b[0m\u001b[1;33m.\u001b[0m\u001b[0mget\u001b[0m\u001b[1;33m(\u001b[0m\u001b[1;36m1\u001b[0m\u001b[1;33m)\u001b[0m\u001b[1;33m\u001b[0m\u001b[0m\n\u001b[0m",
      "\u001b[1;32m/home/ubuntu/anaconda2/lib/python2.7/site-packages/ipyparallel/client/asyncresult.pyc\u001b[0m in \u001b[0;36mget\u001b[1;34m(self, timeout)\u001b[0m\n\u001b[0;32m    104\u001b[0m                 \u001b[1;32mraise\u001b[0m \u001b[0mself\u001b[0m\u001b[1;33m.\u001b[0m\u001b[0m_exception\u001b[0m\u001b[1;33m\u001b[0m\u001b[0m\n\u001b[0;32m    105\u001b[0m         \u001b[1;32melse\u001b[0m\u001b[1;33m:\u001b[0m\u001b[1;33m\u001b[0m\u001b[0m\n\u001b[1;32m--> 106\u001b[1;33m             \u001b[1;32mraise\u001b[0m \u001b[0merror\u001b[0m\u001b[1;33m.\u001b[0m\u001b[0mTimeoutError\u001b[0m\u001b[1;33m(\u001b[0m\u001b[1;34m\"Result not ready.\"\u001b[0m\u001b[1;33m)\u001b[0m\u001b[1;33m\u001b[0m\u001b[0m\n\u001b[0m\u001b[0;32m    107\u001b[0m \u001b[1;33m\u001b[0m\u001b[0m\n\u001b[0;32m    108\u001b[0m     \u001b[1;32mdef\u001b[0m \u001b[0m_check_ready\u001b[0m\u001b[1;33m(\u001b[0m\u001b[0mself\u001b[0m\u001b[1;33m)\u001b[0m\u001b[1;33m:\u001b[0m\u001b[1;33m\u001b[0m\u001b[0m\n",
      "\u001b[1;31mTimeoutError\u001b[0m: Result not ready."
     ]
    }
   ],
   "source": [
    "imp = {}\n",
    "for thresh in [16, 17]:\n",
    "    imp[thresh] = pr[thresh].get(1)"
   ]
  },
  {
   "cell_type": "code",
   "execution_count": null,
   "metadata": {
    "collapsed": true
   },
   "outputs": [],
   "source": []
  }
 ],
 "metadata": {
  "kernelspec": {
   "display_name": "Python 2",
   "language": "python",
   "name": "python2"
  },
  "language_info": {
   "codemirror_mode": {
    "name": "ipython",
    "version": 2
   },
   "file_extension": ".py",
   "mimetype": "text/x-python",
   "name": "python",
   "nbconvert_exporter": "python",
   "pygments_lexer": "ipython2",
   "version": "2.7.11"
  }
 },
 "nbformat": 4,
 "nbformat_minor": 0
}

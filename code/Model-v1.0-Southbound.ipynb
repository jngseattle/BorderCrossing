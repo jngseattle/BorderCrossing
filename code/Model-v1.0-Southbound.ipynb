{
 "cells": [
  {
   "cell_type": "code",
   "execution_count": 2,
   "metadata": {
    "collapsed": true
   },
   "outputs": [],
   "source": [
    "from BorderQuery import select_mungedata, insert_predictions, select_features\n",
    "from BorderModel import BorderData, handle_categoricals, model_years\n",
    "from sklearn.ensemble import ExtraTreesRegressor\n",
    "from sklearn.grid_search import GridSearchCV\n",
    "import pandas as pd"
   ]
  },
  {
   "cell_type": "markdown",
   "metadata": {},
   "source": [
    "# Peace Arch\n",
    "## Sanity test model"
   ]
  },
  {
   "cell_type": "code",
   "execution_count": 3,
   "metadata": {
    "collapsed": true
   },
   "outputs": [],
   "source": [
    "df = select_mungedata(2, 1, '2008-1-1')"
   ]
  },
  {
   "cell_type": "code",
   "execution_count": 3,
   "metadata": {
    "collapsed": false
   },
   "outputs": [
    {
     "name": "stdout",
     "output_type": "stream",
     "text": [
      "OOB:  0.9112814356\n",
      "Best score:  0.383691991105\n",
      "** MSE for last cv fold **\n",
      "Baseline :  96.7590735774\n",
      "Model    :  106.037146373\n",
      "Ensemble :  91.9049776083\n",
      "Weights  :  (0.87546482817935323, 1.131480714387938)\n",
      "** R^2 for last cv fold **\n",
      "Baseline :  0.14722281598\n",
      "Model    :  0.0654513758574\n",
      "Ensemble :  0.190003943769\n",
      "** Explained variance for last cv fold **\n",
      "Baseline :  0.304333505904\n",
      "Model    :  0.282734183054\n",
      "Ensemble :  0.344959275285\n"
     ]
    }
   ],
   "source": [
    "data = BorderData(df, categoricals=['event'])\n",
    "\n",
    "model = ExtraTreesRegressor(n_jobs=-1, n_estimators=96, bootstrap=True, oob_score=True)\n",
    "params = {}\n",
    "grid = GridSearchCV(model, params, cv=data.cv_train)\n",
    "grid.fit(data.X_train, data.y_train)\n",
    "\n",
    "data.predict(grid)\n",
    "data.predict_ensemble()\n",
    "data.print_metrics(grid)"
   ]
  },
  {
   "cell_type": "markdown",
   "metadata": {},
   "source": [
    "## Predict on full training data"
   ]
  },
  {
   "cell_type": "code",
   "execution_count": 4,
   "metadata": {
    "collapsed": false
   },
   "outputs": [
    {
     "data": {
      "text/plain": [
       "GridSearchCV(cv=array([[ [0, 1, 2, 3, 4, 5, 6, 7, 8, 9, 10, 11, 12, 13, 14, 15, 16, 17, 18, 19, 20, 21, 22, 23, 24, 25, 26, 27, 28, 29, 30, 31, 32, 33, 34, 35, 36, 37, 38, 39, 40, 41, 42, 43, 44, 45, 46, 47, 48, 49, 50, 51, 52, 53, 54, 55, 56, 57, 58, 59, 60, 61, 62, 63, 64, 65, 66, 67, 68, 69, 70, 71, 72, 73, 7...20, 108021, 108022, 108023, 108024, 108025, 108026, 108027, 108028, 108029, 108030]]], dtype=object),\n",
       "       error_score='raise',\n",
       "       estimator=ExtraTreesRegressor(bootstrap=True, criterion='mse', max_depth=None,\n",
       "          max_features='auto', max_leaf_nodes=None, min_samples_leaf=1,\n",
       "          min_samples_split=2, min_weight_fraction_leaf=0.0,\n",
       "          n_estimators=96, n_jobs=-1, oob_score=True, random_state=None,\n",
       "          verbose=0, warm_start=False),\n",
       "       fit_params={}, iid=True, n_jobs=1, param_grid={},\n",
       "       pre_dispatch='2*n_jobs', refit=True, scoring=None, verbose=0)"
      ]
     },
     "execution_count": 4,
     "metadata": {},
     "output_type": "execute_result"
    }
   ],
   "source": [
    "model = ExtraTreesRegressor(n_jobs=-1, n_estimators=96, bootstrap=True, oob_score=True)\n",
    "params = {}\n",
    "grid = GridSearchCV(model, params, cv=data.cv_train)\n",
    "grid.fit(data.X, data.y)"
   ]
  },
  {
   "cell_type": "code",
   "execution_count": 5,
   "metadata": {
    "collapsed": false
   },
   "outputs": [],
   "source": [
    "features = select_features('2015-12-1', '2018-1-1')"
   ]
  },
  {
   "cell_type": "code",
   "execution_count": 6,
   "metadata": {
    "collapsed": true
   },
   "outputs": [],
   "source": [
    "fmatrix = handle_categoricals(features, ['event'])"
   ]
  },
  {
   "cell_type": "code",
   "execution_count": 7,
   "metadata": {
    "collapsed": false
   },
   "outputs": [],
   "source": [
    "yhat = grid.best_estimator_.predict(fmatrix)"
   ]
  },
  {
   "cell_type": "code",
   "execution_count": 8,
   "metadata": {
    "collapsed": false
   },
   "outputs": [
    {
     "ename": "IntegrityError",
     "evalue": "duplicate key value violates unique constraint \"predictions_pkey\"\nDETAIL:  Key (model_version, munger_id, crossing_id, date)=(v1.0, 2, 1, 2015-12-01 00:00:00) already exists.\n",
     "output_type": "error",
     "traceback": [
      "\u001b[1;31m---------------------------------------------------------------------------\u001b[0m",
      "\u001b[1;31mIntegrityError\u001b[0m                            Traceback (most recent call last)",
      "\u001b[1;32m<ipython-input-8-5fd918c3ec79>\u001b[0m in \u001b[0;36m<module>\u001b[1;34m()\u001b[0m\n\u001b[1;32m----> 1\u001b[1;33m \u001b[0minsert_predictions\u001b[0m\u001b[1;33m(\u001b[0m\u001b[1;34m'v1.0'\u001b[0m\u001b[1;33m,\u001b[0m \u001b[1;36m2\u001b[0m\u001b[1;33m,\u001b[0m \u001b[1;36m1\u001b[0m\u001b[1;33m,\u001b[0m \u001b[0mfmatrix\u001b[0m\u001b[1;33m.\u001b[0m\u001b[0mindex\u001b[0m\u001b[1;33m,\u001b[0m \u001b[0myhat\u001b[0m\u001b[1;33m)\u001b[0m\u001b[1;33m\u001b[0m\u001b[0m\n\u001b[0m",
      "\u001b[1;32m/home/ubuntu/BorderCrossing/code/BorderQuery.pyc\u001b[0m in \u001b[0;36minsert_predictions\u001b[1;34m(model_id, munger_id, crossing_id, dates, waittime)\u001b[0m\n\u001b[0;32m    332\u001b[0m         \u001b[1;32mfor\u001b[0m \u001b[0mdate\u001b[0m\u001b[1;33m,\u001b[0m \u001b[0mval\u001b[0m \u001b[1;32min\u001b[0m \u001b[0mzip\u001b[0m\u001b[1;33m(\u001b[0m\u001b[0mdates\u001b[0m\u001b[1;33m,\u001b[0m \u001b[0mwaittime\u001b[0m\u001b[1;33m)\u001b[0m\u001b[1;33m:\u001b[0m\u001b[1;33m\u001b[0m\u001b[0m\n\u001b[0;32m    333\u001b[0m             db.cur.execute(query.format(model_id, munger_id, crossing_id,\n\u001b[1;32m--> 334\u001b[1;33m                                         date, val))\n\u001b[0m\u001b[0;32m    335\u001b[0m         \u001b[0mdb\u001b[0m\u001b[1;33m.\u001b[0m\u001b[0mconn\u001b[0m\u001b[1;33m.\u001b[0m\u001b[0mcommit\u001b[0m\u001b[1;33m(\u001b[0m\u001b[1;33m)\u001b[0m\u001b[1;33m\u001b[0m\u001b[0m\n",
      "\u001b[1;31mIntegrityError\u001b[0m: duplicate key value violates unique constraint \"predictions_pkey\"\nDETAIL:  Key (model_version, munger_id, crossing_id, date)=(v1.0, 2, 1, 2015-12-01 00:00:00) already exists.\n"
     ]
    }
   ],
   "source": [
    "# insert_predictions('v1.0', 2, 1, fmatrix.index, yhat)"
   ]
  },
  {
   "cell_type": "markdown",
   "metadata": {
    "collapsed": true
   },
   "source": [
    "## Compare predictions by year"
   ]
  },
  {
   "cell_type": "code",
   "execution_count": 5,
   "metadata": {
    "collapsed": false
   },
   "outputs": [
    {
     "name": "stdout",
     "output_type": "stream",
     "text": [
      "Training...  2011\n",
      "minimize unexplained ValueError.  Returning default weights\n",
      "Baseline :  0.395701509877\n",
      "Model    :  -0.181824651761\n",
      "Ensemble :  0.389848422039\n",
      "Training...  2012\n",
      "Baseline :  0.609866621201\n",
      "Model    :  0.581085007711\n",
      "Ensemble :  0.638943000719\n",
      "Training...  2013\n",
      "Baseline :  0.61359183581\n",
      "Model    :  0.659729866993\n",
      "Ensemble :  0.673081552596\n",
      "Training...  2014\n",
      "Baseline :  0.569483794384\n",
      "Model    :  0.617802588992\n",
      "Ensemble :  0.63511779035\n",
      "Training...  2015\n",
      "Baseline :  0.14722281598\n",
      "Model    :  0.0610630251563\n",
      "Ensemble :  0.19052238452\n"
     ]
    }
   ],
   "source": [
    "from BorderModel import model_years\n",
    "model = ExtraTreesRegressor(n_jobs=-1, n_estimators=96, bootstrap=True, oob_score=True)\n",
    "models = model_years(df, model, 2011, 2015, categoricals=['event'])"
   ]
  },
  {
   "cell_type": "markdown",
   "metadata": {},
   "source": [
    "# Pacific Crossing"
   ]
  },
  {
   "cell_type": "code",
   "execution_count": 24,
   "metadata": {
    "collapsed": true
   },
   "outputs": [],
   "source": [
    "df = select_mungedata(2, 5, '2008-1-1')"
   ]
  },
  {
   "cell_type": "code",
   "execution_count": 25,
   "metadata": {
    "collapsed": true
   },
   "outputs": [],
   "source": [
    "import matplotlib.pyplot as plt\n",
    "%matplotlib inline"
   ]
  },
  {
   "cell_type": "code",
   "execution_count": 26,
   "metadata": {
    "collapsed": false
   },
   "outputs": [
    {
     "data": {
      "image/png": "[encoded data removed]",
      "text/plain": [
       "<matplotlib.figure.Figure at 0x7fe4a2073c90>"
      ]
     },
     "metadata": {},
     "output_type": "display_data"
    }
   ],
   "source": [
    "plt.plot(df.set_index('date').waittime);"
   ]
  },
  {
   "cell_type": "code",
   "execution_count": 11,
   "metadata": {
    "collapsed": false
   },
   "outputs": [
    {
     "name": "stdout",
     "output_type": "stream",
     "text": [
      "minimize unexplained ValueError.  Returning default weights\n",
      "OOB:  0.912540648939\n",
      "Best score:  0.579938793465\n",
      "** MSE for last cv fold **\n",
      "Baseline :  69.4958310754\n",
      "Model    :  82.2761209238\n",
      "Ensemble :  66.1780205742\n",
      "Weights  :  (1, 1)\n",
      "** R^2 for last cv fold **\n",
      "Baseline :  0.266861634576\n",
      "Model    :  0.13203742046\n",
      "Ensemble :  0.301862499088\n",
      "** Explained variance for last cv fold **\n",
      "Baseline :  0.376495880489\n",
      "Model    :  0.358572256947\n",
      "Ensemble :  0.434696902386\n"
     ]
    }
   ],
   "source": [
    "df = select_mungedata(2, 5, '2008-1-1')\n",
    "data = BorderData(df, categoricals=['event'])\n",
    "\n",
    "model = ExtraTreesRegressor(n_jobs=-1, n_estimators=96, bootstrap=True, oob_score=True)\n",
    "params = {}\n",
    "grid = GridSearchCV(model, params, cv=data.cv_train)\n",
    "grid.fit(data.X_train, data.y_train)\n",
    "\n",
    "data.predict(grid)\n",
    "data.predict_ensemble()\n",
    "data.print_metrics(grid)"
   ]
  },
  {
   "cell_type": "code",
   "execution_count": 12,
   "metadata": {
    "collapsed": false
   },
   "outputs": [
    {
     "data": {
      "text/plain": [
       "GridSearchCV(cv=array([[ [0, 1, 2, 3, 4, 5, 6, 7, 8, 9, 10, 11, 12, 13, 14, 15, 16, 17, 18, 19, 20, 21, 22, 23, 24, 25, 26, 27, 28, 29, 30, 31, 32, 33, 34, 35, 36, 37, 38, 39, 40, 41, 42, 43, 44, 45, 46, 47, 48, 49, 50, 51, 52, 53, 54, 55, 56, 57, 58, 59, 60, 61, 62, 63, 64, 65, 66, 67, 68, 69, 70, 71, 72, 73, 7...55, 113056, 113057, 113058, 113059, 113060, 113061, 113062, 113063, 113064, 113065]]], dtype=object),\n",
       "       error_score='raise',\n",
       "       estimator=ExtraTreesRegressor(bootstrap=True, criterion='mse', max_depth=None,\n",
       "          max_features='auto', max_leaf_nodes=None, min_samples_leaf=1,\n",
       "          min_samples_split=2, min_weight_fraction_leaf=0.0,\n",
       "          n_estimators=96, n_jobs=-1, oob_score=True, random_state=None,\n",
       "          verbose=0, warm_start=False),\n",
       "       fit_params={}, iid=True, n_jobs=1, param_grid={},\n",
       "       pre_dispatch='2*n_jobs', refit=True, scoring=None, verbose=0)"
      ]
     },
     "execution_count": 12,
     "metadata": {},
     "output_type": "execute_result"
    }
   ],
   "source": [
    "model = ExtraTreesRegressor(n_jobs=-1, n_estimators=96, bootstrap=True, oob_score=True)\n",
    "params = {}\n",
    "grid = GridSearchCV(model, params, cv=data.cv_train)\n",
    "grid.fit(data.X, data.y)"
   ]
  },
  {
   "cell_type": "code",
   "execution_count": 13,
   "metadata": {
    "collapsed": true
   },
   "outputs": [],
   "source": [
    "features = select_features('2015-12-1', '2018-1-1')\n",
    "fmatrix = handle_categoricals(features, ['event'])\n",
    "yhat = grid.best_estimator_.predict(fmatrix)"
   ]
  },
  {
   "cell_type": "code",
   "execution_count": 14,
   "metadata": {
    "collapsed": true
   },
   "outputs": [],
   "source": [
    "insert_predictions('v1.0', 2, 5, fmatrix.index, yhat)"
   ]
  },
  {
   "cell_type": "code",
   "execution_count": 28,
   "metadata": {
    "collapsed": false
   },
   "outputs": [
    {
     "name": "stdout",
     "output_type": "stream",
     "text": [
      "Training...  2011\n",
      "Baseline :  0.508431454184\n",
      "Model    :  0.501971226118\n",
      "Ensemble :  0.551380308118\n",
      "Training...  2012\n",
      "Baseline :  0.62648854487\n",
      "Model    :  0.646178288752\n",
      "Ensemble :  0.674293384482\n",
      "Training...  2013\n",
      "Baseline :  0.571848225947\n",
      "Model    :  0.67501681662\n",
      "Ensemble :  0.67566912035\n",
      "Training...  2014\n",
      "Baseline :  0.512991223483\n",
      "Model    :  0.606819701105\n",
      "Ensemble :  0.629780609218\n",
      "Training...  2015\n",
      "minimize unexplained ValueError.  Returning default weights\n",
      "Baseline :  0.266861634576\n",
      "Model    :  0.132823848702\n",
      "Ensemble :  0.29886803338\n"
     ]
    }
   ],
   "source": [
    "model = ExtraTreesRegressor(n_jobs=-1, n_estimators=96, bootstrap=True, oob_score=True)\n",
    "models = model_years(df, model, 2011, 2015, categoricals=['event'])"
   ]
  },
  {
   "cell_type": "markdown",
   "metadata": {},
   "source": [
    "# Sumas"
   ]
  },
  {
   "cell_type": "code",
   "execution_count": 20,
   "metadata": {
    "collapsed": false
   },
   "outputs": [
    {
     "data": {
      "image/png": "[encoded data removed]",
      "text/plain": [
       "<matplotlib.figure.Figure at 0x7fe46c739850>"
      ]
     },
     "metadata": {},
     "output_type": "display_data"
    }
   ],
   "source": [
    "df = select_mungedata(2, 20, '2011-6-1')\n",
    "plt.plot(df.set_index('date').waittime);"
   ]
  },
  {
   "cell_type": "code",
   "execution_count": 19,
   "metadata": {
    "collapsed": false
   },
   "outputs": [
    {
     "data": {
      "text/html": [
       "<div>\n",
       "<table border=\"1\" class=\"dataframe\">\n",
       "  <thead>\n",
       "    <tr style=\"text-align: right;\">\n",
       "      <th></th>\n",
       "      <th>date</th>\n",
       "      <th>waittime</th>\n",
       "      <th>year</th>\n",
       "      <th>month</th>\n",
       "      <th>week</th>\n",
       "      <th>dayofweek</th>\n",
       "      <th>minofday</th>\n",
       "      <th>temp_max</th>\n",
       "      <th>temp_mean</th>\n",
       "      <th>temp_min</th>\n",
       "      <th>...</th>\n",
       "      <th>sea_lead2</th>\n",
       "      <th>sea_lag3</th>\n",
       "      <th>sea_lead3</th>\n",
       "      <th>van</th>\n",
       "      <th>van_lag1</th>\n",
       "      <th>van_lead1</th>\n",
       "      <th>van_lag2</th>\n",
       "      <th>van_lead2</th>\n",
       "      <th>van_lag3</th>\n",
       "      <th>van_lead3</th>\n",
       "    </tr>\n",
       "  </thead>\n",
       "  <tbody>\n",
       "    <tr>\n",
       "      <th>0</th>\n",
       "      <td>2011-05-17 15:30:00</td>\n",
       "      <td>0</td>\n",
       "      <td>2011</td>\n",
       "      <td>5</td>\n",
       "      <td>20</td>\n",
       "      <td>1</td>\n",
       "      <td>930</td>\n",
       "      <td>60</td>\n",
       "      <td>51</td>\n",
       "      <td>42</td>\n",
       "      <td>...</td>\n",
       "      <td>1</td>\n",
       "      <td>1</td>\n",
       "      <td>1</td>\n",
       "      <td>1</td>\n",
       "      <td>1</td>\n",
       "      <td>1</td>\n",
       "      <td>1</td>\n",
       "      <td>1</td>\n",
       "      <td>1</td>\n",
       "      <td>1</td>\n",
       "    </tr>\n",
       "    <tr>\n",
       "      <th>1</th>\n",
       "      <td>2011-05-17 16:00:00</td>\n",
       "      <td>0</td>\n",
       "      <td>2011</td>\n",
       "      <td>5</td>\n",
       "      <td>20</td>\n",
       "      <td>1</td>\n",
       "      <td>960</td>\n",
       "      <td>60</td>\n",
       "      <td>51</td>\n",
       "      <td>42</td>\n",
       "      <td>...</td>\n",
       "      <td>1</td>\n",
       "      <td>1</td>\n",
       "      <td>1</td>\n",
       "      <td>1</td>\n",
       "      <td>1</td>\n",
       "      <td>1</td>\n",
       "      <td>1</td>\n",
       "      <td>1</td>\n",
       "      <td>1</td>\n",
       "      <td>1</td>\n",
       "    </tr>\n",
       "    <tr>\n",
       "      <th>2</th>\n",
       "      <td>2011-05-17 16:30:00</td>\n",
       "      <td>1</td>\n",
       "      <td>2011</td>\n",
       "      <td>5</td>\n",
       "      <td>20</td>\n",
       "      <td>1</td>\n",
       "      <td>990</td>\n",
       "      <td>60</td>\n",
       "      <td>51</td>\n",
       "      <td>42</td>\n",
       "      <td>...</td>\n",
       "      <td>1</td>\n",
       "      <td>1</td>\n",
       "      <td>1</td>\n",
       "      <td>1</td>\n",
       "      <td>1</td>\n",
       "      <td>1</td>\n",
       "      <td>1</td>\n",
       "      <td>1</td>\n",
       "      <td>1</td>\n",
       "      <td>1</td>\n",
       "    </tr>\n",
       "    <tr>\n",
       "      <th>3</th>\n",
       "      <td>2011-05-17 17:00:00</td>\n",
       "      <td>0</td>\n",
       "      <td>2011</td>\n",
       "      <td>5</td>\n",
       "      <td>20</td>\n",
       "      <td>1</td>\n",
       "      <td>1020</td>\n",
       "      <td>60</td>\n",
       "      <td>51</td>\n",
       "      <td>42</td>\n",
       "      <td>...</td>\n",
       "      <td>1</td>\n",
       "      <td>1</td>\n",
       "      <td>1</td>\n",
       "      <td>1</td>\n",
       "      <td>1</td>\n",
       "      <td>1</td>\n",
       "      <td>1</td>\n",
       "      <td>1</td>\n",
       "      <td>1</td>\n",
       "      <td>1</td>\n",
       "    </tr>\n",
       "    <tr>\n",
       "      <th>4</th>\n",
       "      <td>2011-05-17 17:30:00</td>\n",
       "      <td>1</td>\n",
       "      <td>2011</td>\n",
       "      <td>5</td>\n",
       "      <td>20</td>\n",
       "      <td>1</td>\n",
       "      <td>1050</td>\n",
       "      <td>60</td>\n",
       "      <td>51</td>\n",
       "      <td>42</td>\n",
       "      <td>...</td>\n",
       "      <td>1</td>\n",
       "      <td>1</td>\n",
       "      <td>1</td>\n",
       "      <td>1</td>\n",
       "      <td>1</td>\n",
       "      <td>1</td>\n",
       "      <td>1</td>\n",
       "      <td>1</td>\n",
       "      <td>1</td>\n",
       "      <td>1</td>\n",
       "    </tr>\n",
       "  </tbody>\n",
       "</table>\n",
       "<p>5 rows × 75 columns</p>\n",
       "</div>"
      ],
      "text/plain": [
       "                 date  waittime  year  month  week  dayofweek  minofday  \\\n",
       "0 2011-05-17 15:30:00         0  2011      5    20          1       930   \n",
       "1 2011-05-17 16:00:00         0  2011      5    20          1       960   \n",
       "2 2011-05-17 16:30:00         1  2011      5    20          1       990   \n",
       "3 2011-05-17 17:00:00         0  2011      5    20          1      1020   \n",
       "4 2011-05-17 17:30:00         1  2011      5    20          1      1050   \n",
       "\n",
       "   temp_max  temp_mean  temp_min    ...      sea_lead2  sea_lag3  sea_lead3  \\\n",
       "0        60         51        42    ...              1         1          1   \n",
       "1        60         51        42    ...              1         1          1   \n",
       "2        60         51        42    ...              1         1          1   \n",
       "3        60         51        42    ...              1         1          1   \n",
       "4        60         51        42    ...              1         1          1   \n",
       "\n",
       "  van van_lag1 van_lead1 van_lag2  van_lead2  van_lag3  van_lead3  \n",
       "0   1        1         1        1          1         1          1  \n",
       "1   1        1         1        1          1         1          1  \n",
       "2   1        1         1        1          1         1          1  \n",
       "3   1        1         1        1          1         1          1  \n",
       "4   1        1         1        1          1         1          1  \n",
       "\n",
       "[5 rows x 75 columns]"
      ]
     },
     "execution_count": 19,
     "metadata": {},
     "output_type": "execute_result"
    }
   ],
   "source": [
    "df.head()"
   ]
  },
  {
   "cell_type": "code",
   "execution_count": 21,
   "metadata": {
    "collapsed": false
   },
   "outputs": [
    {
     "name": "stdout",
     "output_type": "stream",
     "text": [
      "OOB:  0.814080474056\n",
      "Best score:  0.324985707084\n",
      "** MSE for last cv fold **\n",
      "Baseline :  13.8691851929\n",
      "Model    :  18.6121581903\n",
      "Ensemble :  13.2689409122\n",
      "Weights  :  (0.6269348867101171, 1.5230801701703609)\n",
      "** R^2 for last cv fold **\n",
      "Baseline :  -0.292288336205\n",
      "Model    :  -0.734224080686\n",
      "Ensemble :  -0.236359406566\n",
      "** Explained variance for last cv fold **\n",
      "Baseline :  -0.107379488939\n",
      "Model    :  -0.455153436657\n",
      "Ensemble :  -0.0723331407189\n"
     ]
    }
   ],
   "source": [
    "# df = select_mungedata(2, 5, '2008-1-1')\n",
    "data = BorderData(df, categoricals=['event'])\n",
    "\n",
    "model = ExtraTreesRegressor(n_jobs=-1, n_estimators=96, bootstrap=True, oob_score=True)\n",
    "params = {}\n",
    "grid = GridSearchCV(model, params, cv=data.cv_train)\n",
    "grid.fit(data.X_train, data.y_train)\n",
    "\n",
    "data.predict(grid)\n",
    "data.predict_ensemble()\n",
    "data.print_metrics(grid)"
   ]
  },
  {
   "cell_type": "code",
   "execution_count": 23,
   "metadata": {
    "collapsed": false
   },
   "outputs": [
    {
     "name": "stdout",
     "output_type": "stream",
     "text": [
      "Training...  2014\n",
      "Baseline :  0.272231133656\n",
      "Model    :  0.301498355592\n",
      "Ensemble :  0.350941206413\n",
      "Training...  2015\n",
      "Baseline :  -0.292288336205\n",
      "Model    :  -0.720446251659\n",
      "Ensemble :  -0.23137022317\n"
     ]
    }
   ],
   "source": [
    "model = ExtraTreesRegressor(n_jobs=-1, n_estimators=96, bootstrap=True, oob_score=True)\n",
    "models = model_years(df, model, 2014, 2015, categoricals=['event'])"
   ]
  },
  {
   "cell_type": "code",
   "execution_count": 29,
   "metadata": {
    "collapsed": true
   },
   "outputs": [],
   "source": [
    "features = select_features('2015-12-1', '2018-1-1')\n",
    "fmatrix = handle_categoricals(features, ['event'])\n",
    "yhat = grid.best_estimator_.predict(fmatrix)\n",
    "insert_predictions('v1.0', 2, 20, fmatrix.index, yhat)"
   ]
  },
  {
   "cell_type": "markdown",
   "metadata": {},
   "source": [
    "# Lynden"
   ]
  },
  {
   "cell_type": "code",
   "execution_count": 37,
   "metadata": {
    "collapsed": false
   },
   "outputs": [
    {
     "data": {
      "image/png": "[encoded data removed]",
      "text/plain": [
       "<matplotlib.figure.Figure at 0x7fe4b2231490>"
      ]
     },
     "metadata": {},
     "output_type": "display_data"
    }
   ],
   "source": [
    "df = select_mungedata(2, 16, '2011-6-1')\n",
    "plt.plot(df.set_index('date').waittime);"
   ]
  },
  {
   "cell_type": "code",
   "execution_count": 38,
   "metadata": {
    "collapsed": false
   },
   "outputs": [
    {
     "name": "stdout",
     "output_type": "stream",
     "text": [
      "OOB:  0.897740440561\n",
      "Best score:  0.465582265353\n",
      "** MSE for last cv fold **\n",
      "Baseline :  20.4808303991\n",
      "Model    :  26.310955863\n",
      "Ensemble :  19.79287517\n",
      "Weights  :  (0.59559957426808596, 1.3087664733024578)\n",
      "** R^2 for last cv fold **\n",
      "Baseline :  -0.368242022343\n",
      "Model    :  -0.757729289207\n",
      "Ensemble :  -0.322282496505\n",
      "** Explained variance for last cv fold **\n",
      "Baseline :  -0.0530959232418\n",
      "Model    :  -0.217873687237\n",
      "Ensemble :  0.00633829974827\n"
     ]
    }
   ],
   "source": [
    "data = BorderData(df, categoricals=['event'])\n",
    "\n",
    "model = ExtraTreesRegressor(n_jobs=-1, n_estimators=96, bootstrap=True, oob_score=True)\n",
    "params = {}\n",
    "grid = GridSearchCV(model, params, cv=data.cv_train)\n",
    "grid.fit(data.X_train, data.y_train)\n",
    "\n",
    "data.predict(grid)\n",
    "data.predict_ensemble()\n",
    "data.print_metrics(grid)"
   ]
  },
  {
   "cell_type": "code",
   "execution_count": 39,
   "metadata": {
    "collapsed": false
   },
   "outputs": [
    {
     "name": "stdout",
     "output_type": "stream",
     "text": [
      "Training...  2014\n",
      "minimize unexplained ValueError.  Returning default weights\n",
      "Baseline : "
     ]
    },
    {
     "ename": "ValueError",
     "evalue": "Input contains NaN, infinity or a value too large for dtype('float64').",
     "output_type": "error",
     "traceback": [
      "\u001b[1;31m---------------------------------------------------------------------------\u001b[0m",
      "\u001b[1;31mValueError\u001b[0m                                Traceback (most recent call last)",
      "\u001b[1;32m<ipython-input-39-a0f4832f00e4>\u001b[0m in \u001b[0;36m<module>\u001b[1;34m()\u001b[0m\n\u001b[1;32m----> 1\u001b[1;33m \u001b[0mmodels\u001b[0m \u001b[1;33m=\u001b[0m \u001b[0mmodel_years\u001b[0m\u001b[1;33m(\u001b[0m\u001b[0mdf\u001b[0m\u001b[1;33m,\u001b[0m \u001b[0mmodel\u001b[0m\u001b[1;33m,\u001b[0m \u001b[1;36m2014\u001b[0m\u001b[1;33m,\u001b[0m \u001b[1;36m2015\u001b[0m\u001b[1;33m,\u001b[0m \u001b[0mcategoricals\u001b[0m\u001b[1;33m=\u001b[0m\u001b[1;33m[\u001b[0m\u001b[1;34m'event'\u001b[0m\u001b[1;33m]\u001b[0m\u001b[1;33m)\u001b[0m\u001b[1;33m\u001b[0m\u001b[0m\n\u001b[0m",
      "\u001b[1;32m/home/ubuntu/BorderCrossing/code/BorderModel.pyc\u001b[0m in \u001b[0;36mmodel_years\u001b[1;34m(df, model, start, end, categoricals)\u001b[0m\n\u001b[0;32m    684\u001b[0m         \u001b[0mdata\u001b[0m\u001b[1;33m.\u001b[0m\u001b[0mpredict\u001b[0m\u001b[1;33m(\u001b[0m\u001b[0mgrid\u001b[0m\u001b[1;33m)\u001b[0m\u001b[1;33m\u001b[0m\u001b[0m\n\u001b[0;32m    685\u001b[0m         \u001b[0mdata\u001b[0m\u001b[1;33m.\u001b[0m\u001b[0mpredict_ensemble\u001b[0m\u001b[1;33m(\u001b[0m\u001b[1;33m)\u001b[0m\u001b[1;33m\u001b[0m\u001b[0m\n\u001b[1;32m--> 686\u001b[1;33m         \u001b[1;32mprint\u001b[0m \u001b[1;34m\"Baseline : \"\u001b[0m\u001b[1;33m,\u001b[0m \u001b[0mr2_score\u001b[0m\u001b[1;33m(\u001b[0m\u001b[0mdata\u001b[0m\u001b[1;33m.\u001b[0m\u001b[0my_test\u001b[0m\u001b[1;33m,\u001b[0m \u001b[0mdata\u001b[0m\u001b[1;33m.\u001b[0m\u001b[0mbaseline\u001b[0m\u001b[1;33m)\u001b[0m\u001b[1;33m\u001b[0m\u001b[0m\n\u001b[0m\u001b[0;32m    687\u001b[0m         \u001b[1;32mprint\u001b[0m \u001b[1;34m'Model    : '\u001b[0m\u001b[1;33m,\u001b[0m \u001b[0mr2_score\u001b[0m\u001b[1;33m(\u001b[0m\u001b[0mdata\u001b[0m\u001b[1;33m.\u001b[0m\u001b[0my_test\u001b[0m\u001b[1;33m,\u001b[0m \u001b[0mdata\u001b[0m\u001b[1;33m.\u001b[0m\u001b[0myhat\u001b[0m\u001b[1;33m)\u001b[0m\u001b[1;33m\u001b[0m\u001b[0m\n\u001b[0;32m    688\u001b[0m         \u001b[1;32mprint\u001b[0m \u001b[1;34m\"Ensemble : \"\u001b[0m\u001b[1;33m,\u001b[0m \u001b[0mr2_score\u001b[0m\u001b[1;33m(\u001b[0m\u001b[0mdata\u001b[0m\u001b[1;33m.\u001b[0m\u001b[0my_test\u001b[0m\u001b[1;33m,\u001b[0m \u001b[0mdata\u001b[0m\u001b[1;33m.\u001b[0m\u001b[0mensemble\u001b[0m\u001b[1;33m)\u001b[0m\u001b[1;33m\u001b[0m\u001b[0m\n",
      "\u001b[1;32m/home/ubuntu/anaconda2/lib/python2.7/site-packages/sklearn/metrics/regression.pyc\u001b[0m in \u001b[0;36mr2_score\u001b[1;34m(y_true, y_pred, sample_weight, multioutput)\u001b[0m\n\u001b[0;32m    442\u001b[0m     \"\"\"\n\u001b[0;32m    443\u001b[0m     y_type, y_true, y_pred, multioutput = _check_reg_targets(\n\u001b[1;32m--> 444\u001b[1;33m         y_true, y_pred, multioutput)\n\u001b[0m\u001b[0;32m    445\u001b[0m \u001b[1;33m\u001b[0m\u001b[0m\n\u001b[0;32m    446\u001b[0m     \u001b[1;32mif\u001b[0m \u001b[0msample_weight\u001b[0m \u001b[1;32mis\u001b[0m \u001b[1;32mnot\u001b[0m \u001b[0mNone\u001b[0m\u001b[1;33m:\u001b[0m\u001b[1;33m\u001b[0m\u001b[0m\n",
      "\u001b[1;32m/home/ubuntu/anaconda2/lib/python2.7/site-packages/sklearn/metrics/regression.pyc\u001b[0m in \u001b[0;36m_check_reg_targets\u001b[1;34m(y_true, y_pred, multioutput)\u001b[0m\n\u001b[0;32m     74\u001b[0m     \u001b[0mcheck_consistent_length\u001b[0m\u001b[1;33m(\u001b[0m\u001b[0my_true\u001b[0m\u001b[1;33m,\u001b[0m \u001b[0my_pred\u001b[0m\u001b[1;33m)\u001b[0m\u001b[1;33m\u001b[0m\u001b[0m\n\u001b[0;32m     75\u001b[0m     \u001b[0my_true\u001b[0m \u001b[1;33m=\u001b[0m \u001b[0mcheck_array\u001b[0m\u001b[1;33m(\u001b[0m\u001b[0my_true\u001b[0m\u001b[1;33m,\u001b[0m \u001b[0mensure_2d\u001b[0m\u001b[1;33m=\u001b[0m\u001b[0mFalse\u001b[0m\u001b[1;33m)\u001b[0m\u001b[1;33m\u001b[0m\u001b[0m\n\u001b[1;32m---> 76\u001b[1;33m     \u001b[0my_pred\u001b[0m \u001b[1;33m=\u001b[0m \u001b[0mcheck_array\u001b[0m\u001b[1;33m(\u001b[0m\u001b[0my_pred\u001b[0m\u001b[1;33m,\u001b[0m \u001b[0mensure_2d\u001b[0m\u001b[1;33m=\u001b[0m\u001b[0mFalse\u001b[0m\u001b[1;33m)\u001b[0m\u001b[1;33m\u001b[0m\u001b[0m\n\u001b[0m\u001b[0;32m     77\u001b[0m \u001b[1;33m\u001b[0m\u001b[0m\n\u001b[0;32m     78\u001b[0m     \u001b[1;32mif\u001b[0m \u001b[0my_true\u001b[0m\u001b[1;33m.\u001b[0m\u001b[0mndim\u001b[0m \u001b[1;33m==\u001b[0m \u001b[1;36m1\u001b[0m\u001b[1;33m:\u001b[0m\u001b[1;33m\u001b[0m\u001b[0m\n",
      "\u001b[1;32m/home/ubuntu/anaconda2/lib/python2.7/site-packages/sklearn/utils/validation.pyc\u001b[0m in \u001b[0;36mcheck_array\u001b[1;34m(array, accept_sparse, dtype, order, copy, force_all_finite, ensure_2d, allow_nd, ensure_min_samples, ensure_min_features, warn_on_dtype, estimator)\u001b[0m\n\u001b[0;32m    396\u001b[0m                              % (array.ndim, estimator_name))\n\u001b[0;32m    397\u001b[0m         \u001b[1;32mif\u001b[0m \u001b[0mforce_all_finite\u001b[0m\u001b[1;33m:\u001b[0m\u001b[1;33m\u001b[0m\u001b[0m\n\u001b[1;32m--> 398\u001b[1;33m             \u001b[0m_assert_all_finite\u001b[0m\u001b[1;33m(\u001b[0m\u001b[0marray\u001b[0m\u001b[1;33m)\u001b[0m\u001b[1;33m\u001b[0m\u001b[0m\n\u001b[0m\u001b[0;32m    399\u001b[0m \u001b[1;33m\u001b[0m\u001b[0m\n\u001b[0;32m    400\u001b[0m     \u001b[0mshape_repr\u001b[0m \u001b[1;33m=\u001b[0m \u001b[0m_shape_repr\u001b[0m\u001b[1;33m(\u001b[0m\u001b[0marray\u001b[0m\u001b[1;33m.\u001b[0m\u001b[0mshape\u001b[0m\u001b[1;33m)\u001b[0m\u001b[1;33m\u001b[0m\u001b[0m\n",
      "\u001b[1;32m/home/ubuntu/anaconda2/lib/python2.7/site-packages/sklearn/utils/validation.pyc\u001b[0m in \u001b[0;36m_assert_all_finite\u001b[1;34m(X)\u001b[0m\n\u001b[0;32m     52\u001b[0m             and not np.isfinite(X).all()):\n\u001b[0;32m     53\u001b[0m         raise ValueError(\"Input contains NaN, infinity\"\n\u001b[1;32m---> 54\u001b[1;33m                          \" or a value too large for %r.\" % X.dtype)\n\u001b[0m\u001b[0;32m     55\u001b[0m \u001b[1;33m\u001b[0m\u001b[0m\n\u001b[0;32m     56\u001b[0m \u001b[1;33m\u001b[0m\u001b[0m\n",
      "\u001b[1;31mValueError\u001b[0m: Input contains NaN, infinity or a value too large for dtype('float64')."
     ]
    }
   ],
   "source": [
    "models = model_years(df, model, 2014, 2015, categoricals=['event'])"
   ]
  }
 ],
 "metadata": {
  "kernelspec": {
   "display_name": "Python 2",
   "language": "python",
   "name": "python2"
  },
  "language_info": {
   "codemirror_mode": {
    "name": "ipython",
    "version": 2
   },
   "file_extension": ".py",
   "mimetype": "text/x-python",
   "name": "python",
   "nbconvert_exporter": "python",
   "pygments_lexer": "ipython2",
   "version": "2.7.11"
  }
 },
 "nbformat": 4,
 "nbformat_minor": 0
}

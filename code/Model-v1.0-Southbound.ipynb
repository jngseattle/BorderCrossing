{
 "cells": [
  {
   "cell_type": "code",
   "execution_count": 1,
   "metadata": {
    "collapsed": true
   },
   "outputs": [],
   "source": [
    "from BorderQuery import select_mungedata, insert_predictions, select_features\n",
    "from BorderModel import BorderData, handle_categoricals, model_years\n",
    "from sklearn.ensemble import ExtraTreesRegressor\n",
    "from sklearn.grid_search import GridSearchCV\n",
    "import pandas as pd"
   ]
  },
  {
   "cell_type": "markdown",
   "metadata": {},
   "source": [
    "## Sanity test model"
   ]
  },
  {
   "cell_type": "code",
   "execution_count": 2,
   "metadata": {
    "collapsed": true
   },
   "outputs": [],
   "source": [
    "df = select_mungedata(2, 1, '2008-1-1')"
   ]
  },
  {
   "cell_type": "code",
   "execution_count": 3,
   "metadata": {
    "collapsed": false
   },
   "outputs": [
    {
     "name": "stdout",
     "output_type": "stream",
     "text": [
      "OOB:  0.9112814356\n",
      "Best score:  0.383691991105\n",
      "** MSE for last cv fold **\n",
      "Baseline :  96.7590735774\n",
      "Model    :  106.037146373\n",
      "Ensemble :  91.9049776083\n",
      "Weights  :  (0.87546482817935323, 1.131480714387938)\n",
      "** R^2 for last cv fold **\n",
      "Baseline :  0.14722281598\n",
      "Model    :  0.0654513758574\n",
      "Ensemble :  0.190003943769\n",
      "** Explained variance for last cv fold **\n",
      "Baseline :  0.304333505904\n",
      "Model    :  0.282734183054\n",
      "Ensemble :  0.344959275285\n"
     ]
    }
   ],
   "source": [
    "data = BorderData(df, categoricals=['event'])\n",
    "\n",
    "model = ExtraTreesRegressor(n_jobs=-1, n_estimators=96, bootstrap=True, oob_score=True)\n",
    "params = {}\n",
    "grid = GridSearchCV(model, params, cv=data.cv_train)\n",
    "grid.fit(data.X_train, data.y_train)\n",
    "\n",
    "data.predict(grid)\n",
    "data.predict_ensemble()\n",
    "data.print_metrics(grid)"
   ]
  },
  {
   "cell_type": "markdown",
   "metadata": {},
   "source": [
    "## Predict on full training data"
   ]
  },
  {
   "cell_type": "code",
   "execution_count": 4,
   "metadata": {
    "collapsed": false
   },
   "outputs": [
    {
     "data": {
      "text/plain": [
       "GridSearchCV(cv=array([[ [0, 1, 2, 3, 4, 5, 6, 7, 8, 9, 10, 11, 12, 13, 14, 15, 16, 17, 18, 19, 20, 21, 22, 23, 24, 25, 26, 27, 28, 29, 30, 31, 32, 33, 34, 35, 36, 37, 38, 39, 40, 41, 42, 43, 44, 45, 46, 47, 48, 49, 50, 51, 52, 53, 54, 55, 56, 57, 58, 59, 60, 61, 62, 63, 64, 65, 66, 67, 68, 69, 70, 71, 72, 73, 7...20, 108021, 108022, 108023, 108024, 108025, 108026, 108027, 108028, 108029, 108030]]], dtype=object),\n",
       "       error_score='raise',\n",
       "       estimator=ExtraTreesRegressor(bootstrap=True, criterion='mse', max_depth=None,\n",
       "          max_features='auto', max_leaf_nodes=None, min_samples_leaf=1,\n",
       "          min_samples_split=2, min_weight_fraction_leaf=0.0,\n",
       "          n_estimators=96, n_jobs=-1, oob_score=True, random_state=None,\n",
       "          verbose=0, warm_start=False),\n",
       "       fit_params={}, iid=True, n_jobs=1, param_grid={},\n",
       "       pre_dispatch='2*n_jobs', refit=True, scoring=None, verbose=0)"
      ]
     },
     "execution_count": 4,
     "metadata": {},
     "output_type": "execute_result"
    }
   ],
   "source": [
    "model = ExtraTreesRegressor(n_jobs=-1, n_estimators=96, bootstrap=True, oob_score=True)\n",
    "params = {}\n",
    "grid = GridSearchCV(model, params, cv=data.cv_train)\n",
    "grid.fit(data.X, data.y)"
   ]
  },
  {
   "cell_type": "code",
   "execution_count": 5,
   "metadata": {
    "collapsed": false
   },
   "outputs": [],
   "source": [
    "features = select_features('2015-12-1', '2018-1-1')"
   ]
  },
  {
   "cell_type": "code",
   "execution_count": 6,
   "metadata": {
    "collapsed": true
   },
   "outputs": [],
   "source": [
    "fmatrix = handle_categoricals(features, ['event'])"
   ]
  },
  {
   "cell_type": "code",
   "execution_count": 7,
   "metadata": {
    "collapsed": false
   },
   "outputs": [],
   "source": [
    "yhat = grid.best_estimator_.predict(fmatrix)"
   ]
  },
  {
   "cell_type": "code",
   "execution_count": 8,
   "metadata": {
    "collapsed": false
   },
   "outputs": [
    {
     "ename": "IntegrityError",
     "evalue": "duplicate key value violates unique constraint \"predictions_pkey\"\nDETAIL:  Key (model_version, munger_id, crossing_id, date)=(v1.0, 2, 1, 2015-12-01 00:00:00) already exists.\n",
     "output_type": "error",
     "traceback": [
      "\u001b[1;31m---------------------------------------------------------------------------\u001b[0m",
      "\u001b[1;31mIntegrityError\u001b[0m                            Traceback (most recent call last)",
      "\u001b[1;32m<ipython-input-8-5fd918c3ec79>\u001b[0m in \u001b[0;36m<module>\u001b[1;34m()\u001b[0m\n\u001b[1;32m----> 1\u001b[1;33m \u001b[0minsert_predictions\u001b[0m\u001b[1;33m(\u001b[0m\u001b[1;34m'v1.0'\u001b[0m\u001b[1;33m,\u001b[0m \u001b[1;36m2\u001b[0m\u001b[1;33m,\u001b[0m \u001b[1;36m1\u001b[0m\u001b[1;33m,\u001b[0m \u001b[0mfmatrix\u001b[0m\u001b[1;33m.\u001b[0m\u001b[0mindex\u001b[0m\u001b[1;33m,\u001b[0m \u001b[0myhat\u001b[0m\u001b[1;33m)\u001b[0m\u001b[1;33m\u001b[0m\u001b[0m\n\u001b[0m",
      "\u001b[1;32m/home/ubuntu/BorderCrossing/code/BorderQuery.pyc\u001b[0m in \u001b[0;36minsert_predictions\u001b[1;34m(model_id, munger_id, crossing_id, dates, waittime)\u001b[0m\n\u001b[0;32m    332\u001b[0m         \u001b[1;32mfor\u001b[0m \u001b[0mdate\u001b[0m\u001b[1;33m,\u001b[0m \u001b[0mval\u001b[0m \u001b[1;32min\u001b[0m \u001b[0mzip\u001b[0m\u001b[1;33m(\u001b[0m\u001b[0mdates\u001b[0m\u001b[1;33m,\u001b[0m \u001b[0mwaittime\u001b[0m\u001b[1;33m)\u001b[0m\u001b[1;33m:\u001b[0m\u001b[1;33m\u001b[0m\u001b[0m\n\u001b[0;32m    333\u001b[0m             db.cur.execute(query.format(model_id, munger_id, crossing_id,\n\u001b[1;32m--> 334\u001b[1;33m                                         date, val))\n\u001b[0m\u001b[0;32m    335\u001b[0m         \u001b[0mdb\u001b[0m\u001b[1;33m.\u001b[0m\u001b[0mconn\u001b[0m\u001b[1;33m.\u001b[0m\u001b[0mcommit\u001b[0m\u001b[1;33m(\u001b[0m\u001b[1;33m)\u001b[0m\u001b[1;33m\u001b[0m\u001b[0m\n",
      "\u001b[1;31mIntegrityError\u001b[0m: duplicate key value violates unique constraint \"predictions_pkey\"\nDETAIL:  Key (model_version, munger_id, crossing_id, date)=(v1.0, 2, 1, 2015-12-01 00:00:00) already exists.\n"
     ]
    }
   ],
   "source": [
    "# insert_predictions('v1.0', 2, 1, fmatrix.index, yhat)"
   ]
  },
  {
   "cell_type": "markdown",
   "metadata": {
    "collapsed": true
   },
   "source": [
    "## Compare predictions by year"
   ]
  },
  {
   "cell_type": "code",
   "execution_count": 9,
   "metadata": {
    "collapsed": false
   },
   "outputs": [
    {
     "name": "stdout",
     "output_type": "stream",
     "text": [
      "Training...  2011\n",
      "minimize unexplained ValueError.  Returning default weights\n",
      "Baseline :  0.395701509877\n",
      "Model    :  -0.214433409461\n",
      "Ensemble :  0.387978185879\n",
      "Training...  2012\n",
      "Baseline :  0.609866621201\n",
      "Model    :  0.583184237351\n",
      "Ensemble :  0.638245414066\n",
      "Training...  2013\n",
      "Baseline :  0.61359183581\n",
      "Model    :  0.658085666965\n",
      "Ensemble :  0.673428683493\n",
      "Training...  2014\n",
      "Baseline :  0.569483794384\n",
      "Model    :  0.617108317697\n",
      "Ensemble :  0.635685547456\n",
      "Training...  2015\n",
      "Baseline :  0.14722281598\n",
      "Model    :  0.0713568240205\n",
      "Ensemble :  0.192092858751\n"
     ]
    },
    {
     "data": {
      "text/plain": [
       "{2011: (<BorderModel.BorderData at 0x7f12058f50d0>,\n",
       "  GridSearchCV(cv=array([[ [0, 1, 2, 3, 4, 5, 6, 7, 8, 9, 10, 11, 12, 13, 14, 15, 16, 17, 18, 19, 20, 21, 22, 23, 24, 25, 26, 27, 28, 29, 30, 31, 32, 33, 34, 35, 36, 37, 38, 39, 40, 41, 42, 43, 44, 45, 46, 47, 48, 49, 50, 51, 52, 53, 54, 55, 56, 57, 58, 59, 60, 61, 62, 63, 64, 65, 66, 67, 68, 69, 70, 71, 72, 73, 7...40933, 40934, 40935, 40936, 40937, 40938, 40939, 40940, 40941, 40942, 40943, 40944]]], dtype=object),\n",
       "         error_score='raise',\n",
       "         estimator=ExtraTreesRegressor(bootstrap=True, criterion='mse', max_depth=None,\n",
       "            max_features='auto', max_leaf_nodes=None, min_samples_leaf=1,\n",
       "            min_samples_split=2, min_weight_fraction_leaf=0.0,\n",
       "            n_estimators=96, n_jobs=-1, oob_score=True, random_state=None,\n",
       "            verbose=0, warm_start=False),\n",
       "         fit_params={}, iid=True, n_jobs=1, param_grid={},\n",
       "         pre_dispatch='2*n_jobs', refit=True, scoring=None, verbose=0)),\n",
       " 2012: (<BorderModel.BorderData at 0x7f120520ed50>,\n",
       "  GridSearchCV(cv=array([[ [0, 1, 2, 3, 4, 5, 6, 7, 8, 9, 10, 11, 12, 13, 14, 15, 16, 17, 18, 19, 20, 21, 22, 23, 24, 25, 26, 27, 28, 29, 30, 31, 32, 33, 34, 35, 36, 37, 38, 39, 40, 41, 42, 43, 44, 45, 46, 47, 48, 49, 50, 51, 52, 53, 54, 55, 56, 57, 58, 59, 60, 61, 62, 63, 64, 65, 66, 67, 68, 69, 70, 71, 72, 73, 7...57788, 57789, 57790, 57791, 57792, 57793, 57794, 57795, 57796, 57797, 57798, 57799]]], dtype=object),\n",
       "         error_score='raise',\n",
       "         estimator=ExtraTreesRegressor(bootstrap=True, criterion='mse', max_depth=None,\n",
       "            max_features='auto', max_leaf_nodes=None, min_samples_leaf=1,\n",
       "            min_samples_split=2, min_weight_fraction_leaf=0.0,\n",
       "            n_estimators=96, n_jobs=-1, oob_score=True, random_state=None,\n",
       "            verbose=0, warm_start=False),\n",
       "         fit_params={}, iid=True, n_jobs=1, param_grid={},\n",
       "         pre_dispatch='2*n_jobs', refit=True, scoring=None, verbose=0)),\n",
       " 2013: (<BorderModel.BorderData at 0x7f1205411c90>,\n",
       "  GridSearchCV(cv=array([[ [0, 1, 2, 3, 4, 5, 6, 7, 8, 9, 10, 11, 12, 13, 14, 15, 16, 17, 18, 19, 20, 21, 22, 23, 24, 25, 26, 27, 28, 29, 30, 31, 32, 33, 34, 35, 36, 37, 38, 39, 40, 41, 42, 43, 44, 45, 46, 47, 48, 49, 50, 51, 52, 53, 54, 55, 56, 57, 58, 59, 60, 61, 62, 63, 64, 65, 66, 67, 68, 69, 70, 71, 72, 73, 7...73987, 73988, 73989, 73990, 73991, 73992, 73993, 73994, 73995, 73996, 73997, 73998]]], dtype=object),\n",
       "         error_score='raise',\n",
       "         estimator=ExtraTreesRegressor(bootstrap=True, criterion='mse', max_depth=None,\n",
       "            max_features='auto', max_leaf_nodes=None, min_samples_leaf=1,\n",
       "            min_samples_split=2, min_weight_fraction_leaf=0.0,\n",
       "            n_estimators=96, n_jobs=-1, oob_score=True, random_state=None,\n",
       "            verbose=0, warm_start=False),\n",
       "         fit_params={}, iid=True, n_jobs=1, param_grid={},\n",
       "         pre_dispatch='2*n_jobs', refit=True, scoring=None, verbose=0)),\n",
       " 2014: (<BorderModel.BorderData at 0x7f1204edb410>,\n",
       "  GridSearchCV(cv=array([[ [0, 1, 2, 3, 4, 5, 6, 7, 8, 9, 10, 11, 12, 13, 14, 15, 16, 17, 18, 19, 20, 21, 22, 23, 24, 25, 26, 27, 28, 29, 30, 31, 32, 33, 34, 35, 36, 37, 38, 39, 40, 41, 42, 43, 44, 45, 46, 47, 48, 49, 50, 51, 52, 53, 54, 55, 56, 57, 58, 59, 60, 61, 62, 63, 64, 65, 66, 67, 68, 69, 70, 71, 72, 73, 7...90727, 90728, 90729, 90730, 90731, 90732, 90733, 90734, 90735, 90736, 90737, 90738]]], dtype=object),\n",
       "         error_score='raise',\n",
       "         estimator=ExtraTreesRegressor(bootstrap=True, criterion='mse', max_depth=None,\n",
       "            max_features='auto', max_leaf_nodes=None, min_samples_leaf=1,\n",
       "            min_samples_split=2, min_weight_fraction_leaf=0.0,\n",
       "            n_estimators=96, n_jobs=-1, oob_score=True, random_state=None,\n",
       "            verbose=0, warm_start=False),\n",
       "         fit_params={}, iid=True, n_jobs=1, param_grid={},\n",
       "         pre_dispatch='2*n_jobs', refit=True, scoring=None, verbose=0)),\n",
       " 2015: (<BorderModel.BorderData at 0x7f12048a5910>,\n",
       "  GridSearchCV(cv=array([[ [0, 1, 2, 3, 4, 5, 6, 7, 8, 9, 10, 11, 12, 13, 14, 15, 16, 17, 18, 19, 20, 21, 22, 23, 24, 25, 26, 27, 28, 29, 30, 31, 32, 33, 34, 35, 36, 37, 38, 39, 40, 41, 42, 43, 44, 45, 46, 47, 48, 49, 50, 51, 52, 53, 54, 55, 56, 57, 58, 59, 60, 61, 62, 63, 64, 65, 66, 67, 68, 69, 70, 71, 72, 73, 7...20, 108021, 108022, 108023, 108024, 108025, 108026, 108027, 108028, 108029, 108030]]], dtype=object),\n",
       "         error_score='raise',\n",
       "         estimator=ExtraTreesRegressor(bootstrap=True, criterion='mse', max_depth=None,\n",
       "            max_features='auto', max_leaf_nodes=None, min_samples_leaf=1,\n",
       "            min_samples_split=2, min_weight_fraction_leaf=0.0,\n",
       "            n_estimators=96, n_jobs=-1, oob_score=True, random_state=None,\n",
       "            verbose=0, warm_start=False),\n",
       "         fit_params={}, iid=True, n_jobs=1, param_grid={},\n",
       "         pre_dispatch='2*n_jobs', refit=True, scoring=None, verbose=0))}"
      ]
     },
     "execution_count": 9,
     "metadata": {},
     "output_type": "execute_result"
    }
   ],
   "source": [
    "from BorderModel import model_years\n",
    "model_years(df, model, 2011, 2015, categoricals=['event'])"
   ]
  }
 ],
 "metadata": {
  "kernelspec": {
   "display_name": "Python 2",
   "language": "python",
   "name": "python2"
  },
  "language_info": {
   "codemirror_mode": {
    "name": "ipython",
    "version": 2
   },
   "file_extension": ".py",
   "mimetype": "text/x-python",
   "name": "python",
   "nbconvert_exporter": "python",
   "pygments_lexer": "ipython2",
   "version": "2.7.11"
  }
 },
 "nbformat": 4,
 "nbformat_minor": 0
}

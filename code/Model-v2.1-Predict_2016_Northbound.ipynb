{
 "cells": [
  {
   "cell_type": "code",
   "execution_count": 28,
   "metadata": {
    "collapsed": true
   },
   "outputs": [],
   "source": [
    "%load_ext autoreload\n",
    "%autoreload 2"
   ]
  },
  {
   "cell_type": "code",
   "execution_count": 59,
   "metadata": {
    "collapsed": false
   },
   "outputs": [],
   "source": [
    "from BorderModel import run_Incremental, harmonic_mean #, print_importances\n",
    "from BorderQuery import select_features, select_mungedata_simple, select_mungedata, insert_predictions\n",
    "from sklearn.ensemble import ExtraTreesRegressor\n",
    "from sklearn.grid_search import GridSearchCV\n",
    "import datetime as dt\n",
    "import matplotlib.pyplot as plt\n",
    "%matplotlib inline\n",
    "from dbhelper import PgDB\n",
    "import pprint\n",
    "import random"
   ]
  },
  {
   "cell_type": "code",
   "execution_count": 2,
   "metadata": {
    "collapsed": false
   },
   "outputs": [
    {
     "name": "stdout",
     "output_type": "stream",
     "text": [
      "importing datetime on engine(s)\n",
      "importing run_Incremental from BorderModel on engine(s)\n",
      "importing select_features,select_mungedata_simple,select_mungedata from BorderQuery on engine(s)\n",
      "importing ExtraTreesRegressor from sklearn.ensemble on engine(s)\n",
      "importing GridSearchCV from sklearn.grid_search on engine(s)\n"
     ]
    }
   ],
   "source": [
    "import os\n",
    "from ipyparallel import Client\n",
    "rc = Client()\n",
    "dview = rc[:]\n",
    "\n",
    "# set proper working directory on all clients\n",
    "cwd = os.getcwd()\n",
    "dview.map(os.chdir, [cwd] * 32)\n",
    "# print(dview.apply_sync(os.getcwd))\n",
    "\n",
    "with dview.sync_imports():\n",
    "    import datetime\n",
    "    from BorderModel import run_Incremental\n",
    "    from BorderQuery import select_features, select_mungedata_simple, select_mungedata\n",
    "    from sklearn.ensemble import ExtraTreesRegressor\n",
    "    from sklearn.grid_search import GridSearchCV"
   ]
  },
  {
   "cell_type": "code",
   "execution_count": 15,
   "metadata": {
    "collapsed": false
   },
   "outputs": [
    {
     "name": "stdout",
     "output_type": "stream",
     "text": [
      "importing IncrementalModel,run_Incremental from BorderModel on engine(s)\n"
     ]
    }
   ],
   "source": [
    "from BorderModel import IncrementalModel, run_Incremental\n",
    "with dview.sync_imports():\n",
    "    from BorderModel import IncrementalModel, run_Incremental\n",
    "import random\n",
    "\n",
    "def create_train_test(year, train_length=2):\n",
    "    '''\n",
    "    IN \n",
    "        years: list of years to predict\n",
    "        train_length: number of years to train\n",
    "    '''\n",
    "    train_start = datetime.date(year - train_length, 1, 1).strftime('%Y-%m-%d')\n",
    "    train_end = datetime.date(year, 1, 1).strftime('%Y-%m-%d')\n",
    "    test_start = datetime.date(year, 1, 1).strftime('%Y-%m-%d')\n",
    "    test_end = datetime.date(year + 1, 1, 1).strftime('%Y-%m-%d')\n",
    "    return train_start, train_end, test_start, test_end\n",
    "    \n",
    "def compare_years_parallel(model, xing, munger_id, years):\n",
    "    prlist = {}\n",
    "    for year in years:\n",
    "        cpu = random.randint(0, 31)\n",
    "        train_start, train_end, test_start, test_end = create_train_test(year, 2)\n",
    "\n",
    "        prlist[year] = rc[cpu].apply_async(run_Incremental, model, munger_id, xing,  \n",
    "                                           train_start, train_end, \n",
    "                                           test_start, test_end)\n",
    "        \n",
    "    return prlist"
   ]
  },
  {
   "cell_type": "markdown",
   "metadata": {},
   "source": [
    "# Run predictions on both crossings for 2014 & 2015 to compare r2 scores"
   ]
  },
  {
   "cell_type": "markdown",
   "metadata": {},
   "source": [
    "## Peace Arch"
   ]
  },
  {
   "cell_type": "code",
   "execution_count": 16,
   "metadata": {
    "collapsed": true
   },
   "outputs": [],
   "source": [
    "model = ExtraTreesRegressor(n_jobs=-1, n_estimators=96)\n",
    "pr2 = compare_years_parallel(model, 2, 4, range(2014, 2016))"
   ]
  },
  {
   "cell_type": "code",
   "execution_count": 20,
   "metadata": {
    "collapsed": false
   },
   "outputs": [
    {
     "name": "stdout",
     "output_type": "stream",
     "text": [
      "2014 True\n",
      "{'model': 0.41489579865598514, 'ensemble': 0.39776025849572016, 'baseline': 0.3349124462672769}\n",
      "2015 True\n",
      "{'model': 0.062822942108717306, 'ensemble': 0.11726178803359477, 'baseline': -0.12817610437840088}\n"
     ]
    }
   ],
   "source": [
    "model2 = {}\n",
    "for year in range(2014, 2016):\n",
    "    print year, pr2[year].ready()\n",
    "    if pr2[year].ready():\n",
    "        model2[year] = pr2[year].get(1)\n",
    "        print model2[year].score()"
   ]
  },
  {
   "cell_type": "markdown",
   "metadata": {},
   "source": [
    "## Pacific Highway"
   ]
  },
  {
   "cell_type": "code",
   "execution_count": 17,
   "metadata": {
    "collapsed": true
   },
   "outputs": [],
   "source": [
    "model = ExtraTreesRegressor(n_jobs=-1, n_estimators=96)\n",
    "pr6 = compare_years_parallel(model, 6, 4, range(2014, 2016))"
   ]
  },
  {
   "cell_type": "code",
   "execution_count": 22,
   "metadata": {
    "collapsed": false
   },
   "outputs": [
    {
     "name": "stdout",
     "output_type": "stream",
     "text": [
      "2014 True\n",
      "{'model': 0.29951918477103701, 'ensemble': 0.31087256287944842, 'baseline': 0.28888403182573141}\n",
      "2015 True\n",
      "{'model': -0.18565959089138473, 'ensemble': -0.061926468700798765, 'baseline': -0.33484653403631937}\n"
     ]
    }
   ],
   "source": [
    "model6 = {}\n",
    "for year in range(2014, 2016):\n",
    "    print year, pr6[year].ready()\n",
    "    if pr6[year].ready():\n",
    "        model6[year] = pr6[year].get(1)\n",
    "        print model6[year].score()"
   ]
  },
  {
   "cell_type": "markdown",
   "metadata": {},
   "source": [
    "# Investigate feature importances"
   ]
  },
  {
   "cell_type": "code",
   "execution_count": 24,
   "metadata": {
    "collapsed": false
   },
   "outputs": [],
   "source": [
    "model = ExtraTreesRegressor(n_jobs=-1, n_estimators=96, bootstrap=True, oob_score=True)\n",
    "prlist = {}\n",
    "for xing in [2,6]:\n",
    "    cpu = random.randint(0, 31)\n",
    "    train_start, train_end, test_start, test_end = create_train_test(2015, 2)\n",
    "\n",
    "    prlist[xing] = rc[cpu].apply_async(run_Incremental, model, 4, xing,  \n",
    "                                       train_start, train_end, \n",
    "                                       test_start, test_end)"
   ]
  },
  {
   "cell_type": "code",
   "execution_count": 31,
   "metadata": {
    "collapsed": false
   },
   "outputs": [
    {
     "name": "stdout",
     "output_type": "stream",
     "text": [
      "2 True\n",
      "{'model': 0.073487572044148353, 'ensemble': 0.12332765337685814, 'baseline': -0.12817610437840088}\n",
      "6 True\n",
      "{'model': -0.18050459559560439, 'ensemble': -0.065337907083191871, 'baseline': -0.33484653403631937}\n"
     ]
    }
   ],
   "source": [
    "im = {}\n",
    "for xing in [2,6]:\n",
    "    print xing, prlist[xing].ready()\n",
    "    if prlist[xing].ready():\n",
    "        im[xing] = prlist[xing].get(1)\n",
    "        print im[xing].score()"
   ]
  },
  {
   "cell_type": "code",
   "execution_count": 40,
   "metadata": {
    "collapsed": true
   },
   "outputs": [
    {
     "name": "stdout",
     "output_type": "stream",
     "text": [
      "2\n",
      "[   ('minofday', 0.46306504777679175),\n",
      "    ('dayofweek', 0.043756277617258331),\n",
      "    ('avg_delta_10', 0.016482864140242609),\n",
      "    ('avg_delta_11', 0.016256667530719086),\n",
      "    ('avg_delta_12', 0.014424507863656649),\n",
      "    ('avg_delta_9', 0.014126374801040521),\n",
      "    ('avg_delta_8', 0.013000273061726875),\n",
      "    ('event_lead2_labor', 0.012314665943872101),\n",
      "    ('avg_delta_7', 0.01129038330944244),\n",
      "    ('avg_delta_2', 0.010764268478988837),\n",
      "    ('avg_delta_3', 0.010239391658428848),\n",
      "    ('year', 0.0096900997719012085),\n",
      "    ('event_victoria', 0.0093669841333706115),\n",
      "    ('event_lead2_president', 0.0093059956641210941),\n",
      "    ('week', 0.0092887981729932127),\n",
      "    ('temp_min_m1', 0.0092626928146924813),\n",
      "    ('avg_delta_5', 0.0089886639914987954),\n",
      "    ('month', 0.008816298076970739),\n",
      "    ('precip_p1', 0.0086315581510708825),\n",
      "    ('avg_delta_4', 0.0084653878384657565),\n",
      "    ('temp_mean_p1', 0.0082858570489206199),\n",
      "    ('avg_delta_6', 0.0082686315055852475),\n",
      "    ('temp_mean_p3', 0.0082495955574493057),\n",
      "    ('temp_min_p1', 0.0081744936780234773),\n",
      "    ('temp_mean_m2', 0.0080548981631947212),\n",
      "    ('temp_mean', 0.0078669428325308568),\n",
      "    ('temp_mean_m1', 0.0076634192254441012),\n",
      "    ('temp_min_m2', 0.0075722124361424581),\n",
      "    ('avg_delta_1', 0.007452953517007678),\n",
      "    ('temp_mean_p2', 0.0073905211531247184),\n",
      "    ('temp_max_m2', 0.0072436186181232621),\n",
      "    ('temp_min_p2', 0.0071622508654764251),\n",
      "    ('temp_max_p1', 0.0071304659492360881),\n",
      "    ('temp_max', 0.007075591900133721),\n",
      "    ('temp_max_m1', 0.0069615973748356234),\n",
      "    ('temp_min', 0.0067681062827952233),\n",
      "    ('wind_max', 0.0067403051072183135),\n",
      "    ('temp_max_p2', 0.0067190019603723264),\n",
      "    ('temp_min_p3', 0.0067166450564051629),\n",
      "    ('precip_m2', 0.0064460190327396485),\n",
      "    ('temp_max_p3', 0.0062055135477691167),\n",
      "    ('precip_p2', 0.0061025527394096522),\n",
      "    ('event_lead2_xmas', 0.0058874847185844429),\n",
      "    ('precip_m1', 0.0058030402017148902),\n",
      "    ('precip_p3', 0.0054572853944897482),\n",
      "    ('rain_m1', 0.0048853295106193991),\n",
      "    ('rain_p2', 0.0048552251153901136),\n",
      "    ('rain', 0.0046519442873774004),\n",
      "    ('rain_m2', 0.0046479772946499609),\n",
      "    ('rain_p1', 0.0044699487612802607),\n",
      "    ('rain_p3', 0.0041047933301127564),\n",
      "    ('event_ca_thanksgiving', 0.0040540410641150271),\n",
      "    ('precip', 0.0040148323720951605),\n",
      "    ('snow_m1', 0.003963962965997739),\n",
      "    ('event_lead2_memorial', 0.0038177242982288862),\n",
      "    ('event_lead2_newyears', 0.0037481024467185347),\n",
      "    ('event_lead1_victoria', 0.0033978392489053297),\n",
      "    ('event_lead3_xmas', 0.0033298225515830358),\n",
      "    ('event_lead1_ca_thanksgiving', 0.0032644630293078496),\n",
      "    ('fog', 0.0032493144841376047),\n",
      "    ('event_lag1_memorial', 0.0029406864038124167),\n",
      "    ('event_lag4_canada', 0.0027965185258406505),\n",
      "    ('event_lead3_labor', 0.0026266978318601514),\n",
      "    ('event_lag3_civic', 0.0025426330383537476),\n",
      "    ('event_lead1_thanksgiving', 0.0025403765405547451),\n",
      "    ('event_lag1_independence', 0.0021604137488131325),\n",
      "    ('event_lead1_newyears', 0.0020708825552714825),\n",
      "    ('event_civic', 0.0012911273615761225),\n",
      "    ('event_veterans', 0.0012071439354198554),\n",
      "    ('snow_p2', 0.0011838029197744099),\n",
      "    ('event_lead4_halloween', 0.0011727770090250041),\n",
      "    ('event_lag1_goodfriday', 0.0011013084055774248),\n",
      "    ('event_lead3_newyears', 0.00099065304753345588),\n",
      "    ('event_lead3_mlk', 0.00097799194014517969),\n",
      "    ('event_lag4_xmas', 0.00088629409189201324),\n",
      "    ('event_lead1_labor', 0.00079293807048694449),\n",
      "    ('event_lead1_independence', 0.0007759297041428216),\n",
      "    ('event_lag1_xmas', 0.00075190883727841763),\n",
      "    ('thunderstorm_m2', 0.00074026458864344944),\n",
      "    ('snow_p1', 0.00071981542831618759),\n",
      "    ('viz_max', 0.00071407573467793979),\n",
      "    ('event_lag2_canada', 0.00070209817144936768),\n",
      "    ('event_lead1_xmas', 0.00069072304858076308),\n",
      "    ('event_lag4_victoria', 0.00060244855632613631),\n",
      "    ('snow', 0.00059071153414802524),\n",
      "    ('event_lead4_president', 0.00054410878197628902),\n",
      "    ('event_lag3_canada', 0.00052257111772714378),\n",
      "    ('event_thanksgiving', 0.00049897819618166756),\n",
      "    ('event_lead4_civic', 0.00049345380112175675),\n",
      "    ('snow_p3', 0.00049084287805194573),\n",
      "    ('event_lead1_veterans', 0.00048049781830177099),\n",
      "    ('event_lag3_independence', 0.00047478262921172443),\n",
      "    ('event_lead2_canada', 0.00047118017626682912),\n",
      "    ('event_lead2_veterans', 0.00046338119566861533),\n",
      "    ('event_xmas', 0.00046016453335134231),\n",
      "    ('event_lead3_president', 0.00044569951530464322),\n",
      "    ('event_lead2_civic', 0.00043240673822584117),\n",
      "    ('snow_m2', 0.00042799798711473479),\n",
      "    ('event_lead3_memorial', 0.00041656729946277707),\n",
      "    ('event_lead4_labor', 0.00039727227770630907),\n",
      "    ('event_lead2_victoria', 0.00038273252927546346),\n",
      "    ('event_independence', 0.0003753931244555102),\n",
      "    ('event_lag4_civic', 0.00036584482934339988),\n",
      "    ('event_lag2_halloween', 0.00035035814696563779),\n",
      "    ('event_lead3_veterans', 0.00032113940941460298),\n",
      "    ('thunderstorm_p2', 0.00031298085846368634),\n",
      "    ('event_lead4_xmas', 0.00031030127661942156),\n",
      "    ('event_lag4_mlk', 0.00030593582969863284),\n",
      "    ('event_lead4_ca_thanksgiving', 0.0003036864123590576),\n",
      "    ('event_goodfriday', 0.00029932885885249435),\n",
      "    ('event_lead3_goodfriday', 0.00029839498412448693),\n",
      "    ('event_lag3_memorial', 0.00029633163196762091),\n",
      "    ('event_lag2_xmas', 0.0002931582989376148),\n",
      "    ('event_lag3_xmas', 0.00028132373714057649),\n",
      "    ('event_lag2_civic', 0.00026744451354705296),\n",
      "    ('event_lag4_goodfriday', 0.00024912441710776004),\n",
      "    ('event_lead4_newyears', 0.00024341825049812541),\n",
      "    ('event_lag1_thanksgiving', 0.00024228820850238952),\n",
      "    ('event_lead3_civic', 0.00023864287206388937),\n",
      "    ('event_lag1_halloween', 0.00023747680734196531),\n",
      "    ('event_lag1_civic', 0.00023742042146929782),\n",
      "    ('event_lag4_mothers', 0.00022346188852073235),\n",
      "    ('event_memorial', 0.00021236759410039795),\n",
      "    ('event_lead4_victoria', 0.00020962443990070795),\n",
      "    ('event_lag2_independence', 0.00020959806513082326),\n",
      "    ('thunderstorm_p1', 0.00020842664495222972),\n",
      "    ('event_lead1_memorial', 0.00020645020425659726),\n",
      "    ('event_lead3_victoria', 0.00020277656582665655),\n",
      "    ('event_lag3_goodfriday', 0.00019816097175259971),\n",
      "    ('event_lag2_victoria', 0.00018886032988439024),\n",
      "    ('event_lag4_ca_thanksgiving', 0.0001845801754528539),\n",
      "    ('event_lag1_veterans', 0.00018155242432305258),\n",
      "    ('event_lag1_newyears', 0.00017426432458213267),\n",
      "    ('event_lag1_victoria', 0.00017365732160284016),\n",
      "    ('event_lead1_civic', 0.00017239374715561016),\n",
      "    ('event_lead1_goodfriday', 0.00016330474952717735),\n",
      "    ('event_lag2_ca_thanksgiving', 0.00016005270561550458),\n",
      "    ('event_lag2_memorial', 0.00015748404873485269),\n",
      "    ('event_president', 0.00015304946158573471),\n",
      "    ('thunderstorm_m1', 0.0001516137966574116),\n",
      "    ('event_lag2_newyears', 0.00015043979623114803),\n",
      "    ('event_lead4_goodfriday', 0.0001414204257212556),\n",
      "    ('event_lead3_canada', 0.00014009493832840708),\n",
      "    ('event_lag3_ca_thanksgiving', 0.00013762967944395204),\n",
      "    ('event_lag3_mlk', 0.00011764928834461843),\n",
      "    ('event_lag3_mothers', 0.00011676467744436133),\n",
      "    ('event_lag2_goodfriday', 0.00011569709021878763),\n",
      "    ('event_lead4_independence', 0.00011385128821102384),\n",
      "    ('event_lag1_labor', 0.00011295910460351685),\n",
      "    ('event_lag3_halloween', 0.00011055670124044958),\n",
      "    ('event_lag4_president', 0.00010989348940749413),\n",
      "    ('event_lead2_ca_thanksgiving', 0.00010732159442563633),\n",
      "    ('event_lead4_mothers', 0.00010310171117524616),\n",
      "    ('event_lead2_independence', 0.00010143978425306264),\n",
      "    ('event_lead4_canada', 0.00010108157562941533),\n",
      "    ('event_lag4_labor', 9.8690508889110286e-05),\n",
      "    ('event_lag4_veterans', 9.5414774843091861e-05),\n",
      "    ('event_lead4_memorial', 9.1537884062132963e-05),\n",
      "    ('event_lag1_canada', 9.0474974533004046e-05),\n",
      "    ('event_mlk', 8.9739599801038117e-05),\n",
      "    ('event_lead1_canada', 8.3425633538057215e-05),\n",
      "    ('event_lag4_thanksgiving', 7.9563097571021965e-05),\n",
      "    ('event_lag2_mothers', 7.8164963522842396e-05),\n",
      "    ('event_lag3_victoria', 7.7742517109504117e-05),\n",
      "    ('event_newyears', 7.4288215761579411e-05),\n",
      "    ('event_lead1_mothers', 7.3454384389322989e-05),\n",
      "    ('event_labor', 7.3351503245162593e-05),\n",
      "    ('event_lead2_goodfriday', 7.3202913289922606e-05),\n",
      "    ('event_lag2_president', 7.2907880109064022e-05),\n",
      "    ('event_lag2_thanksgiving', 7.1038808242134983e-05),\n",
      "    ('thunderstorm_p3', 7.0143596293327333e-05),\n",
      "    ('event_lag4_independence', 6.9553599328723195e-05),\n",
      "    ('event_lag4_memorial', 6.9042028479652495e-05),\n",
      "    ('event_lead2_mothers', 6.5744986600633099e-05),\n",
      "    ('event_lead3_mothers', 6.5319519555680002e-05),\n",
      "    ('event_lead3_ca_thanksgiving', 6.3578466883148929e-05),\n",
      "    ('event_lag1_mothers', 5.820545962673085e-05),\n",
      "    ('event_lag4_newyears', 5.103125277204265e-05),\n",
      "    ('event_lag3_newyears', 5.0233363263397212e-05),\n",
      "    ('event_lag1_ca_thanksgiving', 4.881675263518798e-05),\n",
      "    ('event_lead1_halloween', 4.213880282312657e-05),\n",
      "    ('event_mothers', 4.0918977931872773e-05),\n",
      "    ('event_lag4_halloween', 3.9054893227953478e-05),\n",
      "    ('event_lead4_thanksgiving', 3.7237766736201923e-05),\n",
      "    ('thunderstorm', 3.2351191158474035e-05),\n",
      "    ('event_lead3_halloween', 3.1881010263491217e-05),\n",
      "    ('event_lead3_independence', 3.1498247296072979e-05),\n",
      "    ('event_canada', 3.0060063170987054e-05),\n",
      "    ('event_lead2_mlk', 2.8600489993351951e-05),\n",
      "    ('event_lag3_labor', 2.8498021161504238e-05),\n",
      "    ('event_lead1_mlk', 2.7965493858202418e-05),\n",
      "    ('event_lead3_thanksgiving', 2.7337647199742599e-05),\n",
      "    ('event_halloween', 2.6263229531869022e-05),\n",
      "    ('event_lag2_veterans', 2.5646936509743068e-05),\n",
      "    ('event_lag2_labor', 2.4961046231066905e-05),\n",
      "    ('event_lead2_thanksgiving', 2.4422346692543019e-05),\n",
      "    ('event_lag3_president', 2.3198671205394888e-05),\n",
      "    ('event_lag3_veterans', 2.2080039992026558e-05),\n",
      "    ('event_lag1_president', 2.1043498344338707e-05),\n",
      "    ('event_lag2_mlk', 1.9437512685574648e-05),\n",
      "    ('event_lead4_mlk', 1.6321057928815775e-05),\n",
      "    ('event_lead2_halloween', 1.4885045416183515e-05),\n",
      "    ('event_lead1_president', 1.3594913000275606e-05),\n",
      "    ('event_lag1_mlk', 1.2411358382921225e-05),\n",
      "    ('event_lead4_veterans', 1.0002151089889477e-05),\n",
      "    ('event_lag3_thanksgiving', 7.5654817614905499e-06),\n",
      "    ('van_lead3', 0.0),\n",
      "    ('van_lag3', 0.0),\n",
      "    ('van_lead2', 0.0),\n",
      "    ('van_lag2', 0.0),\n",
      "    ('van_lead1', 0.0),\n",
      "    ('van_lag1', 0.0),\n",
      "    ('van', 0.0),\n",
      "    ('sea_lead3', 0.0),\n",
      "    ('sea_lag3', 0.0),\n",
      "    ('sea_lead2', 0.0),\n",
      "    ('sea_lag2', 0.0),\n",
      "    ('sea_lead1', 0.0),\n",
      "    ('sea_lag1', 0.0),\n",
      "    ('sea', 0.0)]\n",
      "6\n",
      "[   ('minofday', 0.46449010669764473),\n",
      "    ('dayofweek', 0.027985090466327977),\n",
      "    ('avg_delta_8', 0.023260993991409861),\n",
      "    ('avg_delta_11', 0.019288539398595927),\n",
      "    ('avg_delta_10', 0.015522236214920758),\n",
      "    ('avg_delta_9', 0.015104021232895797),\n",
      "    ('avg_delta_12', 0.012509152327020814),\n",
      "    ('avg_delta_4', 0.012387318870428439),\n",
      "    ('avg_delta_7', 0.011954360362161217),\n",
      "    ('avg_delta_2', 0.011748500918089516),\n",
      "    ('avg_delta_5', 0.011425309773555053),\n",
      "    ('year', 0.011221387720231174),\n",
      "    ('avg_delta_1', 0.010498206048706993),\n",
      "    ('precip_p1', 0.01032127425917047),\n",
      "    ('avg_delta_6', 0.0097394260073206829),\n",
      "    ('event_lead2_xmas', 0.0092899686222169802),\n",
      "    ('month', 0.0089079762105666489),\n",
      "    ('week', 0.0088496852333345023),\n",
      "    ('wind_max', 0.0088266898566006138),\n",
      "    ('avg_delta_3', 0.0087662698241070189),\n",
      "    ('temp_mean_p1', 0.0086908078053531922),\n",
      "    ('temp_mean_p3', 0.0086830871371622546),\n",
      "    ('temp_min_p1', 0.0083505047383729738),\n",
      "    ('temp_max_p3', 0.008331897181047071),\n",
      "    ('temp_mean_p2', 0.0080397700322728111),\n",
      "    ('temp_mean_m2', 0.0079070912406431788),\n",
      "    ('temp_min_m1', 0.0078830459225152326),\n",
      "    ('temp_max_m1', 0.0077146102380610581),\n",
      "    ('temp_mean', 0.0075818670398960508),\n",
      "    ('temp_min_p3', 0.0075738961185646833),\n",
      "    ('temp_max', 0.0074627588285724978),\n",
      "    ('temp_min', 0.0074455407118607618),\n",
      "    ('temp_min_m2', 0.0073955716082175424),\n",
      "    ('temp_max_p1', 0.0071035129997831315),\n",
      "    ('temp_mean_m1', 0.0070980067889563798),\n",
      "    ('temp_max_p2', 0.0070511670265672663),\n",
      "    ('temp_min_p2', 0.0070068063025448849),\n",
      "    ('temp_max_m2', 0.0065949668619098394),\n",
      "    ('precip_p2', 0.0064225348623516603),\n",
      "    ('precip_m2', 0.0062331178344505458),\n",
      "    ('precip_p3', 0.0058899718259254582),\n",
      "    ('rain_p2', 0.0054439392168061001),\n",
      "    ('precip_m1', 0.0053305218142350496),\n",
      "    ('event_lead2_newyears', 0.0053302444463726615),\n",
      "    ('event_lead2_memorial', 0.0052666196158984392),\n",
      "    ('rain', 0.0051775062282390172),\n",
      "    ('rain_m2', 0.0050377091303549929),\n",
      "    ('rain_m1', 0.0049061348816961262),\n",
      "    ('rain_p3', 0.0048278943071040914),\n",
      "    ('rain_p1', 0.0046681765042017936),\n",
      "    ('precip', 0.0046095438275434181),\n",
      "    ('event_victoria', 0.0039876766468843186),\n",
      "    ('snow_m1', 0.00329725237162156),\n",
      "    ('event_lead3_xmas', 0.0029447319476673321),\n",
      "    ('event_lead1_thanksgiving', 0.0028545088305289672),\n",
      "    ('event_lag4_canada', 0.0028094473231111039),\n",
      "    ('fog', 0.0026533984434167802),\n",
      "    ('event_lag1_independence', 0.0024754855155062383),\n",
      "    ('event_lead3_labor', 0.0024280926882623705),\n",
      "    ('event_lead3_mlk', 0.0022992874113363353),\n",
      "    ('event_lag1_memorial', 0.0021985891429427353),\n",
      "    ('snow_p2', 0.0021834250908576249),\n",
      "    ('event_lead2_labor', 0.0021058795101161452),\n",
      "    ('event_lag2_canada', 0.0018561925392063096),\n",
      "    ('event_lead4_labor', 0.001729010355237379),\n",
      "    ('event_civic', 0.0016504709537208727),\n",
      "    ('event_lag4_goodfriday', 0.0016400463738283565),\n",
      "    ('event_lead1_independence', 0.0015520929728912393),\n",
      "    ('event_lag3_memorial', 0.0012695795706452922),\n",
      "    ('event_lead4_halloween', 0.0012310054350792774),\n",
      "    ('event_lead1_victoria', 0.001123231359885021),\n",
      "    ('event_lag2_halloween', 0.0010828868827341784),\n",
      "    ('viz_max', 0.0010696938105753326),\n",
      "    ('event_lag3_civic', 0.0010570499754321621),\n",
      "    ('snow_p1', 0.00094391321650368109),\n",
      "    ('event_lag1_goodfriday', 0.00093775129811144657),\n",
      "    ('event_lead3_newyears', 0.00092014104412023836),\n",
      "    ('event_lead4_civic', 0.00091655758663447019),\n",
      "    ('event_lag1_halloween', 0.00083835992841352531),\n",
      "    ('event_lag4_xmas', 0.00082130639289999102),\n",
      "    ('event_lag1_xmas', 0.00081595555678482846),\n",
      "    ('event_independence', 0.00075291016462888547),\n",
      "    ('event_lag3_canada', 0.00072878991030442828),\n",
      "    ('event_lead2_president', 0.00069209244851534384),\n",
      "    ('event_lead1_newyears', 0.0006603379604311981),\n",
      "    ('event_xmas', 0.00065328428519887544),\n",
      "    ('event_lag3_independence', 0.00059007761811104428),\n",
      "    ('event_lead1_veterans', 0.00057672581812175528),\n",
      "    ('event_lead3_veterans', 0.0005506250494874402),\n",
      "    ('event_lead1_memorial', 0.00054959123333475168),\n",
      "    ('snow_m2', 0.00052887696036585266),\n",
      "    ('event_lag3_ca_thanksgiving', 0.00051835594344534265),\n",
      "    ('thunderstorm_m2', 0.00049618297820082748),\n",
      "    ('event_lead1_goodfriday', 0.00048693819802983826),\n",
      "    ('event_lag4_civic', 0.00044816062505552938),\n",
      "    ('snow_p3', 0.00043614590876488467),\n",
      "    ('event_veterans', 0.00043394586239033474),\n",
      "    ('snow', 0.00043345905724966136),\n",
      "    ('event_lag1_labor', 0.00038529876618511374),\n",
      "    ('event_lead1_labor', 0.00037970417850494479),\n",
      "    ('event_lead1_xmas', 0.00037549995475096145),\n",
      "    ('event_lead2_civic', 0.00037298879450431926),\n",
      "    ('event_goodfriday', 0.00036976801161430845),\n",
      "    ('event_thanksgiving', 0.00036969844542557068),\n",
      "    ('event_lead1_civic', 0.00035651359824128342),\n",
      "    ('event_ca_thanksgiving', 0.00035080560834565866),\n",
      "    ('event_mothers', 0.00034068785989520089),\n",
      "    ('event_lead3_civic', 0.00032547562638938528),\n",
      "    ('event_lead2_victoria', 0.00032364920668449918),\n",
      "    ('event_lead4_victoria', 0.00032356289270235334),\n",
      "    ('event_lag1_veterans', 0.00031456870451929001),\n",
      "    ('event_lead2_veterans', 0.00031389307938028776),\n",
      "    ('event_lag2_independence', 0.00030780872417679879),\n",
      "    ('event_lag1_victoria', 0.00030242674194389213),\n",
      "    ('event_lead4_xmas', 0.00029023513884501184),\n",
      "    ('event_lag4_mothers', 0.00028835701778519876),\n",
      "    ('event_lag1_thanksgiving', 0.00028547050990173408),\n",
      "    ('event_lag1_civic', 0.00027875808131733751),\n",
      "    ('event_lag1_newyears', 0.00026818148441282998),\n",
      "    ('event_lag2_civic', 0.00026069685825619548),\n",
      "    ('event_lag2_president', 0.00024713531494670917),\n",
      "    ('event_lead1_halloween', 0.00024697025012608223),\n",
      "    ('event_lag3_mlk', 0.00024299409982286225),\n",
      "    ('thunderstorm_p1', 0.00023945450299634632),\n",
      "    ('event_lag3_xmas', 0.00023056770766051901),\n",
      "    ('event_lag2_xmas', 0.00022849226287649602),\n",
      "    ('event_lag4_victoria', 0.00022474824047135828),\n",
      "    ('event_lead1_mothers', 0.00022009754152245203),\n",
      "    ('event_memorial', 0.00021733795652282935),\n",
      "    ('event_lag2_newyears', 0.00021067005326406342),\n",
      "    ('event_lead2_canada', 0.00021006458145486563),\n",
      "    ('event_lag4_memorial', 0.00020969829977925838),\n",
      "    ('event_lag4_president', 0.00020136859663825093),\n",
      "    ('event_lag3_mothers', 0.00019804532063075542),\n",
      "    ('event_lag4_veterans', 0.00019193640814369893),\n",
      "    ('event_lag4_ca_thanksgiving', 0.00019084721614695617),\n",
      "    ('thunderstorm_p2', 0.00018910080323175706),\n",
      "    ('event_lead3_victoria', 0.00018829760498636228),\n",
      "    ('event_lead3_president', 0.00018207235016447787),\n",
      "    ('event_lead3_memorial', 0.00018087373704715821),\n",
      "    ('event_lead4_independence', 0.00017618718223990119),\n",
      "    ('event_lead2_goodfriday', 0.00017518632971041742),\n",
      "    ('event_lead4_newyears', 0.00017212638203895536),\n",
      "    ('event_lag4_mlk', 0.00017115446479642853),\n",
      "    ('event_lead3_canada', 0.00016915543183480028),\n",
      "    ('event_lag2_ca_thanksgiving', 0.00016858944910383682),\n",
      "    ('event_lag2_victoria', 0.00016507018217284399),\n",
      "    ('event_lag2_memorial', 0.00016420841868822729),\n",
      "    ('event_president', 0.00016331666417094095),\n",
      "    ('event_lead4_canada', 0.00016189076233280057),\n",
      "    ('event_lead2_mothers', 0.00016097485532034892),\n",
      "    ('event_lag1_canada', 0.00015272917499168658),\n",
      "    ('event_lead2_independence', 0.00014489314826595306),\n",
      "    ('event_lead1_canada', 0.00014105207130264791),\n",
      "    ('thunderstorm_m1', 0.00014020870295889079),\n",
      "    ('event_lag2_goodfriday', 0.00013871701077485657),\n",
      "    ('event_lag4_independence', 0.00013615342046375664),\n",
      "    ('event_labor', 0.00013575132023378313),\n",
      "    ('event_lead4_memorial', 0.0001268416455292175),\n",
      "    ('thunderstorm', 0.00012590090645635827),\n",
      "    ('event_lag3_goodfriday', 0.00012393737045669656),\n",
      "    ('event_lag2_mothers', 0.00012232166355684513),\n",
      "    ('event_lead4_mothers', 0.00011754914975444532),\n",
      "    ('event_lead4_thanksgiving', 0.00011268842234209343),\n",
      "    ('event_lag3_victoria', 0.000109761169076719),\n",
      "    ('event_lag3_labor', 0.00010303588151284946),\n",
      "    ('event_lag3_newyears', 9.9684711643223032e-05),\n",
      "    ('event_lead2_thanksgiving', 9.0716527540725598e-05),\n",
      "    ('event_lead1_ca_thanksgiving', 8.7861961961227815e-05),\n",
      "    ('event_lead3_thanksgiving', 8.7474071696752888e-05),\n",
      "    ('event_halloween', 8.7293749239986072e-05),\n",
      "    ('event_lag2_veterans', 8.0215259176044657e-05),\n",
      "    ('event_lag1_ca_thanksgiving', 7.8417612620816819e-05),\n",
      "    ('event_lead4_ca_thanksgiving', 7.8266093505670897e-05),\n",
      "    ('event_lag4_newyears', 7.6538668467166404e-05),\n",
      "    ('event_lead3_independence', 7.626611489105372e-05),\n",
      "    ('event_lead3_mothers', 7.6013658643203392e-05),\n",
      "    ('event_lag2_thanksgiving', 7.5883140923081356e-05),\n",
      "    ('event_lead4_president', 7.4423941894394689e-05),\n",
      "    ('event_lead1_president', 7.405078793022871e-05),\n",
      "    ('event_lag1_mothers', 7.3361842483175377e-05),\n",
      "    ('event_lag2_mlk', 7.3226205707216946e-05),\n",
      "    ('event_lead3_halloween', 7.1645624362065761e-05),\n",
      "    ('event_lead4_veterans', 7.1372515252330027e-05),\n",
      "    ('event_lead2_mlk', 6.972361133306575e-05),\n",
      "    ('event_lead2_ca_thanksgiving', 6.9614167454672227e-05),\n",
      "    ('event_lag4_thanksgiving', 6.8771072220301458e-05),\n",
      "    ('event_lag4_labor', 6.2291258300617336e-05),\n",
      "    ('event_lead2_halloween', 6.2232937782458469e-05),\n",
      "    ('event_lag3_veterans', 6.0301965445591633e-05),\n",
      "    ('event_lead3_ca_thanksgiving', 5.6264454198104442e-05),\n",
      "    ('event_lead1_mlk', 5.3296756930154398e-05),\n",
      "    ('event_newyears', 5.1046627168494146e-05),\n",
      "    ('event_lag3_halloween', 5.1025398139613035e-05),\n",
      "    ('event_canada', 5.065385778365194e-05),\n",
      "    ('event_lag1_mlk', 4.4230115278021038e-05),\n",
      "    ('event_lag4_halloween', 4.3554749157655199e-05),\n",
      "    ('thunderstorm_p3', 3.9354412288621208e-05),\n",
      "    ('event_lag1_president', 3.3986300939463226e-05),\n",
      "    ('event_mlk', 2.9824124180119778e-05),\n",
      "    ('event_lead4_mlk', 2.6117797557011313e-05),\n",
      "    ('event_lag3_thanksgiving', 2.5994747744746759e-05),\n",
      "    ('event_lead3_goodfriday', 2.4769387516808935e-05),\n",
      "    ('event_lead4_goodfriday', 2.2425038856360149e-05),\n",
      "    ('event_lag2_labor', 1.5307174493832992e-05),\n",
      "    ('event_lag3_president', 7.4209356142440804e-06),\n",
      "    ('van_lead3', 0.0),\n",
      "    ('van_lag3', 0.0),\n",
      "    ('van_lead2', 0.0),\n",
      "    ('van_lag2', 0.0),\n",
      "    ('van_lead1', 0.0),\n",
      "    ('van_lag1', 0.0),\n",
      "    ('van', 0.0),\n",
      "    ('sea_lead3', 0.0),\n",
      "    ('sea_lag3', 0.0),\n",
      "    ('sea_lead2', 0.0),\n",
      "    ('sea_lag2', 0.0),\n",
      "    ('sea_lead1', 0.0),\n",
      "    ('sea_lag1', 0.0),\n",
      "    ('sea', 0.0)]\n"
     ]
    }
   ],
   "source": [
    "pp = pprint.PrettyPrinter(indent=4)\n",
    "for xing in [2,6]:\n",
    "    print xing\n",
    "    pp.pprint(sorted(zip(im[xing].X.columns, im[xing].model.best_estimator_.feature_importances_), key=lambda x: x[1])[::-1])"
   ]
  },
  {
   "cell_type": "markdown",
   "metadata": {},
   "source": [
    "# Redo predictions after extending imputing to 2011"
   ]
  },
  {
   "cell_type": "markdown",
   "metadata": {},
   "source": [
    "## Peace Arch"
   ]
  },
  {
   "cell_type": "code",
   "execution_count": 41,
   "metadata": {
    "collapsed": true
   },
   "outputs": [],
   "source": [
    "model = ExtraTreesRegressor(n_jobs=-1, n_estimators=96)\n",
    "pr2 = compare_years_parallel(model, 2, 4, range(2013, 2016))"
   ]
  },
  {
   "cell_type": "code",
   "execution_count": 46,
   "metadata": {
    "collapsed": false
   },
   "outputs": [
    {
     "name": "stdout",
     "output_type": "stream",
     "text": [
      "2013 True\n",
      "{'model': 0.39274242817015859, 'ensemble': 0.3779144914504825, 'baseline': 0.33042393202063758}\n",
      "2014 True\n",
      "{'model': 0.41614044553351881, 'ensemble': 0.39739431840013084, 'baseline': 0.33485359571062911}\n",
      "2015 True\n",
      "{'model': 0.068490772561140112, 'ensemble': 0.1227213287558151, 'baseline': -0.1272957779194126}\n"
     ]
    }
   ],
   "source": [
    "model2 = {}\n",
    "for year in range(2013, 2016):\n",
    "    print year, pr2[year].ready()\n",
    "    if pr2[year].ready():\n",
    "        model2[year] = pr2[year].get(1)\n",
    "        print model2[year].score()"
   ]
  },
  {
   "cell_type": "markdown",
   "metadata": {},
   "source": [
    "## Pacific Highway"
   ]
  },
  {
   "cell_type": "code",
   "execution_count": 48,
   "metadata": {
    "collapsed": true
   },
   "outputs": [],
   "source": [
    "model = ExtraTreesRegressor(n_jobs=-1, n_estimators=96)\n",
    "pr6 = compare_years_parallel(model, 6, 4, range(2013, 2016))"
   ]
  },
  {
   "cell_type": "code",
   "execution_count": 51,
   "metadata": {
    "collapsed": false
   },
   "outputs": [
    {
     "name": "stdout",
     "output_type": "stream",
     "text": [
      "2013 True\n",
      "{'model': 0.25378230717971639, 'ensemble': 0.27673036933991857, 'baseline': 0.26915343237860456}\n",
      "2014 True\n",
      "{'model': 0.30628301888427711, 'ensemble': 0.31576159621659483, 'baseline': 0.29165671141312366}\n",
      "2015 True\n",
      "{'model': -0.1959661150021903, 'ensemble': -0.064466474321794198, 'baseline': -0.32952975930038231}\n"
     ]
    }
   ],
   "source": [
    "model6 = {}\n",
    "for year in range(2013, 2016):\n",
    "    print year, pr6[year].ready()\n",
    "    if pr6[year].ready():\n",
    "        model6[year] = pr6[year].get(1)\n",
    "        print model6[year].score()"
   ]
  },
  {
   "cell_type": "markdown",
   "metadata": {
    "collapsed": true
   },
   "source": [
    "# Predict 2016"
   ]
  },
  {
   "cell_type": "code",
   "execution_count": 64,
   "metadata": {
    "collapsed": false
   },
   "outputs": [],
   "source": [
    "model = ExtraTreesRegressor(n_jobs=-1, n_estimators=96)\n",
    "pr = {}\n",
    "for xing in [2, 6]:\n",
    "    cpu  = random.randint(0, 31)\n",
    "    pr[xing] = rc[cpu].apply_async(run_Incremental, model, 4, xing, '2013-1-1', '2016-1-1', '2016-1-1', '2018-1-1')"
   ]
  },
  {
   "cell_type": "code",
   "execution_count": 66,
   "metadata": {
    "collapsed": false
   },
   "outputs": [
    {
     "name": "stdout",
     "output_type": "stream",
     "text": [
      "2 False\n",
      "6 False\n"
     ]
    }
   ],
   "source": [
    "im = {}\n",
    "for xing in [2, 6]:\n",
    "    print xing, pr[xing].ready()\n",
    "    if pr[xing].ready():\n",
    "        im[xing] = pr[xing].get(1)\n",
    "        ensemble = harmonic_mean((im[xing].y_predict, im[xing].baseline()), (1, 1))\n",
    "        insert_predictions('v2.1', 4, xing, ensemble1.index, ensemble1.values)"
   ]
  },
  {
   "cell_type": "code",
   "execution_count": null,
   "metadata": {
    "collapsed": true
   },
   "outputs": [],
   "source": []
  }
 ],
 "metadata": {
  "kernelspec": {
   "display_name": "Python 2",
   "language": "python",
   "name": "python2"
  },
  "language_info": {
   "codemirror_mode": {
    "name": "ipython",
    "version": 2
   },
   "file_extension": ".py",
   "mimetype": "text/x-python",
   "name": "python",
   "nbconvert_exporter": "python",
   "pygments_lexer": "ipython2",
   "version": "2.7.11"
  }
 },
 "nbformat": 4,
 "nbformat_minor": 0
}

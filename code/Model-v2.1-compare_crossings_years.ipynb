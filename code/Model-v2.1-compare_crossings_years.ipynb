{
 "cells": [
  {
   "cell_type": "code",
   "execution_count": 1,
   "metadata": {
    "collapsed": false
   },
   "outputs": [],
   "source": [
    "from BorderModel import IncrementalModel\n",
    "from BorderQuery import select_features, select_mungedata_simple, select_mungedata\n",
    "from sklearn.ensemble import ExtraTreesRegressor\n",
    "from sklearn.grid_search import GridSearchCV\n",
    "import datetime as dt\n",
    "import matplotlib.pyplot as plt\n",
    "%matplotlib inline\n",
    "import pprint\n",
    "import itertools\n",
    "import pdb\n",
    "import random"
   ]
  },
  {
   "cell_type": "code",
   "execution_count": 2,
   "metadata": {
    "collapsed": true
   },
   "outputs": [],
   "source": [
    "%load_ext autoreload\n",
    "%autoreload 2"
   ]
  },
  {
   "cell_type": "markdown",
   "metadata": {},
   "source": [
    "### Initialize for parallel operations"
   ]
  },
  {
   "cell_type": "code",
   "execution_count": 3,
   "metadata": {
    "collapsed": false
   },
   "outputs": [
    {
     "name": "stdout",
     "output_type": "stream",
     "text": [
      "importing datetime on engine(s)\n",
      "importing IncrementalModel from BorderModel on engine(s)\n",
      "importing select_features,select_mungedata_simple,select_mungedata from BorderQuery on engine(s)\n",
      "importing ExtraTreesRegressor from sklearn.ensemble on engine(s)\n",
      "importing GridSearchCV from sklearn.grid_search on engine(s)\n"
     ]
    }
   ],
   "source": [
    "import os\n",
    "from ipyparallel import Client\n",
    "rc = Client()\n",
    "dview = rc[:]\n",
    "\n",
    "# set proper working directory on all clients\n",
    "cwd = os.getcwd()\n",
    "dview.map(os.chdir, [cwd] * 32)\n",
    "# print(dview.apply_sync(os.getcwd))\n",
    "\n",
    "with dview.sync_imports():\n",
    "    import datetime\n",
    "    from BorderModel import IncrementalModel\n",
    "    from BorderQuery import select_features, select_mungedata_simple, select_mungedata\n",
    "    from sklearn.ensemble import ExtraTreesRegressor\n",
    "    from sklearn.grid_search import GridSearchCV"
   ]
  },
  {
   "cell_type": "code",
   "execution_count": 4,
   "metadata": {
    "collapsed": false
   },
   "outputs": [
    {
     "name": "stdout",
     "output_type": "stream",
     "text": [
      "importing IncrementalModel from BorderModel on engine(s)\n"
     ]
    }
   ],
   "source": [
    "from BorderModel import IncrementalModel\n",
    "with dview.sync_imports():\n",
    "    from BorderModel import IncrementalModel\n",
    "\n",
    "def model_xing(model, xing, munger_id, train_start, train_end, test_start, test_end):\n",
    "    df_train = select_mungedata(munger_id, xing, train_start, train_end)\n",
    "    X_test = select_features(test_start, test_end)\n",
    "    actual = select_mungedata_simple(munger_id, xing, test_start, test_end)\n",
    "\n",
    "    grid = GridSearchCV(model, {})\n",
    "    im = IncrementalModel(df_train, grid, categoricals=['event'])\n",
    "    im.set_actual(actual.waittime)\n",
    "    im.predict(X_test)   \n",
    "\n",
    "    return im\n",
    "\n",
    "def create_train_test(year, train_length=2):\n",
    "    '''\n",
    "    IN \n",
    "        years: list of years to predict\n",
    "        train_length: number of years to train\n",
    "    '''\n",
    "    train_start = datetime.date(year - train_length, 1, 1).strftime('%Y-%m-%d')\n",
    "    train_end = datetime.date(year, 1, 1).strftime('%Y-%m-%d')\n",
    "    test_start = datetime.date(year, 1, 1).strftime('%Y-%m-%d')\n",
    "    test_end = datetime.date(year + 1, 1, 1).strftime('%Y-%m-%d')\n",
    "    return train_start, train_end, test_start, test_end\n",
    "    \n",
    "def compare_years_parallel(model, xing, munger_id, years):\n",
    "    prlist = {}\n",
    "    for year in years:\n",
    "        cpu = random.randint(0, 31)\n",
    "        train_start, train_end, test_start, test_end = create_train_test(year, 2)\n",
    "\n",
    "        prlist[year] = rc[cpu].apply_async(model_xing, model, xing, munger_id, \n",
    "                                           train_start, train_end, \n",
    "                                           test_start, test_end)\n",
    "        \n",
    "    return prlist"
   ]
  },
  {
   "cell_type": "markdown",
   "metadata": {},
   "source": [
    "## Pacific Crossing"
   ]
  },
  {
   "cell_type": "markdown",
   "metadata": {},
   "source": [
    "### Tuned for 2015"
   ]
  },
  {
   "cell_type": "code",
   "execution_count": 88,
   "metadata": {
    "collapsed": true
   },
   "outputs": [],
   "source": [
    "model = ExtraTreesRegressor(n_jobs=-1, n_estimators=96, max_features='sqrt', max_depth=20)\n",
    "pr5_tuned = compare_years_parallel(model, 5, 3, range(2011, 2016))"
   ]
  },
  {
   "cell_type": "code",
   "execution_count": 96,
   "metadata": {
    "collapsed": false
   },
   "outputs": [],
   "source": [
    "model5_tuned = {}\n",
    "for year in range(2011, 2016):\n",
    "    model5_tuned[year] = pr5_tuned[year].get(1)"
   ]
  },
  {
   "cell_type": "code",
   "execution_count": 97,
   "metadata": {
    "collapsed": false
   },
   "outputs": [
    {
     "name": "stdout",
     "output_type": "stream",
     "text": [
      "2011\n",
      "{'model': 0.42965509214215614, 'ensemble': 0.52877829027700607, 'baseline': 0.50830951929768831}\n",
      "2012\n",
      "{'model': 0.47966607705882247, 'ensemble': 0.59494750831210763, 'baseline': 0.6264414468772701}\n",
      "2013\n",
      "{'model': 0.39322658042436331, 'ensemble': 0.50464539760127458, 'baseline': 0.57215536973016168}\n",
      "2014\n",
      "{'model': 0.51736679457973112, 'ensemble': 0.59632476018810343, 'baseline': 0.51290499913254095}\n",
      "2015\n",
      "{'model': 0.32035822603068875, 'ensemble': 0.4092626339974389, 'baseline': 0.23074703434185284}\n"
     ]
    }
   ],
   "source": [
    "for year in range(2011, 2016):\n",
    "    print year\n",
    "    print model5_tuned[year].score()"
   ]
  },
  {
   "cell_type": "markdown",
   "metadata": {},
   "source": [
    "### Basic model"
   ]
  },
  {
   "cell_type": "code",
   "execution_count": 74,
   "metadata": {
    "collapsed": false
   },
   "outputs": [],
   "source": [
    "model = ExtraTreesRegressor(n_jobs=-1, n_estimators=96)\n",
    "pr5 = compare_years_parallel(model, 5, 3, range(2011, 2016))"
   ]
  },
  {
   "cell_type": "code",
   "execution_count": 77,
   "metadata": {
    "collapsed": false
   },
   "outputs": [
    {
     "data": {
      "text/plain": [
       "True"
      ]
     },
     "execution_count": 77,
     "metadata": {},
     "output_type": "execute_result"
    }
   ],
   "source": [
    "pr5[2011].ready()"
   ]
  },
  {
   "cell_type": "code",
   "execution_count": 78,
   "metadata": {
    "collapsed": false
   },
   "outputs": [],
   "source": [
    "model5 = {}\n",
    "for year in range(2011, 2016):\n",
    "    model5[year] = pr5[year].get(1)"
   ]
  },
  {
   "cell_type": "code",
   "execution_count": 79,
   "metadata": {
    "collapsed": false
   },
   "outputs": [
    {
     "name": "stdout",
     "output_type": "stream",
     "text": [
      "2011\n",
      "{'model': 0.49369444480526425, 'ensemble': 0.54803346707984235, 'baseline': 0.50830951929768831}\n",
      "2012\n",
      "{'model': 0.61971364274178997, 'ensemble': 0.64556489119672844, 'baseline': 0.6264414468772701}\n",
      "2013\n",
      "{'model': 0.61530682975381756, 'ensemble': 0.60048741092203484, 'baseline': 0.57215536973016168}\n",
      "2014\n",
      "{'model': 0.58392387137995727, 'ensemble': 0.59788335146587057, 'baseline': 0.51290499913254095}\n",
      "2015\n",
      "{'model': 0.31463951274474444, 'ensemble': 0.31990942146797063, 'baseline': 0.23074703434185284}\n"
     ]
    }
   ],
   "source": [
    "for year in range(2011, 2016):\n",
    "    print year\n",
    "    print model5[year].score()"
   ]
  },
  {
   "cell_type": "markdown",
   "metadata": {},
   "source": [
    "## Peace Arch"
   ]
  },
  {
   "cell_type": "markdown",
   "metadata": {},
   "source": [
    "### Tuned for 2015"
   ]
  },
  {
   "cell_type": "code",
   "execution_count": 92,
   "metadata": {
    "collapsed": true
   },
   "outputs": [],
   "source": [
    "model = ExtraTreesRegressor(n_jobs=-1, n_estimators=96, max_features='sqrt', max_depth=20)\n",
    "pr1_tuned = compare_years_parallel(model, 1, 3, range(2011, 2016))"
   ]
  },
  {
   "cell_type": "code",
   "execution_count": 93,
   "metadata": {
    "collapsed": false
   },
   "outputs": [
    {
     "data": {
      "text/plain": [
       "True"
      ]
     },
     "execution_count": 93,
     "metadata": {},
     "output_type": "execute_result"
    }
   ],
   "source": [
    "pr1_tuned[2011].ready()"
   ]
  },
  {
   "cell_type": "code",
   "execution_count": 94,
   "metadata": {
    "collapsed": false
   },
   "outputs": [],
   "source": [
    "model1_tuned = {}\n",
    "for year in range(2013, 2016):\n",
    "    model1_tuned[year] = pr1_tuned[year].get(1)"
   ]
  },
  {
   "cell_type": "code",
   "execution_count": 95,
   "metadata": {
    "collapsed": false
   },
   "outputs": [
    {
     "name": "stdout",
     "output_type": "stream",
     "text": [
      "2013\n",
      "{'model': 0.4009608796145997, 'ensemble': 0.5424707250162959, 'baseline': 0.61360307915900703}\n",
      "2014\n",
      "{'model': 0.50709359952887811, 'ensemble': 0.59402700678292808, 'baseline': 0.56996406060235849}\n",
      "2015\n",
      "{'model': 0.23670397287473677, 'ensemble': 0.32516340322538972, 'baseline': 0.1059067680212642}\n"
     ]
    }
   ],
   "source": [
    "for year in range(2013, 2016):\n",
    "    print year\n",
    "    print model1_tuned[year].score()"
   ]
  },
  {
   "cell_type": "code",
   "execution_count": 102,
   "metadata": {
    "collapsed": false
   },
   "outputs": [
    {
     "data": {
      "text/plain": [
       "{'baseline': 0.39385165054016535,\n",
       " 'ensemble': 0.40165956970033045,\n",
       " 'model': 0.037910005936363844}"
      ]
     },
     "execution_count": 102,
     "metadata": {},
     "output_type": "execute_result"
    }
   ],
   "source": [
    "pr1_tuned[2011].get(1).score()"
   ]
  },
  {
   "cell_type": "markdown",
   "metadata": {},
   "source": [
    "### Basic model"
   ]
  },
  {
   "cell_type": "code",
   "execution_count": 80,
   "metadata": {
    "collapsed": true
   },
   "outputs": [],
   "source": [
    "model = ExtraTreesRegressor(n_jobs=-1, n_estimators=96)\n",
    "pr1 = compare_years_parallel(model, 1, 3, range(2011, 2016))"
   ]
  },
  {
   "cell_type": "code",
   "execution_count": 52,
   "metadata": {
    "collapsed": false
   },
   "outputs": [
    {
     "data": {
      "text/plain": [
       "True"
      ]
     },
     "execution_count": 52,
     "metadata": {},
     "output_type": "execute_result"
    }
   ],
   "source": [
    "pr1[2011].ready()"
   ]
  },
  {
   "cell_type": "code",
   "execution_count": 81,
   "metadata": {
    "collapsed": false
   },
   "outputs": [],
   "source": [
    "model1 = {}\n",
    "for year in range(2013, 2016):\n",
    "    model1[year] = pr1[year].get(1)"
   ]
  },
  {
   "cell_type": "code",
   "execution_count": 82,
   "metadata": {
    "collapsed": false
   },
   "outputs": [
    {
     "name": "stdout",
     "output_type": "stream",
     "text": [
      "2013\n",
      "{'model': 0.63768395074523787, 'ensemble': 0.63752908148900767, 'baseline': 0.61360307915900703}\n",
      "2014\n",
      "{'model': 0.60060376592570752, 'ensemble': 0.61296328470465489, 'baseline': 0.56996406060235849}\n",
      "2015\n",
      "{'model': 0.16272341843482119, 'ensemble': 0.19073867957260571, 'baseline': 0.1059067680212642}\n"
     ]
    }
   ],
   "source": [
    "for year in range(2013, 2016):\n",
    "    print year\n",
    "    print model1[year].score()"
   ]
  },
  {
   "cell_type": "code",
   "execution_count": 103,
   "metadata": {
    "collapsed": false
   },
   "outputs": [
    {
     "data": {
      "text/plain": [
       "{'baseline': 0.39385165054016535,\n",
       " 'ensemble': 0.38071787318738071,\n",
       " 'model': 0.055917597505885652}"
      ]
     },
     "execution_count": 103,
     "metadata": {},
     "output_type": "execute_result"
    }
   ],
   "source": [
    "pr1[2011].get(1).score()"
   ]
  },
  {
   "cell_type": "markdown",
   "metadata": {
    "collapsed": true
   },
   "source": [
    "## Lynden"
   ]
  },
  {
   "cell_type": "markdown",
   "metadata": {},
   "source": [
    "### Tuned for 2015"
   ]
  },
  {
   "cell_type": "code",
   "execution_count": 6,
   "metadata": {
    "collapsed": true
   },
   "outputs": [],
   "source": [
    "model = ExtraTreesRegressor(n_jobs=-1, n_estimators=96, max_features='sqrt', max_depth=20)\n",
    "pr16_tuned = compare_years_parallel(model, 16, 3, range(2013, 2016))"
   ]
  },
  {
   "cell_type": "code",
   "execution_count": 26,
   "metadata": {
    "collapsed": false
   },
   "outputs": [
    {
     "data": {
      "text/plain": [
       "True"
      ]
     },
     "execution_count": 26,
     "metadata": {},
     "output_type": "execute_result"
    }
   ],
   "source": [
    "pr16_tuned[2014].ready()"
   ]
  },
  {
   "cell_type": "code",
   "execution_count": null,
   "metadata": {
    "collapsed": true
   },
   "outputs": [],
   "source": [
    "model16_tuned = {}\n",
    "for year in range(2015, 2016):\n",
    "    model16_tuned[year] = pr16_tuned[year].get(1)"
   ]
  },
  {
   "cell_type": "code",
   "execution_count": 37,
   "metadata": {
    "collapsed": false
   },
   "outputs": [
    {
     "name": "stdout",
     "output_type": "stream",
     "text": [
      "{'model': -0.09993010687997006, 'ensemble': 0.02692528357729429, 'baseline': -0.47527592569072796}\n"
     ]
    }
   ],
   "source": [
    "for year in range(2015, 2016):\n",
    "    print model16_tuned[year].score()"
   ]
  },
  {
   "cell_type": "markdown",
   "metadata": {},
   "source": [
    "### Basic model"
   ]
  },
  {
   "cell_type": "code",
   "execution_count": 11,
   "metadata": {
    "collapsed": true
   },
   "outputs": [],
   "source": [
    "model = ExtraTreesRegressor(n_jobs=-1, n_estimators=96)\n",
    "pr16 = compare_years_parallel(model, 16, 3, range(2013, 2016))"
   ]
  },
  {
   "cell_type": "code",
   "execution_count": 30,
   "metadata": {
    "collapsed": false
   },
   "outputs": [
    {
     "data": {
      "text/plain": [
       "True"
      ]
     },
     "execution_count": 30,
     "metadata": {},
     "output_type": "execute_result"
    }
   ],
   "source": [
    "pr16[2013].ready()"
   ]
  },
  {
   "cell_type": "code",
   "execution_count": null,
   "metadata": {
    "collapsed": true
   },
   "outputs": [],
   "source": [
    "model16 = {}\n",
    "for year in range(2015, 2016):\n",
    "    model16[year] = pr16[year].get(1) "
   ]
  },
  {
   "cell_type": "code",
   "execution_count": 35,
   "metadata": {
    "collapsed": false
   },
   "outputs": [
    {
     "name": "stdout",
     "output_type": "stream",
     "text": [
      "{'model': -0.23607158941442696, 'ensemble': -0.18106521401453124, 'baseline': -0.47527592569072796}\n"
     ]
    }
   ],
   "source": [
    "for year in range(2015, 2016):\n",
    "    print model16[year].score()"
   ]
  },
  {
   "cell_type": "markdown",
   "metadata": {},
   "source": [
    "# Conclusions"
   ]
  },
  {
   "cell_type": "markdown",
   "metadata": {},
   "source": [
    "* Basic model with ensemble is better than tuned model for all years except 2011\n",
    "* Lynden is not well predicted by model"
   ]
  }
 ],
 "metadata": {
  "kernelspec": {
   "display_name": "Python 2",
   "language": "python",
   "name": "python2"
  },
  "language_info": {
   "codemirror_mode": {
    "name": "ipython",
    "version": 2
   },
   "file_extension": ".py",
   "mimetype": "text/x-python",
   "name": "python",
   "nbconvert_exporter": "python",
   "pygments_lexer": "ipython2",
   "version": "2.7.11"
  }
 },
 "nbformat": 4,
 "nbformat_minor": 0
}

{
 "cells": [
  {
   "cell_type": "code",
   "execution_count": 11,
   "metadata": {
    "collapsed": false
   },
   "outputs": [],
   "source": [
    "import pandas as pd\n",
    "from pandas.tseries.holiday import *\n",
    "import numpy as np\n",
    "from datetime import date"
   ]
  },
  {
   "cell_type": "code",
   "execution_count": 12,
   "metadata": {
    "collapsed": true
   },
   "outputs": [],
   "source": [
    "cal = USFederalHolidayCalendar()"
   ]
  },
  {
   "cell_type": "code",
   "execution_count": 13,
   "metadata": {
    "collapsed": false
   },
   "outputs": [
    {
     "data": {
      "text/plain": [
       "DatetimeIndex(['1970-01-01', '1970-02-16', '1970-05-25', '1970-07-03',\n",
       "               '1970-09-07', '1970-10-12', '1970-11-11', '1970-11-26',\n",
       "               '1970-12-25', '1971-01-01',\n",
       "               ...\n",
       "               '2030-01-01', '2030-01-21', '2030-02-18', '2030-05-27',\n",
       "               '2030-07-04', '2030-09-02', '2030-10-14', '2030-11-11',\n",
       "               '2030-11-28', '2030-12-25'],\n",
       "              dtype='datetime64[ns]', length=594, freq=None)"
      ]
     },
     "execution_count": 13,
     "metadata": {},
     "output_type": "execute_result"
    }
   ],
   "source": [
    "cal.holidays()"
   ]
  },
  {
   "cell_type": "code",
   "execution_count": 15,
   "metadata": {
    "collapsed": false
   },
   "outputs": [
    {
     "data": {
      "text/plain": [
       "Timestamp('1970-01-02 00:00:00')"
      ]
     },
     "execution_count": 15,
     "metadata": {},
     "output_type": "execute_result"
    }
   ],
   "source": [
    "holidaylist = list(cal.holidays())\n",
    "holidaylist[0].to_datetime() + DateOffset(days=1)\n",
    "# [x.to_datetime() for x in list(cal.holidays())]\n"
   ]
  },
  {
   "cell_type": "code",
   "execution_count": null,
   "metadata": {
    "collapsed": false
   },
   "outputs": [],
   "source": [
    "def DaysUntilWorkDay(dt, calendar):\n",
    "    holidays = [x.to_datetime() for x in list(calendar.holidays())]\n",
    "    offset = 0\n",
    "    offsetday = dt + DateOffset(days=offset)\n",
    "    \n",
    "    while offsetday.weekday() in [5,6] or offsetday in holidays:\n",
    "        offset += 1\n",
    "        offsetday += DateOffset(days=offset)\n",
    "    \n",
    "    return offset\n",
    "\n",
    "DaysUntilWorkDay(Timestamp('2015-12-25'), cal)"
   ]
  },
  {
   "cell_type": "code",
   "execution_count": null,
   "metadata": {
    "collapsed": true
   },
   "outputs": [],
   "source": [
    "def WorkdaysNextWeek(dt, calendar):\n",
    "    pass"
   ]
  },
  {
   "cell_type": "code",
   "execution_count": null,
   "metadata": {
    "collapsed": false
   },
   "outputs": [],
   "source": [
    "import holidays\n",
    "from datetime import date"
   ]
  },
  {
   "cell_type": "code",
   "execution_count": null,
   "metadata": {
    "collapsed": false
   },
   "outputs": [],
   "source": [
    "us_holidays = holidays.US()"
   ]
  },
  {
   "cell_type": "code",
   "execution_count": null,
   "metadata": {
    "collapsed": false
   },
   "outputs": [],
   "source": [
    "us_holidays.get(date(2012 ,1, 2))"
   ]
  },
  {
   "cell_type": "code",
   "execution_count": null,
   "metadata": {
    "collapsed": false
   },
   "outputs": [],
   "source": [
    "for date, name in sorted(holidays.US(state='CA', years=[2012, 2013]).items()):\n",
    "    if name == 'Thanksgiving':\n",
    "        print date\n"
   ]
  },
  {
   "cell_type": "markdown",
   "metadata": {},
   "source": [
    "## use holidays module\n",
    "Need to create a DB table to support holidays\n",
    "\n",
    "V1 schema - date and holiday booleans\n",
    "* Date\n",
    "* NewYearsDay\n",
    "* US_MLK\n",
    "* US_Washington\n",
    "* CA_Victoria\n",
    "* etc.\n",
    "\n",
    "Store observed days if available\n",
    "\n",
    "V2 schema - date, holiday booleans\n",
    "* Date\n",
    "* holidays...\n",
    "* US_DaysUntilDayOff\n",
    "* US_WorkdaysNextWeek\n",
    "* US_DaysUntilWorkday\n",
    "* CA_DaysUntilDayOff\n",
    "* CA_WorkdaysNextWeek\n",
    "* CA_DaysUntilWorkday"
   ]
  },
  {
   "cell_type": "code",
   "execution_count": null,
   "metadata": {
    "collapsed": true
   },
   "outputs": [],
   "source": []
  }
 ],
 "metadata": {
  "kernelspec": {
   "display_name": "Python 2",
   "language": "python",
   "name": "python2"
  },
  "language_info": {
   "codemirror_mode": {
    "name": "ipython",
    "version": 2
   },
   "file_extension": ".py",
   "mimetype": "text/x-python",
   "name": "python",
   "nbconvert_exporter": "python",
   "pygments_lexer": "ipython2",
   "version": "2.7.11"
  }
 },
 "nbformat": 4,
 "nbformat_minor": 0
}

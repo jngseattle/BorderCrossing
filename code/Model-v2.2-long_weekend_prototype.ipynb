{
 "cells": [
  {
   "cell_type": "code",
   "execution_count": 4,
   "metadata": {
    "collapsed": true
   },
   "outputs": [],
   "source": [
    "from dbhelper import pd_query\n",
    "import pandas as pd\n",
    "import datetime as dt"
   ]
  },
  {
   "cell_type": "code",
   "execution_count": 5,
   "metadata": {
    "collapsed": false
   },
   "outputs": [],
   "source": [
    "from BorderModel import IncrementalModel\n",
    "from BorderQuery import select_features_simple, select_mungedata_simple\n",
    "from sklearn.ensemble import ExtraTreesRegressor\n",
    "from sklearn.grid_search import GridSearchCV\n",
    "import datetime as dt\n",
    "import matplotlib.pyplot as plt\n",
    "%matplotlib inline\n",
    "from sklearn.metrics import r2_score\n",
    "import pprint"
   ]
  },
  {
   "cell_type": "code",
   "execution_count": 6,
   "metadata": {
    "collapsed": false
   },
   "outputs": [],
   "source": [
    "query = '''\n",
    "        select \n",
    "            date,\n",
    "            extract(dow from date) as dow,\n",
    "            locale,\n",
    "            event\n",
    "        from specialdates\n",
    "        '''\n",
    "df = pd_query(query)\n",
    "df.date = pd.to_datetime(df.date)\n",
    "df = df.set_index('date')"
   ]
  },
  {
   "cell_type": "markdown",
   "metadata": {},
   "source": [
    "## Add feature for days off on Mondays and Fridays plus lead/lag\n",
    "\n",
    "1. Identify Monday or Friday specialdates\n",
    "2. Filter out holidays which are not typically days off\n",
    "3. Create lag/lead effects\n",
    "\n",
    "Expectation is that this handles cases where there is not enough data for model to recognize moving holidays "
   ]
  },
  {
   "cell_type": "code",
   "execution_count": 7,
   "metadata": {
    "collapsed": false
   },
   "outputs": [
    {
     "data": {
      "text/plain": [
       "array(['newyears', 'mlk', 'memorial', 'labor', 'independence', 'veterans',\n",
       "       'xmas', 'victoria', 'civic', 'ca_thanksgiving', 'canada',\n",
       "       'president', 'halloween'], dtype=object)"
      ]
     },
     "execution_count": 7,
     "metadata": {},
     "output_type": "execute_result"
    }
   ],
   "source": [
    "# 1 = Monday\n",
    "# 5 = Friday\n",
    "df[df.dow==1].event.unique()"
   ]
  },
  {
   "cell_type": "code",
   "execution_count": 8,
   "metadata": {
    "collapsed": false
   },
   "outputs": [
    {
     "data": {
      "text/plain": [
       "array(['independence', 'xmas', 'newyears', 'veterans', 'goodfriday',\n",
       "       'canada', 'halloween'], dtype=object)"
      ]
     },
     "execution_count": 8,
     "metadata": {},
     "output_type": "execute_result"
    }
   ],
   "source": [
    "df[df.dow==5].event.unique()"
   ]
  },
  {
   "cell_type": "markdown",
   "metadata": {},
   "source": [
    "### Exclude Halloween since it is not an observed holiday"
   ]
  },
  {
   "cell_type": "code",
   "execution_count": 9,
   "metadata": {
    "collapsed": true
   },
   "outputs": [],
   "source": [
    "df = df[df.event != 'halloween']"
   ]
  },
  {
   "cell_type": "markdown",
   "metadata": {},
   "source": [
    "### Create a feature submatrix with following fields that can be merged into full feature matrix\n",
    "* MondayDayOff, alias mdo\n",
    "* mdo_lag_1\n",
    "* mdo_lead_1 to mdo_lead_4\n",
    "\n",
    "* FridayDayOff, alias fdo\n",
    "* fdo_lead_1\n",
    "* fdo_lag_1 to fdo_lag_4"
   ]
  },
  {
   "cell_type": "code",
   "execution_count": 10,
   "metadata": {
    "collapsed": true
   },
   "outputs": [],
   "source": [
    "query = '''\n",
    "        select\n",
    "            d.date,\n",
    "            mdo.event as mdo,\n",
    "            fdo.event as fdo\n",
    "from datefeatures d\n",
    "left join specialdates mdo\n",
    "    on d.date::timestamp::date = mdo.date\n",
    "    and extract(dow from d.date) = 1\n",
    "    and mdo.event <> 'halloween'\n",
    "left join specialdates fdo\n",
    "    on d.date::timestamp::date = fdo.date\n",
    "    and extract(dow from d.date) = 5\n",
    "    and fdo.event <> 'halloween'\n",
    "order by d.date\n",
    "        '''\n",
    "\n",
    "df1 = pd_query(query)"
   ]
  },
  {
   "cell_type": "code",
   "execution_count": 11,
   "metadata": {
    "collapsed": false
   },
   "outputs": [
    {
     "data": {
      "text/html": [
       "<div>\n",
       "<table border=\"1\" class=\"dataframe\">\n",
       "  <thead>\n",
       "    <tr style=\"text-align: right;\">\n",
       "      <th></th>\n",
       "      <th>date</th>\n",
       "      <th>mdo</th>\n",
       "      <th>fdo</th>\n",
       "    </tr>\n",
       "  </thead>\n",
       "  <tbody>\n",
       "    <tr>\n",
       "      <th>0</th>\n",
       "      <td>2007-01-01 00:00:00</td>\n",
       "      <td>newyears</td>\n",
       "      <td>None</td>\n",
       "    </tr>\n",
       "    <tr>\n",
       "      <th>1</th>\n",
       "      <td>2007-01-01 00:05:00</td>\n",
       "      <td>newyears</td>\n",
       "      <td>None</td>\n",
       "    </tr>\n",
       "    <tr>\n",
       "      <th>2</th>\n",
       "      <td>2007-01-01 00:10:00</td>\n",
       "      <td>newyears</td>\n",
       "      <td>None</td>\n",
       "    </tr>\n",
       "    <tr>\n",
       "      <th>3</th>\n",
       "      <td>2007-01-01 00:15:00</td>\n",
       "      <td>newyears</td>\n",
       "      <td>None</td>\n",
       "    </tr>\n",
       "    <tr>\n",
       "      <th>4</th>\n",
       "      <td>2007-01-01 00:20:00</td>\n",
       "      <td>newyears</td>\n",
       "      <td>None</td>\n",
       "    </tr>\n",
       "  </tbody>\n",
       "</table>\n",
       "</div>"
      ],
      "text/plain": [
       "                 date       mdo   fdo\n",
       "0 2007-01-01 00:00:00  newyears  None\n",
       "1 2007-01-01 00:05:00  newyears  None\n",
       "2 2007-01-01 00:10:00  newyears  None\n",
       "3 2007-01-01 00:15:00  newyears  None\n",
       "4 2007-01-01 00:20:00  newyears  None"
      ]
     },
     "execution_count": 11,
     "metadata": {},
     "output_type": "execute_result"
    }
   ],
   "source": [
    "df1.head()"
   ]
  },
  {
   "cell_type": "code",
   "execution_count": 12,
   "metadata": {
    "collapsed": true
   },
   "outputs": [],
   "source": [
    "df1.mdo = ~pd.isnull(df1.mdo)\n",
    "df1.fdo = ~pd.isnull(df1.fdo)"
   ]
  },
  {
   "cell_type": "code",
   "execution_count": 13,
   "metadata": {
    "collapsed": false
   },
   "outputs": [
    {
     "data": {
      "text/html": [
       "<div>\n",
       "<table border=\"1\" class=\"dataframe\">\n",
       "  <thead>\n",
       "    <tr style=\"text-align: right;\">\n",
       "      <th></th>\n",
       "      <th>date</th>\n",
       "      <th>mdo</th>\n",
       "      <th>fdo</th>\n",
       "    </tr>\n",
       "  </thead>\n",
       "  <tbody>\n",
       "    <tr>\n",
       "      <th>0</th>\n",
       "      <td>2007-01-01 00:00:00</td>\n",
       "      <td>True</td>\n",
       "      <td>False</td>\n",
       "    </tr>\n",
       "    <tr>\n",
       "      <th>1</th>\n",
       "      <td>2007-01-01 00:05:00</td>\n",
       "      <td>True</td>\n",
       "      <td>False</td>\n",
       "    </tr>\n",
       "    <tr>\n",
       "      <th>2</th>\n",
       "      <td>2007-01-01 00:10:00</td>\n",
       "      <td>True</td>\n",
       "      <td>False</td>\n",
       "    </tr>\n",
       "    <tr>\n",
       "      <th>3</th>\n",
       "      <td>2007-01-01 00:15:00</td>\n",
       "      <td>True</td>\n",
       "      <td>False</td>\n",
       "    </tr>\n",
       "    <tr>\n",
       "      <th>4</th>\n",
       "      <td>2007-01-01 00:20:00</td>\n",
       "      <td>True</td>\n",
       "      <td>False</td>\n",
       "    </tr>\n",
       "  </tbody>\n",
       "</table>\n",
       "</div>"
      ],
      "text/plain": [
       "                 date   mdo    fdo\n",
       "0 2007-01-01 00:00:00  True  False\n",
       "1 2007-01-01 00:05:00  True  False\n",
       "2 2007-01-01 00:10:00  True  False\n",
       "3 2007-01-01 00:15:00  True  False\n",
       "4 2007-01-01 00:20:00  True  False"
      ]
     },
     "execution_count": 13,
     "metadata": {},
     "output_type": "execute_result"
    }
   ],
   "source": [
    "df1.head()"
   ]
  },
  {
   "cell_type": "code",
   "execution_count": 14,
   "metadata": {
    "collapsed": false
   },
   "outputs": [
    {
     "data": {
      "text/html": [
       "<div>\n",
       "<table border=\"1\" class=\"dataframe\">\n",
       "  <thead>\n",
       "    <tr style=\"text-align: right;\">\n",
       "      <th></th>\n",
       "      <th>date</th>\n",
       "      <th>mdo</th>\n",
       "      <th>fdo</th>\n",
       "      <th>mdo_lag1</th>\n",
       "    </tr>\n",
       "  </thead>\n",
       "  <tbody>\n",
       "    <tr>\n",
       "      <th>0</th>\n",
       "      <td>2007-01-01 00:00:00</td>\n",
       "      <td>True</td>\n",
       "      <td>False</td>\n",
       "      <td>NaN</td>\n",
       "    </tr>\n",
       "    <tr>\n",
       "      <th>1</th>\n",
       "      <td>2007-01-01 00:05:00</td>\n",
       "      <td>True</td>\n",
       "      <td>False</td>\n",
       "      <td>NaN</td>\n",
       "    </tr>\n",
       "    <tr>\n",
       "      <th>2</th>\n",
       "      <td>2007-01-01 00:10:00</td>\n",
       "      <td>True</td>\n",
       "      <td>False</td>\n",
       "      <td>NaN</td>\n",
       "    </tr>\n",
       "    <tr>\n",
       "      <th>3</th>\n",
       "      <td>2007-01-01 00:15:00</td>\n",
       "      <td>True</td>\n",
       "      <td>False</td>\n",
       "      <td>NaN</td>\n",
       "    </tr>\n",
       "    <tr>\n",
       "      <th>4</th>\n",
       "      <td>2007-01-01 00:20:00</td>\n",
       "      <td>True</td>\n",
       "      <td>False</td>\n",
       "      <td>NaN</td>\n",
       "    </tr>\n",
       "  </tbody>\n",
       "</table>\n",
       "</div>"
      ],
      "text/plain": [
       "                 date   mdo    fdo mdo_lag1\n",
       "0 2007-01-01 00:00:00  True  False      NaN\n",
       "1 2007-01-01 00:05:00  True  False      NaN\n",
       "2 2007-01-01 00:10:00  True  False      NaN\n",
       "3 2007-01-01 00:15:00  True  False      NaN\n",
       "4 2007-01-01 00:20:00  True  False      NaN"
      ]
     },
     "execution_count": 14,
     "metadata": {},
     "output_type": "execute_result"
    }
   ],
   "source": [
    "df1['mdo_lag1'] = df1.shift(288).mdo\n",
    "df1.head()"
   ]
  },
  {
   "cell_type": "code",
   "execution_count": 15,
   "metadata": {
    "collapsed": false
   },
   "outputs": [
    {
     "data": {
      "text/html": [
       "<div>\n",
       "<table border=\"1\" class=\"dataframe\">\n",
       "  <thead>\n",
       "    <tr style=\"text-align: right;\">\n",
       "      <th></th>\n",
       "      <th>date</th>\n",
       "      <th>mdo</th>\n",
       "      <th>fdo</th>\n",
       "      <th>mdo_lag1</th>\n",
       "      <th>mdo_lead1</th>\n",
       "      <th>mdo_lead2</th>\n",
       "      <th>mdo_lead3</th>\n",
       "      <th>mdo_lead4</th>\n",
       "    </tr>\n",
       "  </thead>\n",
       "  <tbody>\n",
       "    <tr>\n",
       "      <th>289</th>\n",
       "      <td>2007-01-02 00:05:00</td>\n",
       "      <td>False</td>\n",
       "      <td>False</td>\n",
       "      <td>True</td>\n",
       "      <td>False</td>\n",
       "      <td>False</td>\n",
       "      <td>False</td>\n",
       "      <td>False</td>\n",
       "    </tr>\n",
       "    <tr>\n",
       "      <th>290</th>\n",
       "      <td>2007-01-02 00:10:00</td>\n",
       "      <td>False</td>\n",
       "      <td>False</td>\n",
       "      <td>True</td>\n",
       "      <td>False</td>\n",
       "      <td>False</td>\n",
       "      <td>False</td>\n",
       "      <td>False</td>\n",
       "    </tr>\n",
       "    <tr>\n",
       "      <th>291</th>\n",
       "      <td>2007-01-02 00:15:00</td>\n",
       "      <td>False</td>\n",
       "      <td>False</td>\n",
       "      <td>True</td>\n",
       "      <td>False</td>\n",
       "      <td>False</td>\n",
       "      <td>False</td>\n",
       "      <td>False</td>\n",
       "    </tr>\n",
       "    <tr>\n",
       "      <th>292</th>\n",
       "      <td>2007-01-02 00:20:00</td>\n",
       "      <td>False</td>\n",
       "      <td>False</td>\n",
       "      <td>True</td>\n",
       "      <td>False</td>\n",
       "      <td>False</td>\n",
       "      <td>False</td>\n",
       "      <td>False</td>\n",
       "    </tr>\n",
       "    <tr>\n",
       "      <th>293</th>\n",
       "      <td>2007-01-02 00:25:00</td>\n",
       "      <td>False</td>\n",
       "      <td>False</td>\n",
       "      <td>True</td>\n",
       "      <td>False</td>\n",
       "      <td>False</td>\n",
       "      <td>False</td>\n",
       "      <td>False</td>\n",
       "    </tr>\n",
       "  </tbody>\n",
       "</table>\n",
       "</div>"
      ],
      "text/plain": [
       "                   date    mdo    fdo mdo_lag1 mdo_lead1 mdo_lead2 mdo_lead3  \\\n",
       "289 2007-01-02 00:05:00  False  False     True     False     False     False   \n",
       "290 2007-01-02 00:10:00  False  False     True     False     False     False   \n",
       "291 2007-01-02 00:15:00  False  False     True     False     False     False   \n",
       "292 2007-01-02 00:20:00  False  False     True     False     False     False   \n",
       "293 2007-01-02 00:25:00  False  False     True     False     False     False   \n",
       "\n",
       "    mdo_lead4  \n",
       "289     False  \n",
       "290     False  \n",
       "291     False  \n",
       "292     False  \n",
       "293     False  "
      ]
     },
     "execution_count": 15,
     "metadata": {},
     "output_type": "execute_result"
    }
   ],
   "source": [
    "for i in [1, 2, 3, 4]:\n",
    "    df1['mdo_lead{0}'.format(i)] = df1.shift(-288 * i).mdo\n",
    "df1[df1.date > '2007-1-2'].head()"
   ]
  },
  {
   "cell_type": "code",
   "execution_count": 16,
   "metadata": {
    "collapsed": false
   },
   "outputs": [
    {
     "data": {
      "text/html": [
       "<div>\n",
       "<table border=\"1\" class=\"dataframe\">\n",
       "  <thead>\n",
       "    <tr style=\"text-align: right;\">\n",
       "      <th></th>\n",
       "      <th>date</th>\n",
       "      <th>mdo</th>\n",
       "      <th>fdo</th>\n",
       "      <th>mdo_lag1</th>\n",
       "      <th>mdo_lead1</th>\n",
       "      <th>mdo_lead2</th>\n",
       "      <th>mdo_lead3</th>\n",
       "      <th>mdo_lead4</th>\n",
       "      <th>fdo_lead1</th>\n",
       "      <th>fdo_lag1</th>\n",
       "      <th>fdo_lag2</th>\n",
       "      <th>fdo_lag3</th>\n",
       "      <th>fdo_lag4</th>\n",
       "    </tr>\n",
       "  </thead>\n",
       "  <tbody>\n",
       "    <tr>\n",
       "      <th>158689</th>\n",
       "      <td>2008-07-05 00:05:00</td>\n",
       "      <td>False</td>\n",
       "      <td>False</td>\n",
       "      <td>False</td>\n",
       "      <td>False</td>\n",
       "      <td>False</td>\n",
       "      <td>False</td>\n",
       "      <td>False</td>\n",
       "      <td>False</td>\n",
       "      <td>True</td>\n",
       "      <td>False</td>\n",
       "      <td>False</td>\n",
       "      <td>False</td>\n",
       "    </tr>\n",
       "    <tr>\n",
       "      <th>158690</th>\n",
       "      <td>2008-07-05 00:10:00</td>\n",
       "      <td>False</td>\n",
       "      <td>False</td>\n",
       "      <td>False</td>\n",
       "      <td>False</td>\n",
       "      <td>False</td>\n",
       "      <td>False</td>\n",
       "      <td>False</td>\n",
       "      <td>False</td>\n",
       "      <td>True</td>\n",
       "      <td>False</td>\n",
       "      <td>False</td>\n",
       "      <td>False</td>\n",
       "    </tr>\n",
       "    <tr>\n",
       "      <th>158691</th>\n",
       "      <td>2008-07-05 00:15:00</td>\n",
       "      <td>False</td>\n",
       "      <td>False</td>\n",
       "      <td>False</td>\n",
       "      <td>False</td>\n",
       "      <td>False</td>\n",
       "      <td>False</td>\n",
       "      <td>False</td>\n",
       "      <td>False</td>\n",
       "      <td>True</td>\n",
       "      <td>False</td>\n",
       "      <td>False</td>\n",
       "      <td>False</td>\n",
       "    </tr>\n",
       "    <tr>\n",
       "      <th>158692</th>\n",
       "      <td>2008-07-05 00:20:00</td>\n",
       "      <td>False</td>\n",
       "      <td>False</td>\n",
       "      <td>False</td>\n",
       "      <td>False</td>\n",
       "      <td>False</td>\n",
       "      <td>False</td>\n",
       "      <td>False</td>\n",
       "      <td>False</td>\n",
       "      <td>True</td>\n",
       "      <td>False</td>\n",
       "      <td>False</td>\n",
       "      <td>False</td>\n",
       "    </tr>\n",
       "    <tr>\n",
       "      <th>158693</th>\n",
       "      <td>2008-07-05 00:25:00</td>\n",
       "      <td>False</td>\n",
       "      <td>False</td>\n",
       "      <td>False</td>\n",
       "      <td>False</td>\n",
       "      <td>False</td>\n",
       "      <td>False</td>\n",
       "      <td>False</td>\n",
       "      <td>False</td>\n",
       "      <td>True</td>\n",
       "      <td>False</td>\n",
       "      <td>False</td>\n",
       "      <td>False</td>\n",
       "    </tr>\n",
       "  </tbody>\n",
       "</table>\n",
       "</div>"
      ],
      "text/plain": [
       "                      date    mdo    fdo mdo_lag1 mdo_lead1 mdo_lead2  \\\n",
       "158689 2008-07-05 00:05:00  False  False    False     False     False   \n",
       "158690 2008-07-05 00:10:00  False  False    False     False     False   \n",
       "158691 2008-07-05 00:15:00  False  False    False     False     False   \n",
       "158692 2008-07-05 00:20:00  False  False    False     False     False   \n",
       "158693 2008-07-05 00:25:00  False  False    False     False     False   \n",
       "\n",
       "       mdo_lead3 mdo_lead4 fdo_lead1 fdo_lag1 fdo_lag2 fdo_lag3 fdo_lag4  \n",
       "158689     False     False     False     True    False    False    False  \n",
       "158690     False     False     False     True    False    False    False  \n",
       "158691     False     False     False     True    False    False    False  \n",
       "158692     False     False     False     True    False    False    False  \n",
       "158693     False     False     False     True    False    False    False  "
      ]
     },
     "execution_count": 16,
     "metadata": {},
     "output_type": "execute_result"
    }
   ],
   "source": [
    "df1['fdo_lead1'] = df1.shift(-288).fdo\n",
    "for i in [1, 2, 3, 4]:\n",
    "    df1['fdo_lag{0}'.format(i)] = df1.shift(288 * i).fdo\n",
    "df1[df1.date > '2008-7-5'].head()"
   ]
  },
  {
   "cell_type": "markdown",
   "metadata": {},
   "source": [
    "## Test model"
   ]
  },
  {
   "cell_type": "code",
   "execution_count": 17,
   "metadata": {
    "collapsed": true
   },
   "outputs": [],
   "source": [
    "import datetime\n",
    "from BorderQuery import select_features, select_mungedata, select_mungedata_simple\n",
    "\n",
    "def create_train_test(year, train_length=2):\n",
    "    '''\n",
    "    IN \n",
    "        years: list of years to predict\n",
    "        train_length: number of years to train\n",
    "    '''\n",
    "    train_start = datetime.date(year - train_length, 1, 1).strftime('%Y-%m-%d')\n",
    "    train_end = datetime.date(year, 1, 1).strftime('%Y-%m-%d')\n",
    "    test_start = datetime.date(year, 1, 1).strftime('%Y-%m-%d')\n",
    "    test_end = datetime.date(year + 1, 1, 1).strftime('%Y-%m-%d')\n",
    "    return train_start, train_end, test_start, test_end\n",
    "\n",
    "def run_incremental_join(model, munger_id, xing, train_start, train_end,\n",
    "                    test_start, test_end, join_df=None):\n",
    "    df_train = select_mungedata(munger_id, xing, train_start, train_end)\n",
    "    X_test = select_features(test_start, test_end)\n",
    "    actual = select_mungedata_simple(munger_id, xing, test_start, test_end)\n",
    "\n",
    "    if join_df is not None:\n",
    "        df_train = df_train.join(join_df)\n",
    "        X_test = X_test.join(join_df)\n",
    "\n",
    "#     return df_train\n",
    "        \n",
    "    grid = GridSearchCV(model, {})\n",
    "    im = IncrementalModel(df_train, grid, categoricals=['event'])\n",
    "    im.set_actual(actual.waittime)\n",
    "    im.predict(X_test)\n",
    "    \n",
    "    return im"
   ]
  },
  {
   "cell_type": "code",
   "execution_count": 18,
   "metadata": {
    "collapsed": true
   },
   "outputs": [],
   "source": [
    "df1 = df1.set_index('date')"
   ]
  },
  {
   "cell_type": "code",
   "execution_count": 19,
   "metadata": {
    "collapsed": false
   },
   "outputs": [],
   "source": [
    "df1 = df1[(df1.index.minute == 0) | (df1.index.minute == 30)]"
   ]
  },
  {
   "cell_type": "code",
   "execution_count": 20,
   "metadata": {
    "collapsed": false
   },
   "outputs": [],
   "source": [
    "model = ExtraTreesRegressor(n_jobs=-1, n_estimators=96)\n",
    "train_start, train_end, test_start, test_end = create_train_test(2015)\n",
    "im = run_incremental_join(model, 3, 1, train_start, train_end, test_start, test_end, join_df=df1)"
   ]
  },
  {
   "cell_type": "code",
   "execution_count": 21,
   "metadata": {
    "collapsed": false
   },
   "outputs": [
    {
     "data": {
      "text/plain": [
       "{'baseline': 0.1059067680212642,\n",
       " 'ensemble': 0.19072517240780962,\n",
       " 'model': 0.15619347124690364}"
      ]
     },
     "execution_count": 21,
     "metadata": {},
     "output_type": "execute_result"
    }
   ],
   "source": [
    "im.score()"
   ]
  },
  {
   "cell_type": "markdown",
   "metadata": {},
   "source": [
    "### Increase training period to 4 years from 2 years"
   ]
  },
  {
   "cell_type": "code",
   "execution_count": 22,
   "metadata": {
    "collapsed": true
   },
   "outputs": [],
   "source": [
    "model = ExtraTreesRegressor(n_jobs=-1, n_estimators=96)\n",
    "train_start, train_end, test_start, test_end = create_train_test(2015, train_length=4)\n",
    "im = run_incremental_join(model, 3, 1, train_start, train_end, test_start, test_end, join_df=df1)"
   ]
  },
  {
   "cell_type": "code",
   "execution_count": 25,
   "metadata": {
    "collapsed": false
   },
   "outputs": [
    {
     "data": {
      "text/plain": [
       "{'baseline': 0.1059067680212642,\n",
       " 'ensemble': 0.17846059664342961,\n",
       " 'model': 0.13247236958927722}"
      ]
     },
     "execution_count": 25,
     "metadata": {},
     "output_type": "execute_result"
    }
   ],
   "source": [
    "im.score()"
   ]
  },
  {
   "cell_type": "markdown",
   "metadata": {},
   "source": [
    "## Long weekend features do not help\n",
    "Perhaps additional data is needed, but since more data makes predictions worse, any benefits are counteracted."
   ]
  },
  {
   "cell_type": "code",
   "execution_count": null,
   "metadata": {
    "collapsed": true
   },
   "outputs": [],
   "source": []
  }
 ],
 "metadata": {
  "kernelspec": {
   "display_name": "Python 2",
   "language": "python",
   "name": "python2"
  },
  "language_info": {
   "codemirror_mode": {
    "name": "ipython",
    "version": 2
   },
   "file_extension": ".py",
   "mimetype": "text/x-python",
   "name": "python",
   "nbconvert_exporter": "python",
   "pygments_lexer": "ipython2",
   "version": "2.7.11"
  }
 },
 "nbformat": 4,
 "nbformat_minor": 0
}

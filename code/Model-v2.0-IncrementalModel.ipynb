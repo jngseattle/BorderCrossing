{
 "cells": [
  {
   "cell_type": "code",
   "execution_count": 701,
   "metadata": {
    "collapsed": false
   },
   "outputs": [],
   "source": [
    "from BorderModel import IncrementalModel, daily_average_features\n",
    "from BorderQuery import select_features_simple, select_mungedata_simple\n",
    "from sklearn.ensemble import ExtraTreesRegressor\n",
    "from sklearn.grid_search import GridSearchCV\n",
    "import datetime as dt\n",
    "import matplotlib.pyplot as plt\n",
    "%matplotlib inline\n",
    "from sklearn.metrics import r2_score\n",
    "import pprint"
   ]
  },
  {
   "cell_type": "code",
   "execution_count": 418,
   "metadata": {
    "collapsed": false
   },
   "outputs": [],
   "source": [
    "df_train = select_mungedata_simple(2, 1, '2011-1-1', '2015-1-1')"
   ]
  },
  {
   "cell_type": "code",
   "execution_count": 419,
   "metadata": {
    "collapsed": false
   },
   "outputs": [],
   "source": [
    "X_test = select_features_simple('2015-1-1', '2015-12-1')"
   ]
  },
  {
   "cell_type": "code",
   "execution_count": 420,
   "metadata": {
    "collapsed": true
   },
   "outputs": [],
   "source": [
    "model = ExtraTreesRegressor(n_jobs=-1, n_estimators=16, bootstrap=True, oob_score=True)\n",
    "grid = GridSearchCV(model, {})"
   ]
  },
  {
   "cell_type": "code",
   "execution_count": 424,
   "metadata": {
    "collapsed": false
   },
   "outputs": [],
   "source": [
    "from BorderModel import IncrementalModel\n",
    "im = IncrementalModel(df_train, grid)"
   ]
  },
  {
   "cell_type": "code",
   "execution_count": 454,
   "metadata": {
    "collapsed": true
   },
   "outputs": [
    {
     "name": "stdout",
     "output_type": "stream",
     "text": [
      "2015-01-01\n",
      "2015-01-02\n",
      "2015-01-03\n",
      "2015-01-04\n",
      "2015-01-05\n",
      "2015-01-06\n",
      "2015-01-07\n",
      "2015-01-08\n",
      "2015-01-09\n",
      "2015-01-10\n",
      "2015-01-11\n",
      "2015-01-12\n",
      "2015-01-13\n",
      "2015-01-14\n",
      "2015-01-15\n",
      "2015-01-16\n",
      "2015-01-17\n",
      "2015-01-18\n",
      "2015-01-19\n",
      "2015-01-20\n",
      "2015-01-21\n",
      "2015-01-22\n",
      "2015-01-23\n",
      "2015-01-24\n",
      "2015-01-25\n",
      "2015-01-26\n",
      "2015-01-27\n",
      "2015-01-28\n",
      "2015-01-29\n",
      "2015-01-30\n",
      "2015-01-31\n",
      "2015-02-01\n",
      "2015-02-02\n",
      "2015-02-03\n",
      "2015-02-04\n",
      "2015-02-05\n",
      "2015-02-06\n",
      "2015-02-07\n",
      "2015-02-08\n",
      "2015-02-09\n",
      "2015-02-10\n",
      "2015-02-11\n",
      "2015-02-12\n",
      "2015-02-13\n",
      "2015-02-14\n",
      "2015-02-15\n",
      "2015-02-16\n",
      "2015-02-17\n",
      "2015-02-18\n",
      "2015-02-19\n",
      "2015-02-20\n",
      "2015-02-21\n",
      "2015-02-22\n",
      "2015-02-23\n",
      "2015-02-24\n",
      "2015-02-25\n",
      "2015-02-26\n",
      "2015-02-27\n",
      "2015-02-28\n",
      "2015-03-01\n",
      "2015-03-02\n",
      "2015-03-03\n",
      "2015-03-04\n",
      "2015-03-05\n",
      "2015-03-06\n",
      "2015-03-07\n",
      "2015-03-08\n",
      "2015-03-09\n",
      "2015-03-10\n",
      "2015-03-11\n",
      "2015-03-12\n",
      "2015-03-13\n",
      "2015-03-14\n",
      "2015-03-15\n",
      "2015-03-16\n",
      "2015-03-17\n",
      "2015-03-18\n",
      "2015-03-19\n",
      "2015-03-20\n",
      "2015-03-21\n",
      "2015-03-22\n",
      "2015-03-23\n",
      "2015-03-24\n",
      "2015-03-25\n",
      "2015-03-26\n",
      "2015-03-27\n",
      "2015-03-28\n",
      "2015-03-29\n",
      "2015-03-30\n",
      "2015-03-31\n",
      "2015-04-01\n",
      "2015-04-02\n",
      "2015-04-03\n",
      "2015-04-04\n",
      "2015-04-05\n",
      "2015-04-06\n",
      "2015-04-07\n",
      "2015-04-08\n",
      "2015-04-09\n",
      "2015-04-10\n",
      "2015-04-11\n",
      "2015-04-12\n",
      "2015-04-13\n",
      "2015-04-14\n",
      "2015-04-15\n",
      "2015-04-16\n",
      "2015-04-17\n",
      "2015-04-18\n",
      "2015-04-19\n",
      "2015-04-20\n",
      "2015-04-21\n",
      "2015-04-22\n",
      "2015-04-23\n",
      "2015-04-24\n",
      "2015-04-25\n",
      "2015-04-26\n",
      "2015-04-27\n",
      "2015-04-28\n",
      "2015-04-29\n",
      "2015-04-30\n",
      "2015-05-01\n",
      "2015-05-02\n",
      "2015-05-03\n",
      "2015-05-04\n",
      "2015-05-05\n",
      "2015-05-06\n",
      "2015-05-07\n",
      "2015-05-08\n",
      "2015-05-09\n",
      "2015-05-10\n",
      "2015-05-11\n",
      "2015-05-12\n",
      "2015-05-13\n",
      "2015-05-14\n",
      "2015-05-15\n",
      "2015-05-16\n",
      "2015-05-17\n",
      "2015-05-18\n",
      "2015-05-19\n",
      "2015-05-20\n",
      "2015-05-21\n",
      "2015-05-22\n",
      "2015-05-23\n",
      "2015-05-24\n",
      "2015-05-25\n",
      "2015-05-26\n",
      "2015-05-27\n",
      "2015-05-28\n",
      "2015-05-29\n",
      "2015-05-30\n",
      "2015-05-31\n",
      "2015-06-01\n",
      "2015-06-02\n",
      "2015-06-03\n",
      "2015-06-04\n",
      "2015-06-05\n",
      "2015-06-06\n",
      "2015-06-07\n",
      "2015-06-08\n",
      "2015-06-09\n",
      "2015-06-10\n",
      "2015-06-11\n",
      "2015-06-12\n",
      "2015-06-13\n",
      "2015-06-14\n",
      "2015-06-15\n",
      "2015-06-16\n",
      "2015-06-17\n",
      "2015-06-18\n",
      "2015-06-19\n",
      "2015-06-20\n",
      "2015-06-21\n",
      "2015-06-22\n",
      "2015-06-23\n",
      "2015-06-24\n",
      "2015-06-25\n",
      "2015-06-26\n",
      "2015-06-27\n",
      "2015-06-28\n",
      "2015-06-29\n",
      "2015-06-30\n",
      "2015-07-01\n",
      "2015-07-02\n",
      "2015-07-03\n",
      "2015-07-04\n",
      "2015-07-05\n",
      "2015-07-06\n",
      "2015-07-07\n",
      "2015-07-08\n",
      "2015-07-09\n",
      "2015-07-10\n",
      "2015-07-11\n",
      "2015-07-12\n",
      "2015-07-13\n",
      "2015-07-14\n",
      "2015-07-15\n",
      "2015-07-16\n",
      "2015-07-17\n",
      "2015-07-18\n",
      "2015-07-19\n",
      "2015-07-20\n",
      "2015-07-21\n",
      "2015-07-22\n",
      "2015-07-23\n",
      "2015-07-24\n",
      "2015-07-25\n",
      "2015-07-26\n",
      "2015-07-27\n",
      "2015-07-28\n",
      "2015-07-29\n",
      "2015-07-30\n",
      "2015-07-31\n",
      "2015-08-01\n",
      "2015-08-02\n",
      "2015-08-03\n",
      "2015-08-04\n",
      "2015-08-05\n",
      "2015-08-06\n",
      "2015-08-07\n",
      "2015-08-08\n",
      "2015-08-09\n",
      "2015-08-10\n",
      "2015-08-11\n",
      "2015-08-12\n",
      "2015-08-13\n",
      "2015-08-14\n",
      "2015-08-15\n",
      "2015-08-16\n",
      "2015-08-17\n",
      "2015-08-18\n",
      "2015-08-19\n",
      "2015-08-20\n",
      "2015-08-21\n",
      "2015-08-22\n",
      "2015-08-23\n",
      "2015-08-24\n",
      "2015-08-25\n",
      "2015-08-26\n",
      "2015-08-27\n",
      "2015-08-28\n",
      "2015-08-29\n",
      "2015-08-30\n",
      "2015-08-31\n",
      "2015-09-01\n",
      "2015-09-02\n",
      "2015-09-03\n",
      "2015-09-04\n",
      "2015-09-05\n",
      "2015-09-06\n",
      "2015-09-07\n",
      "2015-09-08\n",
      "2015-09-09\n",
      "2015-09-10\n",
      "2015-09-11\n",
      "2015-09-12\n",
      "2015-09-13\n",
      "2015-09-14\n",
      "2015-09-15\n",
      "2015-09-16\n",
      "2015-09-17\n",
      "2015-09-18\n",
      "2015-09-19\n",
      "2015-09-20\n",
      "2015-09-21\n",
      "2015-09-22\n",
      "2015-09-23\n",
      "2015-09-24\n",
      "2015-09-25\n",
      "2015-09-26\n",
      "2015-09-27\n",
      "2015-09-28\n",
      "2015-09-29\n",
      "2015-09-30\n",
      "2015-10-01\n",
      "2015-10-02\n",
      "2015-10-03\n",
      "2015-10-04\n",
      "2015-10-05\n",
      "2015-10-06\n",
      "2015-10-07\n",
      "2015-10-08\n",
      "2015-10-09\n",
      "2015-10-10\n",
      "2015-10-11\n",
      "2015-10-12\n",
      "2015-10-13\n",
      "2015-10-14\n",
      "2015-10-15\n",
      "2015-10-16\n",
      "2015-10-17\n",
      "2015-10-18\n",
      "2015-10-19\n",
      "2015-10-20\n",
      "2015-10-21\n",
      "2015-10-22\n",
      "2015-10-23\n",
      "2015-10-24\n",
      "2015-10-25\n",
      "2015-10-26\n",
      "2015-10-27\n",
      "2015-10-28\n",
      "2015-10-29\n",
      "2015-10-30\n",
      "2015-10-31\n",
      "2015-11-01\n",
      "2015-11-02\n",
      "2015-11-03\n",
      "2015-11-04\n",
      "2015-11-05\n",
      "2015-11-06\n",
      "2015-11-07\n",
      "2015-11-08\n",
      "2015-11-09\n",
      "2015-11-10\n",
      "2015-11-11\n",
      "2015-11-12\n",
      "2015-11-13\n",
      "2015-11-14\n",
      "2015-11-15\n",
      "2015-11-16\n",
      "2015-11-17\n",
      "2015-11-18\n",
      "2015-11-19\n",
      "2015-11-20\n",
      "2015-11-21\n",
      "2015-11-22\n",
      "2015-11-23\n",
      "2015-11-24\n",
      "2015-11-25\n",
      "2015-11-26\n",
      "2015-11-27\n",
      "2015-11-28\n",
      "2015-11-29\n",
      "2015-11-30\n"
     ]
    }
   ],
   "source": [
    "from BorderModel import IncrementalModel\n",
    "yhat = im.predict(X_test)"
   ]
  },
  {
   "cell_type": "markdown",
   "metadata": {},
   "source": [
    "## Compare against actuals in 2015"
   ]
  },
  {
   "cell_type": "code",
   "execution_count": 490,
   "metadata": {
    "collapsed": false
   },
   "outputs": [],
   "source": [
    "actuals = select_mungedata_simple(2, 1, '2015-1-1', '2015-12-1')\n",
    "actuals = actuals.set_index('date')\n",
    "actuals = actuals[(actuals.index.minute == 0) | (actuals.index.minute==30)].waittime"
   ]
  },
  {
   "cell_type": "code",
   "execution_count": 547,
   "metadata": {
    "collapsed": false
   },
   "outputs": [],
   "source": [
    "from BorderQuery import select_predictions\n",
    "baseline = select_predictions(2, 'b2014', 1, '2015-1-1', '2015-12-1')\n",
    "\n",
    "baseline = baseline[(baseline.index.minute == 0) | (baseline.index.minute==30)]\n",
    "\n",
    "baseline1 = baseline.loc[actuals.index]"
   ]
  },
  {
   "cell_type": "code",
   "execution_count": 548,
   "metadata": {
    "collapsed": false
   },
   "outputs": [
    {
     "data": {
      "image/png": "[encoded data removed]",
      "text/plain": [
       "<matplotlib.figure.Figure at 0x10fec5910>"
      ]
     },
     "metadata": {},
     "output_type": "display_data"
    }
   ],
   "source": [
    "start = dt.date(2015, 6, 1)\n",
    "end = dt.date(2015, 6, 15)\n",
    "\n",
    "plt.figure(figsize=(16,4))\n",
    "plt.plot(baseline[(baseline.index.date>=start) & (baseline.index.date<end)], label='baseline')\n",
    "plt.plot(yhat[(yhat.index.date>=start) & (yhat.index.date<end)], label='predictions')\n",
    "plt.plot(actuals[(actuals.index.date>=start) & (actuals.index.date<end)], label='actuals')\n",
    "# plt.xlim([0,1000])\n",
    "plt.legend();"
   ]
  },
  {
   "cell_type": "code",
   "execution_count": 518,
   "metadata": {
    "collapsed": true
   },
   "outputs": [],
   "source": [
    "yhat1 = yhat[actuals.index]"
   ]
  },
  {
   "cell_type": "code",
   "execution_count": 500,
   "metadata": {
    "collapsed": false
   },
   "outputs": [
    {
     "data": {
      "text/plain": [
       "date\n",
       "2015-01-01 00:00:00    0.762914\n",
       "2015-01-01 00:30:00    1.945724\n",
       "2015-01-01 01:00:00    2.264253\n",
       "2015-01-01 01:30:00    1.343402\n",
       "2015-01-01 02:00:00    1.210180\n",
       "dtype: float64"
      ]
     },
     "execution_count": 500,
     "metadata": {},
     "output_type": "execute_result"
    }
   ],
   "source": [
    "yhat[actuals.index.values].head()"
   ]
  },
  {
   "cell_type": "code",
   "execution_count": 550,
   "metadata": {
    "collapsed": false
   },
   "outputs": [
    {
     "name": "stdout",
     "output_type": "stream",
     "text": [
      "0.147222831424\n",
      "-0.0328163534288\n"
     ]
    }
   ],
   "source": [
    "print r2_score(actuals, baseline1)\n",
    "print r2_score(actuals, yhat1)"
   ]
  },
  {
   "cell_type": "code",
   "execution_count": 524,
   "metadata": {
    "collapsed": false
   },
   "outputs": [
    {
     "data": {
      "image/png": "[encoded data removed]",
      "text/plain": [
       "<matplotlib.figure.Figure at 0x1212a4dd0>"
      ]
     },
     "metadata": {},
     "output_type": "display_data"
    }
   ],
   "source": [
    "r2_byweek = []\n",
    "for week in range(1, 50):\n",
    "    r2_byweek.append(r2_score(actuals[actuals.index.week==week], yhat1[yhat1.index.week==week]))\n",
    "    \n",
    "plt.plot(r2_byweek);"
   ]
  },
  {
   "cell_type": "code",
   "execution_count": 525,
   "metadata": {
    "collapsed": false
   },
   "outputs": [
    {
     "data": {
      "image/png": "[encoded data removed]",
      "text/plain": [
       "<matplotlib.figure.Figure at 0x1212927d0>"
      ]
     },
     "metadata": {},
     "output_type": "display_data"
    }
   ],
   "source": [
    "r2_bymonth = []\n",
    "for month in range(1, 12):\n",
    "    r2_bymonth.append(r2_score(actuals[actuals.index.month==month], yhat1[yhat1.index.month==month]))\n",
    "    \n",
    "plt.plot(r2_bymonth);"
   ]
  },
  {
   "cell_type": "code",
   "execution_count": 537,
   "metadata": {
    "collapsed": false
   },
   "outputs": [
    {
     "name": "stdout",
     "output_type": "stream",
     "text": [
      "[('minofday', 0.56826360203785142), ('dayofweek', 0.1000209373716259), ('avg_roll_7', 0.065863387802658671), ('avg_roll_14', 0.047653051312855098), ('week', 0.041514107058660439), ('avg_roll_21', 0.041309976681715592), ('avg_roll_366', 0.037849198733552532), ('avg_roll_28', 0.036007612710165046), ('month', 0.03557313836653616), ('year', 0.025944987924379138)]\n"
     ]
    }
   ],
   "source": [
    "print sorted(zip(im.X.columns, grid.best_estimator_.feature_importances_), key=lambda x: x[1])[::-1]"
   ]
  },
  {
   "cell_type": "markdown",
   "metadata": {},
   "source": [
    "### R2 is poor with only date features and rolling_means\n",
    "## Add lag averages"
   ]
  },
  {
   "cell_type": "code",
   "execution_count": 614,
   "metadata": {
    "collapsed": false
   },
   "outputs": [],
   "source": [
    "from BorderModel import IncrementalModel\n",
    "model2 = ExtraTreesRegressor(n_jobs=-1, n_estimators=96, bootstrap=True, oob_score=True)\n",
    "grid2 = GridSearchCV(model2, {})\n",
    "im2 = IncrementalModel(df_train, grid2)"
   ]
  },
  {
   "cell_type": "code",
   "execution_count": 615,
   "metadata": {
    "collapsed": true
   },
   "outputs": [],
   "source": [
    "from BorderModel import IncrementalModel\n",
    "yhat2 = im2.predict(X_test)\n",
    "\n",
    "yhat2 = yhat2[actuals.index]"
   ]
  },
  {
   "cell_type": "code",
   "execution_count": 616,
   "metadata": {
    "collapsed": false
   },
   "outputs": [
    {
     "name": "stdout",
     "output_type": "stream",
     "text": [
      "0.147222831424\n",
      "-0.0892025236631\n"
     ]
    }
   ],
   "source": [
    "print r2_score(actuals, baseline1)\n",
    "print r2_score(actuals, yhat2)"
   ]
  },
  {
   "cell_type": "code",
   "execution_count": 617,
   "metadata": {
    "collapsed": false
   },
   "outputs": [
    {
     "name": "stdout",
     "output_type": "stream",
     "text": [
      "[('minofday', 0.57139640968429561), ('avg_lag_1', 0.076705382241711653), ('dayofweek', 0.067535568457219211), ('avg_lag_7', 0.027545721797941885), ('avg_lag_6', 0.022398533155319218), ('week', 0.022335348011309139), ('avg_roll_7', 0.022050681172641386), ('avg_lag_2', 0.021686621801873602), ('avg_lag_5', 0.020271894366890118), ('avg_lag_4', 0.020249958201817925), ('avg_lag_3', 0.020234198157227226), ('avg_roll_366', 0.019999760717677666), ('month', 0.019851489876190658), ('avg_roll_14', 0.019159589759552894), ('avg_roll_21', 0.016230496013434854), ('year', 0.016182826775168573), ('avg_roll_28', 0.016165519809728583)]\n"
     ]
    }
   ],
   "source": [
    "print sorted(zip(im2.X.columns, grid2.best_estimator_.feature_importances_), key=lambda x: x[1])[::-1]"
   ]
  },
  {
   "cell_type": "code",
   "execution_count": 618,
   "metadata": {
    "collapsed": false
   },
   "outputs": [
    {
     "data": {
      "text/html": [
       "<div>\n",
       "<table border=\"1\" class=\"dataframe\">\n",
       "  <thead>\n",
       "    <tr style=\"text-align: right;\">\n",
       "      <th></th>\n",
       "      <th>year</th>\n",
       "      <th>month</th>\n",
       "      <th>week</th>\n",
       "      <th>dayofweek</th>\n",
       "      <th>minofday</th>\n",
       "      <th>avg_roll_7</th>\n",
       "      <th>avg_roll_14</th>\n",
       "      <th>avg_roll_21</th>\n",
       "      <th>avg_roll_28</th>\n",
       "      <th>avg_roll_366</th>\n",
       "      <th>avg_lag_1</th>\n",
       "      <th>avg_lag_2</th>\n",
       "      <th>avg_lag_3</th>\n",
       "      <th>avg_lag_4</th>\n",
       "      <th>avg_lag_5</th>\n",
       "      <th>avg_lag_6</th>\n",
       "      <th>avg_lag_7</th>\n",
       "    </tr>\n",
       "    <tr>\n",
       "      <th>date</th>\n",
       "      <th></th>\n",
       "      <th></th>\n",
       "      <th></th>\n",
       "      <th></th>\n",
       "      <th></th>\n",
       "      <th></th>\n",
       "      <th></th>\n",
       "      <th></th>\n",
       "      <th></th>\n",
       "      <th></th>\n",
       "      <th></th>\n",
       "      <th></th>\n",
       "      <th></th>\n",
       "      <th></th>\n",
       "      <th></th>\n",
       "      <th></th>\n",
       "      <th></th>\n",
       "    </tr>\n",
       "  </thead>\n",
       "  <tbody>\n",
       "    <tr>\n",
       "      <th>2014-12-31 21:30:00</th>\n",
       "      <td>2014</td>\n",
       "      <td>12</td>\n",
       "      <td>1</td>\n",
       "      <td>2</td>\n",
       "      <td>1290</td>\n",
       "      <td>15.799662</td>\n",
       "      <td>12.812575</td>\n",
       "      <td>11.166439</td>\n",
       "      <td>9.597144</td>\n",
       "      <td>10.375526</td>\n",
       "      <td>20.736286</td>\n",
       "      <td>22.156865</td>\n",
       "      <td>17.620147</td>\n",
       "      <td>21.439253</td>\n",
       "      <td>15.316553</td>\n",
       "      <td>7.748564</td>\n",
       "      <td>5.579969</td>\n",
       "    </tr>\n",
       "    <tr>\n",
       "      <th>2014-12-31 22:00:00</th>\n",
       "      <td>2014</td>\n",
       "      <td>12</td>\n",
       "      <td>1</td>\n",
       "      <td>2</td>\n",
       "      <td>1320</td>\n",
       "      <td>15.799662</td>\n",
       "      <td>12.812575</td>\n",
       "      <td>11.166439</td>\n",
       "      <td>9.597144</td>\n",
       "      <td>10.375526</td>\n",
       "      <td>20.736286</td>\n",
       "      <td>22.156865</td>\n",
       "      <td>17.620147</td>\n",
       "      <td>21.439253</td>\n",
       "      <td>15.316553</td>\n",
       "      <td>7.748564</td>\n",
       "      <td>5.579969</td>\n",
       "    </tr>\n",
       "    <tr>\n",
       "      <th>2014-12-31 22:30:00</th>\n",
       "      <td>2014</td>\n",
       "      <td>12</td>\n",
       "      <td>1</td>\n",
       "      <td>2</td>\n",
       "      <td>1350</td>\n",
       "      <td>15.799662</td>\n",
       "      <td>12.812575</td>\n",
       "      <td>11.166439</td>\n",
       "      <td>9.597144</td>\n",
       "      <td>10.375526</td>\n",
       "      <td>20.736286</td>\n",
       "      <td>22.156865</td>\n",
       "      <td>17.620147</td>\n",
       "      <td>21.439253</td>\n",
       "      <td>15.316553</td>\n",
       "      <td>7.748564</td>\n",
       "      <td>5.579969</td>\n",
       "    </tr>\n",
       "    <tr>\n",
       "      <th>2014-12-31 23:00:00</th>\n",
       "      <td>2014</td>\n",
       "      <td>12</td>\n",
       "      <td>1</td>\n",
       "      <td>2</td>\n",
       "      <td>1380</td>\n",
       "      <td>15.799662</td>\n",
       "      <td>12.812575</td>\n",
       "      <td>11.166439</td>\n",
       "      <td>9.597144</td>\n",
       "      <td>10.375526</td>\n",
       "      <td>20.736286</td>\n",
       "      <td>22.156865</td>\n",
       "      <td>17.620147</td>\n",
       "      <td>21.439253</td>\n",
       "      <td>15.316553</td>\n",
       "      <td>7.748564</td>\n",
       "      <td>5.579969</td>\n",
       "    </tr>\n",
       "    <tr>\n",
       "      <th>2014-12-31 23:30:00</th>\n",
       "      <td>2014</td>\n",
       "      <td>12</td>\n",
       "      <td>1</td>\n",
       "      <td>2</td>\n",
       "      <td>1410</td>\n",
       "      <td>15.799662</td>\n",
       "      <td>12.812575</td>\n",
       "      <td>11.166439</td>\n",
       "      <td>9.597144</td>\n",
       "      <td>10.375526</td>\n",
       "      <td>20.736286</td>\n",
       "      <td>22.156865</td>\n",
       "      <td>17.620147</td>\n",
       "      <td>21.439253</td>\n",
       "      <td>15.316553</td>\n",
       "      <td>7.748564</td>\n",
       "      <td>5.579969</td>\n",
       "    </tr>\n",
       "  </tbody>\n",
       "</table>\n",
       "</div>"
      ],
      "text/plain": [
       "                     year  month  week  dayofweek  minofday  avg_roll_7  \\\n",
       "date                                                                      \n",
       "2014-12-31 21:30:00  2014     12     1          2      1290   15.799662   \n",
       "2014-12-31 22:00:00  2014     12     1          2      1320   15.799662   \n",
       "2014-12-31 22:30:00  2014     12     1          2      1350   15.799662   \n",
       "2014-12-31 23:00:00  2014     12     1          2      1380   15.799662   \n",
       "2014-12-31 23:30:00  2014     12     1          2      1410   15.799662   \n",
       "\n",
       "                     avg_roll_14  avg_roll_21  avg_roll_28  avg_roll_366  \\\n",
       "date                                                                       \n",
       "2014-12-31 21:30:00    12.812575    11.166439     9.597144     10.375526   \n",
       "2014-12-31 22:00:00    12.812575    11.166439     9.597144     10.375526   \n",
       "2014-12-31 22:30:00    12.812575    11.166439     9.597144     10.375526   \n",
       "2014-12-31 23:00:00    12.812575    11.166439     9.597144     10.375526   \n",
       "2014-12-31 23:30:00    12.812575    11.166439     9.597144     10.375526   \n",
       "\n",
       "                     avg_lag_1  avg_lag_2  avg_lag_3  avg_lag_4  avg_lag_5  \\\n",
       "date                                                                         \n",
       "2014-12-31 21:30:00  20.736286  22.156865  17.620147  21.439253  15.316553   \n",
       "2014-12-31 22:00:00  20.736286  22.156865  17.620147  21.439253  15.316553   \n",
       "2014-12-31 22:30:00  20.736286  22.156865  17.620147  21.439253  15.316553   \n",
       "2014-12-31 23:00:00  20.736286  22.156865  17.620147  21.439253  15.316553   \n",
       "2014-12-31 23:30:00  20.736286  22.156865  17.620147  21.439253  15.316553   \n",
       "\n",
       "                     avg_lag_6  avg_lag_7  \n",
       "date                                       \n",
       "2014-12-31 21:30:00   7.748564   5.579969  \n",
       "2014-12-31 22:00:00   7.748564   5.579969  \n",
       "2014-12-31 22:30:00   7.748564   5.579969  \n",
       "2014-12-31 23:00:00   7.748564   5.579969  \n",
       "2014-12-31 23:30:00   7.748564   5.579969  "
      ]
     },
     "execution_count": 618,
     "metadata": {},
     "output_type": "execute_result"
    }
   ],
   "source": [
    "im2.X.tail()"
   ]
  },
  {
   "cell_type": "code",
   "execution_count": 619,
   "metadata": {
    "collapsed": false
   },
   "outputs": [
    {
     "data": {
      "image/png": "[encoded data removed]",
      "text/plain": [
       "<matplotlib.figure.Figure at 0x1179aba50>"
      ]
     },
     "metadata": {},
     "output_type": "display_data"
    }
   ],
   "source": [
    "start = dt.date(2015, 6, 1)\n",
    "end = dt.date(2015, 6, 15)\n",
    "\n",
    "plt.figure(figsize=(16,4))\n",
    "plt.plot(actuals[(actuals.index.date>=start) & (actuals.index.date<end)], label='actuals')\n",
    "plt.plot(baseline[(baseline.index.date>=start) & (baseline.index.date<end)], label='baseline')\n",
    "plt.plot(yhat2[(yhat2.index.date>=start) & (yhat2.index.date<end)], label='predictions')\n",
    "# plt.xlim([0,1000])\n",
    "plt.legend();"
   ]
  },
  {
   "cell_type": "code",
   "execution_count": 620,
   "metadata": {
    "collapsed": false
   },
   "outputs": [
    {
     "data": {
      "image/png": "[encoded data removed]",
      "text/plain": [
       "<matplotlib.figure.Figure at 0x10dd50890>"
      ]
     },
     "metadata": {},
     "output_type": "display_data"
    }
   ],
   "source": [
    "r2_byweek = []\n",
    "for week in range(1, 50):\n",
    "    r2_byweek.append(r2_score(actuals[actuals.index.week==week], yhat2[yhat2.index.week==week]))\n",
    "    \n",
    "plt.plot(r2_byweek);"
   ]
  },
  {
   "cell_type": "code",
   "execution_count": 697,
   "metadata": {
    "collapsed": false
   },
   "outputs": [
    {
     "data": {
      "image/png": "[encoded data removed]",
      "text/plain": [
       "<matplotlib.figure.Figure at 0x123aca6d0>"
      ]
     },
     "metadata": {},
     "output_type": "display_data"
    }
   ],
   "source": [
    "r2_bymonth = []\n",
    "for month in range(1, 12):\n",
    "    r2_bymonth.append(r2_score(actuals[actuals.index.month==month], yhat2[yhat2.index.month==month]))\n",
    "    \n",
    "plt.plot(r2_bymonth);"
   ]
  },
  {
   "cell_type": "markdown",
   "metadata": {},
   "source": [
    "### Lag averages does not improve model.  Note that avg_lag_1 is 2nd strongest feature\n",
    "## Try with all features"
   ]
  },
  {
   "cell_type": "code",
   "execution_count": 624,
   "metadata": {
    "collapsed": false
   },
   "outputs": [],
   "source": [
    "from BorderQuery import select_mungedata, select_features\n",
    "df_train = select_mungedata(2, 1, '2011-1-1', '2015-1-1')"
   ]
  },
  {
   "cell_type": "code",
   "execution_count": 651,
   "metadata": {
    "collapsed": true
   },
   "outputs": [],
   "source": [
    "X_test = select_features('2015-1-1', '2016-1-1')"
   ]
  },
  {
   "cell_type": "code",
   "execution_count": 666,
   "metadata": {
    "collapsed": false,
    "scrolled": false
   },
   "outputs": [],
   "source": [
    "from BorderModel import IncrementalModel\n",
    "model = ExtraTreesRegressor(n_jobs=-1, n_estimators=96, bootstrap=True, oob_score=True)\n",
    "grid = GridSearchCV(model, {})\n",
    "im3 = IncrementalModel(df_train, grid, categoricals=['event'])"
   ]
  },
  {
   "cell_type": "code",
   "execution_count": 667,
   "metadata": {
    "collapsed": false
   },
   "outputs": [],
   "source": [
    "yhat3 = im3.predict(X_test)"
   ]
  },
  {
   "cell_type": "code",
   "execution_count": 668,
   "metadata": {
    "collapsed": false
   },
   "outputs": [],
   "source": [
    "yhat3 = yhat3[actuals.index]"
   ]
  },
  {
   "cell_type": "code",
   "execution_count": 669,
   "metadata": {
    "collapsed": false
   },
   "outputs": [
    {
     "name": "stdout",
     "output_type": "stream",
     "text": [
      "0.147222831424\n",
      "-0.00890126901626\n"
     ]
    }
   ],
   "source": [
    "print r2_score(actuals, baseline1)\n",
    "print r2_score(actuals, yhat3)"
   ]
  },
  {
   "cell_type": "code",
   "execution_count": 670,
   "metadata": {
    "collapsed": false,
    "scrolled": true
   },
   "outputs": [
    {
     "name": "stdout",
     "output_type": "stream",
     "text": [
      "[   ('minofday', 0.56996189177492995),\n",
      "    ('dayofweek', 0.059602991904057351),\n",
      "    ('avg_lag_1', 0.053698825343636979),\n",
      "    ('avg_lag_7', 0.013745147160569149),\n",
      "    ('avg_roll_7', 0.01104345345722439),\n",
      "    ('avg_lag_6', 0.0083508712978132491),\n",
      "    ('avg_lag_2', 0.0078708411051088469),\n",
      "    ('avg_roll_366', 0.0076900947544932645),\n",
      "    ('avg_roll_14', 0.0074757948661214315),\n",
      "    ('avg_lag_5', 0.0068410688628135442),\n",
      "    ('event_goodfriday', 0.0066419954755253261),\n",
      "    ('year', 0.0065709909603534752),\n",
      "    ('week', 0.00639488148778216),\n",
      "    ('avg_lag_4', 0.0063374095780029263),\n",
      "    ('month', 0.0063279920859263998),\n",
      "    ('avg_roll_21', 0.0060533051918197538),\n",
      "    ('avg_lag_3', 0.0058955297048397795),\n",
      "    ('event_lag2_xmas', 0.0054342952843050608),\n",
      "    ('temp_min_m2', 0.0054245244593379696),\n",
      "    ('avg_roll_28', 0.005269201334296386),\n",
      "    ('wind_max', 0.0050718569499066685),\n",
      "    ('temp_min_m1', 0.0049745110448661005),\n",
      "    ('precip_p2', 0.0049265925691534731),\n",
      "    ('temp_mean_m2', 0.004752389479957965),\n",
      "    ('temp_min_p3', 0.0047202081606905651),\n",
      "    ('temp_min', 0.0047083002995713047),\n",
      "    ('precip_p1', 0.004634943331118275),\n",
      "    ('precip_m2', 0.0044475149364978962),\n",
      "    ('precip_p3', 0.0044046359075908233),\n",
      "    ('temp_min_p1', 0.0043808977563220995),\n",
      "    ('temp_max_m2', 0.0043274061176255428),\n",
      "    ('precip_m1', 0.0043071959292428821),\n",
      "    ('temp_min_p2', 0.0041787107935985493),\n",
      "    ('precip', 0.0041661194877113325),\n",
      "    ('temp_mean_m1', 0.0041342337990756808),\n",
      "    ('temp_max_p3', 0.0040598260235428655),\n",
      "    ('temp_max_p2', 0.0040421451327088435),\n",
      "    ('temp_max_p1', 0.0040338023458887226),\n",
      "    ('temp_mean', 0.0039060275922027233),\n",
      "    ('temp_max', 0.0038769012757032006),\n",
      "    ('rain_m1', 0.0038146597366199796),\n",
      "    ('rain_p3', 0.003770337014790754),\n",
      "    ('temp_max_m1', 0.0037266357214032057),\n",
      "    ('temp_mean_p3', 0.0036448890708650609),\n",
      "    ('temp_mean_p2', 0.0036391691144061259),\n",
      "    ('rain', 0.0035750268650206148),\n",
      "    ('temp_mean_p1', 0.0035517493676762457),\n",
      "    ('rain_m2', 0.0034982050683093056),\n",
      "    ('rain_p1', 0.0034510132141057047),\n",
      "    ('rain_p2', 0.0033682413888576541),\n",
      "    ('fog', 0.0032808743299151677),\n",
      "    ('event_lead1_goodfriday', 0.0029186858035359711),\n",
      "    ('event_lead2_civic', 0.0021924315844952563),\n",
      "    ('event_president', 0.0019514476156260944),\n",
      "    ('event_lag1_newyears', 0.0019457385208822527),\n",
      "    ('event_lead2_labor', 0.0019451053165694978),\n",
      "    ('event_lag1_xmas', 0.0017334187289807347),\n",
      "    ('event_lead2_newyears', 0.0017248077711909723),\n",
      "    ('event_memorial', 0.0015263641961699107),\n",
      "    ('event_lead1_xmas', 0.0015241999564754138),\n",
      "    ('snow_p2', 0.0014475887133260871),\n",
      "    ('event_lag1_thanksgiving', 0.0014340351461151323),\n",
      "    ('snow', 0.0012954425819154678),\n",
      "    ('event_lead1_newyears', 0.0011492777640765407),\n",
      "    ('event_lead3_ca_thanksgiving', 0.0011191333945736943),\n",
      "    ('event_lead2_ca_thanksgiving', 0.0010835778961582252),\n",
      "    ('event_mlk', 0.0010381400093233439),\n",
      "    ('event_lead2_memorial', 0.001004705904569994),\n",
      "    ('snow_p3', 0.00095650815460662916),\n",
      "    ('event_lead4_president', 0.00095582223567959384),\n",
      "    ('snow_p1', 0.00089614218173048618),\n",
      "    ('event_lag4_president', 0.00087043857108674285),\n",
      "    ('event_newyears', 0.0007762765644075822),\n",
      "    ('event_thanksgiving', 0.00074704281250350833),\n",
      "    ('event_lag3_canada', 0.00073859310156176503),\n",
      "    ('snow_m1', 0.00071680601248217031),\n",
      "    ('event_independence', 0.00071362128987588816),\n",
      "    ('event_lag3_independence', 0.00071104683275769473),\n",
      "    ('event_lead3_veterans', 0.00070922767167499827),\n",
      "    ('event_lead1_president', 0.00069792505759817467),\n",
      "    ('event_lead2_victoria', 0.00067557799917609181),\n",
      "    ('event_lead4_civic', 0.00067278674487373645),\n",
      "    ('event_lead2_canada', 0.00065590090738240538),\n",
      "    ('event_lead2_goodfriday', 0.00062460633812537274),\n",
      "    ('event_lead4_veterans', 0.00061413320781933129),\n",
      "    ('event_lead3_independence', 0.00059836750878416805),\n",
      "    ('event_lead3_memorial', 0.00059735742110463247),\n",
      "    ('event_lead2_veterans', 0.00059607787948594618),\n",
      "    ('event_lag4_victoria', 0.00057517805340724084),\n",
      "    ('event_lag2_thanksgiving', 0.00055733414451180632),\n",
      "    ('event_lead3_president', 0.00055603655005134094),\n",
      "    ('event_xmas', 0.00055527880540377523),\n",
      "    ('event_lead3_canada', 0.00055405956542308842),\n",
      "    ('event_lead3_newyears', 0.00054352219217411338),\n",
      "    ('event_lead2_xmas', 0.00053478062846648317),\n",
      "    ('event_lead3_civic', 0.00050225715959383791),\n",
      "    ('snow_m2', 0.00049764328197565645),\n",
      "    ('event_lead3_xmas', 0.00049236824055484197),\n",
      "    ('event_lead1_civic', 0.000489096278534697),\n",
      "    ('event_lead4_independence', 0.00048029607901435995),\n",
      "    ('event_lead1_memorial', 0.00046798954738775511),\n",
      "    ('event_lead3_labor', 0.00045307464655326224),\n",
      "    ('event_lag4_xmas', 0.00045274571393433966),\n",
      "    ('event_canada', 0.00043925569659442461),\n",
      "    ('viz_max', 0.00040262753767528539),\n",
      "    ('event_lag3_thanksgiving', 0.00040254129727457011),\n",
      "    ('event_lead4_canada', 0.00039523669028782834),\n",
      "    ('event_lead4_ca_thanksgiving', 0.00038120806079403291),\n",
      "    ('event_lead1_canada', 0.00037622127916697094),\n",
      "    ('event_lead1_victoria', 0.00036518795504918747),\n",
      "    ('event_lead3_goodfriday', 0.00034639289256870525),\n",
      "    ('event_lead1_ca_thanksgiving', 0.00033793332773553701),\n",
      "    ('thunderstorm_p3', 0.00030874535887810212),\n",
      "    ('event_lag1_labor', 0.00030622147320378976),\n",
      "    ('thunderstorm_m2', 0.00030271155582293721),\n",
      "    ('event_labor', 0.00029663746674472407),\n",
      "    ('thunderstorm_p2', 0.00029067185901830722),\n",
      "    ('event_lag3_president', 0.00028842266354282814),\n",
      "    ('thunderstorm_p1', 0.00028754620004889077),\n",
      "    ('event_lag4_civic', 0.00028579134047614806),\n",
      "    ('event_lead4_memorial', 0.00027990904658182602),\n",
      "    ('event_lead3_mlk', 0.00027095642992900915),\n",
      "    ('event_lag3_victoria', 0.00026875615391970574),\n",
      "    ('event_lag2_independence', 0.00026656460683819325),\n",
      "    ('event_lag1_goodfriday', 0.0002638295913404615),\n",
      "    ('event_lag1_independence', 0.00025596510612956302),\n",
      "    ('event_lag2_goodfriday', 0.00025151167163785752),\n",
      "    ('event_lag4_ca_thanksgiving', 0.0002507120356103416),\n",
      "    ('event_veterans', 0.00025037137662051591),\n",
      "    ('event_lag3_newyears', 0.00024849368572916862),\n",
      "    ('event_lead4_xmas', 0.00024070357791653794),\n",
      "    ('event_lead1_thanksgiving', 0.00023249327666912672),\n",
      "    ('event_lead4_newyears', 0.00023210924088942178),\n",
      "    ('event_lead4_labor', 0.00022531394910536262),\n",
      "    ('event_ca_thanksgiving', 0.00022191720157386025),\n",
      "    ('event_lag4_canada', 0.00022122209036465457),\n",
      "    ('event_lag1_mlk', 0.00021772737358596709),\n",
      "    ('event_lag4_independence', 0.0002069283022440067),\n",
      "    ('event_halloween', 0.00020261526224968815),\n",
      "    ('event_lead1_veterans', 0.00020123318469929654),\n",
      "    ('event_lag3_xmas', 0.00019892798582966278),\n",
      "    ('thunderstorm', 0.00019839997616678061),\n",
      "    ('event_lag3_civic', 0.00019801923578407455),\n",
      "    ('event_lag2_labor', 0.00019229893560518204),\n",
      "    ('event_lag3_halloween', 0.00019165490028130857),\n",
      "    ('event_lead2_president', 0.0001874604603595273),\n",
      "    ('event_lag1_civic', 0.00018373925081523125),\n",
      "    ('event_lag1_memorial', 0.00018304833813172355),\n",
      "    ('event_lead1_labor', 0.00017259012027003116),\n",
      "    ('event_lead4_goodfriday', 0.00016387100113369232),\n",
      "    ('event_lead1_halloween', 0.00016366542638125868),\n",
      "    ('event_lag1_canada', 0.00016313173269518768),\n",
      "    ('event_lag1_president', 0.00016155854363923819),\n",
      "    ('event_lag2_civic', 0.00015855491288124048),\n",
      "    ('event_lag1_ca_thanksgiving', 0.00015048290373143109),\n",
      "    ('event_civic', 0.00015031079826051207),\n",
      "    ('thunderstorm_m1', 0.00014724205035095023),\n",
      "    ('event_lead4_thanksgiving', 0.00014258259633379252),\n",
      "    ('event_lag1_halloween', 0.00013316356887297002),\n",
      "    ('event_lag2_newyears', 0.00012444924341137065),\n",
      "    ('event_lead1_independence', 0.0001202931325769298),\n",
      "    ('event_lead2_mlk', 0.00011839359211204733),\n",
      "    ('event_lag1_victoria', 0.00011750679116759052),\n",
      "    ('event_lead2_independence', 0.00011514341911720434),\n",
      "    ('event_lag4_memorial', 0.00011321450797372469),\n",
      "    ('event_victoria', 9.8707397783980738e-05),\n",
      "    ('event_lag1_veterans', 9.8187204193167542e-05),\n",
      "    ('event_lag2_canada', 9.6754442972174826e-05),\n",
      "    ('event_lag4_labor', 9.4558976916552277e-05),\n",
      "    ('event_lead3_halloween', 8.8718266706074109e-05),\n",
      "    ('event_lag4_newyears', 8.4166086728125583e-05),\n",
      "    ('event_lag4_goodfriday', 7.8749871729246596e-05),\n",
      "    ('event_lag2_ca_thanksgiving', 7.8445115382973058e-05),\n",
      "    ('event_lag2_victoria', 7.8066129327174411e-05),\n",
      "    ('event_lead3_thanksgiving', 7.3668345749069539e-05),\n",
      "    ('event_lag2_halloween', 7.2071810616412436e-05),\n",
      "    ('event_lead1_mothers', 6.811115620671076e-05),\n",
      "    ('event_lead3_victoria', 6.7358275423024192e-05),\n",
      "    ('event_lead4_halloween', 6.628738118513452e-05),\n",
      "    ('event_lag2_mlk', 6.4098792229371225e-05),\n",
      "    ('event_lag2_president', 5.9532203767929361e-05),\n",
      "    ('event_lag3_labor', 5.43966607913408e-05),\n",
      "    ('event_lag4_mlk', 5.2441432520432557e-05),\n",
      "    ('event_lead4_victoria', 5.2398098500539101e-05),\n",
      "    ('event_lag4_halloween', 5.2049693211665055e-05),\n",
      "    ('event_lag3_ca_thanksgiving', 4.93733916176813e-05),\n",
      "    ('event_lag4_mothers', 4.8952465298120049e-05),\n",
      "    ('event_lag3_memorial', 4.5704496013973115e-05),\n",
      "    ('event_lag2_memorial', 4.5069633685296082e-05),\n",
      "    ('event_lead2_mothers', 4.3990917548195447e-05),\n",
      "    ('event_lag4_veterans', 4.0025020966736299e-05),\n",
      "    ('event_lag3_goodfriday', 3.7719023150296122e-05),\n",
      "    ('event_lag2_veterans', 3.7197555006380924e-05),\n",
      "    ('event_lag3_mlk', 3.6390768199760682e-05),\n",
      "    ('event_lead1_mlk', 3.625176398146088e-05),\n",
      "    ('event_lead4_mothers', 3.4311012107946316e-05),\n",
      "    ('event_mothers', 3.2416942191969412e-05),\n",
      "    ('event_lead2_thanksgiving', 3.2325249471521647e-05),\n",
      "    ('event_lag4_thanksgiving', 2.5354096956902361e-05),\n",
      "    ('event_lead3_mothers', 2.4553607971827786e-05),\n",
      "    ('event_lag3_mothers', 2.1068587296111251e-05),\n",
      "    ('event_lead4_mlk', 2.0776379400440368e-05),\n",
      "    ('event_lag2_mothers', 1.9526753127356817e-05),\n",
      "    ('event_lag3_veterans', 1.5452611095700251e-05),\n",
      "    ('event_lag1_mothers', 1.4343570674546005e-05),\n",
      "    ('event_lead2_halloween', 1.1893372306454562e-05),\n",
      "    ('van_lead3', 0.0),\n",
      "    ('van_lag3', 0.0),\n",
      "    ('van_lead2', 0.0),\n",
      "    ('van_lag2', 0.0),\n",
      "    ('van_lead1', 0.0),\n",
      "    ('van_lag1', 0.0),\n",
      "    ('van', 0.0),\n",
      "    ('sea_lead3', 0.0),\n",
      "    ('sea_lag3', 0.0),\n",
      "    ('sea_lead2', 0.0),\n",
      "    ('sea_lag2', 0.0),\n",
      "    ('sea_lead1', 0.0),\n",
      "    ('sea_lag1', 0.0),\n",
      "    ('sea', 0.0)]\n"
     ]
    }
   ],
   "source": [
    "pp = pprint.PrettyPrinter(indent=4)\n",
    "\n",
    "pp.pprint(sorted(zip(im3.X.columns, grid.best_estimator_.feature_importances_), key=lambda x: x[1])[::-1])"
   ]
  },
  {
   "cell_type": "markdown",
   "metadata": {},
   "source": [
    "### Other features do not improve model.  Average features override holiday features.\n",
    "* Is the problem due to how anomalous 2015 Peace Arch data is?\n",
    "* Can 2014 be better predicted?\n",
    "* How does model perform if predictions are made just 1 week at a time?"
   ]
  },
  {
   "cell_type": "markdown",
   "metadata": {},
   "source": [
    "## Test 2014"
   ]
  },
  {
   "cell_type": "code",
   "execution_count": 672,
   "metadata": {
    "collapsed": true
   },
   "outputs": [],
   "source": [
    "from BorderQuery import select_mungedata, select_features\n",
    "df_train = select_mungedata(2, 1, '2011-1-1', '2014-1-1')\n",
    "X_test = select_features('2014-1-1', '2015-1-1')\n",
    "model = ExtraTreesRegressor(n_jobs=-1, n_estimators=96, bootstrap=True, oob_score=True)\n",
    "grid = GridSearchCV(model, {})\n",
    "im4 = IncrementalModel(df_train, grid, categoricals=['event'])"
   ]
  },
  {
   "cell_type": "code",
   "execution_count": null,
   "metadata": {
    "collapsed": true
   },
   "outputs": [],
   "source": [
    "yhat4 = im4.predict(X_test)"
   ]
  },
  {
   "cell_type": "code",
   "execution_count": 676,
   "metadata": {
    "collapsed": false
   },
   "outputs": [
    {
     "data": {
      "text/plain": [
       "date\n",
       "2014-01-01 00:00:00    0.375251\n",
       "2014-01-01 00:30:00    0.128979\n",
       "2014-01-01 01:00:00    0.176562\n",
       "2014-01-01 01:30:00    0.172873\n",
       "2014-01-01 02:00:00    0.072466\n",
       "dtype: float64"
      ]
     },
     "execution_count": 676,
     "metadata": {},
     "output_type": "execute_result"
    }
   ],
   "source": [
    "yhat4.head()"
   ]
  },
  {
   "cell_type": "code",
   "execution_count": 677,
   "metadata": {
    "collapsed": true
   },
   "outputs": [],
   "source": [
    "actuals4 = select_mungedata_simple(2, 1, '2014-1-1', '2014-12-1')\n",
    "actuals4 = actuals4.set_index('date')\n",
    "actuals4 = actuals4[(actuals4.index.minute == 0) | (actuals4.index.minute==30)].waittime"
   ]
  },
  {
   "cell_type": "code",
   "execution_count": 682,
   "metadata": {
    "collapsed": false
   },
   "outputs": [
    {
     "ename": "AttributeError",
     "evalue": "'Index' object has no attribute 'minute'",
     "output_type": "error",
     "traceback": [
      "\u001b[0;31m---------------------------------------------------------------------------\u001b[0m",
      "\u001b[0;31mAttributeError\u001b[0m                            Traceback (most recent call last)",
      "\u001b[0;32m<ipython-input-682-64cfbf0cc748>\u001b[0m in \u001b[0;36m<module>\u001b[0;34m()\u001b[0m\n\u001b[1;32m      1\u001b[0m \u001b[0mbaseline4\u001b[0m \u001b[0;34m=\u001b[0m \u001b[0mselect_predictions\u001b[0m\u001b[0;34m(\u001b[0m\u001b[0;36m2\u001b[0m\u001b[0;34m,\u001b[0m \u001b[0;34m'b2014'\u001b[0m\u001b[0;34m,\u001b[0m \u001b[0;36m1\u001b[0m\u001b[0;34m,\u001b[0m \u001b[0;34m'2014-1-1'\u001b[0m\u001b[0;34m,\u001b[0m \u001b[0;34m'2014-12-1'\u001b[0m\u001b[0;34m)\u001b[0m\u001b[0;34m\u001b[0m\u001b[0m\n\u001b[0;32m----> 2\u001b[0;31m \u001b[0mbaseline4\u001b[0m \u001b[0;34m=\u001b[0m \u001b[0mbaseline4\u001b[0m\u001b[0;34m[\u001b[0m\u001b[0;34m(\u001b[0m\u001b[0mbaseline4\u001b[0m\u001b[0;34m.\u001b[0m\u001b[0mindex\u001b[0m\u001b[0;34m.\u001b[0m\u001b[0mminute\u001b[0m \u001b[0;34m==\u001b[0m \u001b[0;36m0\u001b[0m\u001b[0;34m)\u001b[0m \u001b[0;34m|\u001b[0m \u001b[0;34m(\u001b[0m\u001b[0mbaseline4\u001b[0m\u001b[0;34m.\u001b[0m\u001b[0mindex\u001b[0m\u001b[0;34m.\u001b[0m\u001b[0mminute\u001b[0m\u001b[0;34m==\u001b[0m\u001b[0;36m30\u001b[0m\u001b[0;34m)\u001b[0m\u001b[0;34m]\u001b[0m\u001b[0;34m\u001b[0m\u001b[0m\n\u001b[0m\u001b[1;32m      3\u001b[0m \u001b[0mbaseline4_\u001b[0m \u001b[0;34m=\u001b[0m \u001b[0mbaseline4\u001b[0m\u001b[0;34m.\u001b[0m\u001b[0mloc\u001b[0m\u001b[0;34m[\u001b[0m\u001b[0mactuals\u001b[0m\u001b[0;34m.\u001b[0m\u001b[0mindex\u001b[0m\u001b[0;34m]\u001b[0m\u001b[0;34m\u001b[0m\u001b[0m\n",
      "\u001b[0;31mAttributeError\u001b[0m: 'Index' object has no attribute 'minute'"
     ]
    }
   ],
   "source": [
    "baseline4 = select_predictions(2, 'b2014', 1, '2014-1-1', '2014-12-1')\n",
    "baseline4 = baseline4[(baseline4.index.minute == 0) | (baseline4.index.minute==30)]\n",
    "baseline4_ = baseline4.loc[actuals.index]"
   ]
  },
  {
   "cell_type": "code",
   "execution_count": 683,
   "metadata": {
    "collapsed": false
   },
   "outputs": [
    {
     "name": "stdout",
     "output_type": "stream",
     "text": [
      "0.56317120945\n"
     ]
    }
   ],
   "source": [
    "yhat4_ = yhat4[actuals4.index]\n",
    "# print r2_score(actuals4, baseline4_)\n",
    "print r2_score(actuals4, yhat4_)"
   ]
  },
  {
   "cell_type": "markdown",
   "metadata": {},
   "source": [
    "### Not as poor as 2015 prediction, but no better than baseline (.563 vs .569) whereas model without averages did better than baseline (.619)"
   ]
  },
  {
   "cell_type": "code",
   "execution_count": 695,
   "metadata": {
    "collapsed": false
   },
   "outputs": [
    {
     "data": {
      "image/png": "[encoded data removed]",
      "text/plain": [
       "<matplotlib.figure.Figure at 0x120f75c90>"
      ]
     },
     "metadata": {},
     "output_type": "display_data"
    }
   ],
   "source": [
    "r2_byweek = []\n",
    "for week in range(1, 49):\n",
    "    r2_byweek.append(r2_score(actuals4[actuals4.index.week==week], yhat4_[yhat4_.index.week==week]))\n",
    "    \n",
    "plt.plot(r2_byweek);"
   ]
  },
  {
   "cell_type": "code",
   "execution_count": 696,
   "metadata": {
    "collapsed": false
   },
   "outputs": [
    {
     "data": {
      "image/png": "[encoded data removed]",
      "text/plain": [
       "<matplotlib.figure.Figure at 0x120f75a90>"
      ]
     },
     "metadata": {},
     "output_type": "display_data"
    }
   ],
   "source": [
    "r2_bymonth = []\n",
    "for month in range(1, 12):\n",
    "    r2_bymonth.append(r2_score(actuals4[actuals4.index.month==month], yhat4_[yhat4_.index.month==month]))\n",
    "    \n",
    "plt.plot(r2_bymonth);"
   ]
  },
  {
   "cell_type": "code",
   "execution_count": 698,
   "metadata": {
    "collapsed": false
   },
   "outputs": [
    {
     "name": "stdout",
     "output_type": "stream",
     "text": [
      "[   ('minofday', 0.5808019136282313),\n",
      "    ('avg_lag_1', 0.055933033161222084),\n",
      "    ('dayofweek', 0.052380534541095584),\n",
      "    ('avg_lag_7', 0.013060951587348402),\n",
      "    ('avg_roll_7', 0.009236909416893849),\n",
      "    ('avg_roll_14', 0.0078450701822688103),\n",
      "    ('avg_lag_6', 0.0073261043566726957),\n",
      "    ('week', 0.0068953273745321515),\n",
      "    ('year', 0.0067748357411662836),\n",
      "    ('avg_lag_2', 0.0063749277668712695),\n",
      "    ('month', 0.0062084375493074795),\n",
      "    ('event_lag2_xmas', 0.0061746531821116656),\n",
      "    ('avg_lag_5', 0.0060177632308914307),\n",
      "    ('avg_lag_4', 0.0059035367364327915),\n",
      "    ('wind_max', 0.0053425838161085711),\n",
      "    ('avg_roll_366', 0.0053265890870216439),\n",
      "    ('temp_min', 0.0053077650213122539),\n",
      "    ('avg_lag_3', 0.0052798463786897171),\n",
      "    ('avg_roll_28', 0.0052433107337012327),\n",
      "    ('avg_roll_21', 0.0052179324436162113),\n",
      "    ('temp_min_m2', 0.0049310932244178074),\n",
      "    ('temp_mean_m2', 0.0048987560012091636),\n",
      "    ('event_goodfriday', 0.0046743340484948709),\n",
      "    ('precip_m2', 0.0046621684228555903),\n",
      "    ('temp_min_p1', 0.0044541172592424856),\n",
      "    ('precip_p2', 0.0044246935207387338),\n",
      "    ('temp_min_m1', 0.0043637302444019602),\n",
      "    ('temp_max_p1', 0.0043611614671654657),\n",
      "    ('precip_p3', 0.0042972693238476018),\n",
      "    ('temp_min_p3', 0.0042672958222024536),\n",
      "    ('temp_max_m2', 0.0041985100381759415),\n",
      "    ('precip_p1', 0.0041882206633614841),\n",
      "    ('precip', 0.004084473566589474),\n",
      "    ('temp_max_p2', 0.0040586506861926179),\n",
      "    ('temp_mean_p1', 0.0039769280415449925),\n",
      "    ('temp_max_p3', 0.0039566219473356878),\n",
      "    ('temp_mean_p3', 0.0039563234265798204),\n",
      "    ('precip_m1', 0.0038812950091936236),\n",
      "    ('temp_min_p2', 0.0038719441102905497),\n",
      "    ('temp_mean_m1', 0.0038247277419755869),\n",
      "    ('event_veterans', 0.0036784938751494613),\n",
      "    ('rain_p3', 0.0036729593067066188),\n",
      "    ('temp_max_m1', 0.0035837799782316277),\n",
      "    ('fog', 0.0034730910651090204),\n",
      "    ('temp_mean_p2', 0.0034726049151677738),\n",
      "    ('temp_max', 0.003456011701541637),\n",
      "    ('temp_mean', 0.0034300436451267361),\n",
      "    ('rain_m2', 0.0034207005284471567),\n",
      "    ('rain', 0.0034123094742265683),\n",
      "    ('rain_p1', 0.0034039855554763728),\n",
      "    ('rain_m1', 0.0032992814875344458),\n",
      "    ('rain_p2', 0.0029717264414194518),\n",
      "    ('event_lead1_goodfriday', 0.0029340448693455624),\n",
      "    ('snow_p2', 0.002154589336210553),\n",
      "    ('event_lead2_civic', 0.0019008990378131842),\n",
      "    ('event_lead1_xmas', 0.0017982406296397082),\n",
      "    ('event_lead2_labor', 0.0017839227829464881),\n",
      "    ('event_lag1_xmas', 0.0017710606289340555),\n",
      "    ('event_lead3_ca_thanksgiving', 0.0017089002038047942),\n",
      "    ('event_lead1_newyears', 0.0016064424397821781),\n",
      "    ('event_lag1_thanksgiving', 0.0015210663080557454),\n",
      "    ('snow', 0.0014762244207067578),\n",
      "    ('event_president', 0.0013424468033667251),\n",
      "    ('event_lead2_ca_thanksgiving', 0.001304619272041091),\n",
      "    ('event_lead2_newyears', 0.0012935069728781362),\n",
      "    ('event_thanksgiving', 0.0012852952591813542),\n",
      "    ('event_lead1_veterans', 0.0012791179880833894),\n",
      "    ('event_lag1_newyears', 0.0012666611598159646),\n",
      "    ('event_memorial', 0.0011439759055538172),\n",
      "    ('snow_p3', 0.0010881338274108538),\n",
      "    ('snow_p1', 0.0010864712876957631),\n",
      "    ('event_lag2_thanksgiving', 0.0010581730498143715),\n",
      "    ('event_lead2_veterans', 0.0010143939741071738),\n",
      "    ('event_lag4_victoria', 0.00094420971186633292),\n",
      "    ('event_lead3_memorial', 0.00092549373943825704),\n",
      "    ('event_lead2_memorial', 0.00091057516467905712),\n",
      "    ('event_lead3_veterans', 0.00084903607727837311),\n",
      "    ('event_lead2_victoria', 0.00084845396342509468),\n",
      "    ('event_lead2_xmas', 0.00082758828511180665),\n",
      "    ('event_lead4_president', 0.00082386094126775356),\n",
      "    ('event_lag3_independence', 0.00081138344459715601),\n",
      "    ('snow_m1', 0.00079482220871347471),\n",
      "    ('event_newyears', 0.00076055916445677931),\n",
      "    ('event_lead4_halloween', 0.00073552949141756068),\n",
      "    ('event_xmas', 0.00070576045119920088),\n",
      "    ('event_lead3_civic', 0.0006975241321164785),\n",
      "    ('event_lead2_goodfriday', 0.00068299692294413784),\n",
      "    ('event_halloween', 0.00067593567804856457),\n",
      "    ('snow_m2', 0.00067090256648144576),\n",
      "    ('event_lead4_civic', 0.00066996640058182783),\n",
      "    ('event_lead3_president', 0.00066169581358390013),\n",
      "    ('event_lead1_civic', 0.0006489847411608442),\n",
      "    ('event_lead3_xmas', 0.00064773806499339307),\n",
      "    ('event_lag4_ca_thanksgiving', 0.00060376701730050137),\n",
      "    ('event_lead2_canada', 0.00053166236547405143),\n",
      "    ('event_lead4_xmas', 0.00049944707674064702),\n",
      "    ('thunderstorm_p1', 0.00048777943765715426),\n",
      "    ('event_lead1_canada', 0.00047600296858290903),\n",
      "    ('event_lag3_thanksgiving', 0.00045567909703995074),\n",
      "    ('event_lead3_mlk', 0.00045327680638513197),\n",
      "    ('event_lead4_ca_thanksgiving', 0.00045033410826333871),\n",
      "    ('event_lead4_independence', 0.00044066716168406718),\n",
      "    ('event_lag2_goodfriday', 0.00043296349484313036),\n",
      "    ('event_lag4_thanksgiving', 0.00043251580486901054),\n",
      "    ('event_lag3_halloween', 0.00041104080865254428),\n",
      "    ('event_lead1_president', 0.00041051694830339749),\n",
      "    ('thunderstorm_p3', 0.00040460970399573383),\n",
      "    ('event_lag4_memorial', 0.00039862205536446795),\n",
      "    ('event_canada', 0.00038495393149791526),\n",
      "    ('event_lead1_ca_thanksgiving', 0.00038427773748773753),\n",
      "    ('viz_max', 0.000379539244363285),\n",
      "    ('event_lead3_victoria', 0.00037351076791494113),\n",
      "    ('event_lag3_president', 0.00036733434094529427),\n",
      "    ('event_independence', 0.00036622715053448261),\n",
      "    ('thunderstorm_m2', 0.00035454973246729603),\n",
      "    ('event_lag2_independence', 0.00034729358688901485),\n",
      "    ('event_lead1_victoria', 0.00034429084427404664),\n",
      "    ('event_lead3_goodfriday', 0.0003221408759537163),\n",
      "    ('event_lead1_mothers', 0.00030758664418037798),\n",
      "    ('event_lead4_memorial', 0.0002992656874773705),\n",
      "    ('event_lead2_president', 0.00029427376864097564),\n",
      "    ('thunderstorm_p2', 0.00028731882128980266),\n",
      "    ('event_lead1_memorial', 0.00027713421261235503),\n",
      "    ('event_lag4_president', 0.00027710907130144358),\n",
      "    ('event_lead3_independence', 0.00027593622153113069),\n",
      "    ('event_lag3_victoria', 0.00027513542599925408),\n",
      "    ('event_lag3_canada', 0.00027264040037852861),\n",
      "    ('event_lead4_goodfriday', 0.00027215412856785285),\n",
      "    ('event_lag4_civic', 0.00026475170063146661),\n",
      "    ('event_lead4_veterans', 0.00026403305865232648),\n",
      "    ('event_lag3_mothers', 0.00026402439072834933),\n",
      "    ('event_lead3_labor', 0.00025542846335017066),\n",
      "    ('event_lead4_newyears', 0.00025001274827030046),\n",
      "    ('event_lead3_halloween', 0.0002451907320606789),\n",
      "    ('event_lead3_newyears', 0.00024155601199604132),\n",
      "    ('event_lag4_independence', 0.00023264285747171364),\n",
      "    ('event_lag2_veterans', 0.00022892154711415052),\n",
      "    ('event_mlk', 0.00022858864380422082),\n",
      "    ('event_lag3_civic', 0.00022851881074540208),\n",
      "    ('event_lag1_civic', 0.00022567767303074084),\n",
      "    ('event_lag4_xmas', 0.00022352059303141017),\n",
      "    ('event_lead4_labor', 0.00022337329177551991),\n",
      "    ('event_lag2_labor', 0.00022007735923144372),\n",
      "    ('event_lead2_mothers', 0.00021877625112711323),\n",
      "    ('thunderstorm_m1', 0.00021627410035502236),\n",
      "    ('thunderstorm', 0.00021094445607801793),\n",
      "    ('event_lag3_xmas', 0.00020895226498872605),\n",
      "    ('event_lag1_goodfriday', 0.00020871578579219203),\n",
      "    ('event_lag4_halloween', 0.0002060687482604558),\n",
      "    ('event_lag1_veterans', 0.00019195830924584217),\n",
      "    ('event_civic', 0.00019081049863501603),\n",
      "    ('event_lead1_thanksgiving', 0.00018271605036436131),\n",
      "    ('event_lag1_ca_thanksgiving', 0.00018175256562670997),\n",
      "    ('event_lag1_president', 0.00017945199241857206),\n",
      "    ('event_ca_thanksgiving', 0.0001715697486828824),\n",
      "    ('event_lag2_halloween', 0.00017069005883826473),\n",
      "    ('event_labor', 0.00015746865560713343),\n",
      "    ('event_lag2_civic', 0.00015651455595641053),\n",
      "    ('event_lead1_labor', 0.00015059673515169852),\n",
      "    ('event_lead4_victoria', 0.00014799864808058574),\n",
      "    ('event_lag1_canada', 0.00014442870503054734),\n",
      "    ('event_lead1_independence', 0.0001424564604070535),\n",
      "    ('event_lag4_mothers', 0.00014197182142993979),\n",
      "    ('event_lead2_independence', 0.00014092863985633287),\n",
      "    ('event_lead1_halloween', 0.00013618904111230266),\n",
      "    ('event_lag3_newyears', 0.00013558140510473075),\n",
      "    ('event_lag1_labor', 0.00012794726842340319),\n",
      "    ('event_lead4_canada', 0.00012722886245371379),\n",
      "    ('event_lead2_halloween', 0.00012705141907882127),\n",
      "    ('event_lead4_thanksgiving', 0.00011489072745497421),\n",
      "    ('event_lead3_canada', 0.00011382469339546001),\n",
      "    ('event_lag4_veterans', 0.00011115267089208093),\n",
      "    ('event_mothers', 0.00010752899390426743),\n",
      "    ('event_lag3_veterans', 0.00010721930201399228),\n",
      "    ('event_lead3_thanksgiving', 0.00010415877956514227),\n",
      "    ('event_lag1_mothers', 0.00010072993826183825),\n",
      "    ('event_lead2_thanksgiving', 9.8855869249598734e-05),\n",
      "    ('event_lag1_victoria', 9.7293252587672449e-05),\n",
      "    ('event_lag4_labor', 9.1884661004395618e-05),\n",
      "    ('event_lag3_memorial', 8.6898509473059776e-05),\n",
      "    ('event_lag2_canada', 8.4533894162324124e-05),\n",
      "    ('event_lag2_president', 7.8328318723898971e-05),\n",
      "    ('event_lag1_memorial', 7.8134878579770372e-05),\n",
      "    ('event_lag4_newyears', 7.5856580629312141e-05),\n",
      "    ('event_lag2_ca_thanksgiving', 7.3656024404816737e-05),\n",
      "    ('event_lag2_victoria', 6.7766964741193916e-05),\n",
      "    ('event_lag4_canada', 6.5871219519443008e-05),\n",
      "    ('event_lag2_newyears', 6.5162521276113878e-05),\n",
      "    ('event_lag2_memorial', 6.3695742433309254e-05),\n",
      "    ('event_lag3_ca_thanksgiving', 5.2518154383673638e-05),\n",
      "    ('event_lag1_mlk', 5.0478429435138213e-05),\n",
      "    ('event_lag1_independence', 4.8478277973772011e-05),\n",
      "    ('event_lag3_mlk', 4.8305652464838003e-05),\n",
      "    ('event_lag4_mlk', 4.4202202088179573e-05),\n",
      "    ('event_lag4_goodfriday', 4.1152791406849913e-05),\n",
      "    ('event_lag3_labor', 3.8843387565136994e-05),\n",
      "    ('event_lag1_halloween', 3.4062545317794535e-05),\n",
      "    ('event_lead2_mlk', 3.0024577620684152e-05),\n",
      "    ('event_lag3_goodfriday', 2.9813045489181443e-05),\n",
      "    ('event_victoria', 2.8598101866732497e-05),\n",
      "    ('event_lead1_mlk', 2.6922520140913272e-05),\n",
      "    ('event_lag2_mothers', 2.1993858411737547e-05),\n",
      "    ('event_lead4_mlk', 1.9505646585858348e-05),\n",
      "    ('event_lag2_mlk', 4.2072915169493296e-06),\n",
      "    ('event_lead4_mothers', 0.0),\n",
      "    ('event_lead3_mothers', 0.0),\n",
      "    ('van_lead3', 0.0),\n",
      "    ('van_lag3', 0.0),\n",
      "    ('van_lead2', 0.0),\n",
      "    ('van_lag2', 0.0),\n",
      "    ('van_lead1', 0.0),\n",
      "    ('van_lag1', 0.0),\n",
      "    ('van', 0.0),\n",
      "    ('sea_lead3', 0.0),\n",
      "    ('sea_lag3', 0.0),\n",
      "    ('sea_lead2', 0.0),\n",
      "    ('sea_lag2', 0.0),\n",
      "    ('sea_lead1', 0.0),\n",
      "    ('sea_lag1', 0.0),\n",
      "    ('sea', 0.0)]\n"
     ]
    }
   ],
   "source": [
    "pp.pprint(sorted(zip(im4.X.columns, grid.best_estimator_.feature_importances_), key=lambda x: x[1])[::-1])"
   ]
  },
  {
   "cell_type": "markdown",
   "metadata": {},
   "source": [
    "### Interestingly, even though avg_lag_1 is a strong feature, R2 for nearest weeks is worse than several weeks out"
   ]
  },
  {
   "cell_type": "markdown",
   "metadata": {},
   "source": [
    "## Test 2013"
   ]
  },
  {
   "cell_type": "code",
   "execution_count": 841,
   "metadata": {
    "collapsed": false
   },
   "outputs": [],
   "source": [
    "from BorderQuery import select_mungedata, select_features\n",
    "from BorderModel import IncrementalModel\n",
    "\n",
    "df_train = select_mungedata(2, 1, '2011-1-1', '2013-1-1')\n",
    "model = ExtraTreesRegressor(n_jobs=-1, n_estimators=96, bootstrap=True, oob_score=True)\n",
    "grid = GridSearchCV(model, {})\n",
    "im2013 = IncrementalModel(df_train, grid, categoricals=['event'])"
   ]
  },
  {
   "cell_type": "code",
   "execution_count": 842,
   "metadata": {
    "collapsed": false
   },
   "outputs": [],
   "source": [
    "from BorderModel import IncrementalModel\n",
    "im2013.percent_nonnull = .3\n",
    "X_test = select_features('2013-1-1', '2014-1-1')\n",
    "yhat2013 = im2013.predict(X_test)"
   ]
  },
  {
   "cell_type": "code",
   "execution_count": 843,
   "metadata": {
    "collapsed": true
   },
   "outputs": [],
   "source": [
    "actuals2013 = select_mungedata_simple(2, 1, '2013-1-1', '2014-1-1')"
   ]
  },
  {
   "cell_type": "code",
   "execution_count": 850,
   "metadata": {
    "collapsed": false
   },
   "outputs": [
    {
     "name": "stdout",
     "output_type": "stream",
     "text": [
      " Model R2:  0.630303351513\n",
      "Baseline R2:  0.613087822083\n",
      "Ensemble R2:  0.642220062011\n"
     ]
    }
   ],
   "source": [
    "from BorderModel import IncrementalModel\n",
    "im2013.score(actuals2013.waittime)"
   ]
  },
  {
   "cell_type": "code",
   "execution_count": 851,
   "metadata": {
    "collapsed": false
   },
   "outputs": [
    {
     "name": "stdout",
     "output_type": "stream",
     "text": [
      "[   ('minofday', 0.59857329065093956),\n",
      "    ('dayofweek', 0.049407749072833025),\n",
      "    ('avg_lag_1', 0.044109234551492023),\n",
      "    ('avg_lag_7', 0.011961387748427582),\n",
      "    ('event_lag2_xmas', 0.010718157668369137),\n",
      "    ('week', 0.0084406449112549783),\n",
      "    ('avg_lag_2', 0.0074394858024342545),\n",
      "    ('month', 0.0070881963575105929),\n",
      "    ('avg_roll_366', 0.0066624536171079928),\n",
      "    ('avg_lag_6', 0.0066005774221796079),\n",
      "    ('wind_max', 0.0063830962800992081),\n",
      "    ('avg_lag_4', 0.0061124778994445924),\n",
      "    ('temp_min_p3', 0.0059442992815042818),\n",
      "    ('avg_roll_7', 0.0058019396507694486),\n",
      "    ('avg_lag_3', 0.0057361105372747316),\n",
      "    ('event_goodfriday', 0.0056676185299502141),\n",
      "    ('avg_lag_5', 0.0053797129052024391),\n",
      "    ('temp_min_m1', 0.0053272006398108127),\n",
      "    ('temp_mean_m2', 0.0053192760858837484),\n",
      "    ('precip_p1', 0.0052455635556747102),\n",
      "    ('temp_min_p1', 0.0052428432219235365),\n",
      "    ('temp_min', 0.0051160984397144683),\n",
      "    ('temp_min_m2', 0.0049699204415789401),\n",
      "    ('temp_max_m2', 0.004884638790163447),\n",
      "    ('temp_mean_m1', 0.0047913079207455309),\n",
      "    ('avg_roll_28', 0.0046029356101883545),\n",
      "    ('rain_p3', 0.0045989434359074354),\n",
      "    ('avg_roll_21', 0.0044936905684700452),\n",
      "    ('avg_roll_14', 0.0044623211661501639),\n",
      "    ('precip_m2', 0.004420969299858633),\n",
      "    ('temp_max_p2', 0.0043554381468065796),\n",
      "    ('precip_p3', 0.0043022881844309172),\n",
      "    ('temp_max_p3', 0.0042551460404688587),\n",
      "    ('temp_max_m1', 0.0042458688845810801),\n",
      "    ('temp_mean', 0.0041319775560115018),\n",
      "    ('temp_min_p2', 0.0040976818515582464),\n",
      "    ('precip_m1', 0.0040923665267085137),\n",
      "    ('temp_mean_p1', 0.0040815085537661173),\n",
      "    ('temp_mean_p3', 0.0040417533027913228),\n",
      "    ('precip', 0.0039117625009090643),\n",
      "    ('rain_m2', 0.0038652253874760056),\n",
      "    ('year', 0.0038036531015474997),\n",
      "    ('temp_max_p1', 0.0037665078939542653),\n",
      "    ('temp_max', 0.0036416205762402078),\n",
      "    ('rain_m1', 0.003624500927204823),\n",
      "    ('rain', 0.0034994342790245006),\n",
      "    ('temp_mean_p2', 0.0034672163510117895),\n",
      "    ('event_lead3_ca_thanksgiving', 0.0034471855570117147),\n",
      "    ('precip_p2', 0.0032925754035948661),\n",
      "    ('event_lead2_labor', 0.0032495997226454627),\n",
      "    ('fog', 0.0031049323289936109),\n",
      "    ('rain_p1', 0.0030057709129287119),\n",
      "    ('event_lead1_goodfriday', 0.0029378509342594702),\n",
      "    ('snow_p2', 0.0026384219075245505),\n",
      "    ('rain_p2', 0.0024812134391543274),\n",
      "    ('event_lead1_xmas', 0.0023130202847910712),\n",
      "    ('event_lead1_newyears', 0.0022321816029902456),\n",
      "    ('event_lead2_veterans', 0.0021674408811542243),\n",
      "    ('event_lag1_newyears', 0.0021577350987592122),\n",
      "    ('event_lead2_ca_thanksgiving', 0.0019678728793440523),\n",
      "    ('event_lead3_president', 0.0018047357076616886),\n",
      "    ('event_lead2_civic', 0.001767744618742847),\n",
      "    ('event_lag1_xmas', 0.0016539244145116906),\n",
      "    ('snow_p3', 0.0016231247357105163),\n",
      "    ('event_president', 0.0015647533867378988),\n",
      "    ('event_lag4_ca_thanksgiving', 0.001420170462226791),\n",
      "    ('event_lead4_president', 0.0013181145301677331),\n",
      "    ('event_lead2_newyears', 0.0013147625818392945),\n",
      "    ('event_xmas', 0.0013015626097599672),\n",
      "    ('event_lead4_independence', 0.001282989634061112),\n",
      "    ('event_lead1_canada', 0.0012612864744334193),\n",
      "    ('snow_m1', 0.0011659448109147886),\n",
      "    ('snow_p1', 0.0011202712652281812),\n",
      "    ('snow', 0.001050071271531425),\n",
      "    ('event_lead2_goodfriday', 0.0010349845455342474),\n",
      "    ('event_newyears', 0.00091181464429267265),\n",
      "    ('event_lead1_veterans', 0.00072838556495856204),\n",
      "    ('thunderstorm_m2', 0.00067437940205785588),\n",
      "    ('thunderstorm_p3', 0.00066985003318298971),\n",
      "    ('event_lag3_halloween', 0.00064637120771567059),\n",
      "    ('event_halloween', 0.00058884572212812103),\n",
      "    ('event_lag4_independence', 0.00058744059862333238),\n",
      "    ('event_lag1_veterans', 0.00056434814371012561),\n",
      "    ('event_veterans', 0.00052886094137740694),\n",
      "    ('snow_m2', 0.00052623266551852078),\n",
      "    ('event_lag4_xmas', 0.00052142876787904919),\n",
      "    ('event_lag3_xmas', 0.00051823515766512751),\n",
      "    ('event_lag2_goodfriday', 0.00051572154345287029),\n",
      "    ('event_lead3_newyears', 0.00050832574807543917),\n",
      "    ('event_lead4_labor', 0.00047972571876434884),\n",
      "    ('thunderstorm_p1', 0.00047860856334100595),\n",
      "    ('event_lead2_xmas', 0.00044389594291788145),\n",
      "    ('event_lead3_goodfriday', 0.00041592485784153633),\n",
      "    ('event_lead1_president', 0.00041512380432520859),\n",
      "    ('thunderstorm', 0.00040806197315888457),\n",
      "    ('event_lead2_canada', 0.00039139423352937806),\n",
      "    ('event_lag1_president', 0.00038741611867379992),\n",
      "    ('event_independence', 0.00038061804355395655),\n",
      "    ('event_lead4_newyears', 0.00037088406825663871),\n",
      "    ('event_lag2_labor', 0.00036872677534519348),\n",
      "    ('event_lag4_civic', 0.0003674347256730235),\n",
      "    ('event_lag3_canada', 0.00036726097765984729),\n",
      "    ('event_lead4_xmas', 0.00035725097953793317),\n",
      "    ('event_lead4_canada', 0.00031350540269661553),\n",
      "    ('event_lead2_president', 0.00030693218205451908),\n",
      "    ('event_lag3_president', 0.00027433993314153802),\n",
      "    ('event_lag4_president', 0.00026558433786556124),\n",
      "    ('event_lead3_labor', 0.00025242647990596532),\n",
      "    ('thunderstorm_m1', 0.00024738654868081958),\n",
      "    ('event_lead4_ca_thanksgiving', 0.00023683390822359232),\n",
      "    ('viz_max', 0.00022862101923451755),\n",
      "    ('event_lead2_independence', 0.00022551990885260082),\n",
      "    ('event_lag2_president', 0.00020027409485402301),\n",
      "    ('event_lead1_civic', 0.00019661826876044049),\n",
      "    ('event_lead4_civic', 0.0001930628145845562),\n",
      "    ('thunderstorm_p2', 0.00019003058839819732),\n",
      "    ('event_ca_thanksgiving', 0.00018593616019976178),\n",
      "    ('event_lag3_independence', 0.00017703282052649951),\n",
      "    ('event_lead1_halloween', 0.00016514965741947101),\n",
      "    ('event_lead1_ca_thanksgiving', 0.00016224537421598054),\n",
      "    ('event_lead4_goodfriday', 0.00016068294100818025),\n",
      "    ('event_lead1_thanksgiving', 0.0001559575023016509),\n",
      "    ('event_lead3_xmas', 0.00015337625757353481),\n",
      "    ('event_labor', 0.00014775377654608127),\n",
      "    ('event_lag1_canada', 0.00014523364155510116),\n",
      "    ('event_lag4_labor', 0.00013064056871952756),\n",
      "    ('event_lag2_newyears', 0.00012549247498268602),\n",
      "    ('event_lag2_civic', 0.00012387683169858815),\n",
      "    ('event_lag1_labor', 0.00012144896664547759),\n",
      "    ('event_lag1_independence', 0.00011135250230991594),\n",
      "    ('event_lag4_halloween', 0.00010770433690104828),\n",
      "    ('event_civic', 0.00010656132152002977),\n",
      "    ('event_lag4_canada', 0.00010432986489299335),\n",
      "    ('event_lead3_civic', 0.00010407251701078048),\n",
      "    ('event_lead3_canada', 9.7160915403877752e-05),\n",
      "    ('event_lag3_labor', 9.3919498158165902e-05),\n",
      "    ('event_lag3_ca_thanksgiving', 9.1881584606785829e-05),\n",
      "    ('event_lag3_newyears', 8.9923031736208333e-05),\n",
      "    ('event_lag2_veterans', 8.9893549195912192e-05),\n",
      "    ('event_lag2_canada', 8.3288141914947397e-05),\n",
      "    ('event_lag4_veterans', 8.273988228873519e-05),\n",
      "    ('event_lead3_veterans', 8.2383506674667161e-05),\n",
      "    ('event_lead1_labor', 8.2357165917537546e-05),\n",
      "    ('event_canada', 8.2029809482918708e-05),\n",
      "    ('event_lag1_goodfriday', 7.9958850942942828e-05),\n",
      "    ('event_lead3_independence', 7.8668047079080014e-05),\n",
      "    ('event_lag2_halloween', 7.2639927745214304e-05),\n",
      "    ('event_lag4_goodfriday', 7.1831335102919179e-05),\n",
      "    ('event_lead4_halloween', 7.150705841095773e-05),\n",
      "    ('event_lead3_halloween', 6.3645738254970873e-05),\n",
      "    ('event_lead4_thanksgiving', 5.6695858608882105e-05),\n",
      "    ('event_lag1_ca_thanksgiving', 5.6458120721169837e-05),\n",
      "    ('event_lag1_civic', 5.5890314884656092e-05),\n",
      "    ('event_lead3_thanksgiving', 5.3876828711320992e-05),\n",
      "    ('event_lead1_independence', 5.3091040710891774e-05),\n",
      "    ('event_lag2_independence', 4.7457043824608408e-05),\n",
      "    ('event_lead4_veterans', 3.8986812259137117e-05),\n",
      "    ('event_lag3_civic', 3.4706030127407069e-05),\n",
      "    ('event_lag1_halloween', 3.191479501622241e-05),\n",
      "    ('event_lag4_newyears', 3.1409804740108282e-05),\n",
      "    ('event_lead2_thanksgiving', 2.9454733664144217e-05),\n",
      "    ('event_lag3_goodfriday', 2.8955832312632653e-05),\n",
      "    ('event_lag3_veterans', 2.4910325586372337e-05),\n",
      "    ('event_lag2_ca_thanksgiving', 1.9625098387192103e-05),\n",
      "    ('event_lead2_halloween', 1.3855261464553141e-05),\n",
      "    ('event_lag4_victoria', 0.0),\n",
      "    ('event_lag4_thanksgiving', 0.0),\n",
      "    ('event_lag4_mothers', 0.0),\n",
      "    ('event_lag4_mlk', 0.0),\n",
      "    ('event_lag4_memorial', 0.0),\n",
      "    ('event_lead4_victoria', 0.0),\n",
      "    ('event_lead4_mothers', 0.0),\n",
      "    ('event_lead4_mlk', 0.0),\n",
      "    ('event_lead4_memorial', 0.0),\n",
      "    ('event_lag3_victoria', 0.0),\n",
      "    ('event_lag3_thanksgiving', 0.0),\n",
      "    ('event_lag3_mothers', 0.0),\n",
      "    ('event_lag3_mlk', 0.0),\n",
      "    ('event_lag3_memorial', 0.0),\n",
      "    ('event_lead3_victoria', 0.0),\n",
      "    ('event_lead3_mothers', 0.0),\n",
      "    ('event_lead3_mlk', 0.0),\n",
      "    ('event_lead3_memorial', 0.0),\n",
      "    ('event_lag2_victoria', 0.0),\n",
      "    ('event_lag2_thanksgiving', 0.0),\n",
      "    ('event_lag2_mothers', 0.0),\n",
      "    ('event_lag2_mlk', 0.0),\n",
      "    ('event_lag2_memorial', 0.0),\n",
      "    ('event_lead2_victoria', 0.0),\n",
      "    ('event_lead2_mothers', 0.0),\n",
      "    ('event_lead2_mlk', 0.0),\n",
      "    ('event_lead2_memorial', 0.0),\n",
      "    ('event_lag1_victoria', 0.0),\n",
      "    ('event_lag1_thanksgiving', 0.0),\n",
      "    ('event_lag1_mothers', 0.0),\n",
      "    ('event_lag1_mlk', 0.0),\n",
      "    ('event_lag1_memorial', 0.0),\n",
      "    ('event_lead1_victoria', 0.0),\n",
      "    ('event_lead1_mothers', 0.0),\n",
      "    ('event_lead1_mlk', 0.0),\n",
      "    ('event_lead1_memorial', 0.0),\n",
      "    ('event_victoria', 0.0),\n",
      "    ('event_thanksgiving', 0.0),\n",
      "    ('event_mothers', 0.0),\n",
      "    ('event_mlk', 0.0),\n",
      "    ('event_memorial', 0.0),\n",
      "    ('van_lead3', 0.0),\n",
      "    ('van_lag3', 0.0),\n",
      "    ('van_lead2', 0.0),\n",
      "    ('van_lag2', 0.0),\n",
      "    ('van_lead1', 0.0),\n",
      "    ('van_lag1', 0.0),\n",
      "    ('van', 0.0),\n",
      "    ('sea_lead3', 0.0),\n",
      "    ('sea_lag3', 0.0),\n",
      "    ('sea_lead2', 0.0),\n",
      "    ('sea_lag2', 0.0),\n",
      "    ('sea_lead1', 0.0),\n",
      "    ('sea_lag1', 0.0),\n",
      "    ('sea', 0.0)]\n"
     ]
    }
   ],
   "source": [
    "pp.pprint(sorted(zip(im4.X.columns, grid.best_estimator_.feature_importances_), key=lambda x: x[1])[::-1])"
   ]
  },
  {
   "cell_type": "code",
   "execution_count": 854,
   "metadata": {
    "collapsed": true
   },
   "outputs": [],
   "source": [
    "daily = im2013.y.resample('D', how='mean')"
   ]
  },
  {
   "cell_type": "code",
   "execution_count": 859,
   "metadata": {
    "collapsed": false
   },
   "outputs": [
    {
     "name": "stdout",
     "output_type": "stream",
     "text": [
      "date\n",
      "2012-12-27    20.336380\n",
      "2012-12-28    17.264235\n",
      "2012-12-29    19.106600\n",
      "2012-12-30    16.834873\n",
      "2012-12-31     7.428324\n",
      "Freq: D, Name: waittime, dtype: float64\n",
      "date\n",
      "2012-12-27    12.722063\n",
      "2012-12-28    20.336380\n",
      "2012-12-29    17.264235\n",
      "2012-12-30    19.106600\n",
      "2012-12-31    16.834873\n",
      "Freq: D, Name: waittime, dtype: float64\n"
     ]
    }
   ],
   "source": [
    "print daily.tail()\n",
    "print daily.shift(1).tail()"
   ]
  },
  {
   "cell_type": "markdown",
   "metadata": {},
   "source": [
    "## Rolling and lag features appear to be overfitting.  Try a feature which captures delta averages for purpose of capturing trends."
   ]
  },
  {
   "cell_type": "code",
   "execution_count": 876,
   "metadata": {
    "collapsed": false
   },
   "outputs": [],
   "source": [
    "from BorderModel import IncrementalModel\n",
    "\n",
    "df_train = select_mungedata(2, 1, '2011-1-1', '2015-1-1')\n",
    "model = ExtraTreesRegressor(n_jobs=-1, n_estimators=16, bootstrap=True, oob_score=True)\n",
    "grid = GridSearchCV(model, {})\n",
    "im2015 = IncrementalModel(df_train, grid, categoricals=['event'], rolling=False, lag=False)"
   ]
  },
  {
   "cell_type": "code",
   "execution_count": 875,
   "metadata": {
    "collapsed": false
   },
   "outputs": [
    {
     "ename": "ValueError",
     "evalue": "Last day of training data must be day before first day of test data.",
     "output_type": "error",
     "traceback": [
      "\u001b[0;31m---------------------------------------------------------------------------\u001b[0m",
      "\u001b[0;31mValueError\u001b[0m                                Traceback (most recent call last)",
      "\u001b[0;32m<ipython-input-875-f8147e7a800f>\u001b[0m in \u001b[0;36m<module>\u001b[0;34m()\u001b[0m\n\u001b[1;32m      2\u001b[0m \u001b[0;31m# im2013a.percent_nonnull=.6\u001b[0m\u001b[0;34m\u001b[0m\u001b[0;34m\u001b[0m\u001b[0m\n\u001b[1;32m      3\u001b[0m \u001b[0mX_test\u001b[0m \u001b[0;34m=\u001b[0m \u001b[0mselect_features\u001b[0m\u001b[0;34m(\u001b[0m\u001b[0;34m'2013-1-1'\u001b[0m\u001b[0;34m,\u001b[0m \u001b[0;34m'2014-1-1'\u001b[0m\u001b[0;34m)\u001b[0m\u001b[0;34m\u001b[0m\u001b[0m\n\u001b[0;32m----> 4\u001b[0;31m \u001b[0myhat2013a\u001b[0m \u001b[0;34m=\u001b[0m \u001b[0mim2013a\u001b[0m\u001b[0;34m.\u001b[0m\u001b[0mpredict\u001b[0m\u001b[0;34m(\u001b[0m\u001b[0mX_test\u001b[0m\u001b[0;34m)\u001b[0m\u001b[0;34m\u001b[0m\u001b[0m\n\u001b[0m",
      "\u001b[0;32m/Users/jng/galvanize/BorderCrossing/code/BorderModel.py\u001b[0m in \u001b[0;36mpredict\u001b[0;34m(self, X_test)\u001b[0m\n\u001b[1;32m    129\u001b[0m                 \u001b[0mself\u001b[0m\u001b[0;34m.\u001b[0m\u001b[0mX_test\u001b[0m\u001b[0;34m.\u001b[0m\u001b[0mindex\u001b[0m\u001b[0;34m[\u001b[0m\u001b[0;36m0\u001b[0m\u001b[0;34m]\u001b[0m\u001b[0;34m.\u001b[0m\u001b[0mdate\u001b[0m\u001b[0;34m(\u001b[0m\u001b[0;34m)\u001b[0m \u001b[0;34m-\u001b[0m \u001b[0mdt\u001b[0m\u001b[0;34m.\u001b[0m\u001b[0mtimedelta\u001b[0m\u001b[0;34m(\u001b[0m\u001b[0mdays\u001b[0m\u001b[0;34m=\u001b[0m\u001b[0;36m1\u001b[0m\u001b[0;34m)\u001b[0m\u001b[0;34m:\u001b[0m\u001b[0;34m\u001b[0m\u001b[0m\n\u001b[1;32m    130\u001b[0m             raise ValueError('Last day of training data must be day before \\\n\u001b[0;32m--> 131\u001b[0;31m first day of test data.')\n\u001b[0m\u001b[1;32m    132\u001b[0m \u001b[0;34m\u001b[0m\u001b[0m\n\u001b[1;32m    133\u001b[0m         \u001b[0;31m# Handle categoricals\u001b[0m\u001b[0;34m\u001b[0m\u001b[0;34m\u001b[0m\u001b[0m\n",
      "\u001b[0;31mValueError\u001b[0m: Last day of training data must be day before first day of test data."
     ]
    }
   ],
   "source": [
    "from BorderModel import IncrementalModel\n",
    "# im2015.percent_nonnull=.6\n",
    "X_test = select_features('2015-1-1', '2016-1-1')\n",
    "yhat2015 = im2015.predict(X_test)"
   ]
  },
  {
   "cell_type": "code",
   "execution_count": null,
   "metadata": {
    "collapsed": true
   },
   "outputs": [],
   "source": []
  }
 ],
 "metadata": {
  "kernelspec": {
   "display_name": "Python 2",
   "language": "python",
   "name": "python2"
  },
  "language_info": {
   "codemirror_mode": {
    "name": "ipython",
    "version": 2
   },
   "file_extension": ".py",
   "mimetype": "text/x-python",
   "name": "python",
   "nbconvert_exporter": "python",
   "pygments_lexer": "ipython2",
   "version": "2.7.11"
  }
 },
 "nbformat": 4,
 "nbformat_minor": 0
}

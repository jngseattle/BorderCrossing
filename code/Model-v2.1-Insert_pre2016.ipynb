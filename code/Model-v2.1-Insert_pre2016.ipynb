{
 "cells": [
  {
   "cell_type": "code",
   "execution_count": 10,
   "metadata": {
    "collapsed": false
   },
   "outputs": [],
   "source": [
    "import cPickle as pickle\n",
    "from BorderQuery import insert_predictions\n",
    "import pandas as pd"
   ]
  },
  {
   "cell_type": "markdown",
   "metadata": {},
   "source": [
    "## Peace Arch"
   ]
  },
  {
   "cell_type": "markdown",
   "metadata": {},
   "source": [
    "### South"
   ]
  },
  {
   "cell_type": "code",
   "execution_count": 19,
   "metadata": {
    "collapsed": true
   },
   "outputs": [],
   "source": [
    "with open('/home/ubuntu/BorderCrossing/data/results_1_2015.pkl') as f:\n",
    "    df = pickle.load(f)"
   ]
  },
  {
   "cell_type": "code",
   "execution_count": 21,
   "metadata": {
    "collapsed": false
   },
   "outputs": [],
   "source": [
    "df = df['2015-1-1':'2016-1-1'].dropna()\n",
    "insert_predictions('v2.1', 3, 1, df.index, df.ensemble)\n",
    "df = df['2015-1-1':'2016-1-1'].dropna()\n",
    "insert_predictions('b.1year', 3, 1, df.index, df.baseline)"
   ]
  },
  {
   "cell_type": "code",
   "execution_count": 24,
   "metadata": {
    "collapsed": true
   },
   "outputs": [],
   "source": [
    "with open('/home/ubuntu/BorderCrossing/data/results_1_2014.pkl') as f:\n",
    "    df = pickle.load(f)"
   ]
  },
  {
   "cell_type": "code",
   "execution_count": 25,
   "metadata": {
    "collapsed": true
   },
   "outputs": [],
   "source": [
    "df = df['2014-1-1':'2015-1-1'].dropna()\n",
    "insert_predictions('v2.1', 3, 1, df.index, df.ensemble)\n",
    "df = df['2014-1-1':'2015-1-1'].dropna()\n",
    "insert_predictions('b.1year', 3, 1, df.index, df.baseline)"
   ]
  },
  {
   "cell_type": "markdown",
   "metadata": {},
   "source": [
    "### North"
   ]
  },
  {
   "cell_type": "code",
   "execution_count": 28,
   "metadata": {
    "collapsed": true
   },
   "outputs": [],
   "source": [
    "with open('/home/ubuntu/BorderCrossing/data/results_2_2015.pkl') as f:\n",
    "    df = pickle.load(f)"
   ]
  },
  {
   "cell_type": "code",
   "execution_count": 29,
   "metadata": {
    "collapsed": false
   },
   "outputs": [],
   "source": [
    "df = df['2015-1-1':'2016-1-1'].dropna()\n",
    "insert_predictions('v2.1', 4, 2, df.index, df.ensemble)\n",
    "df = df['2015-1-1':'2016-1-1'].dropna()\n",
    "insert_predictions('b.1year', 4, 2, df.index, df.baseline)"
   ]
  },
  {
   "cell_type": "code",
   "execution_count": 32,
   "metadata": {
    "collapsed": true
   },
   "outputs": [],
   "source": [
    "with open('/home/ubuntu/BorderCrossing/data/results_2_2014.pkl') as f:\n",
    "    df = pickle.load(f)"
   ]
  },
  {
   "cell_type": "code",
   "execution_count": 33,
   "metadata": {
    "collapsed": false
   },
   "outputs": [],
   "source": [
    "df = df['2014-1-1':'2015-1-1'].dropna()\n",
    "insert_predictions('v2.1', 4, 2, df.index, df.ensemble)\n",
    "df = df['2014-1-1':'2015-1-1'].dropna()\n",
    "insert_predictions('b.1year', 4, 2, df.index, df.baseline)"
   ]
  },
  {
   "cell_type": "markdown",
   "metadata": {},
   "source": [
    "## Pacific Highway"
   ]
  },
  {
   "cell_type": "markdown",
   "metadata": {},
   "source": [
    "### South"
   ]
  },
  {
   "cell_type": "code",
   "execution_count": 22,
   "metadata": {
    "collapsed": true
   },
   "outputs": [],
   "source": [
    "with open('/home/ubuntu/BorderCrossing/data/results_5_2015.pkl') as f:\n",
    "    df = pickle.load(f)"
   ]
  },
  {
   "cell_type": "code",
   "execution_count": 23,
   "metadata": {
    "collapsed": true
   },
   "outputs": [],
   "source": [
    "df = df['2015-1-1':'2016-1-1'].dropna()\n",
    "insert_predictions('v2.1', 3, 5, df.index, df.ensemble)\n",
    "df = df['2015-1-1':'2016-1-1'].dropna()\n",
    "insert_predictions('b.1year', 3, 5, df.index, df.baseline)"
   ]
  },
  {
   "cell_type": "code",
   "execution_count": 26,
   "metadata": {
    "collapsed": true
   },
   "outputs": [],
   "source": [
    "with open('/home/ubuntu/BorderCrossing/data/results_5_2014.pkl') as f:\n",
    "    df = pickle.load(f)"
   ]
  },
  {
   "cell_type": "code",
   "execution_count": 27,
   "metadata": {
    "collapsed": true
   },
   "outputs": [],
   "source": [
    "df = df['2014-1-1':'2015-1-1'].dropna()\n",
    "insert_predictions('v2.1', 3, 5, df.index, df.ensemble)\n",
    "df = df['2014-1-1':'2015-1-1'].dropna()\n",
    "insert_predictions('b.1year', 3, 5, df.index, df.baseline)"
   ]
  },
  {
   "cell_type": "markdown",
   "metadata": {
    "collapsed": true
   },
   "source": [
    "### North"
   ]
  },
  {
   "cell_type": "code",
   "execution_count": 30,
   "metadata": {
    "collapsed": true
   },
   "outputs": [],
   "source": [
    "with open('/home/ubuntu/BorderCrossing/data/results_6_2015.pkl') as f:\n",
    "    df = pickle.load(f)"
   ]
  },
  {
   "cell_type": "code",
   "execution_count": 31,
   "metadata": {
    "collapsed": true
   },
   "outputs": [],
   "source": [
    "df = df['2015-1-1':'2016-1-1'].dropna()\n",
    "insert_predictions('v2.1', 4, 6, df.index, df.ensemble)\n",
    "df = df['2015-1-1':'2016-1-1'].dropna()\n",
    "insert_predictions('b.1year', 4, 6, df.index, df.baseline)"
   ]
  },
  {
   "cell_type": "code",
   "execution_count": 34,
   "metadata": {
    "collapsed": true
   },
   "outputs": [],
   "source": [
    "with open('/home/ubuntu/BorderCrossing/data/results_6_2014.pkl') as f:\n",
    "    df = pickle.load(f)"
   ]
  },
  {
   "cell_type": "code",
   "execution_count": 35,
   "metadata": {
    "collapsed": true
   },
   "outputs": [],
   "source": [
    "df = df['2014-1-1':'2015-1-1'].dropna()\n",
    "insert_predictions('v2.1', 4, 6, df.index, df.ensemble)\n",
    "df = df['2014-1-1':'2015-1-1'].dropna()\n",
    "insert_predictions('b.1year', 4, 6, df.index, df.baseline)"
   ]
  }
 ],
 "metadata": {
  "kernelspec": {
   "display_name": "Python 2",
   "language": "python",
   "name": "python2"
  },
  "language_info": {
   "codemirror_mode": {
    "name": "ipython",
    "version": 2
   },
   "file_extension": ".py",
   "mimetype": "text/x-python",
   "name": "python",
   "nbconvert_exporter": "python",
   "pygments_lexer": "ipython2",
   "version": "2.7.11"
  }
 },
 "nbformat": 4,
 "nbformat_minor": 0
}

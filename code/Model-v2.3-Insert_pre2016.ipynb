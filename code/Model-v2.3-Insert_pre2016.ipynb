{
 "cells": [
  {
   "cell_type": "code",
   "execution_count": 32,
   "metadata": {
    "collapsed": false
   },
   "outputs": [],
   "source": [
    "import cPickle as pickle\n",
    "from BorderQuery import insert_predictions\n",
    "import pandas as pd\n",
    "import pdb\n",
    "DIR = '/Users/jng/galvanize'"
   ]
  },
  {
   "cell_type": "code",
   "execution_count": 33,
   "metadata": {
    "collapsed": false
   },
   "outputs": [],
   "source": [
    "def insert_results(prediction_version, baseline_version, munger_id, crossing_id, year):\n",
    "    with open('{0}/BorderCrossing/data/results_{1}_{2}.pkl'.format(DIR, crossing_id, year)) as f:\n",
    "        df = pickle.load(f)\n",
    "    df = df[(df.index >= '{0}-1-1'.format(year)) & (df.index < '{0}-1-1'.format(year + 1))]\n",
    "    insert_predictions(prediction_version, munger_id, crossing_id, df.index, df.ensemble)\n",
    "    insert_predictions(baseline_version, munger_id, crossing_id, df.index, df.baseline)"
   ]
  },
  {
   "cell_type": "markdown",
   "metadata": {},
   "source": [
    "## Peace Arch"
   ]
  },
  {
   "cell_type": "markdown",
   "metadata": {},
   "source": [
    "### South"
   ]
  },
  {
   "cell_type": "code",
   "execution_count": 34,
   "metadata": {
    "collapsed": false
   },
   "outputs": [],
   "source": [
    "insert_results('v2.3', 'b.1y.1', 3, 1, 2015)"
   ]
  },
  {
   "cell_type": "code",
   "execution_count": 35,
   "metadata": {
    "collapsed": false
   },
   "outputs": [],
   "source": [
    "insert_results('v2.3', 'b.1y.1', 3, 1, 2014)"
   ]
  },
  {
   "cell_type": "markdown",
   "metadata": {},
   "source": [
    "### North"
   ]
  },
  {
   "cell_type": "code",
   "execution_count": 36,
   "metadata": {
    "collapsed": false
   },
   "outputs": [],
   "source": [
    "insert_results('v2.3', 'b.1y.1', 4, 2, 2015)"
   ]
  },
  {
   "cell_type": "code",
   "execution_count": 37,
   "metadata": {
    "collapsed": false
   },
   "outputs": [],
   "source": [
    "insert_results('v2.3', 'b.1y.1', 4, 2, 2014)"
   ]
  },
  {
   "cell_type": "markdown",
   "metadata": {},
   "source": [
    "## Pacific Highway"
   ]
  },
  {
   "cell_type": "markdown",
   "metadata": {},
   "source": [
    "### South"
   ]
  },
  {
   "cell_type": "code",
   "execution_count": 38,
   "metadata": {
    "collapsed": false
   },
   "outputs": [],
   "source": [
    "insert_results('v2.3', 'b.1y.1', 3, 5, 2015)"
   ]
  },
  {
   "cell_type": "code",
   "execution_count": 39,
   "metadata": {
    "collapsed": false
   },
   "outputs": [],
   "source": [
    "insert_results('v2.3', 'b.1y.1', 3, 5, 2014)"
   ]
  },
  {
   "cell_type": "markdown",
   "metadata": {
    "collapsed": true
   },
   "source": [
    "### North"
   ]
  },
  {
   "cell_type": "code",
   "execution_count": 40,
   "metadata": {
    "collapsed": false
   },
   "outputs": [],
   "source": [
    "insert_results('v2.3', 'b.1y.1', 4, 6, 2015)"
   ]
  },
  {
   "cell_type": "code",
   "execution_count": 41,
   "metadata": {
    "collapsed": false
   },
   "outputs": [],
   "source": [
    "insert_results('v2.3', 'b.1y.1', 4, 6, 2014)"
   ]
  }
 ],
 "metadata": {
  "kernelspec": {
   "display_name": "Python 2",
   "language": "python",
   "name": "python2"
  },
  "language_info": {
   "codemirror_mode": {
    "name": "ipython",
    "version": 2
   },
   "file_extension": ".py",
   "mimetype": "text/x-python",
   "name": "python",
   "nbconvert_exporter": "python",
   "pygments_lexer": "ipython2",
   "version": "2.7.11"
  }
 },
 "nbformat": 4,
 "nbformat_minor": 0
}

{
 "cells": [
  {
   "cell_type": "code",
   "execution_count": 91,
   "metadata": {
    "collapsed": false
   },
   "outputs": [],
   "source": [
    "from datetime import date, timedelta, datetime\n",
    "from dbhelper import PgDB"
   ]
  },
  {
   "cell_type": "code",
   "execution_count": 19,
   "metadata": {
    "collapsed": true
   },
   "outputs": [],
   "source": [
    "def school_out(district, start, end=None):\n",
    "    query = '''\n",
    "            insert into schoolcalendar\n",
    "            values ('%s', '%s')\n",
    "            '''\n",
    "\n",
    "    if end is None:\n",
    "        end = start\n",
    "        \n",
    "    dt = start\n",
    "    \n",
    "    with PgDB() as db:\n",
    "        while dt <= end:\n",
    "            db.cur.execute(query % (district, dt))\n",
    "            dt += timedelta(days = 1)\n",
    "            \n",
    "        db.conn.commit()"
   ]
  },
  {
   "cell_type": "code",
   "execution_count": 86,
   "metadata": {
    "collapsed": false
   },
   "outputs": [],
   "source": [
    "import csv\n",
    "\n",
    "with open('../data/school_sea.csv') as f:\n",
    "    reader = csv.reader(f)\n",
    "    for row in reader:\n",
    "        if len(row) > 1:\n",
    "            start, end = row\n",
    "            school_out('seattle', datetime.strptime(start, '%m/%d/%Y'), datetime.strptime(end, '%m/%d/%Y'))\n",
    "        else:\n",
    "            start = row[0]\n",
    "            school_out('seattle', datetime.strptime(start, '%m/%d/%Y'), None)"
   ]
  },
  {
   "cell_type": "code",
   "execution_count": 92,
   "metadata": {
    "collapsed": false
   },
   "outputs": [],
   "source": [
    "import csv\n",
    "\n",
    "with open('../data/school_van.csv') as f:\n",
    "    reader = csv.reader(f)\n",
    "    for row in reader:\n",
    "        if len(row) > 1:\n",
    "            start, end = row\n",
    "#             print start, end\n",
    "            school_out('vancouver', datetime.strptime(start, '%m/%d/%Y'), datetime.strptime(end, '%m/%d/%Y'))\n",
    "        else:\n",
    "            start = row[0]\n",
    "#             print start\n",
    "            school_out('vancouver', datetime.strptime(start, '%m/%d/%Y'), None)"
   ]
  },
  {
   "cell_type": "code",
   "execution_count": null,
   "metadata": {
    "collapsed": true
   },
   "outputs": [],
   "source": []
  }
 ],
 "metadata": {
  "kernelspec": {
   "display_name": "Python 2",
   "language": "python",
   "name": "python2"
  },
  "language_info": {
   "codemirror_mode": {
    "name": "ipython",
    "version": 2
   },
   "file_extension": ".py",
   "mimetype": "text/x-python",
   "name": "python",
   "nbconvert_exporter": "python",
   "pygments_lexer": "ipython2",
   "version": "2.7.11"
  }
 },
 "nbformat": 4,
 "nbformat_minor": 0
}

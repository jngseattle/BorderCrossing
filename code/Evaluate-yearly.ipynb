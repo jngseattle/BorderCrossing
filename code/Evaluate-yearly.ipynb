{
 "cells": [
  {
   "cell_type": "code",
   "execution_count": 4,
   "metadata": {
    "collapsed": true
   },
   "outputs": [],
   "source": [
    "from BorderModel import BorderData\n",
    "import matplotlib.pyplot as plt\n",
    "%matplotlib inline\n",
    "import pandas as pd\n",
    "import numpy as np\n",
    "from dbhelper import pd_query\n",
    "import datetime\n",
    "from sklearn.metrics import r2_score\n",
    "\n",
    "from sklearn.grid_search import GridSearchCV\n",
    "from sklearn.ensemble import ExtraTreesRegressor"
   ]
  },
  {
   "cell_type": "code",
   "execution_count": 17,
   "metadata": {
    "collapsed": false
   },
   "outputs": [],
   "source": [
    "query = '''\n",
    "        select \n",
    "            c.date,\n",
    "            metric as waittime,\n",
    "            year,\n",
    "            month,\n",
    "            dayofmonth,\n",
    "            week,\n",
    "            dayofweek,\n",
    "            minofday,\n",
    "            labor,\n",
    "            newyears,\n",
    "            us_mlk,\n",
    "            us_washington,\n",
    "            us_memorial,\n",
    "            us_independence,\n",
    "            us_columbus,\n",
    "            us_veterans,\n",
    "            us_thanksgiving,\n",
    "            xmas,\n",
    "            ca_goodfriday,\n",
    "            ca_victoria,\n",
    "            ca_canada,\n",
    "            ca_civic,\n",
    "            ca_thanksgiving,\n",
    "            mothers,\n",
    "            ca_family\n",
    "        from mungedata c\n",
    "        join datefeatures d on c.date = d.date\n",
    "        left join publicholiday h on c.date::timestamp::date = h.date\n",
    "        where\n",
    "            crossing_id = 1\n",
    "            and munger_id = 2\n",
    "            and (minute = 0 or minute = 30)\n",
    "            and is_waittime = true\n",
    "        order by c.date;\n",
    "        '''\n",
    "\n",
    "df = pd_query(query)"
   ]
  },
  {
   "cell_type": "markdown",
   "metadata": {},
   "source": [
    "## Iterate through each year, run a model and return scores for each"
   ]
  },
  {
   "cell_type": "code",
   "execution_count": 52,
   "metadata": {
    "collapsed": true
   },
   "outputs": [],
   "source": [
    "def run_model(df, model):\n",
    "    data = BorderData(df)\n",
    "\n",
    "    params = {}\n",
    "    grid = GridSearchCV(model, params, cv=data.cv_train)\n",
    "    grid.fit(data.X_train, data.y_train)\n",
    "    return (data, grid.best_estimator_)"
   ]
  },
  {
   "cell_type": "code",
   "execution_count": 53,
   "metadata": {
    "collapsed": false
   },
   "outputs": [
    {
     "name": "stdout",
     "output_type": "stream",
     "text": [
      "Training...  2010\n",
      "Training...  2011\n",
      "Training...  2012\n",
      "Training...  2013\n",
      "Training...  2014\n",
      "Training...  2015\n"
     ]
    }
   ],
   "source": [
    "model = ExtraTreesRegressor(n_jobs=-1, n_estimators=100, bootstrap=True, oob_score=True)\n",
    "\n",
    "trained = {}\n",
    "for year in range(2010, 2016):\n",
    "    dfin = df.copy()[df.date < datetime.date(year + 1, 1, 1)]\n",
    "    print \"Training... \", year\n",
    "    trained[year] = run_model(dfin, model)"
   ]
  },
  {
   "cell_type": "code",
   "execution_count": 56,
   "metadata": {
    "collapsed": false
   },
   "outputs": [
    {
     "name": "stdout",
     "output_type": "stream",
     "text": [
      "2010\n",
      "Baseline :  0.285357880989\n",
      "Model    :  0.348581252032\n",
      "2011\n",
      "Baseline :  0.395701509877\n",
      "Model    :  -0.428069154036\n",
      "2012\n",
      "Baseline :  0.609866621201\n",
      "Model    :  0.455701536847\n",
      "2013\n",
      "Baseline :  0.61359183581\n",
      "Model    :  0.633534760378\n",
      "2014\n",
      "Baseline :  0.569483794384\n",
      "Model    :  0.55912148217\n",
      "2015\n",
      "Baseline :  0.14722281598\n",
      "Model    :  0.0499787728829\n"
     ]
    }
   ],
   "source": [
    "for year, val in trained.iteritems():\n",
    "    print year\n",
    "    (data, mdl) = val\n",
    "    data.predict(mdl)\n",
    "    print \"Baseline : \", r2_score(data.y_test, data.baseline)\n",
    "    print 'Model    : ', r2_score(data.y_test, data.yhat)"
   ]
  },
  {
   "cell_type": "markdown",
   "metadata": {},
   "source": [
    "## Quality of estimate varies by year suggesting that nature of crossing has changed over time\n",
    "### Run against a different crossing"
   ]
  },
  {
   "cell_type": "code",
   "execution_count": 2,
   "metadata": {
    "collapsed": true
   },
   "outputs": [],
   "source": [
    "query = '''\n",
    "        select \n",
    "            c.date,\n",
    "            metric as waittime,\n",
    "            year,\n",
    "            month,\n",
    "            dayofmonth,\n",
    "            week,\n",
    "            dayofweek,\n",
    "            minofday,\n",
    "            labor,\n",
    "            newyears,\n",
    "            us_mlk,\n",
    "            us_washington,\n",
    "            us_memorial,\n",
    "            us_independence,\n",
    "            us_columbus,\n",
    "            us_veterans,\n",
    "            us_thanksgiving,\n",
    "            xmas,\n",
    "            ca_goodfriday,\n",
    "            ca_victoria,\n",
    "            ca_canada,\n",
    "            ca_civic,\n",
    "            ca_thanksgiving,\n",
    "            mothers,\n",
    "            ca_family\n",
    "        from mungedata c\n",
    "        join datefeatures d on c.date = d.date\n",
    "        left join publicholiday h on c.date::timestamp::date = h.date\n",
    "        where\n",
    "            crossing_id = 5\n",
    "            and munger_id = 2\n",
    "            and (minute = 0 or minute = 30)\n",
    "            and is_waittime = true\n",
    "        order by c.date;\n",
    "        '''\n",
    "\n",
    "df = pd_query(query)"
   ]
  },
  {
   "cell_type": "code",
   "execution_count": 65,
   "metadata": {
    "collapsed": false
   },
   "outputs": [
    {
     "name": "stdout",
     "output_type": "stream",
     "text": [
      "Training...  2010\n",
      "Baseline :  0.504481017297\n",
      "Model    :  0.512078725346\n",
      "Ensemble :  0.55924462099\n",
      "Training...  2011\n",
      "Baseline :  0.508431454184\n",
      "Model    :  0.399969001764\n",
      "Ensemble :  0.547499461605\n",
      "Training...  2012\n",
      "Baseline :  0.62648854487\n",
      "Model    :  0.546527017416\n",
      "Ensemble :  0.651458925795\n",
      "Training...  2013\n",
      "Baseline :  0.571848225947\n",
      "Model    :  0.620617631318\n",
      "Ensemble :  0.63174864792\n",
      "Training...  2014\n",
      "Baseline :  0.512991223483\n",
      "Model    :  0.448556965455\n",
      "Ensemble :  0.603669085013\n",
      "Training...  2015\n",
      "Baseline :  0.266861634576\n",
      "Model    :  0.172525088952\n",
      "Ensemble :  0.365235228248\n"
     ]
    },
    {
     "name": "stderr",
     "output_type": "stream",
     "text": [
      "/Users/jng/anaconda/lib/python2.7/site-packages/sklearn/ensemble/forest.py:687: UserWarning: Some inputs do not have OOB scores. This probably means too few trees were used to compute any reliable oob estimates.\n",
      "  warn(\"Some inputs do not have OOB scores. \"\n"
     ]
    }
   ],
   "source": [
    "from BorderModel import model_years\n",
    "model = ExtraTreesRegressor(n_jobs=-1, n_estimators=16, bootstrap=True, oob_score=True)\n",
    "\n",
    "trained = model_years(df, model, 2010, 2015)"
   ]
  },
  {
   "cell_type": "code",
   "execution_count": null,
   "metadata": {
    "collapsed": true
   },
   "outputs": [],
   "source": []
  }
 ],
 "metadata": {
  "kernelspec": {
   "display_name": "Python 2",
   "language": "python",
   "name": "python2"
  },
  "language_info": {
   "codemirror_mode": {
    "name": "ipython",
    "version": 2
   },
   "file_extension": ".py",
   "mimetype": "text/x-python",
   "name": "python",
   "nbconvert_exporter": "python",
   "pygments_lexer": "ipython2",
   "version": "2.7.11"
  }
 },
 "nbformat": 4,
 "nbformat_minor": 0
}

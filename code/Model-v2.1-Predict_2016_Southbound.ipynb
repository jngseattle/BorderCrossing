{
 "cells": [
  {
   "cell_type": "code",
   "execution_count": 31,
   "metadata": {
    "collapsed": true
   },
   "outputs": [],
   "source": [
    "from BorderModel import run_Incremental, harmonic_mean\n",
    "from BorderQuery import select_features, select_mungedata_simple, select_mungedata, insert_predictions\n",
    "from sklearn.ensemble import ExtraTreesRegressor\n",
    "from sklearn.grid_search import GridSearchCV\n",
    "import datetime as dt\n",
    "import matplotlib.pyplot as plt\n",
    "%matplotlib inline\n",
    "from dbhelper import PgDB"
   ]
  },
  {
   "cell_type": "code",
   "execution_count": 2,
   "metadata": {
    "collapsed": false
   },
   "outputs": [
    {
     "name": "stdout",
     "output_type": "stream",
     "text": [
      "importing datetime on engine(s)\n",
      "importing run_Incremental from BorderModel on engine(s)\n",
      "importing select_features,select_mungedata_simple,select_mungedata from BorderQuery on engine(s)\n",
      "importing ExtraTreesRegressor from sklearn.ensemble on engine(s)\n",
      "importing GridSearchCV from sklearn.grid_search on engine(s)\n"
     ]
    }
   ],
   "source": [
    "import os\n",
    "from ipyparallel import Client\n",
    "rc = Client()\n",
    "dview = rc[:]\n",
    "\n",
    "# set proper working directory on all clients\n",
    "cwd = os.getcwd()\n",
    "dview.map(os.chdir, [cwd] * 32)\n",
    "# print(dview.apply_sync(os.getcwd))\n",
    "\n",
    "with dview.sync_imports():\n",
    "    import datetime\n",
    "    from BorderModel import run_Incremental\n",
    "    from BorderQuery import select_features, select_mungedata_simple, select_mungedata\n",
    "    from sklearn.ensemble import ExtraTreesRegressor\n",
    "    from sklearn.grid_search import GridSearchCV"
   ]
  },
  {
   "cell_type": "code",
   "execution_count": 3,
   "metadata": {
    "collapsed": true
   },
   "outputs": [],
   "source": [
    "model = ExtraTreesRegressor(n_jobs=-1, n_estimators=96, max_features='sqrt', max_depth=20)\n",
    "\n",
    "pr1 = rc[0].apply_async(run_Incremental, model, 3, 1, '2013-1-1', '2016-1-1', '2016-1-1', '2018-1-1')\n",
    "pr5 = rc[1].apply_async(run_Incremental, model, 3, 5, '2013-1-1', '2016-1-1', '2016-1-1', '2018-1-1')"
   ]
  },
  {
   "cell_type": "code",
   "execution_count": 13,
   "metadata": {
    "collapsed": false
   },
   "outputs": [
    {
     "data": {
      "text/plain": [
       "True"
      ]
     },
     "execution_count": 13,
     "metadata": {},
     "output_type": "execute_result"
    }
   ],
   "source": [
    "pr1.ready()"
   ]
  },
  {
   "cell_type": "markdown",
   "metadata": {},
   "source": [
    "## Peace Arch"
   ]
  },
  {
   "cell_type": "code",
   "execution_count": 14,
   "metadata": {
    "collapsed": false
   },
   "outputs": [],
   "source": [
    "im1 = pr1.get(1)"
   ]
  },
  {
   "cell_type": "code",
   "execution_count": 32,
   "metadata": {
    "collapsed": true
   },
   "outputs": [],
   "source": [
    "ensemble1 = harmonic_mean((im1.y_predict, im1.baseline()), (1, 1))"
   ]
  },
  {
   "cell_type": "code",
   "execution_count": 42,
   "metadata": {
    "collapsed": false
   },
   "outputs": [],
   "source": [
    "# for time, val in ensemble1.iteritems():\n",
    "#     print time, val\n",
    "#     break\n",
    "insert_predictions('v2.1', 3, 1, ensemble1.index, ensemble1.values)"
   ]
  },
  {
   "cell_type": "markdown",
   "metadata": {},
   "source": [
    "## Pacific Highway"
   ]
  },
  {
   "cell_type": "code",
   "execution_count": 43,
   "metadata": {
    "collapsed": true
   },
   "outputs": [],
   "source": [
    "im5 = pr5.get(1)"
   ]
  },
  {
   "cell_type": "code",
   "execution_count": 44,
   "metadata": {
    "collapsed": true
   },
   "outputs": [],
   "source": [
    "ensemble5 = harmonic_mean((im5.y_predict, im5.baseline()), (1, 1))"
   ]
  },
  {
   "cell_type": "code",
   "execution_count": 45,
   "metadata": {
    "collapsed": true
   },
   "outputs": [],
   "source": [
    "insert_predictions('v2.1', 3, 5, ensemble5.index, ensemble5.values)"
   ]
  },
  {
   "cell_type": "code",
   "execution_count": null,
   "metadata": {
    "collapsed": true
   },
   "outputs": [],
   "source": []
  }
 ],
 "metadata": {
  "kernelspec": {
   "display_name": "Python 2",
   "language": "python",
   "name": "python2"
  },
  "language_info": {
   "codemirror_mode": {
    "name": "ipython",
    "version": 2
   },
   "file_extension": ".py",
   "mimetype": "text/x-python",
   "name": "python",
   "nbconvert_exporter": "python",
   "pygments_lexer": "ipython2",
   "version": "2.7.11"
  }
 },
 "nbformat": 4,
 "nbformat_minor": 0
}

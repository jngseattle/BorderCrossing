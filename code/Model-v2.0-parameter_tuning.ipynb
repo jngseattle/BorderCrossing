{
 "cells": [
  {
   "cell_type": "markdown",
   "metadata": {},
   "source": [
    "## Tune parameters\n",
    "* tuning will be mostly manual since the goal is to reduce variance whereas grid search is better at reducing bias"
   ]
  },
  {
   "cell_type": "code",
   "execution_count": 1,
   "metadata": {
    "collapsed": true
   },
   "outputs": [],
   "source": [
    "from BorderModel import IncrementalModel\n",
    "from BorderQuery import select_features, select_mungedata, select_mungedata_simple\n",
    "from sklearn.ensemble import ExtraTreesRegressor\n",
    "from sklearn.grid_search import GridSearchCV\n",
    "import datetime as dt\n",
    "import matplotlib.pyplot as plt\n",
    "%matplotlib inline\n",
    "import pprint\n",
    "from multiprocessing import Pool"
   ]
  },
  {
   "cell_type": "markdown",
   "metadata": {},
   "source": [
    "## Run without bootstrap"
   ]
  },
  {
   "cell_type": "code",
   "execution_count": 13,
   "metadata": {
    "collapsed": false
   },
   "outputs": [],
   "source": [
    "df_train = select_mungedata(2, 1, '2011-1-1', '2015-1-1')\n",
    "X_test = select_features('2015-1-1', '2016-1-1')\n",
    "actuals = select_mungedata_simple(2, 1, '2015-1-1', '2016-1-1')\n",
    "model = ExtraTreesRegressor(n_jobs=-1, n_estimators=96)\n",
    "grid = GridSearchCV(model, {})"
   ]
  },
  {
   "cell_type": "code",
   "execution_count": 9,
   "metadata": {
    "collapsed": false
   },
   "outputs": [
    {
     "name": "stdout",
     "output_type": "stream",
     "text": [
      "Weights:  1.5214329278 0.856626541498\n"
     ]
    },
    {
     "data": {
      "text/plain": [
       "{'baseline': 0.14722281598038744,\n",
       " 'ensemble': 0.20579506455332897,\n",
       " 'model': 0.17568258802660763}"
      ]
     },
     "execution_count": 9,
     "metadata": {},
     "output_type": "execute_result"
    }
   ],
   "source": [
    "im = IncrementalModel(df_train, grid, categoricals=['event'])\n",
    "yhat = im.predict(X_test)   \n",
    "im.score(actuals.waittime)"
   ]
  },
  {
   "cell_type": "markdown",
   "metadata": {},
   "source": [
    "### Best score yet"
   ]
  },
  {
   "cell_type": "code",
   "execution_count": 12,
   "metadata": {
    "collapsed": true
   },
   "outputs": [
    {
     "name": "stdout",
     "output_type": "stream",
     "text": [
      "[   ('minofday', 0.5597980237062623),\n",
      "    ('dayofweek', 0.068425273544121964),\n",
      "    ('avg_delta_8', 0.016347266831905252),\n",
      "    ('year', 0.012662088421638443),\n",
      "    ('avg_delta_7', 0.012437631596491458),\n",
      "    ('avg_delta_9', 0.012159041499010296),\n",
      "    ('avg_delta_10', 0.011239082430415992),\n",
      "    ('avg_delta_6', 0.010396537075075568),\n",
      "    ('avg_delta_5', 0.0094040483700228092),\n",
      "    ('avg_delta_12', 0.0092429763264878211),\n",
      "    ('event_goodfriday', 0.008695854856605378),\n",
      "    ('week', 0.0083830799207332621),\n",
      "    ('month', 0.0083438727271462881),\n",
      "    ('avg_delta_11', 0.0082409184101611983),\n",
      "    ('avg_delta_3', 0.0077768926076066504),\n",
      "    ('avg_delta_4', 0.0075257259207146794),\n",
      "    ('avg_delta_1', 0.0074608112378034821),\n",
      "    ('avg_delta_2', 0.006891720736368223),\n",
      "    ('temp_min_m2', 0.0057424079245158369),\n",
      "    ('temp_min_m1', 0.0054513268216910306),\n",
      "    ('temp_mean_m2', 0.0054333653260035626),\n",
      "    ('temp_min', 0.0053868962227209124),\n",
      "    ('precip_m2', 0.0052397188168027721),\n",
      "    ('wind_max', 0.0051069659971277369),\n",
      "    ('temp_max_m2', 0.0050583106203897577),\n",
      "    ('precip_p2', 0.0049101809641039071),\n",
      "    ('temp_min_p3', 0.0048422093036889786),\n",
      "    ('temp_max_p1', 0.0046593745520673033),\n",
      "    ('temp_max_p3', 0.0046433950327181422),\n",
      "    ('precip_p1', 0.0046048402995262899),\n",
      "    ('precip_p3', 0.0045763240314508572),\n",
      "    ('temp_mean_p1', 0.0045545923971728542),\n",
      "    ('temp_mean', 0.0045545352132885936),\n",
      "    ('temp_mean_m1', 0.0045453154133783457),\n",
      "    ('temp_max_m1', 0.0044886251149128366),\n",
      "    ('temp_min_p1', 0.0044680367349317655),\n",
      "    ('temp_max_p2', 0.0044530614722539637),\n",
      "    ('temp_min_p2', 0.0044316750250486163),\n",
      "    ('precip', 0.0042981346633202697),\n",
      "    ('temp_max', 0.0042669416141800321),\n",
      "    ('precip_m1', 0.0042609866176334275),\n",
      "    ('temp_mean_p2', 0.0041691454671581073),\n",
      "    ('temp_mean_p3', 0.0041008052527658958),\n",
      "    ('rain_p3', 0.0039115571098865621),\n",
      "    ('rain', 0.0036662402003499301),\n",
      "    ('rain_p2', 0.0035238409366141741),\n",
      "    ('rain_m2', 0.0034423517713823948),\n",
      "    ('rain_m1', 0.0034292252689633669),\n",
      "    ('rain_p1', 0.0033901511912591345),\n",
      "    ('event_lag2_xmas', 0.0032552618100293016),\n",
      "    ('fog', 0.0031399189403488632),\n",
      "    ('event_lead1_goodfriday', 0.0026424306564295525),\n",
      "    ('event_lead2_labor', 0.0026198617643619078),\n",
      "    ('event_lead2_civic', 0.0023830667135736725),\n",
      "    ('event_veterans', 0.0022292339683953836),\n",
      "    ('event_lag1_newyears', 0.0019874958737734773),\n",
      "    ('event_lead2_victoria', 0.0016587885812239132),\n",
      "    ('event_lag1_thanksgiving', 0.0015420277476826335),\n",
      "    ('event_president', 0.0015338385473757262),\n",
      "    ('event_memorial', 0.0014275621234449262),\n",
      "    ('event_lead3_independence', 0.0013236465947747405),\n",
      "    ('event_lead2_newyears', 0.001306207228144891),\n",
      "    ('event_canada', 0.0012331970178870502),\n",
      "    ('event_lead2_memorial', 0.0012217375414932338),\n",
      "    ('event_lead2_goodfriday', 0.0011425625194853909),\n",
      "    ('snow', 0.0010802523952943384),\n",
      "    ('snow_p2', 0.0010737626189377578),\n",
      "    ('event_lag1_xmas', 0.0010639176683714972),\n",
      "    ('snow_m1', 0.0010221131293828159),\n",
      "    ('event_thanksgiving', 0.00099274148944166938),\n",
      "    ('event_lead1_newyears', 0.00095763248737871468),\n",
      "    ('snow_p1', 0.00093928983146443793),\n",
      "    ('event_lead2_ca_thanksgiving', 0.00092209744492013608),\n",
      "    ('snow_p3', 0.00089767834064480995),\n",
      "    ('event_lag2_goodfriday', 0.00089010348899581709),\n",
      "    ('snow_m2', 0.00087005504651272044),\n",
      "    ('event_lead1_xmas', 0.00085690942420094465),\n",
      "    ('event_lead4_civic', 0.00084753889762022099),\n",
      "    ('event_lead3_veterans', 0.00078888105868682977),\n",
      "    ('event_lead1_civic', 0.00072950095526092614),\n",
      "    ('event_newyears', 0.00069715236639878938),\n",
      "    ('event_lag2_thanksgiving', 0.00068894512499140075),\n",
      "    ('event_independence', 0.00068464516436699365),\n",
      "    ('event_lag3_canada', 0.00068378063884350429),\n",
      "    ('event_lead2_xmas', 0.00062321785534256329),\n",
      "    ('event_lead3_ca_thanksgiving', 0.00062121749138215846),\n",
      "    ('event_lead3_canada', 0.00061194281386363423),\n",
      "    ('event_lead4_victoria', 0.00060289054459013983),\n",
      "    ('event_mlk', 0.00059807236460311327),\n",
      "    ('event_xmas', 0.00055743088584726569),\n",
      "    ('event_halloween', 0.00052973814312247652),\n",
      "    ('event_lead3_labor', 0.00052939736489254644),\n",
      "    ('event_lead2_veterans', 0.00048832225703645746),\n",
      "    ('event_lead4_goodfriday', 0.0004775085747866295),\n",
      "    ('event_lead4_president', 0.00047377000534581476),\n",
      "    ('event_lead1_veterans', 0.00046676906223182848),\n",
      "    ('event_lead2_canada', 0.0004600184642385284),\n",
      "    ('event_lead1_ca_thanksgiving', 0.00044950598596868848),\n",
      "    ('event_lead1_president', 0.00042115550166589143),\n",
      "    ('event_lead3_xmas', 0.00040731758243906841),\n",
      "    ('event_lag4_victoria', 0.00039762400504766369),\n",
      "    ('event_lag3_thanksgiving', 0.00039647639815446859),\n",
      "    ('event_lead1_memorial', 0.00038695076415575289),\n",
      "    ('event_lag3_independence', 0.00038610410703540719),\n",
      "    ('event_lead1_victoria', 0.0003831655516988912),\n",
      "    ('event_lead4_veterans', 0.00037714311555153728),\n",
      "    ('event_lead3_goodfriday', 0.00037664419203866268),\n",
      "    ('event_lag4_president', 0.00035342159941699822),\n",
      "    ('event_lead4_memorial', 0.00034025369976157643),\n",
      "    ('event_ca_thanksgiving', 0.00033089978175200005),\n",
      "    ('event_labor', 0.00033039537776622372),\n",
      "    ('event_lead4_halloween', 0.00032545738308938928),\n",
      "    ('thunderstorm_p3', 0.00031686683216982948),\n",
      "    ('event_lag3_victoria', 0.00031500156690946314),\n",
      "    ('event_lead3_memorial', 0.00031430449566029623),\n",
      "    ('event_lead1_mothers', 0.00031285519480559159),\n",
      "    ('event_lead3_civic', 0.00030424203097362089),\n",
      "    ('event_lag4_civic', 0.00030401356986206368),\n",
      "    ('event_lag4_canada', 0.00028965378128172048),\n",
      "    ('event_lag1_independence', 0.00028493802291384784),\n",
      "    ('event_lead1_canada', 0.0002802700011817093),\n",
      "    ('event_lead1_labor', 0.00027393992897028401),\n",
      "    ('event_lag2_independence', 0.00025752613331707136),\n",
      "    ('event_lead4_independence', 0.00025198145664971563),\n",
      "    ('event_lag4_ca_thanksgiving', 0.00024969676279085293),\n",
      "    ('event_lag2_ca_thanksgiving', 0.00024081760049892605),\n",
      "    ('event_lead3_newyears', 0.00023394060299288365),\n",
      "    ('event_lag3_newyears', 0.00023218890328859036),\n",
      "    ('event_lag1_labor', 0.00022917163995163443),\n",
      "    ('event_lead4_xmas', 0.0002223816598227687),\n",
      "    ('event_lag3_civic', 0.00022084942868019091),\n",
      "    ('viz_max', 0.00021835325663474735),\n",
      "    ('event_lag1_goodfriday', 0.0002178726106838338),\n",
      "    ('event_lead4_ca_thanksgiving', 0.00021785585527844286),\n",
      "    ('event_lag1_civic', 0.00021606610555109811),\n",
      "    ('event_lag4_xmas', 0.00021453578894249954),\n",
      "    ('thunderstorm', 0.00021375933153313479),\n",
      "    ('event_lead4_canada', 0.00021339502135162006),\n",
      "    ('event_lag2_civic', 0.00021324825273619661),\n",
      "    ('event_lag1_halloween', 0.00021255679265061339),\n",
      "    ('event_lag1_victoria', 0.00020896843735416639),\n",
      "    ('event_lead2_mothers', 0.00020804451621106616),\n",
      "    ('event_lag2_canada', 0.00019759242773964301),\n",
      "    ('event_lead3_halloween', 0.00019567291832954528),\n",
      "    ('event_lag3_mothers', 0.00019339134332520378),\n",
      "    ('event_lead3_mothers', 0.00018757095915391818),\n",
      "    ('event_lag1_memorial', 0.00018486804325825766),\n",
      "    ('event_lag1_mlk', 0.00018435261070274037),\n",
      "    ('thunderstorm_p2', 0.00018221096503185416),\n",
      "    ('event_lag1_veterans', 0.0001811896279989472),\n",
      "    ('thunderstorm_p1', 0.00017875025411012818),\n",
      "    ('event_lag1_ca_thanksgiving', 0.00017782342752715891),\n",
      "    ('event_lag3_halloween', 0.00017469171405054147),\n",
      "    ('event_lead1_independence', 0.00017092125018246346),\n",
      "    ('event_lead3_victoria', 0.00016984722236184147),\n",
      "    ('event_lead3_president', 0.00016754287076485225),\n",
      "    ('event_lead4_labor', 0.00015668388678418579),\n",
      "    ('event_lag3_president', 0.00015520306358704687),\n",
      "    ('event_lag3_veterans', 0.00015488919682499696),\n",
      "    ('event_lag4_memorial', 0.00015420101237465287),\n",
      "    ('thunderstorm_m1', 0.0001534855718984444),\n",
      "    ('event_lead2_president', 0.00015300183114392527),\n",
      "    ('event_lead3_mlk', 0.00014689881793568225),\n",
      "    ('event_lag4_goodfriday', 0.00014581971455308179),\n",
      "    ('thunderstorm_m2', 0.00014553200865671714),\n",
      "    ('event_lag2_victoria', 0.00014122905405001076),\n",
      "    ('event_lag4_mothers', 0.00014089727688369321),\n",
      "    ('event_lead1_halloween', 0.00014017184954104024),\n",
      "    ('event_lag3_ca_thanksgiving', 0.00013993410491675471),\n",
      "    ('event_lead1_thanksgiving', 0.00013796780220734516),\n",
      "    ('event_lag4_independence', 0.00013644300229221189),\n",
      "    ('event_lag1_canada', 0.00013538138248330716),\n",
      "    ('event_lag2_veterans', 0.00013376137960525929),\n",
      "    ('event_lead2_independence', 0.0001269717945679457),\n",
      "    ('event_lead2_mlk', 0.00011563534686506004),\n",
      "    ('event_lead4_newyears', 0.00011411119685973333),\n",
      "    ('event_lag3_xmas', 0.00011369589536555439),\n",
      "    ('event_civic', 0.00011079518509978535),\n",
      "    ('event_lag1_president', 0.00010348721054994611),\n",
      "    ('event_mothers', 9.7321320488934055e-05),\n",
      "    ('event_lag1_mothers', 9.6446199200808278e-05),\n",
      "    ('event_lag4_veterans', 9.5412267344876218e-05),\n",
      "    ('event_lag2_halloween', 9.5169676420843541e-05),\n",
      "    ('event_lag4_thanksgiving', 9.1019730979001034e-05),\n",
      "    ('event_lag2_newyears', 8.6187598187694399e-05),\n",
      "    ('event_lead4_thanksgiving', 7.9544435911288507e-05),\n",
      "    ('event_victoria', 7.613815759974873e-05),\n",
      "    ('event_lead4_mothers', 7.5797204717549735e-05),\n",
      "    ('event_lag2_labor', 7.2370775740117867e-05),\n",
      "    ('event_lag4_halloween', 7.1171037537289561e-05),\n",
      "    ('event_lag3_memorial', 6.7608427549579027e-05),\n",
      "    ('event_lead4_mlk', 6.6029359571657484e-05),\n",
      "    ('event_lag2_mothers', 6.5798371360414244e-05),\n",
      "    ('event_lag4_newyears', 5.8787764108092803e-05),\n",
      "    ('event_lag2_memorial', 5.7532653998545048e-05),\n",
      "    ('event_lag2_mlk', 5.6925631655816778e-05),\n",
      "    ('event_lead2_halloween', 5.6613957753569881e-05),\n",
      "    ('event_lag3_goodfriday', 5.3199420811258916e-05),\n",
      "    ('event_lag3_mlk', 5.2114052507340777e-05),\n",
      "    ('event_lag4_labor', 4.7396039764110934e-05),\n",
      "    ('event_lag4_mlk', 4.4705413304127203e-05),\n",
      "    ('event_lag3_labor', 4.1327756259886541e-05),\n",
      "    ('event_lead3_thanksgiving', 4.0206771978582968e-05),\n",
      "    ('event_lead2_thanksgiving', 3.8866979217936497e-05),\n",
      "    ('event_lead1_mlk', 2.3894595247808114e-05),\n",
      "    ('event_lag2_president', 2.2465930708362171e-05),\n",
      "    ('van_lead3', 0.0),\n",
      "    ('van_lag3', 0.0),\n",
      "    ('van_lead2', 0.0),\n",
      "    ('van_lag2', 0.0),\n",
      "    ('van_lead1', 0.0),\n",
      "    ('van_lag1', 0.0),\n",
      "    ('van', 0.0),\n",
      "    ('sea_lead3', 0.0),\n",
      "    ('sea_lag3', 0.0),\n",
      "    ('sea_lead2', 0.0),\n",
      "    ('sea_lag2', 0.0),\n",
      "    ('sea_lead1', 0.0),\n",
      "    ('sea_lag1', 0.0),\n",
      "    ('sea', 0.0)]\n"
     ]
    }
   ],
   "source": [
    "pp = pprint.PrettyPrinter(indent=4)\n",
    "pp.pprint(sorted(zip(im.X.columns, grid.best_estimator_.feature_importances_), key=lambda x: x[1])[::-1])"
   ]
  },
  {
   "cell_type": "markdown",
   "metadata": {},
   "source": [
    "## Max_depth"
   ]
  },
  {
   "cell_type": "code",
   "execution_count": 33,
   "metadata": {
    "collapsed": true
   },
   "outputs": [],
   "source": [
    "def gridsearch(params, df_train):\n",
    "    model = ExtraTreesRegressor(n_jobs=-1, n_estimators=96)\n",
    "    grid = GridSearchCV(model, params)\n",
    "    im = IncrementalModel(df_train, grid, categoricals=['event'])\n",
    "    im.predict(X_test)   \n",
    "    return im.score(actuals.waittime)"
   ]
  },
  {
   "cell_type": "code",
   "execution_count": 85,
   "metadata": {
    "collapsed": false
   },
   "outputs": [
    {
     "name": "stdout",
     "output_type": "stream",
     "text": [
      "Weights:  1.06605783159 0.937797515236\n",
      "Weights:  1.04761277584 0.420659696526\n",
      "Weights:  2.27023053585 0.380151814215\n",
      "Weights:  1.41047883544 0.386761212217\n"
     ]
    }
   ],
   "source": [
    "param_options = [{'max_depth': [4]}, {'max_depth': [8]}, {'max_depth': [12]}, {'max_depth': [16]}]\n",
    "scores = [gridsearch(params, df_train) for params in param_options]"
   ]
  },
  {
   "cell_type": "code",
   "execution_count": 86,
   "metadata": {
    "collapsed": false
   },
   "outputs": [
    {
     "data": {
      "text/plain": [
       "[{'baseline': 0.1059067680212642,\n",
       "  'ensemble': 0.24214359724373546,\n",
       "  'model': 0.12239016633762556},\n",
       " {'baseline': 0.1059067680212642,\n",
       "  'ensemble': 0.15992696135250284,\n",
       "  'model': 0.16896685024076274},\n",
       " {'baseline': 0.1059067680212642,\n",
       "  'ensemble': 0.13552465911312039,\n",
       "  'model': 0.19488460987365941},\n",
       " {'baseline': 0.1059067680212642,\n",
       "  'ensemble': 0.15620359500663916,\n",
       "  'model': 0.19107758644972106}]"
      ]
     },
     "execution_count": 86,
     "metadata": {},
     "output_type": "execute_result"
    }
   ],
   "source": [
    "scores"
   ]
  },
  {
   "cell_type": "markdown",
   "metadata": {},
   "source": [
    "### Larger max_depth has better model score, but lower ensemble score.  Very high ensemble score at max_depth = 4.\n",
    "\n",
    "Ensembling low and high max depth could be a good approach.\n",
    "\n",
    "## More max_depth options\n",
    "\n",
    "For ipyparallel, verify correct CWD."
   ]
  },
  {
   "cell_type": "code",
   "execution_count": 28,
   "metadata": {
    "collapsed": false
   },
   "outputs": [
    {
     "data": {
      "text/plain": [
       "<AsyncMapResult: finished>"
      ]
     },
     "execution_count": 28,
     "metadata": {},
     "output_type": "execute_result"
    }
   ],
   "source": [
    "print(dview.apply_sync(os.getcwd))\n",
    "dview.map(os.chdir, ['/home/ubuntu/BorderCrossing/code'] * 32)"
   ]
  },
  {
   "cell_type": "code",
   "execution_count": 50,
   "metadata": {
    "collapsed": false
   },
   "outputs": [],
   "source": [
    "import time\n",
    "prlist = []\n",
    "    \n",
    "param_options = [{'max_depth': [20]}, {'max_depth': [30]}, {'max_depth': [45]}, {'max_depth': [65]}]\n",
    "for params in param_options:\n",
    "    prlist.append(dview.apply_async(gridsearch, params, df_train))\n",
    "    time.sleep(60)"
   ]
  },
  {
   "cell_type": "code",
   "execution_count": 56,
   "metadata": {
    "collapsed": false
   },
   "outputs": [
    {
     "name": "stdout",
     "output_type": "stream",
     "text": [
      "Weights:  1.37379626872 0.587324913794\n",
      "Weights:  1.32629432603 0.71249434172\n",
      "Weights:  1.29778419667 0.712840200875\n",
      "Weights:  1.57367997757 0.852148627977\n"
     ]
    }
   ],
   "source": [
    "scores = [gridsearch(params, df_train) for params in param_options]"
   ]
  },
  {
   "cell_type": "code",
   "execution_count": 59,
   "metadata": {
    "collapsed": false
   },
   "outputs": [
    {
     "data": {
      "text/plain": [
       "[{'baseline': 0.14722281598038744,\n",
       "  'ensemble': 0.19790960529150181,\n",
       "  'model': 0.18774701657476178},\n",
       " {'baseline': 0.14722281598038744,\n",
       "  'ensemble': 0.20594179798250389,\n",
       "  'model': 0.17791530038822811},\n",
       " {'baseline': 0.14722281598038744,\n",
       "  'ensemble': 0.20722834390834188,\n",
       "  'model': 0.17773185033411842},\n",
       " {'baseline': 0.14722281598038744,\n",
       "  'ensemble': 0.20600029586278412,\n",
       "  'model': 0.17810939086161515}]"
      ]
     },
     "execution_count": 59,
     "metadata": {},
     "output_type": "execute_result"
    }
   ],
   "source": [
    "scores"
   ]
  },
  {
   "cell_type": "markdown",
   "metadata": {},
   "source": [
    "### Max_depth >=30 is same as no limit"
   ]
  },
  {
   "cell_type": "markdown",
   "metadata": {},
   "source": [
    "## Shift to full 2015 data, starting at 2013"
   ]
  },
  {
   "cell_type": "markdown",
   "metadata": {},
   "source": [
    "## Min_samples_leaf"
   ]
  },
  {
   "cell_type": "code",
   "execution_count": 63,
   "metadata": {
    "collapsed": false
   },
   "outputs": [],
   "source": [
    "df_train = select_mungedata(3, 1, '2013-1-1', '2015-1-1')\n",
    "X_test = select_features('2015-1-1', '2016-1-1')\n",
    "actuals = select_mungedata_simple(3, 1, '2015-1-1', '2016-1-1')\n",
    "model = ExtraTreesRegressor(n_jobs=-1, n_estimators=96)\n",
    "grid = GridSearchCV(model, {'min_samples_leaf': [1, 4, 12, 18]})\n",
    "im = IncrementalModel(df_train, grid, categoricals=['event'])"
   ]
  },
  {
   "cell_type": "code",
   "execution_count": 69,
   "metadata": {
    "collapsed": false
   },
   "outputs": [
    {
     "data": {
      "text/plain": [
       "0.62150019909963328"
      ]
     },
     "execution_count": 69,
     "metadata": {},
     "output_type": "execute_result"
    }
   ],
   "source": [
    "grid.best_score_"
   ]
  },
  {
   "cell_type": "code",
   "execution_count": 70,
   "metadata": {
    "collapsed": false
   },
   "outputs": [
    {
     "data": {
      "text/plain": [
       "[mean: 0.62150, std: 0.05165, params: {'min_samples_leaf': 1},\n",
       " mean: 0.61943, std: 0.04566, params: {'min_samples_leaf': 4},\n",
       " mean: 0.61934, std: 0.04036, params: {'min_samples_leaf': 12},\n",
       " mean: 0.61758, std: 0.03887, params: {'min_samples_leaf': 18}]"
      ]
     },
     "execution_count": 70,
     "metadata": {},
     "output_type": "execute_result"
    }
   ],
   "source": [
    "grid.grid_scores_"
   ]
  },
  {
   "cell_type": "code",
   "execution_count": 80,
   "metadata": {
    "collapsed": false
   },
   "outputs": [
    {
     "name": "stdout",
     "output_type": "stream",
     "text": [
      "Weights:  1.28911294942 0.62497370908\n",
      "Weights:  1.87056358016 0.761079605562\n",
      "Weights:  1.62121068896 0.682707985097\n",
      "Weights:  1.30001794396 0.707403054271\n"
     ]
    }
   ],
   "source": [
    "param_options = [{'min_samples_leaf': [1]}, {'min_samples_leaf': [4]}, {'min_samples_leaf': [12]}, {'min_samples_leaf': [18]}]\n",
    "scores = [gridsearch(params, df_train) for params in param_options]"
   ]
  },
  {
   "cell_type": "code",
   "execution_count": 81,
   "metadata": {
    "collapsed": false
   },
   "outputs": [
    {
     "data": {
      "text/plain": [
       "[{'baseline': 0.1059067680212642,\n",
       "  'ensemble': 0.17383996754691822,\n",
       "  'model': 0.15840259749415553},\n",
       " {'baseline': 0.1059067680212642,\n",
       "  'ensemble': 0.16109721593270654,\n",
       "  'model': 0.16617637024584497},\n",
       " {'baseline': 0.1059067680212642,\n",
       "  'ensemble': 0.15143348371504783,\n",
       "  'model': 0.15833155867120163},\n",
       " {'baseline': 0.1059067680212642,\n",
       "  'ensemble': 0.14788635437183084,\n",
       "  'model': 0.14051070808843458}]"
      ]
     },
     "execution_count": 81,
     "metadata": {},
     "output_type": "execute_result"
    }
   ],
   "source": [
    "scores"
   ]
  },
  {
   "cell_type": "markdown",
   "metadata": {},
   "source": [
    "### default of 1 is best"
   ]
  },
  {
   "cell_type": "code",
   "execution_count": null,
   "metadata": {
    "collapsed": true
   },
   "outputs": [],
   "source": []
  }
 ],
 "metadata": {
  "kernelspec": {
   "display_name": "Python 2",
   "language": "python",
   "name": "python2"
  },
  "language_info": {
   "codemirror_mode": {
    "name": "ipython",
    "version": 2
   },
   "file_extension": ".py",
   "mimetype": "text/x-python",
   "name": "python",
   "nbconvert_exporter": "python",
   "pygments_lexer": "ipython2",
   "version": "2.7.11"
  }
 },
 "nbformat": 4,
 "nbformat_minor": 0
}

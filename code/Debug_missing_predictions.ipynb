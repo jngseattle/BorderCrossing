{
 "cells": [
  {
   "cell_type": "code",
   "execution_count": 1,
   "metadata": {
    "collapsed": false
   },
   "outputs": [],
   "source": [
    "from BorderModel import run_Incremental, harmonic_mean\n",
    "from BorderQuery import insert_predictions, select_features, select_mungedata\n",
    "from sklearn.ensemble import ExtraTreesRegressor\n",
    "from sklearn.grid_search import GridSearchCV\n",
    "import datetime\n",
    "import random\n",
    "import matplotlib.pyplot as plt\n",
    "import pandas as pd\n",
    "%matplotlib inline\n",
    "import copy\n",
    "import pdb\n",
    "from sklearn.metrics import r2_score\n",
    "import cPickle as pickle"
   ]
  },
  {
   "cell_type": "code",
   "execution_count": 2,
   "metadata": {
    "collapsed": false
   },
   "outputs": [],
   "source": [
    "def create_train_test(date_end, test_days=7, train_years=2):\n",
    "    '''\n",
    "    IN \n",
    "        date_end: datetime.date of last day to predict\n",
    "        duration: days to predict\n",
    "        train_years: number of years to train\n",
    "    '''\n",
    "    train_start = date_end - datetime.timedelta(test_days + 366 * train_years)\n",
    "    train_end = date_end - datetime.timedelta(test_days)\n",
    "    test_start = date_end - datetime.timedelta(test_days)\n",
    "    test_end = date_end\n",
    "    return train_start, train_end, test_start, test_end\n",
    "    \n",
    "def run_multiweek(model, munger_id, crossing_id, first, last, test_days):\n",
    "    prlist = {}\n",
    "    test_date = first\n",
    "    while test_date < last + datetime.timedelta(test_days):\n",
    "        cpu = random.randint(0, 3)\n",
    "        train_start, train_end, test_start, test_end = create_train_test(test_date, test_days=test_days)\n",
    "\n",
    "        prlist[str(test_date)] = rc[cpu].apply_async(run_Incremental, model, munger_id, crossing_id,  \n",
    "                                           train_start, train_end, \n",
    "                                           test_start, test_end)\n",
    "        \n",
    "        test_date += datetime.timedelta(test_days)\n",
    "        \n",
    "    return prlist\n",
    "\n",
    "def score_df(models):\n",
    "    predict = {date: model.score()['model'] for date, model in models.items()}\n",
    "    ensemble = {date: model.score()['ensemble'] for date, model in models.items()}\n",
    "    baseline = {date: model.score()['baseline'] for date, model in models.items()}\n",
    "    \n",
    "    df = pd.DataFrame([predict, ensemble, baseline]).T\n",
    "    df.columns = ['predict', 'ensemble', 'baseline']\n",
    "    df.index.name = 'date'\n",
    "    df.index = pd.to_datetime(df.index)\n",
    "    return df\n",
    "\n",
    "def plot_scores(df):\n",
    "    plt.figure(figsize=(16,4))\n",
    "    plt.plot(df.baseline, label='baseline')\n",
    "    plt.plot(df.predict, label='predict')\n",
    "    plt.plot(df.ensemble, label='ensemble')\n",
    "    plt.axhline(0, color='y')\n",
    "    plt.legend();\n",
    "    \n",
    "def results_df(trained_models):\n",
    "    predict = pd.Series().append([model.y_predict for key, model in trained_models.items()]).sort_index()\n",
    "    ensemble = pd.Series().append([model.ensemble() for key, model in trained_models.items()]).sort_index()\n",
    "    baseline = pd.Series().append([model.baseline() for key, model in trained_models.items()]).sort_index()\n",
    "    actual = pd.Series().append([model.actual for key, model in trained_models.items()]).sort_index()\n",
    "  \n",
    "    df = pd.DataFrame()\n",
    "    df['predict'] = predict\n",
    "    df['ensemble'] = ensemble\n",
    "    df['baseline'] = baseline\n",
    "    df['actual'] = actual\n",
    "    return df\n",
    "\n",
    "def print_r2(results):\n",
    "    actual = results.actual.dropna()\n",
    "    print 'Predict: ', r2_score(actual, results.predict[actual.index])\n",
    "    print 'Ensemble: ', r2_score(actual, results.ensemble[actual.index])\n",
    "    print 'Baseline: ', r2_score(actual, results.baseline[actual.index])\n",
    "    \n",
    "# def get_trained(pr, first, last, test_days, exclude):\n",
    "def get_trained(pr, exclude):\n",
    "    trained = {}\n",
    "    test_date = first\n",
    "    for date in sorted(pr.keys()):\n",
    "        if date not in [str(ex) for ex in exclude]:\n",
    "            if pr[date].ready():\n",
    "                trained[date] = pr[date].get(1)\n",
    "                print date, trained[date].score()\n",
    "            else:\n",
    "                print date, 'not ready'\n",
    "            \n",
    "    return trained"
   ]
  },
  {
   "cell_type": "code",
   "execution_count": 9,
   "metadata": {
    "collapsed": false
   },
   "outputs": [
    {
     "name": "stdout",
     "output_type": "stream",
     "text": [
      "importing datetime on engine(s)\n",
      "importing run_Incremental from BorderModel on engine(s)\n",
      "importing select_features,select_mungedata_simple,select_mungedata from BorderQuery on engine(s)\n",
      "importing ExtraTreesRegressor from sklearn.ensemble on engine(s)\n",
      "importing GridSearchCV from sklearn.grid_search on engine(s)\n"
     ]
    }
   ],
   "source": [
    "import os\n",
    "from ipyparallel import Client\n",
    "rc = Client()\n",
    "dview = rc[:]\n",
    "\n",
    "# set proper working directory on all clients\n",
    "cwd = os.getcwd()\n",
    "dview.map(os.chdir, [cwd] * 4)\n",
    "# print(dview.apply_sync(os.getcwd))\n",
    "\n",
    "with dview.sync_imports():\n",
    "    import datetime\n",
    "    from BorderModel import run_Incremental\n",
    "    from BorderQuery import select_features, select_mungedata_simple, select_mungedata\n",
    "    from sklearn.ensemble import ExtraTreesRegressor\n",
    "    from sklearn.grid_search import GridSearchCV"
   ]
  },
  {
   "cell_type": "markdown",
   "metadata": {},
   "source": [
    "## 12/31/15\n",
    "* Fixed issue with run_multiweek while loop ending too soon."
   ]
  },
  {
   "cell_type": "code",
   "execution_count": 28,
   "metadata": {
    "collapsed": false
   },
   "outputs": [],
   "source": [
    "model = ExtraTreesRegressor(n_jobs=-1, n_estimators=4)\n",
    "grid = GridSearchCV(model, {})\n",
    "\n",
    "first = datetime.date(2015, 12, 24)\n",
    "last = datetime.date(2016, 1, 1)\n",
    "pr1 = run_multiweek(grid, 3, 1, first, last, 7)"
   ]
  },
  {
   "cell_type": "code",
   "execution_count": 30,
   "metadata": {
    "collapsed": false
   },
   "outputs": [
    {
     "name": "stdout",
     "output_type": "stream",
     "text": [
      "2015-12-24 {'model': 0.21115655429191704, 'ensemble': 0.30286010887906656, 'baseline': 0.31504188784061993}\n",
      "2015-12-31 {'model': -0.065298101692196742, 'ensemble': 0.019113083574276768, 'baseline': 0.26367513450612756}\n",
      "2016-01-07 {'model': 0.3543741719660094, 'ensemble': 0.22351074600551335, 'baseline': 0.11350436614136672}\n"
     ]
    }
   ],
   "source": [
    "exclude = [str(datetime.date(2014,11,19))]\n",
    "trained = get_trained(pr1, exclude)"
   ]
  },
  {
   "cell_type": "code",
   "execution_count": 33,
   "metadata": {
    "collapsed": false
   },
   "outputs": [
    {
     "data": {
      "text/html": [
       "<div>\n",
       "<table border=\"1\" class=\"dataframe\">\n",
       "  <thead>\n",
       "    <tr style=\"text-align: right;\">\n",
       "      <th></th>\n",
       "      <th>predict</th>\n",
       "      <th>ensemble</th>\n",
       "      <th>baseline</th>\n",
       "      <th>actual</th>\n",
       "    </tr>\n",
       "    <tr>\n",
       "      <th>date</th>\n",
       "      <th></th>\n",
       "      <th></th>\n",
       "      <th></th>\n",
       "      <th></th>\n",
       "    </tr>\n",
       "  </thead>\n",
       "  <tbody>\n",
       "    <tr>\n",
       "      <th>2015-12-31 21:30:00</th>\n",
       "      <td>2.942816</td>\n",
       "      <td>2.904701</td>\n",
       "      <td>2.867561</td>\n",
       "      <td>0.207733</td>\n",
       "    </tr>\n",
       "    <tr>\n",
       "      <th>2015-12-31 22:00:00</th>\n",
       "      <td>2.936545</td>\n",
       "      <td>2.853952</td>\n",
       "      <td>2.775878</td>\n",
       "      <td>1.818010</td>\n",
       "    </tr>\n",
       "    <tr>\n",
       "      <th>2015-12-31 22:30:00</th>\n",
       "      <td>3.253220</td>\n",
       "      <td>2.319540</td>\n",
       "      <td>1.802282</td>\n",
       "      <td>5.667530</td>\n",
       "    </tr>\n",
       "    <tr>\n",
       "      <th>2015-12-31 23:00:00</th>\n",
       "      <td>2.543292</td>\n",
       "      <td>1.758387</td>\n",
       "      <td>1.343697</td>\n",
       "      <td>6.575130</td>\n",
       "    </tr>\n",
       "    <tr>\n",
       "      <th>2015-12-31 23:30:00</th>\n",
       "      <td>3.605153</td>\n",
       "      <td>2.087365</td>\n",
       "      <td>1.468935</td>\n",
       "      <td>0.896698</td>\n",
       "    </tr>\n",
       "  </tbody>\n",
       "</table>\n",
       "</div>"
      ],
      "text/plain": [
       "                      predict  ensemble  baseline    actual\n",
       "date                                                       \n",
       "2015-12-31 21:30:00  2.942816  2.904701  2.867561  0.207733\n",
       "2015-12-31 22:00:00  2.936545  2.853952  2.775878  1.818010\n",
       "2015-12-31 22:30:00  3.253220  2.319540  1.802282  5.667530\n",
       "2015-12-31 23:00:00  2.543292  1.758387  1.343697  6.575130\n",
       "2015-12-31 23:30:00  3.605153  2.087365  1.468935  0.896698"
      ]
     },
     "execution_count": 33,
     "metadata": {},
     "output_type": "execute_result"
    }
   ],
   "source": [
    "results = results_df(trained)\n",
    "results['2015-12-30':'2015-12-31'].tail()"
   ]
  },
  {
   "cell_type": "markdown",
   "metadata": {},
   "source": [
    "## PH-N 11/9/15 - 11/10/15\n",
    "* Fixed issue in BorderModel.ensemble where actual was being used;  actual should be optional"
   ]
  },
  {
   "cell_type": "code",
   "execution_count": 36,
   "metadata": {
    "collapsed": true
   },
   "outputs": [],
   "source": [
    "df = select_mungedata_simple(4, 2, '2015-11-9', '2015-11-11')"
   ]
  },
  {
   "cell_type": "code",
   "execution_count": 40,
   "metadata": {
    "collapsed": false
   },
   "outputs": [
    {
     "data": {
      "text/html": [
       "<div>\n",
       "<table border=\"1\" class=\"dataframe\">\n",
       "  <thead>\n",
       "    <tr style=\"text-align: right;\">\n",
       "      <th></th>\n",
       "      <th>waittime</th>\n",
       "      <th>year</th>\n",
       "      <th>month</th>\n",
       "      <th>week</th>\n",
       "      <th>dayofweek</th>\n",
       "      <th>minofday</th>\n",
       "    </tr>\n",
       "    <tr>\n",
       "      <th>date</th>\n",
       "      <th></th>\n",
       "      <th></th>\n",
       "      <th></th>\n",
       "      <th></th>\n",
       "      <th></th>\n",
       "      <th></th>\n",
       "    </tr>\n",
       "  </thead>\n",
       "  <tbody>\n",
       "    <tr>\n",
       "      <th>2015-11-09 05:00:00</th>\n",
       "      <td>0.701143</td>\n",
       "      <td>2015</td>\n",
       "      <td>11</td>\n",
       "      <td>46</td>\n",
       "      <td>0</td>\n",
       "      <td>300</td>\n",
       "    </tr>\n",
       "    <tr>\n",
       "      <th>2015-11-09 05:30:00</th>\n",
       "      <td>0.390254</td>\n",
       "      <td>2015</td>\n",
       "      <td>11</td>\n",
       "      <td>46</td>\n",
       "      <td>0</td>\n",
       "      <td>330</td>\n",
       "    </tr>\n",
       "    <tr>\n",
       "      <th>2015-11-09 06:00:00</th>\n",
       "      <td>0.579846</td>\n",
       "      <td>2015</td>\n",
       "      <td>11</td>\n",
       "      <td>46</td>\n",
       "      <td>0</td>\n",
       "      <td>360</td>\n",
       "    </tr>\n",
       "    <tr>\n",
       "      <th>2015-11-09 06:30:00</th>\n",
       "      <td>1.226910</td>\n",
       "      <td>2015</td>\n",
       "      <td>11</td>\n",
       "      <td>46</td>\n",
       "      <td>0</td>\n",
       "      <td>390</td>\n",
       "    </tr>\n",
       "    <tr>\n",
       "      <th>2015-11-09 07:00:00</th>\n",
       "      <td>2.309880</td>\n",
       "      <td>2015</td>\n",
       "      <td>11</td>\n",
       "      <td>46</td>\n",
       "      <td>0</td>\n",
       "      <td>420</td>\n",
       "    </tr>\n",
       "    <tr>\n",
       "      <th>2015-11-09 15:00:00</th>\n",
       "      <td>11.785800</td>\n",
       "      <td>2015</td>\n",
       "      <td>11</td>\n",
       "      <td>46</td>\n",
       "      <td>0</td>\n",
       "      <td>900</td>\n",
       "    </tr>\n",
       "    <tr>\n",
       "      <th>2015-11-09 15:30:00</th>\n",
       "      <td>7.560290</td>\n",
       "      <td>2015</td>\n",
       "      <td>11</td>\n",
       "      <td>46</td>\n",
       "      <td>0</td>\n",
       "      <td>930</td>\n",
       "    </tr>\n",
       "    <tr>\n",
       "      <th>2015-11-09 16:00:00</th>\n",
       "      <td>9.088120</td>\n",
       "      <td>2015</td>\n",
       "      <td>11</td>\n",
       "      <td>46</td>\n",
       "      <td>0</td>\n",
       "      <td>960</td>\n",
       "    </tr>\n",
       "  </tbody>\n",
       "</table>\n",
       "</div>"
      ],
      "text/plain": [
       "                      waittime  year  month  week  dayofweek  minofday\n",
       "date                                                                  \n",
       "2015-11-09 05:00:00   0.701143  2015     11    46          0       300\n",
       "2015-11-09 05:30:00   0.390254  2015     11    46          0       330\n",
       "2015-11-09 06:00:00   0.579846  2015     11    46          0       360\n",
       "2015-11-09 06:30:00   1.226910  2015     11    46          0       390\n",
       "2015-11-09 07:00:00   2.309880  2015     11    46          0       420\n",
       "2015-11-09 15:00:00  11.785800  2015     11    46          0       900\n",
       "2015-11-09 15:30:00   7.560290  2015     11    46          0       930\n",
       "2015-11-09 16:00:00   9.088120  2015     11    46          0       960"
      ]
     },
     "execution_count": 40,
     "metadata": {},
     "output_type": "execute_result"
    }
   ],
   "source": [
    "df['2015-11-9 5:00':'2015-11-9 16:00']"
   ]
  },
  {
   "cell_type": "code",
   "execution_count": 57,
   "metadata": {
    "collapsed": true
   },
   "outputs": [],
   "source": [
    "model = ExtraTreesRegressor(n_jobs=-1, n_estimators=4)\n",
    "# grid = GridSearchCV(model, {})\n",
    "\n",
    "first = datetime.date(2015, 11, 12)\n",
    "last = datetime.date(2015, 11, 19)\n",
    "pr1 = run_multiweek(model, 4, 2, first, last, 7)"
   ]
  },
  {
   "cell_type": "code",
   "execution_count": 60,
   "metadata": {
    "collapsed": false
   },
   "outputs": [
    {
     "name": "stdout",
     "output_type": "stream",
     "text": [
      "2015-11-12 {'model': 0.36915062407809784, 'ensemble': 0.3156948468695101, 'baseline': -1.0031052308380701}\n",
      "2015-11-19 {'model': -8.2990046006153619, 'ensemble': -2.7261017110087078, 'baseline': -2.2301557302217456}\n"
     ]
    }
   ],
   "source": [
    "exclude = []\n",
    "trained = get_trained(pr1, exclude)"
   ]
  },
  {
   "cell_type": "code",
   "execution_count": 66,
   "metadata": {
    "collapsed": false
   },
   "outputs": [
    {
     "data": {
      "text/html": [
       "<div>\n",
       "<table border=\"1\" class=\"dataframe\">\n",
       "  <thead>\n",
       "    <tr style=\"text-align: right;\">\n",
       "      <th></th>\n",
       "      <th>predict</th>\n",
       "      <th>ensemble</th>\n",
       "      <th>baseline</th>\n",
       "      <th>actual</th>\n",
       "    </tr>\n",
       "    <tr>\n",
       "      <th>date</th>\n",
       "      <th></th>\n",
       "      <th></th>\n",
       "      <th></th>\n",
       "      <th></th>\n",
       "    </tr>\n",
       "  </thead>\n",
       "  <tbody>\n",
       "    <tr>\n",
       "      <th>2015-11-09 06:00:00</th>\n",
       "      <td>0.643688</td>\n",
       "      <td>0.915639</td>\n",
       "      <td>1.585492</td>\n",
       "      <td>0.579846</td>\n",
       "    </tr>\n",
       "    <tr>\n",
       "      <th>2015-11-09 06:30:00</th>\n",
       "      <td>0.350928</td>\n",
       "      <td>0.614031</td>\n",
       "      <td>2.453518</td>\n",
       "      <td>1.226910</td>\n",
       "    </tr>\n",
       "    <tr>\n",
       "      <th>2015-11-09 07:00:00</th>\n",
       "      <td>0.579626</td>\n",
       "      <td>1.002884</td>\n",
       "      <td>3.717504</td>\n",
       "      <td>2.309880</td>\n",
       "    </tr>\n",
       "    <tr>\n",
       "      <th>2015-11-09 07:30:00</th>\n",
       "      <td>1.515067</td>\n",
       "      <td>NaN</td>\n",
       "      <td>5.402574</td>\n",
       "      <td>NaN</td>\n",
       "    </tr>\n",
       "    <tr>\n",
       "      <th>2015-11-09 08:00:00</th>\n",
       "      <td>2.121043</td>\n",
       "      <td>NaN</td>\n",
       "      <td>5.977870</td>\n",
       "      <td>NaN</td>\n",
       "    </tr>\n",
       "    <tr>\n",
       "      <th>2015-11-09 08:30:00</th>\n",
       "      <td>1.261580</td>\n",
       "      <td>NaN</td>\n",
       "      <td>5.843366</td>\n",
       "      <td>NaN</td>\n",
       "    </tr>\n",
       "    <tr>\n",
       "      <th>2015-11-09 09:00:00</th>\n",
       "      <td>2.095142</td>\n",
       "      <td>NaN</td>\n",
       "      <td>8.302568</td>\n",
       "      <td>NaN</td>\n",
       "    </tr>\n",
       "    <tr>\n",
       "      <th>2015-11-09 09:30:00</th>\n",
       "      <td>3.499642</td>\n",
       "      <td>NaN</td>\n",
       "      <td>7.449230</td>\n",
       "      <td>NaN</td>\n",
       "    </tr>\n",
       "    <tr>\n",
       "      <th>2015-11-09 10:00:00</th>\n",
       "      <td>4.113590</td>\n",
       "      <td>NaN</td>\n",
       "      <td>8.386908</td>\n",
       "      <td>NaN</td>\n",
       "    </tr>\n",
       "    <tr>\n",
       "      <th>2015-11-09 10:30:00</th>\n",
       "      <td>4.336370</td>\n",
       "      <td>NaN</td>\n",
       "      <td>8.730355</td>\n",
       "      <td>NaN</td>\n",
       "    </tr>\n",
       "    <tr>\n",
       "      <th>2015-11-09 11:00:00</th>\n",
       "      <td>7.074472</td>\n",
       "      <td>NaN</td>\n",
       "      <td>11.551278</td>\n",
       "      <td>NaN</td>\n",
       "    </tr>\n",
       "    <tr>\n",
       "      <th>2015-11-09 11:30:00</th>\n",
       "      <td>8.102298</td>\n",
       "      <td>NaN</td>\n",
       "      <td>13.764493</td>\n",
       "      <td>NaN</td>\n",
       "    </tr>\n",
       "    <tr>\n",
       "      <th>2015-11-09 12:00:00</th>\n",
       "      <td>5.322230</td>\n",
       "      <td>NaN</td>\n",
       "      <td>16.848708</td>\n",
       "      <td>NaN</td>\n",
       "    </tr>\n",
       "    <tr>\n",
       "      <th>2015-11-09 12:30:00</th>\n",
       "      <td>3.088540</td>\n",
       "      <td>NaN</td>\n",
       "      <td>14.449850</td>\n",
       "      <td>NaN</td>\n",
       "    </tr>\n",
       "    <tr>\n",
       "      <th>2015-11-09 13:00:00</th>\n",
       "      <td>4.289810</td>\n",
       "      <td>NaN</td>\n",
       "      <td>16.225340</td>\n",
       "      <td>NaN</td>\n",
       "    </tr>\n",
       "    <tr>\n",
       "      <th>2015-11-09 13:30:00</th>\n",
       "      <td>3.623843</td>\n",
       "      <td>NaN</td>\n",
       "      <td>16.200710</td>\n",
       "      <td>NaN</td>\n",
       "    </tr>\n",
       "    <tr>\n",
       "      <th>2015-11-09 14:00:00</th>\n",
       "      <td>3.145790</td>\n",
       "      <td>NaN</td>\n",
       "      <td>16.194638</td>\n",
       "      <td>NaN</td>\n",
       "    </tr>\n",
       "    <tr>\n",
       "      <th>2015-11-09 14:30:00</th>\n",
       "      <td>3.418310</td>\n",
       "      <td>NaN</td>\n",
       "      <td>15.042829</td>\n",
       "      <td>NaN</td>\n",
       "    </tr>\n",
       "    <tr>\n",
       "      <th>2015-11-09 15:00:00</th>\n",
       "      <td>5.092000</td>\n",
       "      <td>7.689786</td>\n",
       "      <td>15.698886</td>\n",
       "      <td>11.785800</td>\n",
       "    </tr>\n",
       "    <tr>\n",
       "      <th>2015-11-09 15:30:00</th>\n",
       "      <td>6.925358</td>\n",
       "      <td>9.520863</td>\n",
       "      <td>15.228092</td>\n",
       "      <td>7.560290</td>\n",
       "    </tr>\n",
       "    <tr>\n",
       "      <th>2015-11-09 16:00:00</th>\n",
       "      <td>5.451238</td>\n",
       "      <td>8.179584</td>\n",
       "      <td>16.375553</td>\n",
       "      <td>9.088120</td>\n",
       "    </tr>\n",
       "  </tbody>\n",
       "</table>\n",
       "</div>"
      ],
      "text/plain": [
       "                      predict  ensemble   baseline     actual\n",
       "date                                                         \n",
       "2015-11-09 06:00:00  0.643688  0.915639   1.585492   0.579846\n",
       "2015-11-09 06:30:00  0.350928  0.614031   2.453518   1.226910\n",
       "2015-11-09 07:00:00  0.579626  1.002884   3.717504   2.309880\n",
       "2015-11-09 07:30:00  1.515067       NaN   5.402574        NaN\n",
       "2015-11-09 08:00:00  2.121043       NaN   5.977870        NaN\n",
       "2015-11-09 08:30:00  1.261580       NaN   5.843366        NaN\n",
       "2015-11-09 09:00:00  2.095142       NaN   8.302568        NaN\n",
       "2015-11-09 09:30:00  3.499642       NaN   7.449230        NaN\n",
       "2015-11-09 10:00:00  4.113590       NaN   8.386908        NaN\n",
       "2015-11-09 10:30:00  4.336370       NaN   8.730355        NaN\n",
       "2015-11-09 11:00:00  7.074472       NaN  11.551278        NaN\n",
       "2015-11-09 11:30:00  8.102298       NaN  13.764493        NaN\n",
       "2015-11-09 12:00:00  5.322230       NaN  16.848708        NaN\n",
       "2015-11-09 12:30:00  3.088540       NaN  14.449850        NaN\n",
       "2015-11-09 13:00:00  4.289810       NaN  16.225340        NaN\n",
       "2015-11-09 13:30:00  3.623843       NaN  16.200710        NaN\n",
       "2015-11-09 14:00:00  3.145790       NaN  16.194638        NaN\n",
       "2015-11-09 14:30:00  3.418310       NaN  15.042829        NaN\n",
       "2015-11-09 15:00:00  5.092000  7.689786  15.698886  11.785800\n",
       "2015-11-09 15:30:00  6.925358  9.520863  15.228092   7.560290\n",
       "2015-11-09 16:00:00  5.451238  8.179584  16.375553   9.088120"
      ]
     },
     "execution_count": 66,
     "metadata": {},
     "output_type": "execute_result"
    }
   ],
   "source": [
    "results = results_df(trained)\n",
    "results['2015-11-9 6:00':'2015-11-9 16:00']"
   ]
  },
  {
   "cell_type": "markdown",
   "metadata": {},
   "source": [
    "### after fixing ensemble function"
   ]
  },
  {
   "cell_type": "code",
   "execution_count": 74,
   "metadata": {
    "collapsed": false
   },
   "outputs": [
    {
     "data": {
      "text/plain": [
       "date\n",
       "2015-11-09 06:00:00     0.915639\n",
       "2015-11-09 06:30:00     0.614031\n",
       "2015-11-09 07:00:00     1.002884\n",
       "2015-11-09 07:30:00     2.366489\n",
       "2015-11-09 08:00:00     3.131116\n",
       "2015-11-09 08:30:00     2.075139\n",
       "2015-11-09 09:00:00     3.345941\n",
       "2015-11-09 09:30:00     4.762069\n",
       "2015-11-09 10:00:00     5.519828\n",
       "2015-11-09 10:30:00     5.794573\n",
       "2015-11-09 11:00:00     8.774862\n",
       "2015-11-09 11:30:00    10.200310\n",
       "2015-11-09 12:00:00     8.089211\n",
       "2015-11-09 12:30:00     5.089286\n",
       "2015-11-09 13:00:00     6.785583\n",
       "2015-11-09 13:30:00     5.922840\n",
       "2015-11-09 14:00:00     5.268232\n",
       "2015-11-09 14:30:00     5.570735\n",
       "2015-11-09 15:00:00     7.689786\n",
       "2015-11-09 15:30:00     9.520863\n",
       "2015-11-09 16:00:00     8.179584\n",
       "dtype: float64"
      ]
     },
     "execution_count": 74,
     "metadata": {},
     "output_type": "execute_result"
    }
   ],
   "source": [
    "trained['2015-11-12'].ensemble()['2015-11-9 6:00':'2015-11-9 16:00']"
   ]
  },
  {
   "cell_type": "markdown",
   "metadata": {},
   "source": [
    "## PH-N 5/19/15 - 5/27/15\n",
    "* Missing data issue is resolved from previous fixes"
   ]
  },
  {
   "cell_type": "code",
   "execution_count": 75,
   "metadata": {
    "collapsed": true
   },
   "outputs": [],
   "source": [
    "model = ExtraTreesRegressor(n_jobs=-1, n_estimators=4)\n",
    "# grid = GridSearchCV(model, {})\n",
    "\n",
    "first = datetime.date(2015, 5, 19)\n",
    "last = datetime.date(2015, 5, 27)\n",
    "pr1 = run_multiweek(model, 4, 2, first, last, 7)"
   ]
  },
  {
   "cell_type": "code",
   "execution_count": 77,
   "metadata": {
    "collapsed": false
   },
   "outputs": [
    {
     "name": "stdout",
     "output_type": "stream",
     "text": [
      "2015-05-19 {'model': 0.42798803061084623, 'ensemble': 0.40594963792016325, 'baseline': 0.31575636126945161}\n",
      "2015-05-26 {'model': 0.31797645151960374, 'ensemble': 0.34409842200194751, 'baseline': 0.2784641268591268}\n",
      "2015-06-02 {'model': -3.0280160511962864, 'ensemble': -0.50481227036787635, 'baseline': -0.025641648743577994}\n"
     ]
    }
   ],
   "source": [
    "exclude = []\n",
    "trained = get_trained(pr1, exclude)"
   ]
  },
  {
   "cell_type": "code",
   "execution_count": 84,
   "metadata": {
    "collapsed": false
   },
   "outputs": [
    {
     "data": {
      "text/html": [
       "<div>\n",
       "<table border=\"1\" class=\"dataframe\">\n",
       "  <thead>\n",
       "    <tr style=\"text-align: right;\">\n",
       "      <th></th>\n",
       "      <th>predict</th>\n",
       "      <th>ensemble</th>\n",
       "      <th>baseline</th>\n",
       "      <th>actual</th>\n",
       "    </tr>\n",
       "    <tr>\n",
       "      <th>date</th>\n",
       "      <th></th>\n",
       "      <th></th>\n",
       "      <th></th>\n",
       "      <th></th>\n",
       "    </tr>\n",
       "  </thead>\n",
       "  <tbody>\n",
       "    <tr>\n",
       "      <th>2015-05-21 12:00:00</th>\n",
       "      <td>24.568925</td>\n",
       "      <td>20.352535</td>\n",
       "      <td>17.371354</td>\n",
       "      <td>NaN</td>\n",
       "    </tr>\n",
       "    <tr>\n",
       "      <th>2015-05-21 12:30:00</th>\n",
       "      <td>24.000000</td>\n",
       "      <td>19.078934</td>\n",
       "      <td>15.832557</td>\n",
       "      <td>NaN</td>\n",
       "    </tr>\n",
       "    <tr>\n",
       "      <th>2015-05-21 13:00:00</th>\n",
       "      <td>40.500000</td>\n",
       "      <td>24.127466</td>\n",
       "      <td>17.181622</td>\n",
       "      <td>7.54938</td>\n",
       "    </tr>\n",
       "    <tr>\n",
       "      <th>2015-05-21 13:30:00</th>\n",
       "      <td>60.000000</td>\n",
       "      <td>28.797493</td>\n",
       "      <td>18.945199</td>\n",
       "      <td>8.39954</td>\n",
       "    </tr>\n",
       "    <tr>\n",
       "      <th>2015-05-21 14:00:00</th>\n",
       "      <td>34.264150</td>\n",
       "      <td>23.623693</td>\n",
       "      <td>18.025896</td>\n",
       "      <td>9.74797</td>\n",
       "    </tr>\n",
       "    <tr>\n",
       "      <th>2015-05-21 14:30:00</th>\n",
       "      <td>25.117450</td>\n",
       "      <td>17.473693</td>\n",
       "      <td>13.396778</td>\n",
       "      <td>9.04905</td>\n",
       "    </tr>\n",
       "    <tr>\n",
       "      <th>2015-05-21 15:00:00</th>\n",
       "      <td>25.204550</td>\n",
       "      <td>17.240662</td>\n",
       "      <td>13.101103</td>\n",
       "      <td>6.14483</td>\n",
       "    </tr>\n",
       "    <tr>\n",
       "      <th>2015-05-21 15:30:00</th>\n",
       "      <td>39.284500</td>\n",
       "      <td>21.181228</td>\n",
       "      <td>14.499499</td>\n",
       "      <td>10.37650</td>\n",
       "    </tr>\n",
       "    <tr>\n",
       "      <th>2015-05-21 16:00:00</th>\n",
       "      <td>43.865350</td>\n",
       "      <td>23.709732</td>\n",
       "      <td>16.245235</td>\n",
       "      <td>15.67230</td>\n",
       "    </tr>\n",
       "  </tbody>\n",
       "</table>\n",
       "</div>"
      ],
      "text/plain": [
       "                       predict   ensemble   baseline    actual\n",
       "date                                                          \n",
       "2015-05-21 12:00:00  24.568925  20.352535  17.371354       NaN\n",
       "2015-05-21 12:30:00  24.000000  19.078934  15.832557       NaN\n",
       "2015-05-21 13:00:00  40.500000  24.127466  17.181622   7.54938\n",
       "2015-05-21 13:30:00  60.000000  28.797493  18.945199   8.39954\n",
       "2015-05-21 14:00:00  34.264150  23.623693  18.025896   9.74797\n",
       "2015-05-21 14:30:00  25.117450  17.473693  13.396778   9.04905\n",
       "2015-05-21 15:00:00  25.204550  17.240662  13.101103   6.14483\n",
       "2015-05-21 15:30:00  39.284500  21.181228  14.499499  10.37650\n",
       "2015-05-21 16:00:00  43.865350  23.709732  16.245235  15.67230"
      ]
     },
     "execution_count": 84,
     "metadata": {},
     "output_type": "execute_result"
    }
   ],
   "source": [
    "results = results_df(trained)\n",
    "results['2015-5-21 12:00':'2015-5-21 16:00']"
   ]
  },
  {
   "cell_type": "code",
   "execution_count": 85,
   "metadata": {
    "collapsed": false
   },
   "outputs": [
    {
     "data": {
      "text/plain": [
       "date\n",
       "2015-05-21 12:00:00    24.568925\n",
       "2015-05-21 12:30:00    24.000000\n",
       "2015-05-21 13:00:00    40.500000\n",
       "2015-05-21 13:30:00    60.000000\n",
       "2015-05-21 14:00:00    34.264150\n",
       "2015-05-21 14:30:00    25.117450\n",
       "2015-05-21 15:00:00    25.204550\n",
       "2015-05-21 15:30:00    39.284500\n",
       "2015-05-21 16:00:00    43.865350\n",
       "dtype: float64"
      ]
     },
     "execution_count": 85,
     "metadata": {},
     "output_type": "execute_result"
    }
   ],
   "source": [
    "trained['2015-05-26'].y_predict['2015-5-21 12:00':'2015-5-21 16:00']"
   ]
  },
  {
   "cell_type": "markdown",
   "metadata": {
    "collapsed": true
   },
   "source": [
    "## PA-S 2/1/15 - 2/18/15"
   ]
  },
  {
   "cell_type": "markdown",
   "metadata": {},
   "source": [
    "* y_test 2/11/13 - 2/9/15 15:30\n",
    "* X_test 2/12 - 2/18\n",
    "* df 2/11/13 - 2/9/15 15:30\n",
    "\n",
    "* Note the gap between y_test and X_test\n",
    "* We want to extend df to include data points even when waittime is null\n",
    "    * updated select_mungedata\n",
    "    * for purposes of training, we need to keep dropna in _init_\n",
    "    * created a separate y_test parameter for use in predict\n",
    "* In delta(), when there is not enough data for a delta, fill with zeros"
   ]
  },
  {
   "cell_type": "code",
   "execution_count": 10,
   "metadata": {
    "collapsed": false
   },
   "outputs": [],
   "source": [
    "model = ExtraTreesRegressor(n_jobs=-1, n_estimators=4)\n",
    "\n",
    "first = datetime.date(2015, 2, 5)\n",
    "last = datetime.date(2015, 2, 18)\n",
    "pr1 = run_multiweek(model, 3, 1, first, last, 7)"
   ]
  },
  {
   "cell_type": "code",
   "execution_count": 13,
   "metadata": {
    "collapsed": false
   },
   "outputs": [
    {
     "name": "stdout",
     "output_type": "stream",
     "text": [
      "2015-02-05 {'model': 0.036437817851286414, 'ensemble': -0.15805530677477986, 'baseline': -2.7982134283227738}\n",
      "2015-02-12 {'model': 0.67594721840629057, 'ensemble': 0.68445886119748067, 'baseline': 0.52540316434315615}\n",
      "2015-02-19 {'model': 0.58131213661457226, 'ensemble': 0.58933601918350975, 'baseline': 0.20219806520563821}\n"
     ]
    }
   ],
   "source": [
    "exclude = []\n",
    "trained = get_trained(pr1, exclude)"
   ]
  },
  {
   "cell_type": "code",
   "execution_count": 13,
   "metadata": {
    "collapsed": false
   },
   "outputs": [],
   "source": [
    "model = ExtraTreesRegressor(n_jobs=-1, n_estimators=4)\n",
    "test_date = datetime.date(2015,2,19)\n",
    "train_start, train_end, test_start, test_end = create_train_test(test_date, test_days=7)\n",
    "\n",
    "res = run_Incremental(model, 3, 1, train_start, train_end, test_start, test_end)"
   ]
  },
  {
   "cell_type": "code",
   "execution_count": 15,
   "metadata": {
    "collapsed": true
   },
   "outputs": [
    {
     "data": {
      "text/plain": [
       "date\n",
       "2015-02-12 00:00:00     0.059130\n",
       "2015-02-12 00:30:00     0.000000\n",
       "2015-02-12 01:00:00     0.000000\n",
       "2015-02-12 01:30:00     0.033376\n",
       "2015-02-12 02:00:00     0.000000\n",
       "2015-02-12 02:30:00     0.000000\n",
       "2015-02-12 03:00:00     0.000000\n",
       "2015-02-12 03:30:00     0.000000\n",
       "2015-02-12 04:00:00     0.000000\n",
       "2015-02-12 04:30:00     0.215311\n",
       "2015-02-12 05:00:00     0.045203\n",
       "2015-02-12 05:30:00     0.081235\n",
       "2015-02-12 06:00:00     0.094374\n",
       "2015-02-12 06:30:00     0.337812\n",
       "2015-02-12 07:00:00     1.534876\n",
       "2015-02-12 07:30:00     2.587473\n",
       "2015-02-12 08:00:00     3.393536\n",
       "2015-02-12 08:30:00     2.080125\n",
       "2015-02-12 09:00:00     1.982795\n",
       "2015-02-12 09:30:00     2.121957\n",
       "2015-02-12 10:00:00     2.227395\n",
       "2015-02-12 10:30:00     6.423100\n",
       "2015-02-12 11:00:00    10.165827\n",
       "2015-02-12 11:30:00    10.636390\n",
       "2015-02-12 12:00:00    11.111530\n",
       "2015-02-12 12:30:00    10.022265\n",
       "2015-02-12 13:00:00     7.326965\n",
       "2015-02-12 13:30:00     7.042400\n",
       "2015-02-12 14:00:00     9.965803\n",
       "2015-02-12 14:30:00     9.110496\n",
       "                         ...    \n",
       "2015-02-18 09:00:00     0.898157\n",
       "2015-02-18 09:30:00     2.241173\n",
       "2015-02-18 10:00:00     8.115213\n",
       "2015-02-18 10:30:00    11.411840\n",
       "2015-02-18 11:00:00    17.331400\n",
       "2015-02-18 11:30:00    11.110080\n",
       "2015-02-18 12:00:00     3.626701\n",
       "2015-02-18 12:30:00     2.845956\n",
       "2015-02-18 13:00:00     1.563261\n",
       "2015-02-18 13:30:00     3.092165\n",
       "2015-02-18 14:00:00     1.840350\n",
       "2015-02-18 14:30:00     1.403944\n",
       "2015-02-18 15:00:00     4.477565\n",
       "2015-02-18 15:30:00     3.382214\n",
       "2015-02-18 16:00:00     1.316719\n",
       "2015-02-18 16:30:00     1.606707\n",
       "2015-02-18 17:00:00     2.097505\n",
       "2015-02-18 17:30:00     2.191278\n",
       "2015-02-18 18:00:00     1.591684\n",
       "2015-02-18 18:30:00     0.538377\n",
       "2015-02-18 19:00:00     0.909998\n",
       "2015-02-18 19:30:00     0.800128\n",
       "2015-02-18 20:00:00     2.056656\n",
       "2015-02-18 20:30:00     2.385274\n",
       "2015-02-18 21:00:00     2.282604\n",
       "2015-02-18 21:30:00     2.470214\n",
       "2015-02-18 22:00:00     1.886027\n",
       "2015-02-18 22:30:00     0.351024\n",
       "2015-02-18 23:00:00     0.816907\n",
       "2015-02-18 23:30:00     0.624253\n",
       "dtype: float64"
      ]
     },
     "execution_count": 15,
     "metadata": {},
     "output_type": "execute_result"
    }
   ],
   "source": [
    "res.y_predict"
   ]
  },
  {
   "cell_type": "code",
   "execution_count": null,
   "metadata": {
    "collapsed": true
   },
   "outputs": [],
   "source": []
  }
 ],
 "metadata": {
  "kernelspec": {
   "display_name": "Python 2",
   "language": "python",
   "name": "python2"
  },
  "language_info": {
   "codemirror_mode": {
    "name": "ipython",
    "version": 2
   },
   "file_extension": ".py",
   "mimetype": "text/x-python",
   "name": "python",
   "nbconvert_exporter": "python",
   "pygments_lexer": "ipython2",
   "version": "2.7.11"
  }
 },
 "nbformat": 4,
 "nbformat_minor": 0
}

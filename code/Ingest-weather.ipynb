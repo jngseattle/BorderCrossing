{
 "cells": [
  {
   "cell_type": "code",
   "execution_count": 14,
   "metadata": {
    "collapsed": false
   },
   "outputs": [],
   "source": [
    "import pandas as pd\n",
    "import re\n",
    "import mysql.connector"
   ]
  },
  {
   "cell_type": "code",
   "execution_count": 34,
   "metadata": {
    "collapsed": true
   },
   "outputs": [],
   "source": [
    "df = pd.read_csv('../data/blaine_weather.csv')"
   ]
  },
  {
   "cell_type": "code",
   "execution_count": 35,
   "metadata": {
    "collapsed": false
   },
   "outputs": [],
   "source": [
    "df.columns = [re.sub(r'^ ', '', val) for val in df.columns.values]  # extra spaces removed in column names"
   ]
  },
  {
   "cell_type": "code",
   "execution_count": 37,
   "metadata": {
    "collapsed": false
   },
   "outputs": [],
   "source": [
    "df.Events = df.Events.fillna('Clear')"
   ]
  },
  {
   "cell_type": "code",
   "execution_count": 38,
   "metadata": {
    "collapsed": false
   },
   "outputs": [
    {
     "data": {
      "text/plain": [
       "Rain                 175\n",
       "Clear                161\n",
       "Fog                   39\n",
       "Fog-Rain              10\n",
       "Rain-Snow              7\n",
       "Fog-Rain-Snow          3\n",
       "Snow                   2\n",
       "Rain-Thunderstorm      1\n",
       "Name: Events, dtype: int64"
      ]
     },
     "execution_count": 38,
     "metadata": {},
     "output_type": "execute_result"
    }
   ],
   "source": [
    "df[\"Events\"].value_counts()"
   ]
  },
  {
   "cell_type": "code",
   "execution_count": 39,
   "metadata": {
    "collapsed": false
   },
   "outputs": [],
   "source": [
    "df.PST = df.PST.str.replace(r'-(\\d)-(\\d)$', '-0\\g<1>-0\\g<2>')\n",
    "df.PST = df.PST.str.replace(r'-(\\d)-(\\d\\d)$', '-0\\g<1>-\\g<2>')\n",
    "df.PST = df.PST.str.replace(r'-(\\d\\d)-(\\d)$', '-\\g<1>-0\\g<2>')"
   ]
  },
  {
   "cell_type": "code",
   "execution_count": 41,
   "metadata": {
    "collapsed": false
   },
   "outputs": [],
   "source": [
    "df.PST = pd.to_datetime(df.PST, format='%Y-%m-%d')"
   ]
  },
  {
   "cell_type": "code",
   "execution_count": 42,
   "metadata": {
    "collapsed": false
   },
   "outputs": [
    {
     "name": "stdout",
     "output_type": "stream",
     "text": [
      "<class 'pandas.core.frame.DataFrame'>\n",
      "Int64Index: 398 entries, 0 to 397\n",
      "Data columns (total 23 columns):\n",
      "PST                          398 non-null datetime64[ns]\n",
      "Max TemperatureF             398 non-null int64\n",
      "Mean TemperatureF            398 non-null int64\n",
      "Min TemperatureF             398 non-null int64\n",
      "Max Dew PointF               398 non-null int64\n",
      "MeanDew PointF               398 non-null int64\n",
      "Min DewpointF                398 non-null int64\n",
      "Max Humidity                 398 non-null int64\n",
      "Mean Humidity                398 non-null int64\n",
      "Min Humidity                 398 non-null int64\n",
      "Max Sea Level PressureIn     398 non-null float64\n",
      "Mean Sea Level PressureIn    398 non-null float64\n",
      "Min Sea Level PressureIn     398 non-null float64\n",
      "Max VisibilityMiles          398 non-null int64\n",
      "Mean VisibilityMiles         398 non-null int64\n",
      "Min VisibilityMiles          398 non-null int64\n",
      "Max Wind SpeedMPH            398 non-null int64\n",
      "Mean Wind SpeedMPH           398 non-null int64\n",
      "Max Gust SpeedMPH            189 non-null float64\n",
      "PrecipitationIn              398 non-null float64\n",
      "CloudCover                   398 non-null int64\n",
      "Events                       398 non-null object\n",
      "WindDirDegrees               398 non-null int64\n",
      "dtypes: datetime64[ns](1), float64(5), int64(16), object(1)\n",
      "memory usage: 74.6+ KB\n"
     ]
    }
   ],
   "source": [
    "df.info()"
   ]
  },
  {
   "cell_type": "code",
   "execution_count": 43,
   "metadata": {
    "collapsed": false
   },
   "outputs": [
    {
     "data": {
      "text/html": [
       "<div>\n",
       "<table border=\"1\" class=\"dataframe\">\n",
       "  <thead>\n",
       "    <tr style=\"text-align: right;\">\n",
       "      <th></th>\n",
       "      <th>PST</th>\n",
       "      <th>Max TemperatureF</th>\n",
       "      <th>Mean TemperatureF</th>\n",
       "      <th>Min TemperatureF</th>\n",
       "      <th>Max Dew PointF</th>\n",
       "      <th>MeanDew PointF</th>\n",
       "      <th>Min DewpointF</th>\n",
       "      <th>Max Humidity</th>\n",
       "      <th>Mean Humidity</th>\n",
       "      <th>Min Humidity</th>\n",
       "      <th>...</th>\n",
       "      <th>Max VisibilityMiles</th>\n",
       "      <th>Mean VisibilityMiles</th>\n",
       "      <th>Min VisibilityMiles</th>\n",
       "      <th>Max Wind SpeedMPH</th>\n",
       "      <th>Mean Wind SpeedMPH</th>\n",
       "      <th>Max Gust SpeedMPH</th>\n",
       "      <th>PrecipitationIn</th>\n",
       "      <th>CloudCover</th>\n",
       "      <th>Events</th>\n",
       "      <th>WindDirDegrees</th>\n",
       "    </tr>\n",
       "  </thead>\n",
       "  <tbody>\n",
       "    <tr>\n",
       "      <th>0</th>\n",
       "      <td>2006-01-01</td>\n",
       "      <td>53</td>\n",
       "      <td>48</td>\n",
       "      <td>43</td>\n",
       "      <td>42</td>\n",
       "      <td>38</td>\n",
       "      <td>35</td>\n",
       "      <td>86</td>\n",
       "      <td>70</td>\n",
       "      <td>52</td>\n",
       "      <td>...</td>\n",
       "      <td>10</td>\n",
       "      <td>10</td>\n",
       "      <td>9</td>\n",
       "      <td>30</td>\n",
       "      <td>13</td>\n",
       "      <td>48</td>\n",
       "      <td>0.01</td>\n",
       "      <td>5</td>\n",
       "      <td>Rain</td>\n",
       "      <td>134</td>\n",
       "    </tr>\n",
       "    <tr>\n",
       "      <th>1</th>\n",
       "      <td>2006-01-02</td>\n",
       "      <td>48</td>\n",
       "      <td>42</td>\n",
       "      <td>37</td>\n",
       "      <td>43</td>\n",
       "      <td>40</td>\n",
       "      <td>36</td>\n",
       "      <td>96</td>\n",
       "      <td>83</td>\n",
       "      <td>66</td>\n",
       "      <td>...</td>\n",
       "      <td>10</td>\n",
       "      <td>10</td>\n",
       "      <td>9</td>\n",
       "      <td>14</td>\n",
       "      <td>8</td>\n",
       "      <td>20</td>\n",
       "      <td>0.04</td>\n",
       "      <td>7</td>\n",
       "      <td>Rain</td>\n",
       "      <td>180</td>\n",
       "    </tr>\n",
       "    <tr>\n",
       "      <th>2</th>\n",
       "      <td>2006-01-03</td>\n",
       "      <td>45</td>\n",
       "      <td>40</td>\n",
       "      <td>35</td>\n",
       "      <td>39</td>\n",
       "      <td>36</td>\n",
       "      <td>34</td>\n",
       "      <td>96</td>\n",
       "      <td>80</td>\n",
       "      <td>68</td>\n",
       "      <td>...</td>\n",
       "      <td>10</td>\n",
       "      <td>10</td>\n",
       "      <td>10</td>\n",
       "      <td>16</td>\n",
       "      <td>8</td>\n",
       "      <td>23</td>\n",
       "      <td>0.02</td>\n",
       "      <td>6</td>\n",
       "      <td>Rain</td>\n",
       "      <td>127</td>\n",
       "    </tr>\n",
       "    <tr>\n",
       "      <th>3</th>\n",
       "      <td>2006-01-04</td>\n",
       "      <td>51</td>\n",
       "      <td>47</td>\n",
       "      <td>43</td>\n",
       "      <td>40</td>\n",
       "      <td>38</td>\n",
       "      <td>36</td>\n",
       "      <td>86</td>\n",
       "      <td>73</td>\n",
       "      <td>56</td>\n",
       "      <td>...</td>\n",
       "      <td>10</td>\n",
       "      <td>10</td>\n",
       "      <td>10</td>\n",
       "      <td>16</td>\n",
       "      <td>11</td>\n",
       "      <td>NaN</td>\n",
       "      <td>0.00</td>\n",
       "      <td>5</td>\n",
       "      <td>Rain</td>\n",
       "      <td>112</td>\n",
       "    </tr>\n",
       "    <tr>\n",
       "      <th>4</th>\n",
       "      <td>2006-01-05</td>\n",
       "      <td>60</td>\n",
       "      <td>52</td>\n",
       "      <td>44</td>\n",
       "      <td>48</td>\n",
       "      <td>44</td>\n",
       "      <td>34</td>\n",
       "      <td>100</td>\n",
       "      <td>83</td>\n",
       "      <td>39</td>\n",
       "      <td>...</td>\n",
       "      <td>10</td>\n",
       "      <td>8</td>\n",
       "      <td>2</td>\n",
       "      <td>26</td>\n",
       "      <td>11</td>\n",
       "      <td>39</td>\n",
       "      <td>1.06</td>\n",
       "      <td>8</td>\n",
       "      <td>Rain</td>\n",
       "      <td>118</td>\n",
       "    </tr>\n",
       "  </tbody>\n",
       "</table>\n",
       "<p>5 rows × 23 columns</p>\n",
       "</div>"
      ],
      "text/plain": [
       "         PST  Max TemperatureF  Mean TemperatureF  Min TemperatureF  \\\n",
       "0 2006-01-01                53                 48                43   \n",
       "1 2006-01-02                48                 42                37   \n",
       "2 2006-01-03                45                 40                35   \n",
       "3 2006-01-04                51                 47                43   \n",
       "4 2006-01-05                60                 52                44   \n",
       "\n",
       "   Max Dew PointF  MeanDew PointF  Min DewpointF  Max Humidity  Mean Humidity  \\\n",
       "0              42              38             35            86             70   \n",
       "1              43              40             36            96             83   \n",
       "2              39              36             34            96             80   \n",
       "3              40              38             36            86             73   \n",
       "4              48              44             34           100             83   \n",
       "\n",
       "   Min Humidity       ...        Max VisibilityMiles  Mean VisibilityMiles  \\\n",
       "0            52       ...                         10                    10   \n",
       "1            66       ...                         10                    10   \n",
       "2            68       ...                         10                    10   \n",
       "3            56       ...                         10                    10   \n",
       "4            39       ...                         10                     8   \n",
       "\n",
       "   Min VisibilityMiles  Max Wind SpeedMPH  Mean Wind SpeedMPH  \\\n",
       "0                    9                 30                  13   \n",
       "1                    9                 14                   8   \n",
       "2                   10                 16                   8   \n",
       "3                   10                 16                  11   \n",
       "4                    2                 26                  11   \n",
       "\n",
       "   Max Gust SpeedMPH  PrecipitationIn  CloudCover  Events  WindDirDegrees  \n",
       "0                 48             0.01           5    Rain             134  \n",
       "1                 20             0.04           7    Rain             180  \n",
       "2                 23             0.02           6    Rain             127  \n",
       "3                NaN             0.00           5    Rain             112  \n",
       "4                 39             1.06           8    Rain             118  \n",
       "\n",
       "[5 rows x 23 columns]"
      ]
     },
     "execution_count": 43,
     "metadata": {},
     "output_type": "execute_result"
    }
   ],
   "source": [
    "df.head()"
   ]
  },
  {
   "cell_type": "code",
   "execution_count": 46,
   "metadata": {
    "collapsed": false
   },
   "outputs": [
    {
     "data": {
      "text/plain": [
       "array(['PST', 'Max TemperatureF', 'Mean TemperatureF', 'Min TemperatureF',\n",
       "       'Max Dew PointF', 'MeanDew PointF', 'Min DewpointF', 'Max Humidity',\n",
       "       'Mean Humidity', 'Min Humidity', 'Max Sea Level PressureIn',\n",
       "       'Mean Sea Level PressureIn', 'Min Sea Level PressureIn',\n",
       "       'Max VisibilityMiles', 'Mean VisibilityMiles',\n",
       "       'Min VisibilityMiles', 'Max Wind SpeedMPH', 'Mean Wind SpeedMPH',\n",
       "       'Max Gust SpeedMPH', 'PrecipitationIn', 'CloudCover', 'Events',\n",
       "       'WindDirDegrees'], dtype=object)"
      ]
     },
     "execution_count": 46,
     "metadata": {},
     "output_type": "execute_result"
    }
   ],
   "source": [
    "df.columns.values"
   ]
  },
  {
   "cell_type": "markdown",
   "metadata": {},
   "source": [
    "## Import into weather_raw table first\n",
    "* A few functions below to make create table command easier\n",
    "* Imported using copy weather_raw from '/Users/jng/galvanize/BorderCrossing/data/blaine_weather-2013-clean.csv' (HEADER TRUE, DELIMITER ',', FORMAT 'csv');\n",
    "* \"T\" in precip converted to 0.01"
   ]
  },
  {
   "cell_type": "code",
   "execution_count": 3,
   "metadata": {
    "collapsed": true
   },
   "outputs": [],
   "source": [
    "cols = ['PST', 'Max TemperatureF', 'Mean TemperatureF', 'Min TemperatureF',\n",
    "       'Max Dew PointF', 'MeanDew PointF', 'Min DewpointF', 'Max Humidity',\n",
    "       'Mean Humidity', 'Min Humidity', 'Max Sea Level PressureIn',\n",
    "       'Mean Sea Level PressureIn', 'Min Sea Level PressureIn',\n",
    "       'Max VisibilityMiles', 'Mean VisibilityMiles',\n",
    "       'Min VisibilityMiles', 'Max Wind SpeedMPH', 'Mean Wind SpeedMPH',\n",
    "       'Max Gust SpeedMPH', 'PrecipitationIn', 'CloudCover', 'Events',\n",
    "       'WindDirDegrees']\n",
    "cols = [ name.replace(' ', '_') for name in cols]"
   ]
  },
  {
   "cell_type": "code",
   "execution_count": 5,
   "metadata": {
    "collapsed": true
   },
   "outputs": [],
   "source": [
    "columns = \", \".join(cols)"
   ]
  },
  {
   "cell_type": "code",
   "execution_count": 6,
   "metadata": {
    "collapsed": false
   },
   "outputs": [
    {
     "data": {
      "text/plain": [
       "'PST, Max_TemperatureF, Mean_TemperatureF, Min_TemperatureF, Max_Dew_PointF, MeanDew_PointF, Min_DewpointF, Max_Humidity, Mean_Humidity, Min_Humidity, Max_Sea_Level_PressureIn, Mean_Sea_Level_PressureIn, Min_Sea_Level_PressureIn, Max_VisibilityMiles, Mean_VisibilityMiles, Min_VisibilityMiles, Max_Wind_SpeedMPH, Mean_Wind_SpeedMPH, Max_Gust_SpeedMPH, PrecipitationIn, CloudCover, Events, WindDirDegrees'"
      ]
     },
     "execution_count": 6,
     "metadata": {},
     "output_type": "execute_result"
    }
   ],
   "source": [
    "columns"
   ]
  },
  {
   "cell_type": "markdown",
   "metadata": {},
   "source": [
    "## Copy into weather table\n",
    "* Start with numerics and date handling\n",
    "* Store events as categoricals "
   ]
  },
  {
   "cell_type": "markdown",
   "metadata": {},
   "source": [
    "```sql\n",
    "select \n",
    "    to_date(pst, 'YYYY-MM-DD'),\n",
    "    max_temperaturef,\n",
    "    mean_temperaturef,\n",
    "    min_temperaturef,\n",
    "    max_visibilitymiles,\n",
    "    mean_visibilitymiles,\n",
    "    min_visibilitymiles,\n",
    "    max_wind_speedmph,\n",
    "    mean_wind_speedmph,\n",
    "    max_gust_speedmph,\n",
    "    precipitationin,\n",
    "    coalesce(events like '%Rain%', False),\n",
    "    coalesce(events like '%Snow%', False),\n",
    "    coalesce(events like '%Fog%', False),\n",
    "    coalesce(events like '%Thunderstorm%', False)\n",
    "from weather_raw \n",
    "```"
   ]
  },
  {
   "cell_type": "code",
   "execution_count": 8,
   "metadata": {
    "collapsed": true
   },
   "outputs": [],
   "source": [
    "from dbhelper import pd_query"
   ]
  },
  {
   "cell_type": "code",
   "execution_count": 9,
   "metadata": {
    "collapsed": true
   },
   "outputs": [],
   "source": [
    "events = pd_query('select distinct Events from weather_raw;')"
   ]
  },
  {
   "cell_type": "code",
   "execution_count": 11,
   "metadata": {
    "collapsed": false
   },
   "outputs": [
    {
     "data": {
      "text/html": [
       "<div>\n",
       "<table border=\"1\" class=\"dataframe\">\n",
       "  <thead>\n",
       "    <tr style=\"text-align: right;\">\n",
       "      <th></th>\n",
       "      <th>events</th>\n",
       "    </tr>\n",
       "  </thead>\n",
       "  <tbody>\n",
       "    <tr>\n",
       "      <th>0</th>\n",
       "      <td>None</td>\n",
       "    </tr>\n",
       "    <tr>\n",
       "      <th>1</th>\n",
       "      <td>Fog</td>\n",
       "    </tr>\n",
       "    <tr>\n",
       "      <th>2</th>\n",
       "      <td>Fog-Rain-Thunderstorm</td>\n",
       "    </tr>\n",
       "    <tr>\n",
       "      <th>3</th>\n",
       "      <td>Fog-Snow</td>\n",
       "    </tr>\n",
       "    <tr>\n",
       "      <th>4</th>\n",
       "      <td>Rain-Thunderstorm</td>\n",
       "    </tr>\n",
       "    <tr>\n",
       "      <th>5</th>\n",
       "      <td>Fog-Rain-Snow</td>\n",
       "    </tr>\n",
       "    <tr>\n",
       "      <th>6</th>\n",
       "      <td>Snow</td>\n",
       "    </tr>\n",
       "    <tr>\n",
       "      <th>7</th>\n",
       "      <td>Thunderstorm</td>\n",
       "    </tr>\n",
       "    <tr>\n",
       "      <th>8</th>\n",
       "      <td>Fog-Rain</td>\n",
       "    </tr>\n",
       "    <tr>\n",
       "      <th>9</th>\n",
       "      <td>Rain</td>\n",
       "    </tr>\n",
       "    <tr>\n",
       "      <th>10</th>\n",
       "      <td>Rain-Snow</td>\n",
       "    </tr>\n",
       "  </tbody>\n",
       "</table>\n",
       "</div>"
      ],
      "text/plain": [
       "                   events\n",
       "0                    None\n",
       "1                     Fog\n",
       "2   Fog-Rain-Thunderstorm\n",
       "3                Fog-Snow\n",
       "4       Rain-Thunderstorm\n",
       "5           Fog-Rain-Snow\n",
       "6                    Snow\n",
       "7            Thunderstorm\n",
       "8                Fog-Rain\n",
       "9                    Rain\n",
       "10              Rain-Snow"
      ]
     },
     "execution_count": 11,
     "metadata": {},
     "output_type": "execute_result"
    }
   ],
   "source": [
    "events"
   ]
  },
  {
   "cell_type": "code",
   "execution_count": 12,
   "metadata": {
    "collapsed": true
   },
   "outputs": [],
   "source": [
    "event_types = ['Fog', 'Rain', 'Thunderstorm', 'Snow']"
   ]
  }
 ],
 "metadata": {
  "kernelspec": {
   "display_name": "Python 2",
   "language": "python",
   "name": "python2"
  },
  "language_info": {
   "codemirror_mode": {
    "name": "ipython",
    "version": 2
   },
   "file_extension": ".py",
   "mimetype": "text/x-python",
   "name": "python",
   "nbconvert_exporter": "python",
   "pygments_lexer": "ipython2",
   "version": "2.7.11"
  }
 },
 "nbformat": 4,
 "nbformat_minor": 0
}
